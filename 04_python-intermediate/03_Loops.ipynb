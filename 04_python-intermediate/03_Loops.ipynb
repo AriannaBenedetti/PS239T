{
 "cells": [
  {
   "cell_type": "markdown",
   "metadata": {},
   "source": [
    "# Loops\n",
    "\n",
    "* * * * *\n",
    "\n",
    "In this lesson we will cover how to automate repetitive tasks using loops."
   ]
  },
  {
   "cell_type": "markdown",
   "metadata": {},
   "source": [
    "## Two kinds of loops\n",
    "Loops come in two flavors: `while` and `for`.\n",
    "\n",
    "A `while` loop keeps executing as long as some condition is true."
   ]
  },
  {
   "cell_type": "code",
   "execution_count": 84,
   "metadata": {
    "collapsed": false
   },
   "outputs": [
    {
     "name": "stdout",
     "output_type": "stream",
     "text": [
      "apples\n",
      "oranges\n",
      "pears\n",
      "bananas\n"
     ]
    }
   ],
   "source": [
    "fruits = ['apples', 'oranges', 'pears', 'bananas']\n",
    "i = 0\n",
    "while i < len(fruits):\n",
    "    print fruits[i]\n",
    "    i = i + 1"
   ]
  },
  {
   "cell_type": "code",
   "execution_count": 85,
   "metadata": {
    "collapsed": false
   },
   "outputs": [],
   "source": [
    "# What is the final value of i ?\n",
    "\n",
    "# what happens if you initialize i=10? What will print?\n"
   ]
  },
  {
   "cell_type": "markdown",
   "metadata": {},
   "source": [
    "A `for loop` will pull the items out of your container, (one at a time) and put their values into the temporary variable."
   ]
  },
  {
   "cell_type": "code",
   "execution_count": 86,
   "metadata": {
    "collapsed": false
   },
   "outputs": [
    {
     "name": "stdout",
     "output_type": "stream",
     "text": [
      "apples\n",
      "oranges\n",
      "pears\n",
      "bananas\n"
     ]
    }
   ],
   "source": [
    "for fruit in fruits:\n",
    "    print fruit"
   ]
  },
  {
   "cell_type": "code",
   "execution_count": 87,
   "metadata": {
    "collapsed": false
   },
   "outputs": [],
   "source": [
    "# What is the current value of fruit?\n"
   ]
  },
  {
   "cell_type": "code",
   "execution_count": 88,
   "metadata": {
    "collapsed": false
   },
   "outputs": [
    {
     "name": "stdout",
     "output_type": "stream",
     "text": [
      "['apples', 'oranges', 'pears', 'bananas']\n",
      "apples\n",
      "oranges\n",
      "pears\n",
      "bananas\n",
      "in the end fruit is  bananas\n"
     ]
    }
   ],
   "source": [
    "## Just to be explicit\n",
    "print fruits\n",
    "\n",
    "for fruit in fruits:\n",
    "    print fruit\n",
    "print 'in the end fruit is ', fruit"
   ]
  },
  {
   "cell_type": "markdown",
   "metadata": {},
   "source": [
    "## Breaking it down"
   ]
  },
  {
   "cell_type": "markdown",
   "metadata": {},
   "source": [
    "There are three parts to creating a for loop:\n",
    "\n",
    "1. The iteration statement (i.e. `for <loop_var> in <sequence>`)\n",
    "<statements>\n",
    "2. The execution block\n",
    "3. (Optional) reassignment\n",
    "\n",
    "Each of these tasks deserves attention.\n",
    "\n",
    "Consider this example:"
   ]
  },
  {
   "cell_type": "code",
   "execution_count": 89,
   "metadata": {
    "collapsed": false
   },
   "outputs": [],
   "source": [
    "x = range(10)\n",
    "results = []\n",
    "for i in x:\n",
    "    j=i**2\n",
    "    results.append(i)"
   ]
  },
  {
   "cell_type": "markdown",
   "metadata": {},
   "source": [
    "For each iteration, what is: `i`, `j`, and `results`?"
   ]
  },
  {
   "cell_type": "markdown",
   "metadata": {},
   "source": [
    "## More on Reassignment\n",
    "\n",
    "There are basically three ways to do reassignment with loops.\n",
    "\n",
    "We can use lists to calculate a running total"
   ]
  },
  {
   "cell_type": "code",
   "execution_count": 90,
   "metadata": {
    "collapsed": false
   },
   "outputs": [
    {
     "data": {
      "text/plain": [
       "61912430"
      ]
     },
     "execution_count": 90,
     "metadata": {},
     "output_type": "execute_result"
    }
   ],
   "source": [
    "# Calculating a sum\n",
    "values = [1254, 95818, 61813541, 1813, 4]\n",
    "sum = 0\n",
    "for x in values:\n",
    "    sum = sum + x\n",
    "sum"
   ]
  },
  {
   "cell_type": "markdown",
   "metadata": {},
   "source": [
    "or make a new list of something"
   ]
  },
  {
   "cell_type": "code",
   "execution_count": 91,
   "metadata": {
    "collapsed": true
   },
   "outputs": [],
   "source": [
    "values = [1, 2, 3, 4, 8, 9, 10]\n",
    "\n",
    "small_values = []\n",
    "for x in values:\n",
    "    if x < 5:\n",
    "        small_values.append(x)"
   ]
  },
  {
   "cell_type": "code",
   "execution_count": 92,
   "metadata": {
    "collapsed": true
   },
   "outputs": [],
   "source": [
    "# what do you think is in small_values?"
   ]
  },
  {
   "cell_type": "markdown",
   "metadata": {},
   "source": [
    "or even alter a list in place:"
   ]
  },
  {
   "cell_type": "code",
   "execution_count": 93,
   "metadata": {
    "collapsed": true
   },
   "outputs": [],
   "source": [
    "values = [10, 20, 30, 40, 50]\n",
    "for x in range(len(values)):\n",
    "    values[x] = values[x] + 5"
   ]
  },
  {
   "cell_type": "code",
   "execution_count": 94,
   "metadata": {
    "collapsed": true
   },
   "outputs": [],
   "source": [
    "# What do you think is in values now?"
   ]
  },
  {
   "cell_type": "markdown",
   "metadata": {},
   "source": [
    "## Short Exercise\n",
    "Using a loop, calculate the factorial of 42 (the product of all integers up to and including 42)."
   ]
  },
  {
   "cell_type": "code",
   "execution_count": null,
   "metadata": {
    "collapsed": true
   },
   "outputs": [],
   "source": []
  },
  {
   "cell_type": "markdown",
   "metadata": {},
   "source": [
    "## Looping - Multiple Values"
   ]
  },
  {
   "cell_type": "markdown",
   "metadata": {},
   "source": [
    "Let say you want to loop through the index values of a list. As we saw you could use `range` to get the index values for each fruit like this:"
   ]
  },
  {
   "cell_type": "code",
   "execution_count": 95,
   "metadata": {
    "collapsed": false
   },
   "outputs": [
    {
     "name": "stdout",
     "output_type": "stream",
     "text": [
      "0 apples\n",
      "1 oranges\n",
      "2 pears\n",
      "3 bananas\n"
     ]
    }
   ],
   "source": [
    "for val in range(len(fruits)):\n",
    "    print val, fruits[val]"
   ]
  },
  {
   "cell_type": "code",
   "execution_count": 96,
   "metadata": {
    "collapsed": false
   },
   "outputs": [
    {
     "ename": "SyntaxError",
     "evalue": "invalid syntax (<ipython-input-96-6da2d8976bda>, line 1)",
     "output_type": "error",
     "traceback": [
      "\u001b[0;36m  File \u001b[0;32m\"<ipython-input-96-6da2d8976bda>\"\u001b[0;36m, line \u001b[0;32m1\u001b[0m\n\u001b[0;31m    But python has a better way using `enumerate`, which counts your items for you and is more readable:\u001b[0m\n\u001b[0m             ^\u001b[0m\n\u001b[0;31mSyntaxError\u001b[0m\u001b[0;31m:\u001b[0m invalid syntax\n"
     ]
    }
   ],
   "source": [
    "But python has a better way using `enumerate`, which counts your items for you and is more readable:"
   ]
  },
  {
   "cell_type": "code",
   "execution_count": 97,
   "metadata": {
    "collapsed": false
   },
   "outputs": [
    {
     "name": "stdout",
     "output_type": "stream",
     "text": [
      "0 apples\n",
      "1 oranges\n",
      "2 pears\n",
      "3 bananas\n"
     ]
    }
   ],
   "source": [
    "for val, current_fruit in enumerate(fruits):\n",
    "    print val, current_fruit\n",
    "    "
   ]
  },
  {
   "cell_type": "markdown",
   "metadata": {},
   "source": [
    "This involves looping through multiple values, namely a list of tuples. In a similar way, we can use `zip` to iterate over two lists at once."
   ]
  },
  {
   "cell_type": "code",
   "execution_count": 98,
   "metadata": {
    "collapsed": false
   },
   "outputs": [
    {
     "name": "stdout",
     "output_type": "stream",
     "text": [
      "[('apples', 0.49), ('oranges', 0.99), ('pears', 1.49), ('bananas', 0.32)]\n"
     ]
    }
   ],
   "source": [
    "fruits = ['apples', 'oranges', 'pears', 'bananas']\n",
    "prices = [0.49, 0.99, 1.49, 0.32]\n",
    "print zip(fruits, prices)\n",
    "    "
   ]
  },
  {
   "cell_type": "code",
   "execution_count": 99,
   "metadata": {
    "collapsed": false
   },
   "outputs": [
    {
     "name": "stdout",
     "output_type": "stream",
     "text": [
      "apples cost 0.49 each\n",
      "oranges cost 0.99 each\n",
      "pears cost 1.49 each\n",
      "bananas cost 0.32 each\n"
     ]
    }
   ],
   "source": [
    "# Use zip to iterate over two lists at once\n",
    "for fruit, price in zip(fruits, prices):\n",
    "    print fruit, \"cost\", price, \"each\""
   ]
  },
  {
   "cell_type": "markdown",
   "metadata": {},
   "source": [
    "### Looping over dictionaries\n",
    "\n",
    "There are several ways to loop through dictionaries. Note the order is non-deterministic."
   ]
  },
  {
   "cell_type": "code",
   "execution_count": 100,
   "metadata": {
    "collapsed": false
   },
   "outputs": [
    {
     "name": "stdout",
     "output_type": "stream",
     "text": [
      "pears 1.49\n",
      "apples 0.49\n",
      "oranges 0.99\n",
      "bananas 0.32\n"
     ]
    }
   ],
   "source": [
    "d = {'apples': 0.49, 'oranges': 0.99, 'pears': 1.49, 'bananas': 0.32}\n",
    "\n",
    "#default looping\n",
    "for key in d:\n",
    "    print key, d[key]"
   ]
  },
  {
   "cell_type": "markdown",
   "metadata": {},
   "source": [
    "In general, it is recommended to use the simple `for key in dictionary` style. But looping over `.keys()` is necessary when mutating the dictionary:"
   ]
  },
  {
   "cell_type": "code",
   "execution_count": 101,
   "metadata": {
    "collapsed": false
   },
   "outputs": [
    {
     "data": {
      "text/plain": [
       "{'apples': '0.49', 'bananas': '0.32', 'oranges': '0.99', 'pears': '1.49'}"
      ]
     },
     "execution_count": 101,
     "metadata": {},
     "output_type": "execute_result"
    }
   ],
   "source": [
    "#explicit looping over keys\n",
    "for key in d.keys():\n",
    "    d[key] = str(d[key])\n",
    "\n",
    "d"
   ]
  },
  {
   "cell_type": "markdown",
   "metadata": {},
   "source": [
    "If you'd like, you can also loop over dictionary values and dictionary items (the whole key: value shebang)"
   ]
  },
  {
   "cell_type": "code",
   "execution_count": 102,
   "metadata": {
    "collapsed": false
   },
   "outputs": [
    {
     "name": "stdout",
     "output_type": "stream",
     "text": [
      "1.49\n",
      "0.49\n",
      "0.99\n",
      "0.32\n"
     ]
    }
   ],
   "source": [
    "#explicit looping over values\n",
    "for val in d.values():\n",
    "    print val"
   ]
  },
  {
   "cell_type": "code",
   "execution_count": 103,
   "metadata": {
    "collapsed": false
   },
   "outputs": [
    {
     "name": "stdout",
     "output_type": "stream",
     "text": [
      "pears cost 1.49 each\n",
      "apples cost 0.49 each\n",
      "oranges cost 0.99 each\n",
      "bananas cost 0.32 each\n"
     ]
    }
   ],
   "source": [
    "#explicit looping over items\n",
    "for key, val in d.items():\n",
    "    print key, \"cost\", val, \"each\"\n",
    "          "
   ]
  },
  {
   "cell_type": "markdown",
   "metadata": {},
   "source": [
    "## Short Exercise\n",
    "\n",
    "Use a for loop to calculate how much it'll cost you to buy 2 pieces of each fruit."
   ]
  },
  {
   "cell_type": "code",
   "execution_count": null,
   "metadata": {
    "collapsed": false
   },
   "outputs": [],
   "source": []
  },
  {
   "cell_type": "markdown",
   "metadata": {},
   "source": [
    "## break, continue, and else\n",
    "\n",
    "A break statement cuts off a loop from within an inner loop. It helps\n",
    "avoid infinite loops by cutting off loops when they're clearly going\n",
    "nowhere."
   ]
  },
  {
   "cell_type": "code",
   "execution_count": 105,
   "metadata": {
    "collapsed": false
   },
   "outputs": [
    {
     "name": "stdout",
     "output_type": "stream",
     "text": [
      "1\n",
      "2\n",
      "3\n",
      "4\n",
      "5\n",
      "6\n",
      "7\n",
      "8\n",
      "9\n"
     ]
    }
   ],
   "source": [
    "reasonable = 10\n",
    "for n in range(1,2000):\n",
    "    if n == reasonable :\n",
    "        break\n",
    "    print n"
   ]
  },
  {
   "cell_type": "markdown",
   "metadata": {},
   "source": [
    "Something you might want to do instead of breaking is to continue to the\n",
    "next iteration of a loop, giving up on the current one."
   ]
  },
  {
   "cell_type": "code",
   "execution_count": 106,
   "metadata": {
    "collapsed": false
   },
   "outputs": [
    {
     "name": "stdout",
     "output_type": "stream",
     "text": [
      "1\n",
      "2\n",
      "3\n",
      "4\n",
      "5\n",
      "6\n",
      "7\n",
      "8\n",
      "9\n",
      "11\n",
      "12\n",
      "13\n",
      "14\n",
      "15\n",
      "16\n",
      "17\n",
      "18\n",
      "19\n"
     ]
    }
   ],
   "source": [
    "reasonable = 10\n",
    "for n in range(1,20):\n",
    "    if n == reasonable :\n",
    "      continue\n",
    "    print n"
   ]
  },
  {
   "cell_type": "markdown",
   "metadata": {},
   "source": [
    "What is the difference between the output of these two?"
   ]
  },
  {
   "cell_type": "markdown",
   "metadata": {},
   "source": [
    "## Exercises\n",
    "\n",
    "1.Define a function that computes the length of a given list or string. (It is true that Python has the len() function built in, but writing it yourself is nevertheless a good exercise.)"
   ]
  },
  {
   "cell_type": "code",
   "execution_count": null,
   "metadata": {
    "collapsed": true
   },
   "outputs": [],
   "source": []
  },
  {
   "cell_type": "markdown",
   "metadata": {
    "collapsed": false
   },
   "source": [
    "2.Define a function `overlapping()` that takes two lists and returns `True` if they have at least one member in common, `False` otherwise."
   ]
  },
  {
   "cell_type": "code",
   "execution_count": null,
   "metadata": {
    "collapsed": true
   },
   "outputs": [],
   "source": []
  },
  {
   "cell_type": "markdown",
   "metadata": {},
   "source": [
    "3.Turn the following string into a dictionary using a for loop:\n",
    "\n",
    "```\n",
    "\"1. John, 2. Paul, 3. Ringo, 4. George\"\n",
    "```\n",
    "\n",
    "should turn into\n",
    "\n",
    "```\n",
    "{1: John, 2: Paul, 3: Ringo, 4: George}\n",
    "```"
   ]
  },
  {
   "cell_type": "code",
   "execution_count": null,
   "metadata": {
    "collapsed": true
   },
   "outputs": [],
   "source": []
  },
  {
   "cell_type": "markdown",
   "metadata": {},
   "source": [
    "4.In the cell below, I've read in a csv of student names + emails into a list of dictionaries."
   ]
  },
  {
   "cell_type": "code",
   "execution_count": 30,
   "metadata": {
    "collapsed": true
   },
   "outputs": [],
   "source": [
    "import csv\n",
    "#read csv and read into a list of dictionaries\n",
    "students = [] # make empty list\n",
    "with open('roster.csv', 'rU') as csvfile: # open file\n",
    "    reader = csv.DictReader(csvfile) # create a reader\n",
    "    for row in reader: # loop through rows\n",
    "        students.append(row) # append each row to the list"
   ]
  },
  {
   "cell_type": "code",
   "execution_count": 31,
   "metadata": {
    "collapsed": false
   },
   "outputs": [
    {
     "data": {
      "text/plain": [
       "[{'Email Address': 'AHICKSBA@BRYNMAWR.EDU',\n",
       "  'Name': 'Hicks-Bartlett, Alani R.'},\n",
       " {'Email Address': 'CHELSEA.ZHAO@BERKELEY.EDU', 'Name': 'ZHOU, CHELSEA'},\n",
       " {'Email Address': 'shad.turney@berkeley.edu', 'Name': 'TURNEY, SHAD LEE'},\n",
       " {'Email Address': 'Julian.Nyarko@gmail.com', 'Name': 'Boakye-nyarko, Julian'},\n",
       " {'Email Address': 'rbernhard@berkeley.edu', 'Name': 'Bernhard, Rachel'},\n",
       " {'Email Address': 'cory.merrill@berkeley.edu', 'Name': 'Merrill, Cory'},\n",
       " {'Email Address': 'melissa.k.griffith@berkeley.edu',\n",
       "  'Name': 'Griffith, Melissa'},\n",
       " {'Email Address': 'stenberg@berkeley.edu', 'Name': 'Stenberg, Matthew'},\n",
       " {'Email Address': 'ogi.radic@berkeley.edu', 'Name': 'RADIC, OGI'},\n",
       " {'Email Address': 'konrad.posch@gmail.com',\n",
       "  'Name': 'Posch, Konrad Edward Ian'},\n",
       " {'Email Address': 'EMCKENNA@BERKELEY.EDU',\n",
       "  'Name': 'MCKENNA, ELIZABETH CAROLE'},\n",
       " {'Email Address': 'olivia.meeks@gmail.com', 'Name': 'Meeks, Olivia M.'},\n",
       " {'Email Address': 'MLTHOMP@BERKELEY.EDU', 'Name': 'THOMPSON, MELANIE LAUREN'},\n",
       " {'Email Address': 'jrward13@gmail.com', 'Name': 'Ward, Jessica R.'},\n",
       " {'Email Address': 'elizabethdherman@gmail.com',\n",
       "  'Name': 'Herman, Elizabeth D.'},\n",
       " {'Email Address': 'willbpayne@gmail.com', 'Name': 'Payne, Will'},\n",
       " {'Email Address': 'justine.davis@berkeley.edu',\n",
       "  'Name': 'DAVIS, JUSTINE MAISHA'},\n",
       " {'Email Address': 'leesarah10@gmail.com', 'Name': 'Lee, Sarah'},\n",
       " {'Email Address': 'dfmcaleer@berkeley.edu', 'Name': 'McAleer, Demetria'},\n",
       " {'Email Address': 'nhcoleman@berkeley.edu',\n",
       "  'Name': 'COLEMAN, NANIETTE HELENE'},\n",
       " {'Email Address': 'beall@berkeley.edu', 'Name': 'BEALL, KATHERINE'},\n",
       " {'Email Address': 'ACALLIS@BERKELEY.EDU', 'Name': 'CALLIS, ANNA FIRESTONE'},\n",
       " {'Email Address': 'claire.tam@berkeley.edu', 'Name': 'TAM, CLAIRE'},\n",
       " {'Email Address': 'anirvanc@berkeley.edu', 'Name': 'CHOWDHURY, ANIRVAN'},\n",
       " {'Email Address': 'allison.grossman@berkeley.edu',\n",
       "  'Name': 'GROSSMAN, ALLISON NAMIAS'}]"
      ]
     },
     "execution_count": 31,
     "metadata": {},
     "output_type": "execute_result"
    }
   ],
   "source": [
    "students"
   ]
  },
  {
   "cell_type": "markdown",
   "metadata": {},
   "source": [
    "Using for loops, turn everything into lower case."
   ]
  },
  {
   "cell_type": "code",
   "execution_count": 33,
   "metadata": {
    "collapsed": true
   },
   "outputs": [],
   "source": []
  },
  {
   "cell_type": "code",
   "execution_count": null,
   "metadata": {
    "collapsed": true
   },
   "outputs": [],
   "source": []
  }
 ],
 "metadata": {
  "kernelspec": {
   "display_name": "Python 2",
   "language": "python",
   "name": "python2"
  },
  "language_info": {
   "codemirror_mode": {
    "name": "ipython",
    "version": 2
   },
   "file_extension": ".py",
   "mimetype": "text/x-python",
   "name": "python",
   "nbconvert_exporter": "python",
   "pygments_lexer": "ipython2",
   "version": "2.7.9"
  }
 },
 "nbformat": 4,
 "nbformat_minor": 0
}
