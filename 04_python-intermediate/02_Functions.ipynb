{
 "cells": [
  {
   "cell_type": "markdown",
   "metadata": {},
   "source": [
    "# Functions\n",
    "\n",
    "Functions are the basic building blocks that we use to store chunks of code we'll want to use again later. Specifically, they do three things:\n",
    "\n",
    "1. They name pieces of code the way variables name strings and numbers.\n",
    "2. They take arguments, or data that you want to do something on.\n",
    "3. Using 1 and 2 they let you make your own \"mini-scripts\" or \"tiny commands.\"\n",
    "\n",
    "The details are pretty simple, but this is one of those ideas where it's good to get lots of practice!"
   ]
  },
  {
   "cell_type": "markdown",
   "metadata": {},
   "source": [
    "## Basics\n",
    "\n",
    "Functions involve two steps: **defining** the function, and **calling** the function.\n",
    "\n",
    "Define functions using the `def` keyword."
   ]
  },
  {
   "cell_type": "code",
   "execution_count": 6,
   "metadata": {
    "collapsed": false
   },
   "outputs": [],
   "source": [
    "# define a function\n",
    "def simple_function(x):\n",
    "    '''\n",
    "    x should be an integer\n",
    "    '''\n",
    "    print x + 1"
   ]
  },
  {
   "cell_type": "markdown",
   "metadata": {},
   "source": [
    "Once you've defined a function, you can call it by passing in a value.\n",
    "\n",
    "**Note:** To 'run,' 'call,' or 'use' a function all mean the same thing."
   ]
  },
  {
   "cell_type": "code",
   "execution_count": 7,
   "metadata": {
    "collapsed": false
   },
   "outputs": [
    {
     "name": "stdout",
     "output_type": "stream",
     "text": [
      "3\n"
     ]
    }
   ],
   "source": [
    "simple_function(2)"
   ]
  },
  {
   "cell_type": "markdown",
   "metadata": {},
   "source": [
    "In this example, we plugged in 2 for x, and then ran the code inside the function. \n",
    "\n",
    "The next two chunks provide equivalent outcomes. But the first uses a function."
   ]
  },
  {
   "cell_type": "code",
   "execution_count": 8,
   "metadata": {
    "collapsed": false
   },
   "outputs": [
    {
     "name": "stdout",
     "output_type": "stream",
     "text": [
      "3\n"
     ]
    }
   ],
   "source": [
    "# first define the function\n",
    "def simple_function(x):\n",
    "    print x + 1\n",
    "\n",
    "# then call it\n",
    "simple_function(2)"
   ]
  },
  {
   "cell_type": "code",
   "execution_count": 4,
   "metadata": {
    "collapsed": false
   },
   "outputs": [
    {
     "name": "stdout",
     "output_type": "stream",
     "text": [
      "3\n"
     ]
    }
   ],
   "source": [
    "# behind the scenes, here's what's going on\n",
    "x = 2\n",
    "print x + 1"
   ]
  },
  {
   "cell_type": "markdown",
   "metadata": {},
   "source": [
    "### Why use a Function?\n",
    "\n",
    "Functions are helpful when you want to save code for later and use it again and again on different data."
   ]
  },
  {
   "cell_type": "code",
   "execution_count": 9,
   "metadata": {
    "collapsed": true
   },
   "outputs": [],
   "source": [
    "def long_function(name_string):\n",
    "    upper_case = name_string.upper()\n",
    "    upper_case_list = upper_case.split()\n",
    "    first_name = upper_case_list[0]\n",
    "    last_name = upper_case_list[1]\n",
    "    full_name = last_name + \", \" + first_name\n",
    "    return (full_name)"
   ]
  },
  {
   "cell_type": "code",
   "execution_count": 11,
   "metadata": {
    "collapsed": false
   },
   "outputs": [
    {
     "name": "stdout",
     "output_type": "stream",
     "text": [
      "TERMAN, ROCHELLE\n",
      "STOKER, LAURA\n"
     ]
    }
   ],
   "source": [
    "print long_function(\"Rochelle Terman\")\n",
    "\n",
    "print long_function(\"Laura Stoker\")"
   ]
  },
  {
   "cell_type": "markdown",
   "metadata": {},
   "source": [
    "By creating a function, we just have to write the code once to use it again and again."
   ]
  },
  {
   "cell_type": "markdown",
   "metadata": {},
   "source": [
    "## Calling a function"
   ]
  },
  {
   "cell_type": "markdown",
   "metadata": {},
   "source": [
    "Functions can take any number of arguments."
   ]
  },
  {
   "cell_type": "code",
   "execution_count": 12,
   "metadata": {
    "collapsed": false
   },
   "outputs": [],
   "source": [
    "def cheese_and_crackers(cheese_count, boxes_of_crackers):\n",
    "    print \"You have %d cheeses!\" % cheese_count\n",
    "    print \"You have %d boxes of crackers!\" % boxes_of_crackers\n",
    "    print \"Man that's enough for a party!\""
   ]
  },
  {
   "cell_type": "markdown",
   "metadata": {},
   "source": [
    "And now we can pass in two values:"
   ]
  },
  {
   "cell_type": "code",
   "execution_count": 13,
   "metadata": {
    "collapsed": false
   },
   "outputs": [
    {
     "name": "stdout",
     "output_type": "stream",
     "text": [
      "You have 3 cheeses!\n",
      "You have 5 boxes of crackers!\n",
      "Man that's enough for a party!\n"
     ]
    }
   ],
   "source": [
    "cheese_and_crackers(3, 5)"
   ]
  },
  {
   "cell_type": "markdown",
   "metadata": {},
   "source": [
    "You can also use named arguments instead of positional ones."
   ]
  },
  {
   "cell_type": "code",
   "execution_count": 15,
   "metadata": {
    "collapsed": false
   },
   "outputs": [
    {
     "name": "stdout",
     "output_type": "stream",
     "text": [
      "You have 3 cheeses!\n",
      "You have 5 boxes of crackers!\n",
      "Man that's enough for a party!\n"
     ]
    }
   ],
   "source": [
    "cheese_and_crackers(boxes_of_crackers = 5, cheese_count = 3)"
   ]
  },
  {
   "cell_type": "markdown",
   "metadata": {},
   "source": [
    "We can also pass variables to our function"
   ]
  },
  {
   "cell_type": "code",
   "execution_count": 16,
   "metadata": {
    "collapsed": false
   },
   "outputs": [
    {
     "name": "stdout",
     "output_type": "stream",
     "text": [
      "You have 10 cheeses!\n",
      "You have 50 boxes of crackers!\n",
      "Man that's enough for a party!\n"
     ]
    }
   ],
   "source": [
    "amount_of_cheese = 10\n",
    "amount_of_crackers = 50\n",
    "\n",
    "cheese_and_crackers(amount_of_cheese, amount_of_crackers)"
   ]
  },
  {
   "cell_type": "markdown",
   "metadata": {},
   "source": [
    "We can even do math inside too:"
   ]
  },
  {
   "cell_type": "code",
   "execution_count": 17,
   "metadata": {
    "collapsed": false
   },
   "outputs": [
    {
     "name": "stdout",
     "output_type": "stream",
     "text": [
      "You have 30 cheeses!\n",
      "You have 11 boxes of crackers!\n",
      "Man that's enough for a party!\n"
     ]
    }
   ],
   "source": [
    "cheese_and_crackers(10 + 20, 5 + 6)"
   ]
  },
  {
   "cell_type": "markdown",
   "metadata": {},
   "source": [
    "And we can combine the two, variables and math:"
   ]
  },
  {
   "cell_type": "code",
   "execution_count": 18,
   "metadata": {
    "collapsed": false
   },
   "outputs": [
    {
     "name": "stdout",
     "output_type": "stream",
     "text": [
      "You have 110 cheeses!\n",
      "You have 1050 boxes of crackers!\n",
      "Man that's enough for a party!\n"
     ]
    }
   ],
   "source": [
    "cheese_and_crackers(amount_of_cheese + 100, amount_of_crackers + 1000)"
   ]
  },
  {
   "cell_type": "markdown",
   "metadata": {},
   "source": [
    "But we might get errors if we pass along the wrong kind of value:"
   ]
  },
  {
   "cell_type": "code",
   "execution_count": 19,
   "metadata": {
    "collapsed": false
   },
   "outputs": [
    {
     "ename": "TypeError",
     "evalue": "%d format: a number is required, not str",
     "output_type": "error",
     "traceback": [
      "\u001b[0;31m---------------------------------------------------------------------------\u001b[0m",
      "\u001b[0;31mTypeError\u001b[0m                                 Traceback (most recent call last)",
      "\u001b[0;32m<ipython-input-19-08ec6fe214b9>\u001b[0m in \u001b[0;36m<module>\u001b[0;34m()\u001b[0m\n\u001b[0;32m----> 1\u001b[0;31m \u001b[0mcheese_and_crackers\u001b[0m\u001b[0;34m(\u001b[0m\u001b[0;34m\"Two\"\u001b[0m\u001b[0;34m,\u001b[0m \u001b[0;34m\"Strings\"\u001b[0m\u001b[0;34m)\u001b[0m\u001b[0;34m\u001b[0m\u001b[0m\n\u001b[0m",
      "\u001b[0;32m<ipython-input-12-bf2d38dd64c7>\u001b[0m in \u001b[0;36mcheese_and_crackers\u001b[0;34m(cheese_count, boxes_of_crackers)\u001b[0m\n\u001b[1;32m      1\u001b[0m \u001b[0;32mdef\u001b[0m \u001b[0mcheese_and_crackers\u001b[0m\u001b[0;34m(\u001b[0m\u001b[0mcheese_count\u001b[0m\u001b[0;34m,\u001b[0m \u001b[0mboxes_of_crackers\u001b[0m\u001b[0;34m)\u001b[0m\u001b[0;34m:\u001b[0m\u001b[0;34m\u001b[0m\u001b[0m\n\u001b[0;32m----> 2\u001b[0;31m     \u001b[0;32mprint\u001b[0m \u001b[0;34m\"You have %d cheeses!\"\u001b[0m \u001b[0;34m%\u001b[0m \u001b[0mcheese_count\u001b[0m\u001b[0;34m\u001b[0m\u001b[0m\n\u001b[0m\u001b[1;32m      3\u001b[0m     \u001b[0;32mprint\u001b[0m \u001b[0;34m\"You have %d boxes of crackers!\"\u001b[0m \u001b[0;34m%\u001b[0m \u001b[0mboxes_of_crackers\u001b[0m\u001b[0;34m\u001b[0m\u001b[0m\n\u001b[1;32m      4\u001b[0m     \u001b[0;32mprint\u001b[0m \u001b[0;34m\"Man that's enough for a party!\"\u001b[0m\u001b[0;34m\u001b[0m\u001b[0m\n",
      "\u001b[0;31mTypeError\u001b[0m: %d format: a number is required, not str"
     ]
    }
   ],
   "source": [
    "cheese_and_crackers(\"Two\", \"Strings\")"
   ]
  },
  {
   "cell_type": "markdown",
   "metadata": {},
   "source": [
    "## Difference between Function, Method, Object\n",
    "  \n",
    "A function is a piece of code that is called by name. It can be passed data to operate on (ie. the parameters) and can optionally return data (the return value).\n",
    "\n",
    "A method is a function which is tied to a particular object. Each of an object's methods typically implements one of the things it can do, or one of the questions it can answer. It is called using the dot notation: e.g. `object.method()`\n",
    "\n",
    "An object is a collection of conceptually related grouping of variables (called \"members\") and functions using those variables (called \"methods\"). Every object is an instance of a `class`, which is like a blueprint for an object. \n",
    "\n",
    "  - Everything that exists is an object.\n",
    "  - Everything that happens is a function call.\n",
    "  \n",
    "Read more about objects, classes and methods [here](https://www.jeffknupp.com/blog/2014/06/18/improve-your-python-python-classes-and-object-oriented-programming)\n",
    "\n",
    "Check out our Python glossary [here](https://github.com/rochelleterman/PS239T/blob/master/03_python-basics/A_Glossary.md)."
   ]
  },
  {
   "cell_type": "code",
   "execution_count": 20,
   "metadata": {
    "collapsed": false
   },
   "outputs": [
    {
     "data": {
      "text/plain": [
       "'1'"
      ]
     },
     "execution_count": 20,
     "metadata": {},
     "output_type": "execute_result"
    }
   ],
   "source": [
    "str(1)"
   ]
  },
  {
   "cell_type": "markdown",
   "metadata": {},
   "source": [
    "## On printing vs. returning\n",
    "\n",
    "At an interactive (REPL - Read Evaluate Print Loop) prompt, it's hard to see the difference between printing and returning"
   ]
  },
  {
   "cell_type": "code",
   "execution_count": 21,
   "metadata": {
    "collapsed": true
   },
   "outputs": [],
   "source": [
    "def printfun(x):\n",
    "    print x\n",
    "    \n",
    "def retfun(x):\n",
    "    return x"
   ]
  },
  {
   "cell_type": "code",
   "execution_count": 22,
   "metadata": {
    "collapsed": false
   },
   "outputs": [
    {
     "name": "stdout",
     "output_type": "stream",
     "text": [
      "something\n"
     ]
    }
   ],
   "source": [
    "printfun('something')"
   ]
  },
  {
   "cell_type": "code",
   "execution_count": 23,
   "metadata": {
    "collapsed": false
   },
   "outputs": [
    {
     "data": {
      "text/plain": [
       "'something'"
      ]
     },
     "execution_count": 23,
     "metadata": {},
     "output_type": "execute_result"
    }
   ],
   "source": [
    "retfun('something')"
   ]
  },
  {
   "cell_type": "markdown",
   "metadata": {},
   "source": [
    "But notice that in one case we see `Out[#]:`! In this case, the \"print\" part of the REPL is displaying the value that was returned. If you try this in a script - you shouldn't see anything printed for return statements there!\n",
    "\n",
    "Also - there's a difference in control flow."
   ]
  },
  {
   "cell_type": "code",
   "execution_count": 24,
   "metadata": {
    "collapsed": true
   },
   "outputs": [],
   "source": [
    "def dumbfun(x):\n",
    "    return x\n",
    "    print 'This will never print :('"
   ]
  },
  {
   "cell_type": "code",
   "execution_count": 25,
   "metadata": {
    "collapsed": false
   },
   "outputs": [
    {
     "data": {
      "text/plain": [
       "'something'"
      ]
     },
     "execution_count": 25,
     "metadata": {},
     "output_type": "execute_result"
    }
   ],
   "source": [
    "dumbfun('something')"
   ]
  },
  {
   "cell_type": "markdown",
   "metadata": {},
   "source": [
    "If you want to store the output of a function into a variable, you have to make it return something."
   ]
  },
  {
   "cell_type": "code",
   "execution_count": 28,
   "metadata": {
    "collapsed": false
   },
   "outputs": [
    {
     "name": "stdout",
     "output_type": "stream",
     "text": [
      "something\n"
     ]
    }
   ],
   "source": [
    "variable = printfun('something')"
   ]
  },
  {
   "cell_type": "code",
   "execution_count": 30,
   "metadata": {
    "collapsed": true
   },
   "outputs": [],
   "source": [
    "variable = retfun('something')"
   ]
  },
  {
   "cell_type": "code",
   "execution_count": 31,
   "metadata": {
    "collapsed": false
   },
   "outputs": [
    {
     "data": {
      "text/plain": [
       "'something'"
      ]
     },
     "execution_count": 31,
     "metadata": {},
     "output_type": "execute_result"
    }
   ],
   "source": [
    "variable"
   ]
  },
  {
   "cell_type": "markdown",
   "metadata": {},
   "source": [
    "## Functions as Alternative Reality\n",
    "\n",
    "Let's look a little deeper and what's going on inside the hood of a function.\n",
    "\n",
    "When you execute a previously-defined function, like `simple_function(3)`, we say that you \"called\" the function. When you call a function, a temporary workspace is set up that will be destroyed when the function returns by:\n",
    "\n",
    "1. getting to the end, or \n",
    "1. explicity by a `return` statement\n",
    "\n",
    "So think of functions as an alternative reality, whereby variables are created and destroyed in a function call."
   ]
  },
  {
   "cell_type": "code",
   "execution_count": 32,
   "metadata": {
    "collapsed": true
   },
   "outputs": [],
   "source": [
    "def alt_reality(temp):\n",
    "    value = temp + 1\n",
    "    return(value)"
   ]
  },
  {
   "cell_type": "code",
   "execution_count": 33,
   "metadata": {
    "collapsed": false
   },
   "outputs": [
    {
     "data": {
      "text/plain": [
       "4"
      ]
     },
     "execution_count": 33,
     "metadata": {},
     "output_type": "execute_result"
    }
   ],
   "source": [
    "alt_reality(3)"
   ]
  },
  {
   "cell_type": "markdown",
   "metadata": {},
   "source": [
    "In this temporary environment, the variables in the parameter list (in parentheses in the definition) are set to the values passed in. For example, in `simple_function(3)`, `x` gets set to `3`. Afterwards, you can't access these variables!"
   ]
  },
  {
   "cell_type": "code",
   "execution_count": 34,
   "metadata": {
    "collapsed": false
   },
   "outputs": [
    {
     "ename": "NameError",
     "evalue": "name 'temp' is not defined",
     "output_type": "error",
     "traceback": [
      "\u001b[0;31m---------------------------------------------------------------------------\u001b[0m",
      "\u001b[0;31mNameError\u001b[0m                                 Traceback (most recent call last)",
      "\u001b[0;32m<ipython-input-34-ad17359f8909>\u001b[0m in \u001b[0;36m<module>\u001b[0;34m()\u001b[0m\n\u001b[1;32m      1\u001b[0m \u001b[0;31m# temp is no longer defined because simple_function returned (i.e., finished)!\u001b[0m\u001b[0;34m\u001b[0m\u001b[0;34m\u001b[0m\u001b[0m\n\u001b[0;32m----> 2\u001b[0;31m \u001b[0;32mprint\u001b[0m \u001b[0mtemp\u001b[0m\u001b[0;34m\u001b[0m\u001b[0m\n\u001b[0m",
      "\u001b[0;31mNameError\u001b[0m: name 'temp' is not defined"
     ]
    }
   ],
   "source": [
    "# temp is no longer defined because simple_function returned (i.e., finished)!\n",
    "print temp"
   ]
  },
  {
   "cell_type": "code",
   "execution_count": 35,
   "metadata": {
    "collapsed": false
   },
   "outputs": [
    {
     "ename": "NameError",
     "evalue": "name 'value' is not defined",
     "output_type": "error",
     "traceback": [
      "\u001b[0;31m---------------------------------------------------------------------------\u001b[0m",
      "\u001b[0;31mNameError\u001b[0m                                 Traceback (most recent call last)",
      "\u001b[0;32m<ipython-input-35-1b926da6d1ec>\u001b[0m in \u001b[0;36m<module>\u001b[0;34m()\u001b[0m\n\u001b[1;32m      1\u001b[0m \u001b[0;31m# and neither is value!\u001b[0m\u001b[0;34m\u001b[0m\u001b[0;34m\u001b[0m\u001b[0m\n\u001b[0;32m----> 2\u001b[0;31m \u001b[0;32mprint\u001b[0m \u001b[0mvalue\u001b[0m\u001b[0;34m\u001b[0m\u001b[0m\n\u001b[0m",
      "\u001b[0;31mNameError\u001b[0m: name 'value' is not defined"
     ]
    }
   ],
   "source": [
    "# and neither is value!\n",
    "print value"
   ]
  },
  {
   "cell_type": "markdown",
   "metadata": {},
   "source": [
    "Things can get confusing when you use the same names for variables both inside and outside a function. Check out this example:"
   ]
  },
  {
   "cell_type": "code",
   "execution_count": 36,
   "metadata": {
    "collapsed": false
   },
   "outputs": [
    {
     "name": "stdout",
     "output_type": "stream",
     "text": [
      "night is day\n",
      "day is night\n"
     ]
    }
   ],
   "source": [
    "night = 'night'\n",
    "day = 'day'\n",
    "\n",
    "# If you were just reading through, it would be easy to think \n",
    "# that 'night' in this function corresponds to 'night' above!\n",
    "def confused_by_names(night, day):\n",
    "    print 'night is', night\n",
    "    print 'day is', day\n",
    "    \n",
    "\n",
    "confused_by_names(day, night)"
   ]
  },
  {
   "cell_type": "markdown",
   "metadata": {},
   "source": [
    "Let's do one more example."
   ]
  },
  {
   "cell_type": "code",
   "execution_count": 39,
   "metadata": {
    "collapsed": false
   },
   "outputs": [],
   "source": [
    "my_list = [1, 2, 3]"
   ]
  },
  {
   "cell_type": "code",
   "execution_count": 40,
   "metadata": {
    "collapsed": false
   },
   "outputs": [
    {
     "data": {
      "text/plain": [
       "2"
      ]
     },
     "execution_count": 40,
     "metadata": {},
     "output_type": "execute_result"
    }
   ],
   "source": [
    "my_list[1]"
   ]
  },
  {
   "cell_type": "code",
   "execution_count": 41,
   "metadata": {
    "collapsed": false
   },
   "outputs": [
    {
     "name": "stdout",
     "output_type": "stream",
     "text": [
      "add_3(x) == 6\n"
     ]
    }
   ],
   "source": [
    "x = 3\n",
    "\n",
    "def add_3(val):\n",
    "    val = val + 3\n",
    "    return val\n",
    "\n",
    "print 'add_3(x) ==', add_3(x)\n",
    "\n",
    "# Above, the function only modified it's own variable, so x stays the same\n",
    "# print 'x still is: ', x"
   ]
  },
  {
   "cell_type": "code",
   "execution_count": 43,
   "metadata": {
    "collapsed": false
   },
   "outputs": [
    {
     "name": "stdout",
     "output_type": "stream",
     "text": [
      "6\n"
     ]
    }
   ],
   "source": [
    "## What happens if you try to print val?\n",
    "\n",
    "val = 3\n",
    "val = val + 3\n",
    "print val"
   ]
  },
  {
   "cell_type": "markdown",
   "metadata": {},
   "source": [
    "So, to avoid confusion, *use different variable names in every context!*\n",
    "\n",
    "In the function above, **val** is defined in the function, so it does **NOT** exist outside of the function.  "
   ]
  },
  {
   "cell_type": "markdown",
   "metadata": {},
   "source": [
    "## Gotcha!\n",
    "\n",
    "But once we start using **mutable** data types like lists, things become tricky:"
   ]
  },
  {
   "cell_type": "code",
   "execution_count": 46,
   "metadata": {
    "collapsed": false
   },
   "outputs": [
    {
     "data": {
      "text/plain": [
       "[4, 2, 3, 5]"
      ]
     },
     "execution_count": 46,
     "metadata": {},
     "output_type": "execute_result"
    }
   ],
   "source": [
    "x = [1, 2, 3, 5]\n",
    "\n",
    "def add_3(val):\n",
    "    val[0] = val[0] + 3\n",
    "    return val\n",
    "\n",
    "add_3(x)\n",
    "# Now, our function is modifying the contents of the list, and both variables still point to the same list"
   ]
  },
  {
   "cell_type": "code",
   "execution_count": 47,
   "metadata": {
    "collapsed": false
   },
   "outputs": [
    {
     "name": "stdout",
     "output_type": "stream",
     "text": [
      "[4, 2, 3, 5]\n"
     ]
    }
   ],
   "source": [
    "# So the list x refers to *is* modified\n",
    "print x"
   ]
  },
  {
   "cell_type": "markdown",
   "metadata": {},
   "source": [
    "So, the issue here is our function is no longer changing `val` so that it points at a new \"thing.\" Instead, we're taking the list that `val` points to (the same list `x` points to) and modifying it.\n",
    "\n",
    "Tricky, but important!"
   ]
  },
  {
   "cell_type": "markdown",
   "metadata": {},
   "source": [
    "## More on function arguments\n",
    "\n",
    "Functions do not need to take input."
   ]
  },
  {
   "cell_type": "code",
   "execution_count": 53,
   "metadata": {
    "collapsed": false
   },
   "outputs": [],
   "source": [
    "def print_hello():\n",
    "    print \"hello\"\n",
    "    "
   ]
  },
  {
   "cell_type": "code",
   "execution_count": 56,
   "metadata": {
    "collapsed": false
   },
   "outputs": [
    {
     "name": "stdout",
     "output_type": "stream",
     "text": [
      "hello\n"
     ]
    }
   ],
   "source": [
    "print_hello()"
   ]
  },
  {
   "cell_type": "markdown",
   "metadata": {},
   "source": [
    "But if a function takes input, arguments can be passed to functions in four different ways.\n",
    "\n",
    "1) **Positional arguments** are mandatory and have no default values."
   ]
  },
  {
   "cell_type": "code",
   "execution_count": 28,
   "metadata": {
    "collapsed": false
   },
   "outputs": [
    {
     "name": "stdout",
     "output_type": "stream",
     "text": [
      "Hello World\n"
     ]
    }
   ],
   "source": [
    "## and add a doc string so we can see what it does\n",
    "\n",
    "def send(message, recipient):\n",
    "    \"\"\" Prints a kind greeting to our input\n",
    "    returns nothing\"\"\"\n",
    "    print message, recipient\n",
    "    \n",
    "send('Hello','World')"
   ]
  },
  {
   "cell_type": "markdown",
   "metadata": {},
   "source": [
    "In the case above, it is possible to use argument names when calling the functions and, doing so, it is possible to switch the order of arguments, calling for instance"
   ]
  },
  {
   "cell_type": "code",
   "execution_count": 29,
   "metadata": {
    "collapsed": false
   },
   "outputs": [
    {
     "name": "stdout",
     "output_type": "stream",
     "text": [
      "Hello World\n"
     ]
    }
   ],
   "source": [
    "send(recipient='World', message='Hello')"
   ]
  },
  {
   "cell_type": "markdown",
   "metadata": {},
   "source": [
    "But this reduces readability and is unnecessarily verbose, compared to the more straightforward calls to `send('Hello', 'World')`"
   ]
  },
  {
   "cell_type": "markdown",
   "metadata": {},
   "source": [
    "2) **Keyword arguments** are not mandatory and have default values. They are often used for optional parameters sent to the function."
   ]
  },
  {
   "cell_type": "code",
   "execution_count": 30,
   "metadata": {
    "collapsed": false
   },
   "outputs": [
    {
     "name": "stdout",
     "output_type": "stream",
     "text": [
      "Hello World\n",
      "CC:  None\n",
      "BCC:  None\n"
     ]
    }
   ],
   "source": [
    "def send(message, recipient, cc=None, bcc=None):\n",
    "    \"\"\" Prints a kind greeting to our input\n",
    "    returns nothing\"\"\"\n",
    "    print message, recipient\n",
    "    print \"CC: \", cc\n",
    "    print \"BCC: \", bcc\n",
    "    \n",
    "send('Hello','World')"
   ]
  },
  {
   "cell_type": "markdown",
   "metadata": {},
   "source": [
    "Here cc and bcc are optional, and evaluate to `None` when they are not passed another value."
   ]
  },
  {
   "cell_type": "code",
   "execution_count": 31,
   "metadata": {
    "collapsed": false
   },
   "outputs": [
    {
     "name": "stdout",
     "output_type": "stream",
     "text": [
      "Hello World\n",
      "CC:  Rochelle\n",
      "BCC:  Laura\n"
     ]
    }
   ],
   "source": [
    "send('Hello','World', \"Rochelle\", \"Laura\")"
   ]
  },
  {
   "cell_type": "markdown",
   "metadata": {},
   "source": [
    "3) The **arbitrary argument** list is the third way to pass arguments to a function. A function can take an unlimited number of argument susing the `*args` constructs. In the function body, args will be a tuple of all the remaining positional arguments."
   ]
  },
  {
   "cell_type": "code",
   "execution_count": 58,
   "metadata": {
    "collapsed": false
   },
   "outputs": [
    {
     "name": "stdout",
     "output_type": "stream",
     "text": [
      "Hello ('God', 'Mom', 'Cthulhu', 'Allah')\n"
     ]
    }
   ],
   "source": [
    "def send(message, *args):\n",
    "    \"\"\" Prints a kind greeting to our input\n",
    "    returns nothing\"\"\"\n",
    "    print message, args\n",
    "    \n",
    "send('Hello', 'God', 'Mom', 'Cthulhu', \"Allah\")"
   ]
  },
  {
   "cell_type": "markdown",
   "metadata": {},
   "source": [
    "However, this construct has some drawbacks and should be used with caution. \n",
    "\n",
    "4) The **arbitrary keyword argument dictionary** is the last way to pass arguments to functions. If the function requires an undetermined series of named arguments, it is possible to use the `**kwargs` construct. In the function body, `kwargs` will be a dictionary of all the passed named arguments that have not been caught by other keyword arguments in the function signature."
   ]
  },
  {
   "cell_type": "code",
   "execution_count": 33,
   "metadata": {
    "collapsed": false
   },
   "outputs": [
    {
     "name": "stdout",
     "output_type": "stream",
     "text": [
      "Hello {'CC': 'Mom', 'Recipient': 'God', 'BCC': 'Cthulhu'}\n"
     ]
    }
   ],
   "source": [
    "def send(message, **kwargs):\n",
    "    \"\"\" Prints a kind greeting to our input\n",
    "    returns nothing\"\"\"\n",
    "    print message, kwargs\n",
    "\n",
    "send('Hello', Recipient='God', CC='Mom', BCC='Cthulhu')"
   ]
  },
  {
   "cell_type": "markdown",
   "metadata": {},
   "source": [
    "The same caution as in the case of arbitrary argument list is necessary, for similar reasons: these powerful techniques are to be used when there is a proven necessity to use them, and they should not be used if the simpler and clearer construct is sufficient to express the function’s intention."
   ]
  },
  {
   "cell_type": "markdown",
   "metadata": {},
   "source": [
    "## Exercises"
   ]
  },
  {
   "cell_type": "markdown",
   "metadata": {},
   "source": [
    "1. Define a function `max()` that takes two numbers as arguments and returns the largest of them. Use the if-then-else construct available in Python. (It is true that Python has the `max()` function built in, but writing it yourself is nevertheless a good exercise.)\n",
    "\n",
    "2. Define a function `max_of_three()` that takes three numbers as arguments and returns the largest of them.\n",
    "\n",
    "3. Write a function that takes a character (i.e. a string of length 1) and returns True if it is a vowel, False otherwise.\n",
    "\n",
    "4. Write a function that takes in a string of the form `\"key. value\"` and returns a dictionary. For instance, `\"Name. Rochelle\"` should return `{'Name': 'Rochelle'}`"
   ]
  },
  {
   "cell_type": "code",
   "execution_count": 63,
   "metadata": {
    "collapsed": false
   },
   "outputs": [],
   "source": [
    "def vowels(character):\n",
    "    if len(character) == 1\n",
    "        if character in \"aeoiu\":\n",
    "            return \"yep - it's a vowel\"\n",
    "    else:\n",
    "        return \"constanent\""
   ]
  },
  {
   "cell_type": "code",
   "execution_count": 67,
   "metadata": {
    "collapsed": false
   },
   "outputs": [
    {
     "data": {
      "text/plain": [
       "\"yep - it's a vowel\""
      ]
     },
     "execution_count": 67,
     "metadata": {},
     "output_type": "execute_result"
    }
   ],
   "source": [
    "vowels(\"aeo\")"
   ]
  },
  {
   "cell_type": "code",
   "execution_count": 66,
   "metadata": {
    "collapsed": false
   },
   "outputs": [],
   "source": [
    "def my_max(n1, n2):\n",
    "    if n1 > n2:\n",
    "        return n1\n",
    "    else:\n",
    "        return n2"
   ]
  },
  {
   "cell_type": "markdown",
   "metadata": {
    "collapsed": true
   },
   "source": [
    "## Functions Checklist\n",
    "\n",
    "**Defining functions checklist**\n",
    "\n",
    "1. Did you start your function definition with def?\n",
    "2. Does your function name have only characters and `_` (underscore) characters?\n",
    "3. Did you put an open parenthesis `(` right after the function name?\n",
    "4. Did you put your arguments after the parenthesis `(` separated by commas?\n",
    "5. Did you make each argument unique (meaning no duplicated names)?\n",
    "6. Did you put a close parenthesis and a colon `):` after the arguments?\n",
    "7. Did you indent all lines of code you want in the function four spaces? No more, no less.\n",
    "8. Did you \"end\" your function by going back to writing with no indent (dedenting we call it)?\n",
    "\n",
    "**Calling functions checklist**\n",
    "\n",
    "1. Did you call/use/run this function by typing its name?\n",
    "2. Did you put the `(` character after the name to run it?\n",
    "3. Did you put the values you want into the parenthesis separated by commas?\n",
    "4. Did you end the function call with a `)` character?"
   ]
  },
  {
   "cell_type": "code",
   "execution_count": null,
   "metadata": {
    "collapsed": true
   },
   "outputs": [],
   "source": []
  }
 ],
 "metadata": {
  "kernelspec": {
   "display_name": "Python 2",
   "language": "python",
   "name": "python2"
  },
  "language_info": {
   "codemirror_mode": {
    "name": "ipython",
    "version": 2
   },
   "file_extension": ".py",
   "mimetype": "text/x-python",
   "name": "python",
   "nbconvert_exporter": "python",
   "pygments_lexer": "ipython2",
   "version": "2.7.9"
  }
 },
 "nbformat": 4,
 "nbformat_minor": 0
}
