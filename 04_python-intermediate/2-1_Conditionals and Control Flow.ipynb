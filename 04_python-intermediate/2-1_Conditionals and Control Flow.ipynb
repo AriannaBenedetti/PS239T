{
 "cells": [
  {
   "cell_type": "markdown",
   "metadata": {},
   "source": [
    "# Flow Control\n",
    "\n",
    "* * * * *"
   ]
  },
  {
   "cell_type": "markdown",
   "metadata": {},
   "source": [
    "In this lesson we will cover how to write code that will execute only if specified conditions are met."
   ]
  },
  {
   "cell_type": "markdown",
   "metadata": {},
   "source": [
    "# If statements\n",
    "\n",
    "One of the simplest ways to construct a \"condition\" is with **conditional operators:**\n",
    "\n",
    " - `<`  *less than*\n",
    " - `>`  *greater than*  \n",
    " - `<=`  *less than or equal to*    \n",
    " - `>=`  *greater than or equal to*\n",
    " - `==`  *equals*\n",
    " - `!=`  *not equals*\n",
    " \n",
    " Here's how you can use them in conditional statements"
   ]
  },
  {
   "cell_type": "code",
   "execution_count": 1,
   "metadata": {
    "collapsed": true
   },
   "outputs": [],
   "source": [
    "x = 5\n",
    "if x < 0:\n",
    "    print \"x is negative\""
   ]
  },
  {
   "cell_type": "code",
   "execution_count": 2,
   "metadata": {
    "collapsed": false
   },
   "outputs": [
    {
     "name": "stdout",
     "output_type": "stream",
     "text": [
      "x is negative\n"
     ]
    }
   ],
   "source": [
    "x = -5\n",
    "if x < 0:\n",
    "    print \"x is negative\""
   ]
  },
  {
   "cell_type": "code",
   "execution_count": 3,
   "metadata": {
    "collapsed": false
   },
   "outputs": [
    {
     "name": "stdout",
     "output_type": "stream",
     "text": [
      "x in non-negative\n"
     ]
    }
   ],
   "source": [
    "x = 5\n",
    "if x < 0:\n",
    "    print \"x is negative\"\n",
    "else:\n",
    "    print \"x in non-negative\""
   ]
  },
  {
   "cell_type": "code",
   "execution_count": 4,
   "metadata": {
    "collapsed": false
   },
   "outputs": [
    {
     "name": "stdout",
     "output_type": "stream",
     "text": [
      "x is positive\n"
     ]
    }
   ],
   "source": [
    "x = 5\n",
    "if x < 0:\n",
    "    print \"x is negative\"\n",
    "elif x == 0:\n",
    "    print \"x is zero\"\n",
    "else:\n",
    "    print \"x is positive\""
   ]
  },
  {
   "cell_type": "markdown",
   "metadata": {},
   "source": [
    "Be careful because the computer interprets comparisons very literally."
   ]
  },
  {
   "cell_type": "code",
   "execution_count": 5,
   "metadata": {
    "collapsed": false
   },
   "outputs": [
    {
     "data": {
      "text/plain": [
       "False"
      ]
     },
     "execution_count": 5,
     "metadata": {},
     "output_type": "execute_result"
    }
   ],
   "source": [
    "'1' < 2"
   ]
  },
  {
   "cell_type": "code",
   "execution_count": 6,
   "metadata": {
    "collapsed": false
   },
   "outputs": [
    {
     "data": {
      "text/plain": [
       "False"
      ]
     },
     "execution_count": 6,
     "metadata": {},
     "output_type": "execute_result"
    }
   ],
   "source": [
    "True == 'True'"
   ]
  },
  {
   "cell_type": "code",
   "execution_count": 7,
   "metadata": {
    "collapsed": false
   },
   "outputs": [
    {
     "data": {
      "text/plain": [
       "True"
      ]
     },
     "execution_count": 7,
     "metadata": {},
     "output_type": "execute_result"
    }
   ],
   "source": [
    "False == 0"
   ]
  },
  {
   "cell_type": "code",
   "execution_count": 8,
   "metadata": {
    "collapsed": false
   },
   "outputs": [
    {
     "data": {
      "text/plain": [
       "False"
      ]
     },
     "execution_count": 8,
     "metadata": {},
     "output_type": "execute_result"
    }
   ],
   "source": [
    "'Bears' > 'Packers'"
   ]
  },
  {
   "cell_type": "markdown",
   "metadata": {},
   "source": [
    "## Indentation\n",
    "Indentation is a feature of python intended to make it more human-readable (though some people hate it). Some other programming languages use brackets to denote a command block. Python uses indentation. The amount of indentation doesn't matter, so long as everything in the same block is indented the same amount. The IPython notebook automatically converts tabs to 4 spaces, and any decent text editor will do the same (though not necessarily by default).\n",
    "\n",
    "*But you should pick a number of spaces (specifically **4**, as this is the standard) and stick to that!*"
   ]
  },
  {
   "cell_type": "markdown",
   "metadata": {},
   "source": [
    "## Short Exercise\n",
    "Write a function using an if statement that prints whether x is even or odd."
   ]
  },
  {
   "cell_type": "code",
   "execution_count": 9,
   "metadata": {
    "collapsed": false
   },
   "outputs": [],
   "source": [
    "def even_or_odd(x):\n",
    "    return \"I have no idea!\" # Fix that!"
   ]
  },
  {
   "cell_type": "code",
   "execution_count": 10,
   "metadata": {
    "collapsed": false
   },
   "outputs": [
    {
     "data": {
      "text/plain": [
       "'I have no idea!'"
      ]
     },
     "execution_count": 10,
     "metadata": {},
     "output_type": "execute_result"
    }
   ],
   "source": [
    "even_or_odd(5)"
   ]
  },
  {
   "cell_type": "markdown",
   "metadata": {},
   "source": [
    "# Multiple Conditions\n",
    "\n",
    "We can add multiple conditional statements in a single block, like so: "
   ]
  },
  {
   "cell_type": "code",
   "execution_count": 19,
   "metadata": {
    "collapsed": false
   },
   "outputs": [
    {
     "name": "stdout",
     "output_type": "stream",
     "text": [
      "back to square one\n"
     ]
    }
   ],
   "source": [
    "import random\n",
    "\n",
    "p = random.random() # generates a random float uniformly in the semi-open range [0.0, 1.0)\n",
    "responsible = random.choice([0,1]) # generates random boolean integer, of either 0 or 1\n",
    "\n",
    "if p < .05:\n",
    "    print('we have a publishable finding')\n",
    "elif responsible == 0:\n",
    "    print(\"it's so close, let's round down\")\n",
    "else:\n",
    "    print('back to square one')"
   ]
  },
  {
   "cell_type": "markdown",
   "metadata": {},
   "source": [
    "Add some `print` statements in the code above to see what was going on.\n",
    "\n",
    "Notice that the `elif` statement will only run if the first `if` statement returns `false`. On the other hand, adding a second `if` statement is indepedent of the first."
   ]
  },
  {
   "cell_type": "code",
   "execution_count": 5,
   "metadata": {
    "collapsed": false
   },
   "outputs": [
    {
     "name": "stdout",
     "output_type": "stream",
     "text": [
      "we have a publishable finding\n",
      "it's so close, let's round down\n"
     ]
    }
   ],
   "source": [
    "p = .04\n",
    "\n",
    "if p < .05:\n",
    "    print('we have a publishable finding')\n",
    "if responsible == 0:\n",
    "    print(\"it's so close, let's round down\")\n",
    "else:\n",
    "    print('back to square one')"
   ]
  },
  {
   "cell_type": "markdown",
   "metadata": {},
   "source": [
    "# Boolean Operators\n",
    "\n",
    "Boolean expressions can be used when you need to check two or more different things at once. \n",
    "\n",
    "|    Expression   | Result |\n",
    "|:---------------:|:------:|\n",
    "| true and true   | true   |\n",
    "| true and false  | false  |\n",
    "| false and true  | false  |\n",
    "| false and false | false  |\n",
    "| not true        | false  |\n",
    "| not false       | true   |\n",
    "| true or true    | true   |\n",
    "| true or false   | true   |\n",
    "| false or true   | true   |\n",
    "| false or false  | false  |\n",
    "\n",
    "Here are some examples. Read them and try to figure out what each would return. Then uncomment and run to test your intuition."
   ]
  },
  {
   "cell_type": "code",
   "execution_count": 1,
   "metadata": {
    "collapsed": false
   },
   "outputs": [
    {
     "data": {
      "text/plain": [
       "'\\na = 6\\nb = 7\\nc = 42\\nprint 1, a == 6\\nprint 2, a == 7\\nprint 3, a == 6 and b == 7\\nprint 4, a == 7 and b == 7\\nprint 5, not a == 7 and b == 7\\nprint 6, a == 7 or b == 7\\nprint 7, a == 7 or b == 6\\nprint 8, not (a == 7 and b == 6)\\nprint 9, not a == 7 and b == 6\\n'"
      ]
     },
     "execution_count": 1,
     "metadata": {},
     "output_type": "execute_result"
    }
   ],
   "source": [
    "'''\n",
    "a = 6\n",
    "b = 7\n",
    "c = 42\n",
    "print 1, a == 6\n",
    "print 2, a == 7\n",
    "print 3, a == 6 and b == 7\n",
    "print 4, a == 7 and b == 7\n",
    "print 5, not a == 7 and b == 7\n",
    "print 6, a == 7 or b == 7\n",
    "print 7, a == 7 or b == 6\n",
    "print 8, not (a == 7 and b == 6)\n",
    "print 9, not a == 7 and b == 6\n",
    "'''"
   ]
  },
  {
   "cell_type": "markdown",
   "metadata": {},
   "source": [
    "## A note on Boolean Operators\n",
    "\n",
    "A common mistake for people new to programming is a misunderstanding of the way that boolean operators works, which stems from the way the python interpreter reads these expressions. To see what I'm talking about, check this out:"
   ]
  },
  {
   "cell_type": "code",
   "execution_count": 13,
   "metadata": {
    "collapsed": false
   },
   "outputs": [
    {
     "name": "stdout",
     "output_type": "stream",
     "text": [
      "True\n",
      "False\n",
      "False\n",
      "True\n"
     ]
    }
   ],
   "source": [
    "print 'a' == ('a' or 'b')\n",
    "print 'b' == ('a' or 'b')\n",
    "print 'a' == ('a' and 'b')\n",
    "print 'b' == ('a' and 'b')"
   ]
  },
  {
   "cell_type": "markdown",
   "metadata": {},
   "source": [
    "One might assume that the expression `x == ('a' or 'b')` would check to see if the variable `x` was equivalent to one of the strings `'a'` or `'b'`. But this is not so.\n",
    "\n",
    "When the Python interpreter looks at an `or` expression, it takes the first statement and checks to see if it is true. If the first statement is true, then Python returns **that object's value** without checking the second statement. This is because for an `or` expression, the whole thing is true if one of the values is true; the program does not need to bother with the second statement. On the other hand, if the first value is evaluated as false Python checks the second half and returns that value. That second half determines the truth value of the whole expression since the first half was false. This \"laziness\" on the part of the interpreter is called \"short circuiting\" and is a common way of evaluating boolean expressions in many programming languages.\n",
    "\n",
    "Let's look at an example from our previous code block:"
   ]
  },
  {
   "cell_type": "code",
   "execution_count": 14,
   "metadata": {
    "collapsed": false
   },
   "outputs": [
    {
     "data": {
      "text/plain": [
       "False"
      ]
     },
     "execution_count": 14,
     "metadata": {},
     "output_type": "execute_result"
    }
   ],
   "source": [
    "'b' == ('a' or 'b')  # Look at parentheses first, so evaluate expression \"('a' or 'b')\"\n",
    "                           # 'a' is a nonempty string, so the first value is True\n",
    "                           # Return that first value: 'a'\n",
    "'b' == 'a'           # the string 'b' is not equivalent to the string 'a', so expression is False"
   ]
  },
  {
   "cell_type": "markdown",
   "metadata": {},
   "source": [
    "#  What's True?\n",
    "\n",
    "Python considers a number of different things to have a truth value assigned to them. To check the truth value of any given object `x`, you can use the function `bool(x)` to see its truth value. Below is a table with examples of the truth values of various objects:\n",
    "\n",
    "|          True          |        False       |\n",
    "|:----------------------:|:------------------:|\n",
    "| True                   | False              |\n",
    "| 1                      | 0                  |\n",
    "| Nonempty strings       | Empty strings      |\n",
    "| Nonempty lists         | Empty lists        |\n",
    "| Nonempty dictionaraies | Empty dictionaries |"
   ]
  },
  {
   "cell_type": "code",
   "execution_count": 15,
   "metadata": {
    "collapsed": false
   },
   "outputs": [
    {
     "name": "stdout",
     "output_type": "stream",
     "text": [
      "This looks empty\n"
     ]
    }
   ],
   "source": [
    "x = []\n",
    "if x:\n",
    "    print \"This is not empty\"\n",
    "else:\n",
    "    print \"This looks empty\""
   ]
  },
  {
   "cell_type": "markdown",
   "metadata": {},
   "source": [
    "And we can do the same thing for dictionaries too."
   ]
  },
  {
   "cell_type": "code",
   "execution_count": 5,
   "metadata": {
    "collapsed": true
   },
   "outputs": [],
   "source": [
    "d = {'cows': 1, 'dogs': 5, 'cats': 3}\n",
    "\n",
    "#existence testing\n",
    "if 'pigs' in d:\n",
    "    n = d['pigs']\n",
    "else:\n",
    "    n = 0"
   ]
  },
  {
   "cell_type": "code",
   "execution_count": 6,
   "metadata": {
    "collapsed": false
   },
   "outputs": [
    {
     "data": {
      "text/plain": [
       "0"
      ]
     },
     "execution_count": 6,
     "metadata": {},
     "output_type": "execute_result"
    }
   ],
   "source": [
    "n"
   ]
  },
  {
   "cell_type": "markdown",
   "metadata": {},
   "source": [
    "### Short Exercise\n",
    "\n",
    "**PART 1**\n",
    "\n",
    "In the cell below, write a function that accepts a key from `d` and returns the value `number`:\n",
    "    \n",
    "If `d[key]` is greater than 2, set `number = \"Big Number\"`\n",
    "\n",
    "If `d[key]` is less than or equal to 2, set `number = \"Small Number\"`\n",
    "\n",
    "If `d[key]` doesn't exist (that is, if `d` doesn't contain the `key`), set `number = \"Doesn't Exist\"`"
   ]
  },
  {
   "cell_type": "code",
   "execution_count": 10,
   "metadata": {
    "collapsed": false
   },
   "outputs": [
    {
     "ename": "NameError",
     "evalue": "global name 'number' is not defined",
     "output_type": "error",
     "traceback": [
      "\u001b[0;31m---------------------------------------------------------------------------\u001b[0m",
      "\u001b[0;31mNameError\u001b[0m                                 Traceback (most recent call last)",
      "\u001b[0;32m<ipython-input-10-b983c804f153>\u001b[0m in \u001b[0;36m<module>\u001b[0;34m()\u001b[0m\n\u001b[1;32m      5\u001b[0m \u001b[0;34m\u001b[0m\u001b[0m\n\u001b[1;32m      6\u001b[0m \u001b[0;31m# Test your code!\u001b[0m\u001b[0;34m\u001b[0m\u001b[0;34m\u001b[0m\u001b[0m\n\u001b[0;32m----> 7\u001b[0;31m \u001b[0manimals\u001b[0m\u001b[0;34m(\u001b[0m\u001b[0;34m'pigs'\u001b[0m\u001b[0;34m)\u001b[0m\u001b[0;34m\u001b[0m\u001b[0m\n\u001b[0m",
      "\u001b[0;32m<ipython-input-10-b983c804f153>\u001b[0m in \u001b[0;36manimals\u001b[0;34m(key)\u001b[0m\n\u001b[1;32m      2\u001b[0m \u001b[0;32mdef\u001b[0m \u001b[0manimals\u001b[0m\u001b[0;34m(\u001b[0m\u001b[0mkey\u001b[0m\u001b[0;34m)\u001b[0m\u001b[0;34m:\u001b[0m\u001b[0;34m\u001b[0m\u001b[0m\n\u001b[1;32m      3\u001b[0m     \u001b[0;31m##YOUR CODE HERE\u001b[0m\u001b[0;34m\u001b[0m\u001b[0;34m\u001b[0m\u001b[0m\n\u001b[0;32m----> 4\u001b[0;31m     \u001b[0;32mreturn\u001b[0m\u001b[0;34m(\u001b[0m\u001b[0mnumber\u001b[0m\u001b[0;34m)\u001b[0m\u001b[0;34m\u001b[0m\u001b[0m\n\u001b[0m\u001b[1;32m      5\u001b[0m \u001b[0;34m\u001b[0m\u001b[0m\n\u001b[1;32m      6\u001b[0m \u001b[0;31m# Test your code!\u001b[0m\u001b[0;34m\u001b[0m\u001b[0;34m\u001b[0m\u001b[0m\n",
      "\u001b[0;31mNameError\u001b[0m: global name 'number' is not defined"
     ]
    }
   ],
   "source": [
    "#add storing the value\n",
    "def animals(key):\n",
    "    ##YOUR CODE HERE\n",
    "    return(number)\n",
    "\n",
    "# Uncomment to test your code!\n",
    "# animals('pigs')"
   ]
  },
  {
   "cell_type": "markdown",
   "metadata": {},
   "source": [
    "**PART 2**\n",
    "\n",
    "Alter the function so that if `d[key]` doesn't exist, add the `key` to `d` and set it to \"NA\". \n",
    "\n",
    "Is it necessary to change the return value of the function?"
   ]
  },
  {
   "cell_type": "code",
   "execution_count": null,
   "metadata": {
    "collapsed": true
   },
   "outputs": [],
   "source": []
  }
 ],
 "metadata": {
  "kernelspec": {
   "display_name": "Python 2",
   "language": "python",
   "name": "python2"
  },
  "language_info": {
   "codemirror_mode": {
    "name": "ipython",
    "version": 2
   },
   "file_extension": ".py",
   "mimetype": "text/x-python",
   "name": "python",
   "nbconvert_exporter": "python",
   "pygments_lexer": "ipython2",
   "version": "2.7.9"
  }
 },
 "nbformat": 4,
 "nbformat_minor": 0
}
