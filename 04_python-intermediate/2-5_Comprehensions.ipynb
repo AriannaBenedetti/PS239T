{
 "cells": [
  {
   "cell_type": "markdown",
   "metadata": {},
   "source": [
    "# Advanced: List comprehensions and other Pythonic idioms\n",
    "\n",
    "****\n",
    "\n",
    "Python programmers often talk about making code **\"Pythonic.\"** What does this mean?\n",
    "\n",
    "A programming idiom, put simply, is a way to write code. The notion of programming idioms is discussed amply at c2 and at Stack Overflow.\n",
    "\n",
    "**Idiomatic Python code is often referred to as being Pythonic.**\n",
    "\n",
    "When a veteran Python developer (a Pythonista) points to portions of code and says they are not “Pythonic”, it usually means that these lines of code do not follow the common guidelines and fail to express accomplish the desire effect in what is considered the best (hear: most common, recognizable, readable) way.\n",
    "\n",
    "Although there usually is one — and preferably only one — obvious way to do it; the way to write idiomatic Python code can be non-obvious to Python beginners. So, good idioms must be consciously acquired.\n",
    "\n",
    "Some common Python idioms follow.\n",
    "\n",
    "Note 1: This stuff confuses most people. Don't feel intimidated! It just takes practice!\n",
    "\n",
    "Note 2: At its core, Python is a community, and Pythonic connotes community norms. Like all community norms, what is considered \"Pythonic\" has changed over time and in response to various social, technological, and political shifts."
   ]
  },
  {
   "cell_type": "markdown",
   "metadata": {},
   "source": [
    "# List Comprehensions\n",
    "\n",
    "## Introducing comprehensions\n",
    "\n",
    " First, let's look at how we would create a \"transformed\" version of a list with loops."
   ]
  },
  {
   "cell_type": "code",
   "execution_count": 26,
   "metadata": {
    "collapsed": false
   },
   "outputs": [
    {
     "name": "stdout",
     "output_type": "stream",
     "text": [
      "[10, 2, 6, 20]\n"
     ]
    }
   ],
   "source": [
    "# Multiply every number in a list by 2 using a for loop\n",
    "nums1 = [5, 1, 3, 10]\n",
    "nums2 = []\n",
    "for i in range(len(nums1)):\n",
    "    nums2.append(nums1[i] * 2)\n",
    "    \n",
    "print nums2"
   ]
  },
  {
   "cell_type": "markdown",
   "metadata": {},
   "source": [
    "Python has another way to perform iteration called list comprehensions. You can see that doing the same thing with a list comprehension is very clear and compact (as long as it makes sense)"
   ]
  },
  {
   "cell_type": "code",
   "execution_count": 27,
   "metadata": {
    "collapsed": false
   },
   "outputs": [
    {
     "name": "stdout",
     "output_type": "stream",
     "text": [
      "[10, 2, 6, 20]\n"
     ]
    }
   ],
   "source": [
    "# Multiply every number in a list by 2 using a list comprehension\n",
    "nums2 = [x * 2 for x in nums1]\n",
    "\n",
    "print nums2"
   ]
  },
  {
   "cell_type": "markdown",
   "metadata": {},
   "source": [
    "What if we also have some conditional logic?"
   ]
  },
  {
   "cell_type": "code",
   "execution_count": 28,
   "metadata": {
    "collapsed": false
   },
   "outputs": [
    {
     "name": "stdout",
     "output_type": "stream",
     "text": [
      "[10, 20]\n"
     ]
    }
   ],
   "source": [
    "# Multiply every number in a list by 2, but only if the number is greater than 4\n",
    "nums1 = [5, 1, 3, 10]\n",
    "nums2 = []\n",
    "for i in range(len(nums1)):\n",
    "    if nums1[i] > 4:\n",
    "        nums2.append(nums1[i] * 2)\n",
    "    \n",
    "print nums2"
   ]
  },
  {
   "cell_type": "code",
   "execution_count": 29,
   "metadata": {
    "collapsed": false
   },
   "outputs": [
    {
     "name": "stdout",
     "output_type": "stream",
     "text": [
      "[10, 20]\n"
     ]
    }
   ],
   "source": [
    "# And using a list comprehension\n",
    "nums2 = [x * 2 for x in nums1 if x > 4]\n",
    "\n",
    "print nums2"
   ]
  },
  {
   "cell_type": "markdown",
   "metadata": {},
   "source": [
    "###  Exercise: Convert lists\n",
    "\n",
    "Convert the following code to list comprehensions:"
   ]
  },
  {
   "cell_type": "code",
   "execution_count": 36,
   "metadata": {
    "collapsed": false
   },
   "outputs": [],
   "source": [
    "# Filter elements greater than 4\n",
    "a = [3, 4, 5]\n",
    "b = []\n",
    "for i in a:\n",
    "    if i > 4:\n",
    "        b.append(i)"
   ]
  },
  {
   "cell_type": "code",
   "execution_count": 37,
   "metadata": {
    "collapsed": true
   },
   "outputs": [],
   "source": [
    "# turn it into a list comprehension\n"
   ]
  },
  {
   "cell_type": "code",
   "execution_count": 38,
   "metadata": {
    "collapsed": true
   },
   "outputs": [],
   "source": [
    "# Add three to all list members.\n",
    "a = [3, 4, 5]\n",
    "for i in range(len(a)):\n",
    "    a[i] += 3"
   ]
  },
  {
   "cell_type": "code",
   "execution_count": 39,
   "metadata": {
    "collapsed": false
   },
   "outputs": [],
   "source": [
    "# turn it into a list comprehension\n",
    "\n"
   ]
  },
  {
   "cell_type": "code",
   "execution_count": 46,
   "metadata": {
    "collapsed": false
   },
   "outputs": [],
   "source": [
    "# Convert items using a dictionary\n",
    "\n",
    "conversions = {'a': 1, 'b': 2, 'c': 3}\n",
    "l = ['a', 'b', 'c']\n",
    "converted_l = []\n",
    "for i in l:\n",
    "    converted_l.append(conversions[i])"
   ]
  },
  {
   "cell_type": "code",
   "execution_count": null,
   "metadata": {
    "collapsed": true
   },
   "outputs": [],
   "source": [
    "# turn it into a list comprehension"
   ]
  },
  {
   "cell_type": "markdown",
   "metadata": {},
   "source": [
    "# More Idioms\n",
    "\n",
    "There are a lot more idioms in Python. Here are just a few:\n",
    "\n",
    "## String Replacements"
   ]
  },
  {
   "cell_type": "code",
   "execution_count": 47,
   "metadata": {
    "collapsed": true
   },
   "outputs": [],
   "source": [
    "def even_or_odd(x=0):\n",
    "    \"\"\"Find whether a number x is even or odd.\"\"\"\n",
    "    if x % 2 == 0:\n",
    "        return \"%d is Even!\" % x\n",
    "    return \"%d is Odd!\" % x"
   ]
  },
  {
   "cell_type": "code",
   "execution_count": 48,
   "metadata": {
    "collapsed": false
   },
   "outputs": [
    {
     "data": {
      "text/plain": [
       "'1 is Odd!'"
      ]
     },
     "execution_count": 48,
     "metadata": {},
     "output_type": "execute_result"
    }
   ],
   "source": [
    "even_or_odd(1)"
   ]
  },
  {
   "cell_type": "markdown",
   "metadata": {},
   "source": [
    "## Concatenating Strings\n",
    "\n",
    "A common idiom for creating strings is to use str.join() on an empty string."
   ]
  },
  {
   "cell_type": "code",
   "execution_count": 50,
   "metadata": {
    "collapsed": false
   },
   "outputs": [
    {
     "data": {
      "text/plain": [
       "'spam'"
      ]
     },
     "execution_count": 50,
     "metadata": {},
     "output_type": "execute_result"
    }
   ],
   "source": [
    "letters = ['s', 'p', 'a', 'm']\n",
    "word = ''.join(letters)\n",
    "word"
   ]
  },
  {
   "cell_type": "markdown",
   "metadata": {},
   "source": [
    "## Multiple Assignment and unpacking\n",
    "\n",
    "If you know the length of a list or tuple, you can assign names to its elements with unpacking. "
   ]
  },
  {
   "cell_type": "code",
   "execution_count": 54,
   "metadata": {
    "collapsed": false
   },
   "outputs": [
    {
     "name": "stdout",
     "output_type": "stream",
     "text": [
      "David\n",
      "Pythonista\n",
      "+1-514-555-1234\n"
     ]
    }
   ],
   "source": [
    "l =['David', 'Pythonista', '+1-514-555-1234']\n",
    "name, title, phone = l\n",
    "print name\n",
    "print title\n",
    "print phone"
   ]
  },
  {
   "cell_type": "code",
   "execution_count": 55,
   "metadata": {
    "collapsed": false
   },
   "outputs": [
    {
     "name": "stdout",
     "output_type": "stream",
     "text": [
      "0 David\n",
      "1 Pythonista\n",
      "2 +1-514-555-1234\n"
     ]
    }
   ],
   "source": [
    "for i, val in enumerate(l):\n",
    "    print i, val"
   ]
  },
  {
   "cell_type": "markdown",
   "metadata": {},
   "source": [
    "You can use this to swap variables as well:"
   ]
  },
  {
   "cell_type": "code",
   "execution_count": 56,
   "metadata": {
    "collapsed": true
   },
   "outputs": [],
   "source": [
    "a = 1\n",
    "b = 2\n",
    "\n",
    "a, b = b, a"
   ]
  },
  {
   "cell_type": "markdown",
   "metadata": {},
   "source": [
    "What do you think `a` will return?\n",
    "\n",
    "One more example:"
   ]
  },
  {
   "cell_type": "code",
   "execution_count": 57,
   "metadata": {
    "collapsed": false
   },
   "outputs": [],
   "source": [
    "d = 1,2,3\n",
    "a,b,c = 1,2,3\n",
    "a,b,c = d"
   ]
  },
  {
   "cell_type": "markdown",
   "metadata": {},
   "source": [
    "# Other weird Python things \n",
    "\n",
    "## Variables v. Names\n",
    "\n",
    "\n",
    "\n",
    "Something that might cause you headaches in the future is how python deals with assignment of one variable to another. When you set a variable equal to another, both variables point to the same thing. Changing the first one ends up changing the second. Be careful about this fact."
   ]
  },
  {
   "cell_type": "code",
   "execution_count": 8,
   "metadata": {
    "collapsed": true
   },
   "outputs": [],
   "source": [
    "a = [1,2]"
   ]
  },
  {
   "cell_type": "code",
   "execution_count": 9,
   "metadata": {
    "collapsed": true
   },
   "outputs": [],
   "source": [
    "b = a"
   ]
  },
  {
   "cell_type": "code",
   "execution_count": 10,
   "metadata": {
    "collapsed": true
   },
   "outputs": [],
   "source": [
    "a.append(10)"
   ]
  },
  {
   "cell_type": "code",
   "execution_count": 11,
   "metadata": {
    "collapsed": false
   },
   "outputs": [
    {
     "data": {
      "text/plain": [
       "[1, 2, 10]"
      ]
     },
     "execution_count": 11,
     "metadata": {},
     "output_type": "execute_result"
    }
   ],
   "source": [
    "b"
   ]
  },
  {
   "cell_type": "code",
   "execution_count": 12,
   "metadata": {
    "collapsed": false
   },
   "outputs": [
    {
     "data": {
      "text/plain": [
       "True"
      ]
     },
     "execution_count": 12,
     "metadata": {},
     "output_type": "execute_result"
    }
   ],
   "source": [
    "# what will be the result of this?\n",
    "a is b"
   ]
  },
  {
   "cell_type": "code",
   "execution_count": 13,
   "metadata": {
    "collapsed": true
   },
   "outputs": [],
   "source": [
    "## this will create a new object\n",
    "d = a + b"
   ]
  },
  {
   "cell_type": "code",
   "execution_count": 14,
   "metadata": {
    "collapsed": false
   },
   "outputs": [
    {
     "data": {
      "text/plain": [
       "True"
      ]
     },
     "execution_count": 14,
     "metadata": {},
     "output_type": "execute_result"
    }
   ],
   "source": [
    "## test if two items contain the same thing\n",
    "d == a + b"
   ]
  },
  {
   "cell_type": "code",
   "execution_count": 15,
   "metadata": {
    "collapsed": false
   },
   "outputs": [
    {
     "data": {
      "text/plain": [
       "False"
      ]
     },
     "execution_count": 15,
     "metadata": {},
     "output_type": "execute_result"
    }
   ],
   "source": [
    "## test if two variables point to the same object\n",
    "d is a + b"
   ]
  },
  {
   "cell_type": "markdown",
   "metadata": {},
   "source": [
    "## Mutable and immutable types"
   ]
  },
  {
   "cell_type": "markdown",
   "metadata": {},
   "source": [
    "Python has two kinds of built-in or user-defined types.\n",
    "\n",
    "Mutable types are those that allow in-place modification of the content. Typical mutables are lists and dictionaries: All lists have mutating methods, like list.append() or list.pop(), and can be modified in place. The same goes for dictionaries.\n",
    "\n",
    "Immutable types provide no method for changing their content. For instance, the variable x set to the integer 6 has no “increment” method. If you want to compute x + 1, you have to create another integer and give it a name."
   ]
  },
  {
   "cell_type": "code",
   "execution_count": 6,
   "metadata": {
    "collapsed": false
   },
   "outputs": [
    {
     "name": "stdout",
     "output_type": "stream",
     "text": [
      "[4, 2, 3]\n",
      "6\n",
      "7\n"
     ]
    }
   ],
   "source": [
    "# mutable\n",
    "my_list = [1, 2, 3]\n",
    "my_list[0] = 4\n",
    "print my_list  # [4, 2, 3] <- The same list as changed\n",
    "\n",
    "# immutable\n",
    "x = 6\n",
    "x + 1 \n",
    "print x\n",
    "\n",
    "x = x + 1 # The new x is another object\n",
    "print x"
   ]
  },
  {
   "cell_type": "markdown",
   "metadata": {},
   "source": [
    "One consequence of this difference in behavior is that mutable types are not “stable”, and therefore cannot be used as dictionary keys.\n",
    "\n",
    "This, combined with the dynamic typing, can get confusing. \n",
    "\n",
    "Take for example the use of `dict.values()` for dictionaries: If you store the an immutable object in dict.values(), and change the dictionary afterwards, the previously stored result remains untouched."
   ]
  },
  {
   "cell_type": "code",
   "execution_count": 18,
   "metadata": {
    "collapsed": false
   },
   "outputs": [
    {
     "name": "stdout",
     "output_type": "stream",
     "text": [
      "a_list: [3, 2]\n"
     ]
    }
   ],
   "source": [
    "a_dict = {'a':1,'b':2}\n",
    "a_list = dict.values()\n",
    "print \"a_list:\", a_list"
   ]
  },
  {
   "cell_type": "code",
   "execution_count": 19,
   "metadata": {
    "collapsed": false
   },
   "outputs": [
    {
     "name": "stdout",
     "output_type": "stream",
     "text": [
      "a_list [1, 2]\n",
      "a_dict {'a': 3, 'b': 2}\n"
     ]
    }
   ],
   "source": [
    "a_dict['a']=3\n",
    "print \"a_list\", list\n",
    "print \"a_dict\", dict"
   ]
  },
  {
   "cell_type": "markdown",
   "metadata": {},
   "source": [
    "However, if a dictionary has lists as value entries, we get different behavior: If you change the dict, the list you previously created via `dict.values()` gets automagically updated."
   ]
  },
  {
   "cell_type": "code",
   "execution_count": 25,
   "metadata": {
    "collapsed": false
   },
   "outputs": [
    {
     "name": "stdout",
     "output_type": "stream",
     "text": [
      "[[1], [2]]\n",
      "[[1, 3], [2]]\n"
     ]
    }
   ],
   "source": [
    "a_dict = {'a':[1],'b':[2]}\n",
    "a_list = a_dict.values()\n",
    "print a_list\n",
    " \n",
    "a_dict['a'].append(3)\n",
    "print a_list\n"
   ]
  },
  {
   "cell_type": "markdown",
   "metadata": {
    "collapsed": true
   },
   "source": [
    "This can get confusing.\n",
    "\n",
    "For more explanations on naming v. variables, see:\n",
    "* \"How to think like a Pythonista\": http://python.net/crew/mwh/hacks/objectthink.html\n",
    "* \"Code like a Pythonista\", section: http://python.net/crew/mwh/hacks/objectthink.html#satisfied"
   ]
  },
  {
   "cell_type": "code",
   "execution_count": null,
   "metadata": {
    "collapsed": true
   },
   "outputs": [],
   "source": []
  }
 ],
 "metadata": {
  "kernelspec": {
   "display_name": "Python 2",
   "language": "python",
   "name": "python2"
  },
  "language_info": {
   "codemirror_mode": {
    "name": "ipython",
    "version": 2
   },
   "file_extension": ".py",
   "mimetype": "text/x-python",
   "name": "python",
   "nbconvert_exporter": "python",
   "pygments_lexer": "ipython2",
   "version": "2.7.9"
  }
 },
 "nbformat": 4,
 "nbformat_minor": 0
}
