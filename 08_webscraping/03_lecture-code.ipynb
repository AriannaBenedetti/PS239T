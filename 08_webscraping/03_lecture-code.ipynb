{
 "cells": [
  {
   "cell_type": "markdown",
   "metadata": {},
   "source": [
    "# Webscraping - Lecture Code"
   ]
  },
  {
   "cell_type": "markdown",
   "metadata": {},
   "source": [
    "## The Task:\n",
    "\n",
    "Gather information Illinois' elected state legislators here: http://www.ilga.gov/senate/default.asp"
   ]
  },
  {
   "cell_type": "markdown",
   "metadata": {},
   "source": [
    "## The Tools:\n",
    "\n",
    "1. [Requests](http://docs.python-requests.org/en/latest/user/quickstart/)\n",
    "2. [Beautiful Soup](http://www.crummy.com/software/BeautifulSoup/bs4/doc/)"
   ]
  },
  {
   "cell_type": "code",
   "execution_count": 1,
   "metadata": {
    "collapsed": false
   },
   "outputs": [],
   "source": [
    "# import required modules\n",
    "import requests\n",
    "from bs4 import BeautifulSoup"
   ]
  },
  {
   "cell_type": "markdown",
   "metadata": {},
   "source": [
    "## Step 1: Make a Get Request and Read in HTML\n",
    "\n",
    "We use `requests` library to:\n",
    "1. make a GET request to the page\n",
    "2. read in the html of the page"
   ]
  },
  {
   "cell_type": "code",
   "execution_count": 2,
   "metadata": {
    "collapsed": false
   },
   "outputs": [],
   "source": [
    "# make a GET request\n",
    "req = requests.get('http://www.ilga.gov/senate/default.asp')\n",
    "# read the content of the server’s response\n",
    "src = req.text"
   ]
  },
  {
   "cell_type": "markdown",
   "metadata": {},
   "source": [
    "## Step 2: Soup it\n",
    "\n",
    "Now we use the `BeautifulSoup` function to parse the reponse into an HTML tree. This returns an object (called a **soup object**) which contains all of the HTML in the original document."
   ]
  },
  {
   "cell_type": "code",
   "execution_count": 11,
   "metadata": {
    "collapsed": false
   },
   "outputs": [
    {
     "name": "stdout",
     "output_type": "stream",
     "text": [
      "<html lang=\"en\">\n",
      " <head>\n",
      "  <title>\n",
      "   Illinois General Assembly - Senate Members\n",
      "  </title>\n",
      "  <link href=\"/style/lis.css\" rel=\"stylesheet\" type=\"text/css\"/>\n",
      "  <link href=\"/style/print.css\" media=\"print\" rel=\"stylesheet\" type=\"text/css\"/>\n",
      "  <link href=\"http://info.er.usgs.gov/public/gils/gilsexec.html\" rel=\"GILS\"/>\n",
      "  <link href=\"/LISlogo1.ico\" rel=\"Shortcut Icon\"/>\n",
      "  <script language=\"JavaScript\" type=\"text/javascript\">\n",
      "   <!--\n",
      "\n",
      "if(window.event + \"\" == \"undefined\") event = null;\n",
      "function HM_f_PopUp(){return false};\n",
      "function HM_f_PopDown(){return false};\n",
      "popUp = HM_f_PopUp;\n",
      "popDown = HM_f_PopDown;\n",
      "\n",
      "//-->\n",
      "  </script>\n",
      "  <!--\r\n",
      "    option explicit\r\n",
      "  -->\n",
      "  <meta content='(PICS-1.1 \"http://www.weburbia.com/safe/ratings.htm\" l r (s 0))' http-equiv=\"PICS-Label\"/>\n",
      "  <meta content=\"Government\" name=\"classification\"/>\n",
      "  <meta content=\"Global\" name=\"distribution\"/>\n",
      "  <meta content=\"General\" name=\"rating\"/>\n",
      "  <meta content=\"IL\" name=\"contactState\"/>\n",
      "  <meta content=\"Illinois General Assembly\" name=\"\n"
     ]
    },
    {
     "name": "stderr",
     "output_type": "stream",
     "text": [
      "//anaconda/envs/py3k/lib/python3.5/site-packages/bs4/__init__.py:166: UserWarning: No parser was explicitly specified, so I'm using the best available HTML parser for this system (\"lxml\"). This usually isn't a problem, but if you run this code on another system, or in a different virtual environment, it may use a different parser and behave differently.\n",
      "\n",
      "To get rid of this warning, change this:\n",
      "\n",
      " BeautifulSoup([your markup])\n",
      "\n",
      "to this:\n",
      "\n",
      " BeautifulSoup([your markup], \"lxml\")\n",
      "\n",
      "  markup_type=markup_type))\n"
     ]
    }
   ],
   "source": [
    "# parse the response into an HTML tree\n",
    "soup = BeautifulSoup(src)\n",
    "# take a look\n",
    "print(soup.prettify()[:1000])\n",
    "# note - if you get a warning about your parser, add the text in quotes it suggests (e.g., \"lxml\") to your \n",
    "# BeautifulSoup command throughout your notebook"
   ]
  },
  {
   "cell_type": "markdown",
   "metadata": {},
   "source": [
    "## Step 3: Find Elements\n",
    "\n",
    "BeautifulSoup has a number of functions to find things on a page. Like other webscraping tools, Beautiful Soup lets you find elements by their:\n",
    "\n",
    "1. HTML tags\n",
    "2. HTML Attributes\n",
    "3. CSS Selectors\n",
    "\n",
    "\n",
    "Let's search first for **HTML tags**. \n",
    "\n",
    "The function `find_all` searches the `soup` tree to find all the elements with an a particular HTML tag, and returns all of those elements.\n",
    "\n",
    "What does the example below do?"
   ]
  },
  {
   "cell_type": "code",
   "execution_count": 5,
   "metadata": {
    "collapsed": false
   },
   "outputs": [
    {
     "data": {
      "text/plain": [
       "[<a href=\"/default.asp\"><img alt=\"Illinois General Assembly\" border=\"0\" height=\"49\" src=\"/images/logo_sm.gif\" width=\"462\"/></a>,\n",
       " <a class=\"mainmenu\" href=\"/\">Home</a>,\n",
       " <a class=\"mainmenu\" href=\"/legislation/\" onblur=\"HM_f_PopDown('elMenu1')\" onfocus=\"HM_f_PopUp('elMenu1',event)\" onmouseout=\"HM_f_PopDown('elMenu1')\" onmouseover=\"HM_f_PopUp('elMenu1',event)\">Legislation &amp; Laws</a>,\n",
       " <a class=\"mainmenu\" href=\"/senate/\" onblur=\"HM_f_PopDown('elMenu3')\" onfocus=\"HM_f_PopUp('elMenu3',event)\" onmouseout=\"HM_f_PopDown('elMenu3')\" onmouseover=\"HM_f_PopUp('elMenu3',event)\">Senate</a>,\n",
       " <a class=\"mainmenu\" href=\"/house/\" onblur=\"HM_f_PopDown('elMenu2')\" onfocus=\"HM_f_PopUp('elMenu2',event)\" onmouseout=\"HM_f_PopDown('elMenu2')\" onmouseover=\"HM_f_PopUp('elMenu2',event)\">House</a>,\n",
       " <a class=\"mainmenu\" href=\"/mylegislation/\" onblur=\"HM_f_PopDown('elMenu4')\" onfocus=\"HM_f_PopUp('elMenu4',event)\" onmouseout=\"HM_f_PopDown('elMenu4')\" onmouseover=\"HM_f_PopUp('elMenu4',event)\">My Legislation</a>,\n",
       " <a class=\"mainmenu\" href=\"/sitemap.asp\">Site Map</a>,\n",
       " <a class=\"sidemenu\" href=\"/senate/default.asp\">  Members  </a>,\n",
       " <a class=\"sidemenu\" href=\"/senate/committees/default.asp\">  Committees  </a>,\n",
       " <a class=\"sidemenu\" href=\"/senate/schedules/default.asp\">  Schedules  </a>,\n",
       " <a class=\"sidemenu\" href=\"/senate/journals/default.asp\">  Journals  </a>,\n",
       " <a class=\"sidemenu\" href=\"/senate/transcripts/default.asp\">  Transcripts  </a>,\n",
       " <a class=\"sidemenu\" href=\"/senate/rules.asp\">  Rules  </a>,\n",
       " <a class=\"sidemenu\" href=\"/senate/audvid.asp\">  Live Audio/Video  </a>,\n",
       " <a href=\"99GA_Senate_Leadership.pdf\">Leadership</a>,\n",
       " <a href=\"99GA_Senate_Officers.pdf\">Officers</a>,\n",
       " <a href=\"99GA_Senate_Seating_Chart.pdf\">Senate Seating Chart</a>,\n",
       " <a class=\"filetab\" href=\"javascript:Sort('LastName','',99);\" title=\"Sort by Senator\">Senator</a>,\n",
       " <a class=\"filetab\" href=\"javascript:Sort('DistrictNumber','',99);\" title=\"Sort by District\">District</a>,\n",
       " <a class=\"filetab\" href=\"javascript:Sort('Party','',99);\" title=\"Sort by Party\">Party</a>,\n",
       " <a href=\"/senate/Senator.asp?GA=99&amp;MemberID=2130\">Pamela J. Althoff</a>,\n",
       " <a href=\"SenatorBills.asp?MemberID=2130\">Bills</a>,\n",
       " <a href=\"SenCommittees.asp?MemberID=2130\">Committees</a>,\n",
       " <a href=\"/senate/Senator.asp?GA=99&amp;MemberID=2275\">Neil Anderson</a>,\n",
       " <a href=\"SenatorBills.asp?MemberID=2275\">Bills</a>,\n",
       " <a href=\"SenCommittees.asp?MemberID=2275\">Committees</a>,\n",
       " <a href=\"/senate/Senator.asp?GA=99&amp;MemberID=2285\">Omar Aquino</a>,\n",
       " <a href=\"SenatorBills.asp?MemberID=2285\">Bills</a>,\n",
       " <a href=\"SenCommittees.asp?MemberID=2285\">Committees</a>,\n",
       " <a href=\"/senate/Senator.asp?GA=99&amp;MemberID=2208\">Jason A. Barickman</a>,\n",
       " <a href=\"SenatorBills.asp?MemberID=2208\">Bills</a>,\n",
       " <a href=\"SenCommittees.asp?MemberID=2208\">Committees</a>,\n",
       " <a href=\"/senate/Senator.asp?GA=99&amp;MemberID=2276\">Scott M. Bennett</a>,\n",
       " <a href=\"SenatorBills.asp?MemberID=2276\">Bills</a>,\n",
       " <a href=\"SenCommittees.asp?MemberID=2276\">Committees</a>,\n",
       " <a href=\"/senate/Senator.asp?GA=99&amp;MemberID=2210\">Jennifer Bertino-Tarrant</a>,\n",
       " <a href=\"SenatorBills.asp?MemberID=2210\">Bills</a>,\n",
       " <a href=\"SenCommittees.asp?MemberID=2210\">Committees</a>,\n",
       " <a href=\"/senate/Senator.asp?GA=99&amp;MemberID=2209\">Daniel Biss</a>,\n",
       " <a href=\"SenatorBills.asp?MemberID=2209\">Bills</a>,\n",
       " <a href=\"SenCommittees.asp?MemberID=2209\">Committees</a>,\n",
       " <a href=\"/senate/Senator.asp?GA=99&amp;MemberID=2160\">Tim Bivins</a>,\n",
       " <a href=\"SenatorBills.asp?MemberID=2160\">Bills</a>,\n",
       " <a href=\"SenCommittees.asp?MemberID=2160\">Committees</a>,\n",
       " <a href=\"/senate/Senator.asp?GA=99&amp;MemberID=2108\">William E. Brady</a>,\n",
       " <a href=\"SenatorBills.asp?MemberID=2108\">Bills</a>,\n",
       " <a href=\"SenCommittees.asp?MemberID=2108\">Committees</a>,\n",
       " <a href=\"/senate/Senator.asp?GA=99&amp;MemberID=2211\">Melinda Bush</a>,\n",
       " <a href=\"SenatorBills.asp?MemberID=2211\">Bills</a>,\n",
       " <a href=\"SenCommittees.asp?MemberID=2211\">Committees</a>,\n",
       " <a href=\"/senate/Senator.asp?GA=99&amp;MemberID=2097\">James F. Clayborne, Jr.</a>,\n",
       " <a href=\"SenatorBills.asp?MemberID=2097\">Bills</a>,\n",
       " <a href=\"SenCommittees.asp?MemberID=2097\">Committees</a>,\n",
       " <a href=\"/senate/Senator.asp?GA=99&amp;MemberID=2123\">Jacqueline Y. Collins</a>,\n",
       " <a href=\"SenatorBills.asp?MemberID=2123\">Bills</a>,\n",
       " <a href=\"SenCommittees.asp?MemberID=2123\">Committees</a>,\n",
       " <a href=\"/senate/Senator.asp?GA=99&amp;MemberID=2212\">Michael Connelly</a>,\n",
       " <a href=\"SenatorBills.asp?MemberID=2212\">Bills</a>,\n",
       " <a href=\"SenCommittees.asp?MemberID=2212\">Committees</a>,\n",
       " <a href=\"/senate/Senator.asp?GA=99&amp;MemberID=2098\">John J. Cullerton</a>,\n",
       " <a href=\"SenatorBills.asp?MemberID=2098\">Bills</a>,\n",
       " <a href=\"SenCommittees.asp?MemberID=2098\">Committees</a>,\n",
       " <a href=\"/senate/Senator.asp?GA=99&amp;MemberID=2213\">Thomas Cullerton</a>,\n",
       " <a href=\"SenatorBills.asp?MemberID=2213\">Bills</a>,\n",
       " <a href=\"SenCommittees.asp?MemberID=2213\">Committees</a>,\n",
       " <a href=\"/senate/Senator.asp?GA=99&amp;MemberID=2214\">Bill Cunningham</a>,\n",
       " <a href=\"SenatorBills.asp?MemberID=2214\">Bills</a>,\n",
       " <a href=\"SenCommittees.asp?MemberID=2214\">Committees</a>,\n",
       " <a href=\"/senate/Senator.asp?GA=99&amp;MemberID=2133\">Gary Forby</a>,\n",
       " <a href=\"SenatorBills.asp?MemberID=2133\">Bills</a>,\n",
       " <a href=\"SenCommittees.asp?MemberID=2133\">Committees</a>,\n",
       " <a href=\"/senate/Senator.asp?GA=99&amp;MemberID=2128\">William R. Haine</a>,\n",
       " <a href=\"SenatorBills.asp?MemberID=2128\">Bills</a>,\n",
       " <a href=\"SenCommittees.asp?MemberID=2128\">Committees</a>,\n",
       " <a href=\"/senate/Senator.asp?GA=99&amp;MemberID=2125\">Don Harmon</a>,\n",
       " <a href=\"SenatorBills.asp?MemberID=2125\">Bills</a>,\n",
       " <a href=\"SenCommittees.asp?MemberID=2125\">Committees</a>,\n",
       " <a href=\"/senate/Senator.asp?GA=99&amp;MemberID=2215\">Napoleon Harris, III</a>,\n",
       " <a href=\"SenatorBills.asp?MemberID=2215\">Bills</a>,\n",
       " <a href=\"SenCommittees.asp?MemberID=2215\">Committees</a>,\n",
       " <a href=\"/senate/Senator.asp?GA=99&amp;MemberID=2216\">Michael E. Hastings</a>,\n",
       " <a href=\"SenatorBills.asp?MemberID=2216\">Bills</a>,\n",
       " <a href=\"SenCommittees.asp?MemberID=2216\">Committees</a>,\n",
       " <a href=\"/senate/Senator.asp?GA=99&amp;MemberID=2150\">Linda Holmes</a>,\n",
       " <a href=\"SenatorBills.asp?MemberID=2150\">Bills</a>,\n",
       " <a href=\"SenCommittees.asp?MemberID=2150\">Committees</a>,\n",
       " <a href=\"/senate/Senator.asp?GA=99&amp;MemberID=2129\">Mattie Hunter</a>,\n",
       " <a href=\"SenatorBills.asp?MemberID=2129\">Bills</a>,\n",
       " <a href=\"SenCommittees.asp?MemberID=2129\">Committees</a>,\n",
       " <a href=\"/senate/Senator.asp?GA=99&amp;MemberID=2171\">Toi W. Hutchinson</a>,\n",
       " <a href=\"SenatorBills.asp?MemberID=2171\">Bills</a>,\n",
       " <a href=\"SenCommittees.asp?MemberID=2171\">Committees</a>,\n",
       " <a href=\"/senate/Senator.asp?GA=99&amp;MemberID=2173\">Emil Jones, III</a>,\n",
       " <a href=\"SenatorBills.asp?MemberID=2173\">Bills</a>,\n",
       " <a href=\"SenCommittees.asp?MemberID=2173\">Committees</a>,\n",
       " <a href=\"/senate/Senator.asp?GA=99&amp;MemberID=2152\">David Koehler</a>,\n",
       " <a href=\"SenatorBills.asp?MemberID=2152\">Bills</a>,\n",
       " <a href=\"SenCommittees.asp?MemberID=2152\">Committees</a>,\n",
       " <a href=\"/senate/Senator.asp?GA=99&amp;MemberID=2198\">Steven M. Landek</a>,\n",
       " <a href=\"SenatorBills.asp?MemberID=2198\">Bills</a>,\n",
       " <a href=\"SenCommittees.asp?MemberID=2198\">Committees</a>,\n",
       " <a href=\"/senate/Senator.asp?GA=99&amp;MemberID=2100\">Kimberly A. Lightford</a>,\n",
       " <a href=\"SenatorBills.asp?MemberID=2100\">Bills</a>,\n",
       " <a href=\"SenCommittees.asp?MemberID=2100\">Committees</a>,\n",
       " <a href=\"/senate/Senator.asp?GA=99&amp;MemberID=2101\">Terry Link</a>,\n",
       " <a href=\"SenatorBills.asp?MemberID=2101\">Bills</a>,\n",
       " <a href=\"SenCommittees.asp?MemberID=2101\">Committees</a>,\n",
       " <a href=\"/senate/Senator.asp?GA=99&amp;MemberID=2102\">David S. Luechtefeld</a>,\n",
       " <a href=\"SenatorBills.asp?MemberID=2102\">Bills</a>,\n",
       " <a href=\"SenCommittees.asp?MemberID=2102\">Committees</a>,\n",
       " <a href=\"/senate/Senator.asp?GA=99&amp;MemberID=2217\">Andy Manar</a>,\n",
       " <a href=\"SenatorBills.asp?MemberID=2217\">Bills</a>,\n",
       " <a href=\"SenCommittees.asp?MemberID=2217\">Committees</a>,\n",
       " <a href=\"/senate/Senator.asp?GA=99&amp;MemberID=2124\">Iris Y. Martinez</a>,\n",
       " <a href=\"SenatorBills.asp?MemberID=2124\">Bills</a>,\n",
       " <a href=\"SenCommittees.asp?MemberID=2124\">Committees</a>,\n",
       " <a href=\"/senate/Senator.asp?GA=99&amp;MemberID=2197\">Wm. Sam McCann</a>,\n",
       " <a href=\"SenatorBills.asp?MemberID=2197\">Bills</a>,\n",
       " <a href=\"SenCommittees.asp?MemberID=2197\">Committees</a>,\n",
       " <a href=\"/senate/Senator.asp?GA=99&amp;MemberID=2174\">Kyle McCarter</a>,\n",
       " <a href=\"SenatorBills.asp?MemberID=2174\">Bills</a>,\n",
       " <a href=\"SenCommittees.asp?MemberID=2174\">Committees</a>,\n",
       " <a href=\"/senate/Senator.asp?GA=99&amp;MemberID=2284\">Dan McConchie</a>,\n",
       " <a href=\"SenatorBills.asp?MemberID=2284\">Bills</a>,\n",
       " <a href=\"SenCommittees.asp?MemberID=2284\">Committees</a>,\n",
       " <a href=\"/senate/Senator.asp?GA=99&amp;MemberID=2218\">Karen McConnaughay</a>,\n",
       " <a href=\"SenatorBills.asp?MemberID=2218\">Bills</a>,\n",
       " <a href=\"SenCommittees.asp?MemberID=2218\">Committees</a>,\n",
       " <a href=\"/senate/Senator.asp?GA=99&amp;MemberID=2202\">Pat McGuire</a>,\n",
       " <a href=\"SenatorBills.asp?MemberID=2202\">Bills</a>,\n",
       " <a href=\"SenCommittees.asp?MemberID=2202\">Committees</a>,\n",
       " <a href=\"/senate/Senator.asp?GA=99&amp;MemberID=2219\">Julie A. Morrison</a>,\n",
       " <a href=\"SenatorBills.asp?MemberID=2219\">Bills</a>,\n",
       " <a href=\"SenCommittees.asp?MemberID=2219\">Committees</a>,\n",
       " <a href=\"/senate/Senator.asp?GA=99&amp;MemberID=2180\">John G. Mulroe</a>,\n",
       " <a href=\"SenatorBills.asp?MemberID=2180\">Bills</a>,\n",
       " <a href=\"SenCommittees.asp?MemberID=2180\">Committees</a>,\n",
       " <a href=\"/senate/Senator.asp?GA=99&amp;MemberID=2103\">Antonio Muñoz</a>,\n",
       " <a href=\"SenatorBills.asp?MemberID=2103\">Bills</a>,\n",
       " <a href=\"SenCommittees.asp?MemberID=2103\">Committees</a>,\n",
       " <a href=\"/senate/Senator.asp?GA=99&amp;MemberID=2279\">Laura M. Murphy</a>,\n",
       " <a href=\"SenatorBills.asp?MemberID=2279\">Bills</a>,\n",
       " <a href=\"SenCommittees.asp?MemberID=2279\">Committees</a>,\n",
       " <a href=\"/senate/Senator.asp?GA=99&amp;MemberID=2147\">Michael Noland</a>,\n",
       " <a href=\"SenatorBills.asp?MemberID=2147\">Bills</a>,\n",
       " <a href=\"SenCommittees.asp?MemberID=2147\">Committees</a>,\n",
       " <a href=\"/senate/Senator.asp?GA=99&amp;MemberID=2256\">Chris Nybo</a>,\n",
       " <a href=\"SenatorBills.asp?MemberID=2256\">Bills</a>,\n",
       " <a href=\"SenCommittees.asp?MemberID=2256\">Committees</a>,\n",
       " <a href=\"/senate/Senator.asp?GA=99&amp;MemberID=2220\">Jim Oberweis</a>,\n",
       " <a href=\"SenatorBills.asp?MemberID=2220\">Bills</a>,\n",
       " <a href=\"SenCommittees.asp?MemberID=2220\">Committees</a>,\n",
       " <a href=\"/senate/Senator.asp?GA=99&amp;MemberID=2104\">Christine Radogno</a>,\n",
       " <a href=\"SenatorBills.asp?MemberID=2104\">Bills</a>,\n",
       " <a href=\"SenCommittees.asp?MemberID=2104\">Committees</a>,\n",
       " <a href=\"/senate/Senator.asp?GA=99&amp;MemberID=2135\">Kwame Raoul</a>,\n",
       " <a href=\"SenatorBills.asp?MemberID=2135\">Bills</a>,\n",
       " <a href=\"SenCommittees.asp?MemberID=2135\">Committees</a>,\n",
       " <a href=\"/senate/Senator.asp?GA=99&amp;MemberID=2182\">Sue Rezin</a>,\n",
       " <a href=\"SenatorBills.asp?MemberID=2182\">Bills</a>,\n",
       " <a href=\"SenCommittees.asp?MemberID=2182\">Committees</a>,\n",
       " <a href=\"/senate/Senator.asp?GA=99&amp;MemberID=2127\">Dale A. Righter</a>,\n",
       " <a href=\"SenatorBills.asp?MemberID=2127\">Bills</a>,\n",
       " <a href=\"SenCommittees.asp?MemberID=2127\">Committees</a>,\n",
       " <a href=\"/senate/Senator.asp?GA=99&amp;MemberID=2288\">Tom Rooney</a>,\n",
       " <a href=\"SenatorBills.asp?MemberID=2288\">Bills</a>,\n",
       " <a href=\"SenCommittees.asp?MemberID=2288\">Committees</a>,\n",
       " <a href=\"/senate/Senator.asp?GA=99&amp;MemberID=2221\">Chapin Rose</a>,\n",
       " <a href=\"SenatorBills.asp?MemberID=2221\">Bills</a>,\n",
       " <a href=\"SenCommittees.asp?MemberID=2221\">Committees</a>,\n",
       " <a href=\"/senate/Senator.asp?GA=99&amp;MemberID=2122\">Martin A. Sandoval</a>,\n",
       " <a href=\"SenatorBills.asp?MemberID=2122\">Bills</a>,\n",
       " <a href=\"SenCommittees.asp?MemberID=2122\">Committees</a>,\n",
       " <a href=\"/senate/Senator.asp?GA=99&amp;MemberID=2105\">Ira I. Silverstein</a>,\n",
       " <a href=\"SenatorBills.asp?MemberID=2105\">Bills</a>,\n",
       " <a href=\"SenCommittees.asp?MemberID=2105\">Committees</a>,\n",
       " <a href=\"/senate/Senator.asp?GA=99&amp;MemberID=2222\">Steve Stadelman</a>,\n",
       " <a href=\"SenatorBills.asp?MemberID=2222\">Bills</a>,\n",
       " <a href=\"SenCommittees.asp?MemberID=2222\">Committees</a>,\n",
       " <a href=\"/senate/Senator.asp?GA=99&amp;MemberID=2159\">Heather A. Steans</a>,\n",
       " <a href=\"SenatorBills.asp?MemberID=2159\">Bills</a>,\n",
       " <a href=\"SenCommittees.asp?MemberID=2159\">Committees</a>,\n",
       " <a href=\"/senate/Senator.asp?GA=99&amp;MemberID=2126\">John M. Sullivan</a>,\n",
       " <a href=\"SenatorBills.asp?MemberID=2126\">Bills</a>,\n",
       " <a href=\"SenCommittees.asp?MemberID=2126\">Committees</a>,\n",
       " <a href=\"/senate/Senator.asp?GA=99&amp;MemberID=2106\">Dave Syverson</a>,\n",
       " <a href=\"SenatorBills.asp?MemberID=2106\">Bills</a>,\n",
       " <a href=\"SenCommittees.asp?MemberID=2106\">Committees</a>,\n",
       " <a href=\"/senate/Senator.asp?GA=99&amp;MemberID=2107\">Donne E. Trotter</a>,\n",
       " <a href=\"SenatorBills.asp?MemberID=2107\">Bills</a>,\n",
       " <a href=\"SenCommittees.asp?MemberID=2107\">Committees</a>,\n",
       " <a href=\"/senate/Senator.asp?GA=99&amp;MemberID=2223\">Patricia Van Pelt</a>,\n",
       " <a href=\"SenatorBills.asp?MemberID=2223\">Bills</a>,\n",
       " <a href=\"SenCommittees.asp?MemberID=2223\">Committees</a>,\n",
       " <a href=\"/senate/Senator.asp?GA=99&amp;MemberID=2280\">Chuck Weaver</a>,\n",
       " <a href=\"SenatorBills.asp?MemberID=2280\">Bills</a>,\n",
       " <a href=\"SenCommittees.asp?MemberID=2280\">Committees</a>,\n",
       " <a class=\"filetab\" href=\"javascript:Sort('','LastName',99);\" title=\"Sort by Senator\">Senator</a>,\n",
       " <a class=\"filetab\" href=\"javascript:Sort('','DistrictNumber',99);\" title=\"Sort by District\">District</a>,\n",
       " <a class=\"filetab\" href=\"javascript:Sort('','Party',99);\" title=\"Sort by Party\">Party</a>,\n",
       " <a href=\"/senate/Senator.asp?GA=99&amp;MemberID=2144\">William Delgado</a>,\n",
       " <a href=\"SenatorBills.asp?MemberID=2144\">Bills</a>,\n",
       " <a href=\"SenCommittees.asp?MemberID=2144\">Committees</a>,\n",
       " <a href=\"/senate/Senator.asp?GA=99&amp;MemberID=2170\">Dan Duffy</a>,\n",
       " <a href=\"SenatorBills.asp?MemberID=2170\">Bills</a>,\n",
       " <a href=\"SenCommittees.asp?MemberID=2170\">Committees</a>,\n",
       " <a href=\"/senate/Senator.asp?GA=99&amp;MemberID=2149\">Dan Kotowski</a>,\n",
       " <a href=\"SenatorBills.asp?MemberID=2149\">Bills</a>,\n",
       " <a href=\"SenCommittees.asp?MemberID=2149\">Committees</a>,\n",
       " <a href=\"/senate/Senator.asp?GA=99&amp;MemberID=2199\">Darin M. LaHood</a>,\n",
       " <a href=\"SenatorBills.asp?MemberID=2199\">Bills</a>,\n",
       " <a href=\"SenCommittees.asp?MemberID=2199\">Committees</a>,\n",
       " <a href=\"/senate/Senator.asp?GA=99&amp;MemberID=2148\">Matt Murphy</a>,\n",
       " <a href=\"SenatorBills.asp?MemberID=2148\">Bills</a>,\n",
       " <a href=\"SenCommittees.asp?MemberID=2148\">Committees</a>,\n",
       " <a href=\"/reports/rptMemberList.asp?gaid=13&amp;ChamberId=S\" target=\"new\">click here</a>,\n",
       " <a class=\"footer\" href=\"/\" title=\"View the General Assembly web site home page\">Home</a>,\n",
       " <a class=\"footer\" href=\"/legislation/\" title=\"View Legislation and Laws\">Legislation &amp; Laws</a>,\n",
       " <a class=\"footer\" href=\"/house/default.asp\" title=\"View information regarding House of Representatives\">House</a>,\n",
       " <a class=\"footer\" href=\"/senate/default.asp\" title=\"View information regarding Senate\">Senate</a>,\n",
       " <a class=\"footer\" href=\"/mylegislation/default.asp\" title=\"Set up customized queries, create reports for tracking, etc.\">My Legislation</a>,\n",
       " <a class=\"footer\" href=\"/disclaimer.asp\" title=\"Disclaimers regarding the Illinois General Assembly web site\">Disclaimers</a>,\n",
       " <a class=\"footer\" href=\"/contact.asp\" title=\"Contact the Illinois General Assembly Web Support Staff\">Email</a>]"
      ]
     },
     "execution_count": 5,
     "metadata": {},
     "output_type": "execute_result"
    }
   ],
   "source": [
    "# find all elements in a certain tag\n",
    "soup.find_all(\"a\")"
   ]
  },
  {
   "cell_type": "markdown",
   "metadata": {},
   "source": [
    "**NB**: Because `find_all()` is the most popular method in the Beautiful Soup search API, you can use a shortcut for it. If you treat the BeautifulSoup object as though it were a function, then it’s the same as calling `find_all()` on that object. These two lines of code are equivalent:"
   ]
  },
  {
   "cell_type": "code",
   "execution_count": 6,
   "metadata": {
    "collapsed": false
   },
   "outputs": [
    {
     "data": {
      "text/plain": [
       "[<a href=\"/default.asp\"><img alt=\"Illinois General Assembly\" border=\"0\" height=\"49\" src=\"/images/logo_sm.gif\" width=\"462\"/></a>,\n",
       " <a class=\"mainmenu\" href=\"/\">Home</a>,\n",
       " <a class=\"mainmenu\" href=\"/legislation/\" onblur=\"HM_f_PopDown('elMenu1')\" onfocus=\"HM_f_PopUp('elMenu1',event)\" onmouseout=\"HM_f_PopDown('elMenu1')\" onmouseover=\"HM_f_PopUp('elMenu1',event)\">Legislation &amp; Laws</a>,\n",
       " <a class=\"mainmenu\" href=\"/senate/\" onblur=\"HM_f_PopDown('elMenu3')\" onfocus=\"HM_f_PopUp('elMenu3',event)\" onmouseout=\"HM_f_PopDown('elMenu3')\" onmouseover=\"HM_f_PopUp('elMenu3',event)\">Senate</a>,\n",
       " <a class=\"mainmenu\" href=\"/house/\" onblur=\"HM_f_PopDown('elMenu2')\" onfocus=\"HM_f_PopUp('elMenu2',event)\" onmouseout=\"HM_f_PopDown('elMenu2')\" onmouseover=\"HM_f_PopUp('elMenu2',event)\">House</a>,\n",
       " <a class=\"mainmenu\" href=\"/mylegislation/\" onblur=\"HM_f_PopDown('elMenu4')\" onfocus=\"HM_f_PopUp('elMenu4',event)\" onmouseout=\"HM_f_PopDown('elMenu4')\" onmouseover=\"HM_f_PopUp('elMenu4',event)\">My Legislation</a>,\n",
       " <a class=\"mainmenu\" href=\"/sitemap.asp\">Site Map</a>,\n",
       " <a class=\"sidemenu\" href=\"/senate/default.asp\">  Members  </a>,\n",
       " <a class=\"sidemenu\" href=\"/senate/committees/default.asp\">  Committees  </a>,\n",
       " <a class=\"sidemenu\" href=\"/senate/schedules/default.asp\">  Schedules  </a>,\n",
       " <a class=\"sidemenu\" href=\"/senate/journals/default.asp\">  Journals  </a>,\n",
       " <a class=\"sidemenu\" href=\"/senate/transcripts/default.asp\">  Transcripts  </a>,\n",
       " <a class=\"sidemenu\" href=\"/senate/rules.asp\">  Rules  </a>,\n",
       " <a class=\"sidemenu\" href=\"/senate/audvid.asp\">  Live Audio/Video  </a>,\n",
       " <a href=\"99GA_Senate_Leadership.pdf\">Leadership</a>,\n",
       " <a href=\"99GA_Senate_Officers.pdf\">Officers</a>,\n",
       " <a href=\"99GA_Senate_Seating_Chart.pdf\">Senate Seating Chart</a>,\n",
       " <a class=\"filetab\" href=\"javascript:Sort('LastName','',99);\" title=\"Sort by Senator\">Senator</a>,\n",
       " <a class=\"filetab\" href=\"javascript:Sort('DistrictNumber','',99);\" title=\"Sort by District\">District</a>,\n",
       " <a class=\"filetab\" href=\"javascript:Sort('Party','',99);\" title=\"Sort by Party\">Party</a>,\n",
       " <a href=\"/senate/Senator.asp?GA=99&amp;MemberID=2130\">Pamela J. Althoff</a>,\n",
       " <a href=\"SenatorBills.asp?MemberID=2130\">Bills</a>,\n",
       " <a href=\"SenCommittees.asp?MemberID=2130\">Committees</a>,\n",
       " <a href=\"/senate/Senator.asp?GA=99&amp;MemberID=2275\">Neil Anderson</a>,\n",
       " <a href=\"SenatorBills.asp?MemberID=2275\">Bills</a>,\n",
       " <a href=\"SenCommittees.asp?MemberID=2275\">Committees</a>,\n",
       " <a href=\"/senate/Senator.asp?GA=99&amp;MemberID=2285\">Omar Aquino</a>,\n",
       " <a href=\"SenatorBills.asp?MemberID=2285\">Bills</a>,\n",
       " <a href=\"SenCommittees.asp?MemberID=2285\">Committees</a>,\n",
       " <a href=\"/senate/Senator.asp?GA=99&amp;MemberID=2208\">Jason A. Barickman</a>,\n",
       " <a href=\"SenatorBills.asp?MemberID=2208\">Bills</a>,\n",
       " <a href=\"SenCommittees.asp?MemberID=2208\">Committees</a>,\n",
       " <a href=\"/senate/Senator.asp?GA=99&amp;MemberID=2276\">Scott M. Bennett</a>,\n",
       " <a href=\"SenatorBills.asp?MemberID=2276\">Bills</a>,\n",
       " <a href=\"SenCommittees.asp?MemberID=2276\">Committees</a>,\n",
       " <a href=\"/senate/Senator.asp?GA=99&amp;MemberID=2210\">Jennifer Bertino-Tarrant</a>,\n",
       " <a href=\"SenatorBills.asp?MemberID=2210\">Bills</a>,\n",
       " <a href=\"SenCommittees.asp?MemberID=2210\">Committees</a>,\n",
       " <a href=\"/senate/Senator.asp?GA=99&amp;MemberID=2209\">Daniel Biss</a>,\n",
       " <a href=\"SenatorBills.asp?MemberID=2209\">Bills</a>,\n",
       " <a href=\"SenCommittees.asp?MemberID=2209\">Committees</a>,\n",
       " <a href=\"/senate/Senator.asp?GA=99&amp;MemberID=2160\">Tim Bivins</a>,\n",
       " <a href=\"SenatorBills.asp?MemberID=2160\">Bills</a>,\n",
       " <a href=\"SenCommittees.asp?MemberID=2160\">Committees</a>,\n",
       " <a href=\"/senate/Senator.asp?GA=99&amp;MemberID=2108\">William E. Brady</a>,\n",
       " <a href=\"SenatorBills.asp?MemberID=2108\">Bills</a>,\n",
       " <a href=\"SenCommittees.asp?MemberID=2108\">Committees</a>,\n",
       " <a href=\"/senate/Senator.asp?GA=99&amp;MemberID=2211\">Melinda Bush</a>,\n",
       " <a href=\"SenatorBills.asp?MemberID=2211\">Bills</a>,\n",
       " <a href=\"SenCommittees.asp?MemberID=2211\">Committees</a>,\n",
       " <a href=\"/senate/Senator.asp?GA=99&amp;MemberID=2097\">James F. Clayborne, Jr.</a>,\n",
       " <a href=\"SenatorBills.asp?MemberID=2097\">Bills</a>,\n",
       " <a href=\"SenCommittees.asp?MemberID=2097\">Committees</a>,\n",
       " <a href=\"/senate/Senator.asp?GA=99&amp;MemberID=2123\">Jacqueline Y. Collins</a>,\n",
       " <a href=\"SenatorBills.asp?MemberID=2123\">Bills</a>,\n",
       " <a href=\"SenCommittees.asp?MemberID=2123\">Committees</a>,\n",
       " <a href=\"/senate/Senator.asp?GA=99&amp;MemberID=2212\">Michael Connelly</a>,\n",
       " <a href=\"SenatorBills.asp?MemberID=2212\">Bills</a>,\n",
       " <a href=\"SenCommittees.asp?MemberID=2212\">Committees</a>,\n",
       " <a href=\"/senate/Senator.asp?GA=99&amp;MemberID=2098\">John J. Cullerton</a>,\n",
       " <a href=\"SenatorBills.asp?MemberID=2098\">Bills</a>,\n",
       " <a href=\"SenCommittees.asp?MemberID=2098\">Committees</a>,\n",
       " <a href=\"/senate/Senator.asp?GA=99&amp;MemberID=2213\">Thomas Cullerton</a>,\n",
       " <a href=\"SenatorBills.asp?MemberID=2213\">Bills</a>,\n",
       " <a href=\"SenCommittees.asp?MemberID=2213\">Committees</a>,\n",
       " <a href=\"/senate/Senator.asp?GA=99&amp;MemberID=2214\">Bill Cunningham</a>,\n",
       " <a href=\"SenatorBills.asp?MemberID=2214\">Bills</a>,\n",
       " <a href=\"SenCommittees.asp?MemberID=2214\">Committees</a>,\n",
       " <a href=\"/senate/Senator.asp?GA=99&amp;MemberID=2133\">Gary Forby</a>,\n",
       " <a href=\"SenatorBills.asp?MemberID=2133\">Bills</a>,\n",
       " <a href=\"SenCommittees.asp?MemberID=2133\">Committees</a>,\n",
       " <a href=\"/senate/Senator.asp?GA=99&amp;MemberID=2128\">William R. Haine</a>,\n",
       " <a href=\"SenatorBills.asp?MemberID=2128\">Bills</a>,\n",
       " <a href=\"SenCommittees.asp?MemberID=2128\">Committees</a>,\n",
       " <a href=\"/senate/Senator.asp?GA=99&amp;MemberID=2125\">Don Harmon</a>,\n",
       " <a href=\"SenatorBills.asp?MemberID=2125\">Bills</a>,\n",
       " <a href=\"SenCommittees.asp?MemberID=2125\">Committees</a>,\n",
       " <a href=\"/senate/Senator.asp?GA=99&amp;MemberID=2215\">Napoleon Harris, III</a>,\n",
       " <a href=\"SenatorBills.asp?MemberID=2215\">Bills</a>,\n",
       " <a href=\"SenCommittees.asp?MemberID=2215\">Committees</a>,\n",
       " <a href=\"/senate/Senator.asp?GA=99&amp;MemberID=2216\">Michael E. Hastings</a>,\n",
       " <a href=\"SenatorBills.asp?MemberID=2216\">Bills</a>,\n",
       " <a href=\"SenCommittees.asp?MemberID=2216\">Committees</a>,\n",
       " <a href=\"/senate/Senator.asp?GA=99&amp;MemberID=2150\">Linda Holmes</a>,\n",
       " <a href=\"SenatorBills.asp?MemberID=2150\">Bills</a>,\n",
       " <a href=\"SenCommittees.asp?MemberID=2150\">Committees</a>,\n",
       " <a href=\"/senate/Senator.asp?GA=99&amp;MemberID=2129\">Mattie Hunter</a>,\n",
       " <a href=\"SenatorBills.asp?MemberID=2129\">Bills</a>,\n",
       " <a href=\"SenCommittees.asp?MemberID=2129\">Committees</a>,\n",
       " <a href=\"/senate/Senator.asp?GA=99&amp;MemberID=2171\">Toi W. Hutchinson</a>,\n",
       " <a href=\"SenatorBills.asp?MemberID=2171\">Bills</a>,\n",
       " <a href=\"SenCommittees.asp?MemberID=2171\">Committees</a>,\n",
       " <a href=\"/senate/Senator.asp?GA=99&amp;MemberID=2173\">Emil Jones, III</a>,\n",
       " <a href=\"SenatorBills.asp?MemberID=2173\">Bills</a>,\n",
       " <a href=\"SenCommittees.asp?MemberID=2173\">Committees</a>,\n",
       " <a href=\"/senate/Senator.asp?GA=99&amp;MemberID=2152\">David Koehler</a>,\n",
       " <a href=\"SenatorBills.asp?MemberID=2152\">Bills</a>,\n",
       " <a href=\"SenCommittees.asp?MemberID=2152\">Committees</a>,\n",
       " <a href=\"/senate/Senator.asp?GA=99&amp;MemberID=2198\">Steven M. Landek</a>,\n",
       " <a href=\"SenatorBills.asp?MemberID=2198\">Bills</a>,\n",
       " <a href=\"SenCommittees.asp?MemberID=2198\">Committees</a>,\n",
       " <a href=\"/senate/Senator.asp?GA=99&amp;MemberID=2100\">Kimberly A. Lightford</a>,\n",
       " <a href=\"SenatorBills.asp?MemberID=2100\">Bills</a>,\n",
       " <a href=\"SenCommittees.asp?MemberID=2100\">Committees</a>,\n",
       " <a href=\"/senate/Senator.asp?GA=99&amp;MemberID=2101\">Terry Link</a>,\n",
       " <a href=\"SenatorBills.asp?MemberID=2101\">Bills</a>,\n",
       " <a href=\"SenCommittees.asp?MemberID=2101\">Committees</a>,\n",
       " <a href=\"/senate/Senator.asp?GA=99&amp;MemberID=2102\">David S. Luechtefeld</a>,\n",
       " <a href=\"SenatorBills.asp?MemberID=2102\">Bills</a>,\n",
       " <a href=\"SenCommittees.asp?MemberID=2102\">Committees</a>,\n",
       " <a href=\"/senate/Senator.asp?GA=99&amp;MemberID=2217\">Andy Manar</a>,\n",
       " <a href=\"SenatorBills.asp?MemberID=2217\">Bills</a>,\n",
       " <a href=\"SenCommittees.asp?MemberID=2217\">Committees</a>,\n",
       " <a href=\"/senate/Senator.asp?GA=99&amp;MemberID=2124\">Iris Y. Martinez</a>,\n",
       " <a href=\"SenatorBills.asp?MemberID=2124\">Bills</a>,\n",
       " <a href=\"SenCommittees.asp?MemberID=2124\">Committees</a>,\n",
       " <a href=\"/senate/Senator.asp?GA=99&amp;MemberID=2197\">Wm. Sam McCann</a>,\n",
       " <a href=\"SenatorBills.asp?MemberID=2197\">Bills</a>,\n",
       " <a href=\"SenCommittees.asp?MemberID=2197\">Committees</a>,\n",
       " <a href=\"/senate/Senator.asp?GA=99&amp;MemberID=2174\">Kyle McCarter</a>,\n",
       " <a href=\"SenatorBills.asp?MemberID=2174\">Bills</a>,\n",
       " <a href=\"SenCommittees.asp?MemberID=2174\">Committees</a>,\n",
       " <a href=\"/senate/Senator.asp?GA=99&amp;MemberID=2284\">Dan McConchie</a>,\n",
       " <a href=\"SenatorBills.asp?MemberID=2284\">Bills</a>,\n",
       " <a href=\"SenCommittees.asp?MemberID=2284\">Committees</a>,\n",
       " <a href=\"/senate/Senator.asp?GA=99&amp;MemberID=2218\">Karen McConnaughay</a>,\n",
       " <a href=\"SenatorBills.asp?MemberID=2218\">Bills</a>,\n",
       " <a href=\"SenCommittees.asp?MemberID=2218\">Committees</a>,\n",
       " <a href=\"/senate/Senator.asp?GA=99&amp;MemberID=2202\">Pat McGuire</a>,\n",
       " <a href=\"SenatorBills.asp?MemberID=2202\">Bills</a>,\n",
       " <a href=\"SenCommittees.asp?MemberID=2202\">Committees</a>,\n",
       " <a href=\"/senate/Senator.asp?GA=99&amp;MemberID=2219\">Julie A. Morrison</a>,\n",
       " <a href=\"SenatorBills.asp?MemberID=2219\">Bills</a>,\n",
       " <a href=\"SenCommittees.asp?MemberID=2219\">Committees</a>,\n",
       " <a href=\"/senate/Senator.asp?GA=99&amp;MemberID=2180\">John G. Mulroe</a>,\n",
       " <a href=\"SenatorBills.asp?MemberID=2180\">Bills</a>,\n",
       " <a href=\"SenCommittees.asp?MemberID=2180\">Committees</a>,\n",
       " <a href=\"/senate/Senator.asp?GA=99&amp;MemberID=2103\">Antonio Muñoz</a>,\n",
       " <a href=\"SenatorBills.asp?MemberID=2103\">Bills</a>,\n",
       " <a href=\"SenCommittees.asp?MemberID=2103\">Committees</a>,\n",
       " <a href=\"/senate/Senator.asp?GA=99&amp;MemberID=2279\">Laura M. Murphy</a>,\n",
       " <a href=\"SenatorBills.asp?MemberID=2279\">Bills</a>,\n",
       " <a href=\"SenCommittees.asp?MemberID=2279\">Committees</a>,\n",
       " <a href=\"/senate/Senator.asp?GA=99&amp;MemberID=2147\">Michael Noland</a>,\n",
       " <a href=\"SenatorBills.asp?MemberID=2147\">Bills</a>,\n",
       " <a href=\"SenCommittees.asp?MemberID=2147\">Committees</a>,\n",
       " <a href=\"/senate/Senator.asp?GA=99&amp;MemberID=2256\">Chris Nybo</a>,\n",
       " <a href=\"SenatorBills.asp?MemberID=2256\">Bills</a>,\n",
       " <a href=\"SenCommittees.asp?MemberID=2256\">Committees</a>,\n",
       " <a href=\"/senate/Senator.asp?GA=99&amp;MemberID=2220\">Jim Oberweis</a>,\n",
       " <a href=\"SenatorBills.asp?MemberID=2220\">Bills</a>,\n",
       " <a href=\"SenCommittees.asp?MemberID=2220\">Committees</a>,\n",
       " <a href=\"/senate/Senator.asp?GA=99&amp;MemberID=2104\">Christine Radogno</a>,\n",
       " <a href=\"SenatorBills.asp?MemberID=2104\">Bills</a>,\n",
       " <a href=\"SenCommittees.asp?MemberID=2104\">Committees</a>,\n",
       " <a href=\"/senate/Senator.asp?GA=99&amp;MemberID=2135\">Kwame Raoul</a>,\n",
       " <a href=\"SenatorBills.asp?MemberID=2135\">Bills</a>,\n",
       " <a href=\"SenCommittees.asp?MemberID=2135\">Committees</a>,\n",
       " <a href=\"/senate/Senator.asp?GA=99&amp;MemberID=2182\">Sue Rezin</a>,\n",
       " <a href=\"SenatorBills.asp?MemberID=2182\">Bills</a>,\n",
       " <a href=\"SenCommittees.asp?MemberID=2182\">Committees</a>,\n",
       " <a href=\"/senate/Senator.asp?GA=99&amp;MemberID=2127\">Dale A. Righter</a>,\n",
       " <a href=\"SenatorBills.asp?MemberID=2127\">Bills</a>,\n",
       " <a href=\"SenCommittees.asp?MemberID=2127\">Committees</a>,\n",
       " <a href=\"/senate/Senator.asp?GA=99&amp;MemberID=2288\">Tom Rooney</a>,\n",
       " <a href=\"SenatorBills.asp?MemberID=2288\">Bills</a>,\n",
       " <a href=\"SenCommittees.asp?MemberID=2288\">Committees</a>,\n",
       " <a href=\"/senate/Senator.asp?GA=99&amp;MemberID=2221\">Chapin Rose</a>,\n",
       " <a href=\"SenatorBills.asp?MemberID=2221\">Bills</a>,\n",
       " <a href=\"SenCommittees.asp?MemberID=2221\">Committees</a>,\n",
       " <a href=\"/senate/Senator.asp?GA=99&amp;MemberID=2122\">Martin A. Sandoval</a>,\n",
       " <a href=\"SenatorBills.asp?MemberID=2122\">Bills</a>,\n",
       " <a href=\"SenCommittees.asp?MemberID=2122\">Committees</a>,\n",
       " <a href=\"/senate/Senator.asp?GA=99&amp;MemberID=2105\">Ira I. Silverstein</a>,\n",
       " <a href=\"SenatorBills.asp?MemberID=2105\">Bills</a>,\n",
       " <a href=\"SenCommittees.asp?MemberID=2105\">Committees</a>,\n",
       " <a href=\"/senate/Senator.asp?GA=99&amp;MemberID=2222\">Steve Stadelman</a>,\n",
       " <a href=\"SenatorBills.asp?MemberID=2222\">Bills</a>,\n",
       " <a href=\"SenCommittees.asp?MemberID=2222\">Committees</a>,\n",
       " <a href=\"/senate/Senator.asp?GA=99&amp;MemberID=2159\">Heather A. Steans</a>,\n",
       " <a href=\"SenatorBills.asp?MemberID=2159\">Bills</a>,\n",
       " <a href=\"SenCommittees.asp?MemberID=2159\">Committees</a>,\n",
       " <a href=\"/senate/Senator.asp?GA=99&amp;MemberID=2126\">John M. Sullivan</a>,\n",
       " <a href=\"SenatorBills.asp?MemberID=2126\">Bills</a>,\n",
       " <a href=\"SenCommittees.asp?MemberID=2126\">Committees</a>,\n",
       " <a href=\"/senate/Senator.asp?GA=99&amp;MemberID=2106\">Dave Syverson</a>,\n",
       " <a href=\"SenatorBills.asp?MemberID=2106\">Bills</a>,\n",
       " <a href=\"SenCommittees.asp?MemberID=2106\">Committees</a>,\n",
       " <a href=\"/senate/Senator.asp?GA=99&amp;MemberID=2107\">Donne E. Trotter</a>,\n",
       " <a href=\"SenatorBills.asp?MemberID=2107\">Bills</a>,\n",
       " <a href=\"SenCommittees.asp?MemberID=2107\">Committees</a>,\n",
       " <a href=\"/senate/Senator.asp?GA=99&amp;MemberID=2223\">Patricia Van Pelt</a>,\n",
       " <a href=\"SenatorBills.asp?MemberID=2223\">Bills</a>,\n",
       " <a href=\"SenCommittees.asp?MemberID=2223\">Committees</a>,\n",
       " <a href=\"/senate/Senator.asp?GA=99&amp;MemberID=2280\">Chuck Weaver</a>,\n",
       " <a href=\"SenatorBills.asp?MemberID=2280\">Bills</a>,\n",
       " <a href=\"SenCommittees.asp?MemberID=2280\">Committees</a>,\n",
       " <a class=\"filetab\" href=\"javascript:Sort('','LastName',99);\" title=\"Sort by Senator\">Senator</a>,\n",
       " <a class=\"filetab\" href=\"javascript:Sort('','DistrictNumber',99);\" title=\"Sort by District\">District</a>,\n",
       " <a class=\"filetab\" href=\"javascript:Sort('','Party',99);\" title=\"Sort by Party\">Party</a>,\n",
       " <a href=\"/senate/Senator.asp?GA=99&amp;MemberID=2144\">William Delgado</a>,\n",
       " <a href=\"SenatorBills.asp?MemberID=2144\">Bills</a>,\n",
       " <a href=\"SenCommittees.asp?MemberID=2144\">Committees</a>,\n",
       " <a href=\"/senate/Senator.asp?GA=99&amp;MemberID=2170\">Dan Duffy</a>,\n",
       " <a href=\"SenatorBills.asp?MemberID=2170\">Bills</a>,\n",
       " <a href=\"SenCommittees.asp?MemberID=2170\">Committees</a>,\n",
       " <a href=\"/senate/Senator.asp?GA=99&amp;MemberID=2149\">Dan Kotowski</a>,\n",
       " <a href=\"SenatorBills.asp?MemberID=2149\">Bills</a>,\n",
       " <a href=\"SenCommittees.asp?MemberID=2149\">Committees</a>,\n",
       " <a href=\"/senate/Senator.asp?GA=99&amp;MemberID=2199\">Darin M. LaHood</a>,\n",
       " <a href=\"SenatorBills.asp?MemberID=2199\">Bills</a>,\n",
       " <a href=\"SenCommittees.asp?MemberID=2199\">Committees</a>,\n",
       " <a href=\"/senate/Senator.asp?GA=99&amp;MemberID=2148\">Matt Murphy</a>,\n",
       " <a href=\"SenatorBills.asp?MemberID=2148\">Bills</a>,\n",
       " <a href=\"SenCommittees.asp?MemberID=2148\">Committees</a>,\n",
       " <a href=\"/reports/rptMemberList.asp?gaid=13&amp;ChamberId=S\" target=\"new\">click here</a>,\n",
       " <a class=\"footer\" href=\"/\" title=\"View the General Assembly web site home page\">Home</a>,\n",
       " <a class=\"footer\" href=\"/legislation/\" title=\"View Legislation and Laws\">Legislation &amp; Laws</a>,\n",
       " <a class=\"footer\" href=\"/house/default.asp\" title=\"View information regarding House of Representatives\">House</a>,\n",
       " <a class=\"footer\" href=\"/senate/default.asp\" title=\"View information regarding Senate\">Senate</a>,\n",
       " <a class=\"footer\" href=\"/mylegislation/default.asp\" title=\"Set up customized queries, create reports for tracking, etc.\">My Legislation</a>,\n",
       " <a class=\"footer\" href=\"/disclaimer.asp\" title=\"Disclaimers regarding the Illinois General Assembly web site\">Disclaimers</a>,\n",
       " <a class=\"footer\" href=\"/contact.asp\" title=\"Contact the Illinois General Assembly Web Support Staff\">Email</a>]"
      ]
     },
     "execution_count": 6,
     "metadata": {},
     "output_type": "execute_result"
    }
   ],
   "source": [
    "# These two lines of code are equivalent: \n",
    "# soup.find_all(\"a\")\n",
    "# soup(\"a\")"
   ]
  },
  {
   "cell_type": "markdown",
   "metadata": {},
   "source": [
    "That's a lot! Many elements on a page will have the same html tag. For instance, if you search for everything with the `a` tag, you're likely to get a lot of stuff, much of which you don't want. What if we wanted to search for HTML tags ONLY with certain attributes, like particular CSS classes? \n",
    "\n",
    "We can do this by adding an additional argument to the `find_all`\n",
    "\n",
    "In the example below, we are finding all the `a` tags, and then filtering those with `class = \"sidemenu\"`."
   ]
  },
  {
   "cell_type": "code",
   "execution_count": 7,
   "metadata": {
    "collapsed": false
   },
   "outputs": [
    {
     "data": {
      "text/plain": [
       "[<a class=\"sidemenu\" href=\"/senate/default.asp\">  Members  </a>,\n",
       " <a class=\"sidemenu\" href=\"/senate/committees/default.asp\">  Committees  </a>,\n",
       " <a class=\"sidemenu\" href=\"/senate/schedules/default.asp\">  Schedules  </a>,\n",
       " <a class=\"sidemenu\" href=\"/senate/journals/default.asp\">  Journals  </a>,\n",
       " <a class=\"sidemenu\" href=\"/senate/transcripts/default.asp\">  Transcripts  </a>,\n",
       " <a class=\"sidemenu\" href=\"/senate/rules.asp\">  Rules  </a>,\n",
       " <a class=\"sidemenu\" href=\"/senate/audvid.asp\">  Live Audio/Video  </a>]"
      ]
     },
     "execution_count": 7,
     "metadata": {},
     "output_type": "execute_result"
    }
   ],
   "source": [
    "# Get only the 'a' tags in 'sidemenu' class\n",
    "soup(\"a\", class_=\"sidemenu\")"
   ]
  },
  {
   "cell_type": "markdown",
   "metadata": {},
   "source": [
    "Oftentimes a more efficient way to search and find things on a website is by **CSS selector.** For this we have to use a different method, `select()`. Just pass a string into the `.select()` to get all elements with that string as a valid CSS selector.\n",
    "\n",
    "In the example above, we can use \"a.sidemenu\" as a CSS selector, which returns all `a` tags with class `sidemenu`."
   ]
  },
  {
   "cell_type": "code",
   "execution_count": 8,
   "metadata": {
    "collapsed": false
   },
   "outputs": [
    {
     "data": {
      "text/plain": [
       "[<a class=\"sidemenu\" href=\"/senate/default.asp\">  Members  </a>,\n",
       " <a class=\"sidemenu\" href=\"/senate/committees/default.asp\">  Committees  </a>,\n",
       " <a class=\"sidemenu\" href=\"/senate/schedules/default.asp\">  Schedules  </a>,\n",
       " <a class=\"sidemenu\" href=\"/senate/journals/default.asp\">  Journals  </a>,\n",
       " <a class=\"sidemenu\" href=\"/senate/transcripts/default.asp\">  Transcripts  </a>,\n",
       " <a class=\"sidemenu\" href=\"/senate/rules.asp\">  Rules  </a>,\n",
       " <a class=\"sidemenu\" href=\"/senate/audvid.asp\">  Live Audio/Video  </a>]"
      ]
     },
     "execution_count": 8,
     "metadata": {},
     "output_type": "execute_result"
    }
   ],
   "source": [
    "# get elements with \"a.sidemenu\" CSS Selector.\n",
    "soup.select(\"a.sidemenu\")"
   ]
  },
  {
   "cell_type": "markdown",
   "metadata": {},
   "source": [
    "## Step 4. Get Attributes and Text of Elements\n",
    "\n",
    "Once we identify elements, we want the access information in that element. Oftentimes this means two things:\n",
    "\n",
    "1. Text\n",
    "2. Attributes\n",
    "\n",
    "Getting the text inside an element is easy. All we have to do is use the `text` member of a `tag` object:"
   ]
  },
  {
   "cell_type": "code",
   "execution_count": 9,
   "metadata": {
    "collapsed": false
   },
   "outputs": [
    {
     "data": {
      "text/plain": [
       "bs4.element.Tag"
      ]
     },
     "execution_count": 9,
     "metadata": {},
     "output_type": "execute_result"
    }
   ],
   "source": [
    "# this is a list\n",
    "soup.select(\"a.sidemenu\")\n",
    "\n",
    "# we first want to get an individual tag object\n",
    "first_link = soup.select(\"a.sidemenu\")[0]\n",
    "\n",
    "# check out its class\n",
    "type(first_link)"
   ]
  },
  {
   "cell_type": "markdown",
   "metadata": {},
   "source": [
    "It's a tag! Which means it has a `text` member:"
   ]
  },
  {
   "cell_type": "code",
   "execution_count": 10,
   "metadata": {
    "collapsed": false
   },
   "outputs": [
    {
     "name": "stdout",
     "output_type": "stream",
     "text": [
      "  Members  \n"
     ]
    }
   ],
   "source": [
    "print(first_link.text)"
   ]
  },
  {
   "cell_type": "markdown",
   "metadata": {},
   "source": [
    "Sometimes we want the value of certain attributes. This is particularly relevant for `a` tags, or links, where the `href` attribute tells us where the link goes.\n",
    "\n",
    "You can access a tag’s attributes by treating the tag like a dictionary:"
   ]
  },
  {
   "cell_type": "code",
   "execution_count": 16,
   "metadata": {
    "collapsed": false
   },
   "outputs": [
    {
     "name": "stdout",
     "output_type": "stream",
     "text": [
      "/senate/default.asp\n"
     ]
    }
   ],
   "source": [
    "print(first_link['href'])"
   ]
  },
  {
   "cell_type": "code",
   "execution_count": 17,
   "metadata": {
    "collapsed": false
   },
   "outputs": [
    {
     "name": "stdout",
     "output_type": "stream",
     "text": [
      "/default.asp\n",
      "/\n",
      "/legislation/\n",
      "/senate/\n",
      "/house/\n",
      "/mylegislation/\n",
      "/sitemap.asp\n",
      "/senate/default.asp\n",
      "/senate/committees/default.asp\n",
      "/senate/schedules/default.asp\n"
     ]
    }
   ],
   "source": [
    "# Get just the href (url) attribute from the first 10 links\n",
    "for link in soup('a')[:10]:\n",
    "    print(link['href'])"
   ]
  },
  {
   "cell_type": "markdown",
   "metadata": {},
   "source": [
    "## Let's Do This.\n",
    "\n",
    "Believe it or not, that's all you need to scrape a website. Let's apply these skills to scrape http://www.ilga.gov/senate/default.asp\n",
    "\n",
    "First, make the get request"
   ]
  },
  {
   "cell_type": "code",
   "execution_count": 18,
   "metadata": {
    "collapsed": false
   },
   "outputs": [
    {
     "name": "stderr",
     "output_type": "stream",
     "text": [
      "//anaconda/envs/py3k/lib/python3.5/site-packages/bs4/__init__.py:166: UserWarning: No parser was explicitly specified, so I'm using the best available HTML parser for this system (\"lxml\"). This usually isn't a problem, but if you run this code on another system, or in a different virtual environment, it may use a different parser and behave differently.\n",
      "\n",
      "To get rid of this warning, change this:\n",
      "\n",
      " BeautifulSoup([your markup])\n",
      "\n",
      "to this:\n",
      "\n",
      " BeautifulSoup([your markup], \"lxml\")\n",
      "\n",
      "  markup_type=markup_type))\n"
     ]
    }
   ],
   "source": [
    "# make a GET request\n",
    "req = requests.get('http://www.ilga.gov/senate/default.asp')\n",
    "# read the content of the server’s response\n",
    "src = req.text\n",
    "# soup it\n",
    "soup = BeautifulSoup(src)"
   ]
  },
  {
   "cell_type": "markdown",
   "metadata": {},
   "source": [
    "Now let's try to get a list of rows in that table. Rows are identified by the `tr` tag."
   ]
  },
  {
   "cell_type": "code",
   "execution_count": 19,
   "metadata": {
    "collapsed": false
   },
   "outputs": [
    {
     "data": {
      "text/plain": [
       "84"
      ]
     },
     "execution_count": 19,
     "metadata": {},
     "output_type": "execute_result"
    }
   ],
   "source": [
    "# get all tr elements\n",
    "rows = soup.find_all(\"tr\")\n",
    "len(rows)"
   ]
  },
  {
   "cell_type": "markdown",
   "metadata": {},
   "source": [
    "But remember, `find_all` gets all the elements with the `tr` tag. We can use smart CSS selectors to get only the rows we want."
   ]
  },
  {
   "cell_type": "code",
   "execution_count": 20,
   "metadata": {
    "collapsed": false
   },
   "outputs": [
    {
     "name": "stdout",
     "output_type": "stream",
     "text": [
      "<tr>\n",
      " <td bgcolor=\"white\" class=\"detail\" width=\"40%\">\n",
      "  <a href=\"/senate/Senator.asp?GA=99&amp;MemberID=2130\">\n",
      "   Pamela J. Althoff\n",
      "  </a>\n",
      " </td>\n",
      " <td align=\"center\" bgcolor=\"white\" class=\"detail\" width=\"15%\">\n",
      "  <a href=\"SenatorBills.asp?MemberID=2130\">\n",
      "   Bills\n",
      "  </a>\n",
      " </td>\n",
      " <td align=\"center\" bgcolor=\"white\" class=\"detail\" width=\"15%\">\n",
      "  <a href=\"SenCommittees.asp?MemberID=2130\">\n",
      "   Committees\n",
      "  </a>\n",
      " </td>\n",
      " <td align=\"center\" bgcolor=\"white\" class=\"detail\" width=\"15%\">\n",
      "  32\n",
      " </td>\n",
      " <td align=\"center\" bgcolor=\"white\" class=\"detail\" width=\"15%\">\n",
      "  R\n",
      " </td>\n",
      "</tr>\n",
      "\n"
     ]
    }
   ],
   "source": [
    "# returns every ‘tr tr tr’ css selector in the page\n",
    "rows = soup.select('tr tr tr')\n",
    "print(rows[2].prettify())"
   ]
  },
  {
   "cell_type": "markdown",
   "metadata": {},
   "source": [
    "We can use the `select` method on anything. Let's say we want to find everything with the CSS selector `td.detail` in an item of the list we created above."
   ]
  },
  {
   "cell_type": "code",
   "execution_count": 21,
   "metadata": {
    "collapsed": false,
    "scrolled": false
   },
   "outputs": [
    {
     "data": {
      "text/plain": [
       "[<td bgcolor=\"white\" class=\"detail\" width=\"40%\"><a href=\"/senate/Senator.asp?GA=99&amp;MemberID=2130\">Pamela J. Althoff</a></td>,\n",
       " <td align=\"center\" bgcolor=\"white\" class=\"detail\" width=\"15%\"><a href=\"SenatorBills.asp?MemberID=2130\">Bills</a></td>,\n",
       " <td align=\"center\" bgcolor=\"white\" class=\"detail\" width=\"15%\"><a href=\"SenCommittees.asp?MemberID=2130\">Committees</a></td>,\n",
       " <td align=\"center\" bgcolor=\"white\" class=\"detail\" width=\"15%\">32</td>,\n",
       " <td align=\"center\" bgcolor=\"white\" class=\"detail\" width=\"15%\">R</td>]"
      ]
     },
     "execution_count": 21,
     "metadata": {},
     "output_type": "execute_result"
    }
   ],
   "source": [
    "# returns every ‘tr tr tr’ css selector in the page\n",
    "rows = soup.select('tr tr tr')\n",
    "\n",
    "# Look at just the third item\n",
    "row = rows[2]\n",
    "\n",
    "# select only those 'td' tags with class 'detail'\n",
    "detailCells = row.select('td.detail')\n",
    "\n",
    "detailCells"
   ]
  },
  {
   "cell_type": "markdown",
   "metadata": {},
   "source": [
    "Most of the time, we're interested in the actual **text** of a website, not its tags. Remember, to get the text of an HTML element, use the `text` member."
   ]
  },
  {
   "cell_type": "code",
   "execution_count": 22,
   "metadata": {
    "collapsed": false
   },
   "outputs": [],
   "source": [
    "# returns every ‘tr tr tr’ css selector in the page\n",
    "rows = soup.select('tr tr tr')\n",
    "\n",
    "# Look at just the third item\n",
    "row = rows[2]\n",
    "\n",
    "# select only those 'td' tags with class 'detail'\n",
    "detailCells = row.select('td.detail')\n",
    "\n",
    "# Keep only the text in each of those cells\n",
    "rowData = [cell.text for cell in detailCells]"
   ]
  },
  {
   "cell_type": "markdown",
   "metadata": {},
   "source": [
    "Now we can combine the beautifulsoup tools with our basic python skills to scrape an entire web page."
   ]
  },
  {
   "cell_type": "code",
   "execution_count": 23,
   "metadata": {
    "collapsed": false
   },
   "outputs": [
    {
     "name": "stdout",
     "output_type": "stream",
     "text": [
      "Pamela J. Althoff\n",
      "32\n",
      "R\n"
     ]
    }
   ],
   "source": [
    "# returns every ‘tr tr tr’ css selector in the page\n",
    "rows = soup.select('tr tr tr')\n",
    "\n",
    "# Look at just the third item\n",
    "row = rows[2]\n",
    "\n",
    "# select only those 'td' tags with class 'detail'\n",
    "detailCells = row.select('td.detail')\n",
    "\n",
    "# Keep only the text in each of those cells\n",
    "rowData = [cell.text for cell in detailCells]\n",
    "\n",
    "# check em out\n",
    "print(rowData[0]) # Name\n",
    "print(rowData[3]) # district\n",
    "print(rowData[4]) # party"
   ]
  },
  {
   "cell_type": "markdown",
   "metadata": {},
   "source": [
    "Let's use a for loop to get 'em all!"
   ]
  },
  {
   "cell_type": "code",
   "execution_count": 24,
   "metadata": {
    "collapsed": false
   },
   "outputs": [],
   "source": [
    "# Create empty list to store our data\n",
    "members = []\n",
    "\n",
    "# returns every ‘tr tr tr’ css selector in the page\n",
    "rows = soup.select('tr tr tr')\n",
    "\n",
    "# loop through all rows\n",
    "for row in rows:\n",
    "    # select only those 'td' tags with class 'detail'\n",
    "    detailCells = row.select('td.detail')\n",
    "    \n",
    "    # get rid of junk rows\n",
    "    if len(detailCells) is not 5: \n",
    "        continue\n",
    "        \n",
    "    # Keep only the text in each of those cells\n",
    "    rowData = [cell.text for cell in detailCells]\n",
    "    \n",
    "    # Collect information\n",
    "    name = rowData[0]\n",
    "    district = int(rowData[3])\n",
    "    party = rowData[4]\n",
    "    \n",
    "    # Store in a tuple\n",
    "    tup = (name,district,party)\n",
    "    \n",
    "    # Append to list\n",
    "    members.append(tup)"
   ]
  },
  {
   "cell_type": "markdown",
   "metadata": {},
   "source": [
    "### Challenge 1\n",
    "\n",
    "Make a function that accepts a URL, scrapes the URL for its senators, and returns a list of tuples containing information about each senator. "
   ]
  },
  {
   "cell_type": "code",
   "execution_count": 34,
   "metadata": {
    "collapsed": false
   },
   "outputs": [],
   "source": [
    "def get_members(url):\n",
    "    # YOUR CODE HERE\n",
    "    pass"
   ]
  },
  {
   "cell_type": "code",
   "execution_count": 36,
   "metadata": {
    "collapsed": false
   },
   "outputs": [
    {
     "data": {
      "text/plain": [
       "[(u'Pamela J. Althoff', 32, u'R'),\n",
       " (u'Jason A. Barickman', 53, u'R'),\n",
       " (u'Scott M Bennett', 52, u'D'),\n",
       " (u'Jennifer Bertino-Tarrant', 49, u'D'),\n",
       " (u'Daniel Biss', 9, u'D'),\n",
       " (u'Tim Bivins', 45, u'R'),\n",
       " (u'William E. Brady', 44, u'R'),\n",
       " (u'Melinda Bush', 31, u'D'),\n",
       " (u'James F. Clayborne, Jr.', 57, u'D'),\n",
       " (u'Jacqueline Y. Collins', 16, u'D'),\n",
       " (u'Michael Connelly', 21, u'R'),\n",
       " (u'John J. Cullerton', 6, u'D'),\n",
       " (u'Thomas Cullerton', 23, u'D'),\n",
       " (u'Bill Cunningham', 18, u'D'),\n",
       " (u'William Delgado', 2, u'D'),\n",
       " (u'Kirk W. Dillard', 24, u'R'),\n",
       " (u'Dan Duffy', 26, u'R'),\n",
       " (u'Gary Forby', 59, u'D'),\n",
       " (u'Michael W. Frerichs', 52, u'D'),\n",
       " (u'William R. Haine', 56, u'D'),\n",
       " (u'Don Harmon', 39, u'D'),\n",
       " (u'Napoleon Harris, III', 15, u'D'),\n",
       " (u'Michael E. Hastings', 19, u'D'),\n",
       " (u'Linda Holmes', 42, u'D'),\n",
       " (u'Mattie Hunter', 3, u'D'),\n",
       " (u'Toi W. Hutchinson', 40, u'D'),\n",
       " (u'Mike Jacobs', 36, u'D'),\n",
       " (u'Emil Jones, III', 14, u'D'),\n",
       " (u'David Koehler', 46, u'D'),\n",
       " (u'Dan Kotowski', 28, u'D'),\n",
       " (u'Darin M. LaHood', 37, u'R'),\n",
       " (u'Steven M. Landek', 12, u'D'),\n",
       " (u'Kimberly A. Lightford', 4, u'D'),\n",
       " (u'Terry Link', 30, u'D'),\n",
       " (u'David S. Luechtefeld', 58, u'R'),\n",
       " (u'Andy Manar', 48, u'D'),\n",
       " (u'Iris Y. Martinez', 20, u'D'),\n",
       " (u'Wm. Sam McCann', 50, u'R'),\n",
       " (u'Kyle McCarter', 54, u'R'),\n",
       " (u'Karen McConnaughay', 33, u'R'),\n",
       " (u'Pat McGuire', 43, u'D'),\n",
       " (u'Julie A. Morrison', 29, u'D'),\n",
       " (u'John G. Mulroe', 10, u'D'),\n",
       " (u'Antonio Mu\\xf1oz', 1, u'D'),\n",
       " (u'Matt Murphy', 27, u'R'),\n",
       " (u'Michael Noland', 22, u'D'),\n",
       " (u'Chris Nybo', 24, u'R'),\n",
       " (u'Jim Oberweis', 25, u'R'),\n",
       " (u'Christine Radogno', 41, u'R'),\n",
       " (u'Kwame Raoul', 13, u'D'),\n",
       " (u'Sue Rezin', 38, u'R'),\n",
       " (u'Dale A. Righter', 55, u'R'),\n",
       " (u'Chapin Rose', 51, u'R'),\n",
       " (u'Martin A. Sandoval', 11, u'D'),\n",
       " (u'Ira I. Silverstein', 8, u'D'),\n",
       " (u'Steve Stadelman', 34, u'D'),\n",
       " (u'Heather A. Steans', 7, u'D'),\n",
       " (u'John M. Sullivan', 47, u'D'),\n",
       " (u'Dave Syverson', 35, u'R'),\n",
       " (u'Donne E. Trotter', 17, u'D'),\n",
       " (u'Patricia Van Pelt', 5, u'D')]"
      ]
     },
     "execution_count": 36,
     "metadata": {},
     "output_type": "execute_result"
    }
   ],
   "source": [
    "# Test you code!\n",
    "\n",
    "# get_members('http://www.ilga.gov/senate/default.asp?GA=98')"
   ]
  },
  {
   "cell_type": "markdown",
   "metadata": {
    "collapsed": true
   },
   "source": [
    "### Challenge 2\n",
    "\n",
    "Given the `senateMembers`  list, create a new dictionary `members_dict` which has as its keys the district number (e.g. ` 32`) and as its values, the entire tuple as returned by `get_members()` (name, district number, party, url). We can do this because the district number is a unique identifier for each senator.\n",
    "\n",
    "Calling `members_dict[32]`, for example, should return the 4-tuple:\n",
    "\n",
    "```(u'Pamela J. Althoff',\n",
    "32,\n",
    "u'R',\n",
    "'http://www.ilga.gov/senate/SenatorBills.asp?GA=98&MemberID=1911&Primary=True')\n",
    "```."
   ]
  },
  {
   "cell_type": "code",
   "execution_count": 155,
   "metadata": {
    "collapsed": true
   },
   "outputs": [],
   "source": [
    "# YOUR CODE HERE"
   ]
  },
  {
   "cell_type": "code",
   "execution_count": null,
   "metadata": {
    "collapsed": true
   },
   "outputs": [],
   "source": []
  }
 ],
 "metadata": {
  "kernelspec": {
   "display_name": "Python [py3k]",
   "language": "python",
   "name": "Python [py3k]"
  },
  "language_info": {
   "codemirror_mode": {
    "name": "ipython",
    "version": 3
   },
   "file_extension": ".py",
   "mimetype": "text/x-python",
   "name": "python",
   "nbconvert_exporter": "python",
   "pygments_lexer": "ipython3",
   "version": "3.5.2"
  }
 },
 "nbformat": 4,
 "nbformat_minor": 0
}
