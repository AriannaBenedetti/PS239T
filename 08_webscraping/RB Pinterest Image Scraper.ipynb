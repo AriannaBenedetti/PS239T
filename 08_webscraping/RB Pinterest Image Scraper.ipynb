{
 "cells": [
  {
   "cell_type": "code",
   "execution_count": 4,
   "metadata": {
    "collapsed": true
   },
   "outputs": [],
   "source": [
    "# import required modules\n",
    "import requests\n",
    "from bs4 import BeautifulSoup"
   ]
  },
  {
   "cell_type": "code",
   "execution_count": 5,
   "metadata": {
    "collapsed": true
   },
   "outputs": [],
   "source": [
    "# make a GET request\n",
    "req = requests.get('https://www.pinterest.com/rachelibernhard/good-hair-days/')\n",
    "# read the content of the server’s response\n",
    "src = req.text"
   ]
  },
  {
   "cell_type": "code",
   "execution_count": 11,
   "metadata": {
    "collapsed": false
   },
   "outputs": [
    {
     "name": "stdout",
     "output_type": "stream",
     "text": [
      "<!DOCTYPE html>\n",
      "<!--[if IE 9 ]><html lang=\"en\" class=\"ielt10 en\"><![endif]-->\n",
      "<!--[if (gt IE 9)|!(IE)]><!-->\n",
      "<html class=\"en\" lang=\"en\">\n",
      " <!--<![endif]-->\n",
      " <head>\n",
      "  <meta charset=\"utf-8\"/>\n",
      "  <meta content=\"on\" http-equiv=\"x-dns-prefetch-control\"/>\n",
      "  <script async=\"\" defer=\"\" src=\"https://s-media-cache-ak0.pinimg.com/assets/js/warm.js?_=01446611816746\">\n",
      "  </script>\n",
      "  <script async=\"\" defer=\"\" src=\"https://s-media-cache-ak0.pinimg.com/assets/js/warm.js?_=11446611816746\">\n",
      "  </script>\n",
      "  <script async=\"\" defer=\"\" src=\"https://s-media-cache-ak0.pinimg.com/assets/js/warm.js?_=21446611816746\">\n",
      "  </script>\n",
      "  <script async=\"\" defer=\"\" src=\"https://s-media-cache-ak0.pinimg.com/assets/js/warm.js?_=31446611816746\">\n",
      "  </script>\n",
      "  <script async=\"\" defer=\"\" src=\"https://s-media-cache-ak0.pinimg.com/assets/js/warm.js?_=41446611816746\">\n",
      "  </script>\n",
      "  <script async=\"\" defer=\"\" src=\"https://s-media-cache-ak0.pinimg.com/assets/js/warm.js?_=51446611816746\">\n",
      "  </script>\n",
      "  <link href=\"https://s-passets-cache-\n"
     ]
    }
   ],
   "source": [
    "# parse the response into an HTML tree\n",
    "soup = BeautifulSoup(src)\n",
    "print soup.prettify()[:1000]"
   ]
  },
  {
   "cell_type": "code",
   "execution_count": 7,
   "metadata": {
    "collapsed": false
   },
   "outputs": [
    {
     "data": {
      "text/plain": [
       "[<img alt=\"Updos for Women Medium Hair - Office Hairstyle Ideas\" class=\"pinImg fullBleed\" data-load-state=\"pending\" onload=\"P.lazy.onImageLoad(this)\" src=\"https://s-media-cache-ak0.pinimg.com/236x/4d/41/fd/4d41fde25b579820917f0facd1b4c5b5.jpg\"/>,\n",
       " <img alt=\"15 Super-Easy Hairstyles for Lazy Girls Who Can't Even\" class=\"pinImg fullBleed\" data-load-state=\"pending\" onload=\"P.lazy.onImageLoad(this)\" src=\"https://s-media-cache-ak0.pinimg.com/236x/d4/9c/ab/d49caba76fd76e0a82e19307a6dfa0bc.jpg\"/>,\n",
       " <img alt=\"This is such a cool hairstly its stylish and badass at the same time, a little rock glam!!!\" class=\"pinImg fullBleed\" data-load-state=\"pending\" onload=\"P.lazy.onImageLoad(this)\" src=\"https://s-media-cache-ak0.pinimg.com/236x/3b/59/cd/3b59cd315285b57456250cae667895a4.jpg\"/>,\n",
       " <img alt=\"EASY PLAITED UPDO HAIRSTYLE TUTORIAL\" class=\"pinImg fullBleed\" data-load-state=\"pending\" onload=\"P.lazy.onImageLoad(this)\" src=\"https://s-media-cache-ak0.pinimg.com/236x/62/1a/aa/621aaa8e707e6eb87f692e754f39b981.jpg\"/>,\n",
       " <img alt=\"▶ French Twist &amp; Half Updo for Short hair! - YouTube\" class=\"pinImg fullBleed\" data-load-state=\"pending\" onload=\"P.lazy.onImageLoad(this)\" src=\"https://s-media-cache-ak0.pinimg.com/236x/b7/4f/0a/b74f0a97767111cba5e294988a38ffb5.jpg\"/>,\n",
       " <img alt=\"Exercice de Style\" class=\"pinImg fullBleed\" data-load-state=\"pending\" onload=\"P.lazy.onImageLoad(this)\" src=\"https://s-media-cache-ak0.pinimg.com/236x/9f/9a/0b/9f9a0beb48c93a03f08caa93a3e2d82e.jpg\"/>,\n",
       " <img alt=\"braided mohawk pony\" class=\"pinImg fullBleed\" data-load-state=\"pending\" onload=\"P.lazy.onImageLoad(this)\" src=\"https://s-media-cache-ak0.pinimg.com/236x/5e/0f/4c/5e0f4c79a3ca0069a65ef986c9912773.jpg\"/>,\n",
       " <img alt=\"5 Gorgeous Hairstyles Anybody Can Dress in This Spring | Beauty\" class=\"pinImg fullBleed\" data-load-state=\"pending\" onload=\"P.lazy.onImageLoad(this)\" src=\"https://s-media-cache-ak0.pinimg.com/236x/ac/3d/e2/ac3de2572c8d252a07cee7cbf134b886.jpg\"/>,\n",
       " <img alt=\"This is what inspired my 2006 faux hawk. I will forever love this.\" class=\"pinImg fullBleed\" data-load-state=\"pending\" onload=\"P.lazy.onImageLoad(this)\" src=\"https://s-media-cache-ak0.pinimg.com/236x/be/11/c4/be11c4775c5e83c6bc80b4052b6b4d00.jpg\"/>,\n",
       " <img alt=\"Keira Knightley short hair http://beautyeditor.ca/2014/01/16/hairstyles-after-extensions/\" class=\"pinImg fullBleed\" data-load-state=\"pending\" onload=\"P.lazy.onImageLoad(this)\" src=\"https://s-media-cache-ak0.pinimg.com/236x/68/1e/0b/681e0b7b9c05c6537ea96e0cd7079018.jpg\"/>,\n",
       " <img alt=\"Ruchettes, we couldn't help but share our latest beauty discovery with you! About a month ago, we happened to stumble upon an Instagram account, one that was fi\" class=\"pinImg fullBleed\" data-load-state=\"pending\" onload=\"P.lazy.onImageLoad(this)\" src=\"https://s-media-cache-ak0.pinimg.com/236x/6a/c2/4b/6ac24bdb9e1515f322bd5aa79d9b60e3.jpg\"/>,\n",
       " <img alt=\"Lucy Hale's VMA Ponytail tutorial #thebeautydepartment #hairstyle #howto\" class=\"pinImg fullBleed\" data-load-state=\"pending\" onload=\"P.lazy.onImageLoad(this)\" src=\"https://s-media-cache-ak0.pinimg.com/236x/ac/95/40/ac9540a541e34542754039bc8adf880e.jpg\"/>,\n",
       " <img alt=\"If you’re looking for a way to jazz up your gray hair, you can try leaving a long root and covering the rest of the strand with light lavender. The combo is stunning: | 15 Surprisingly Gorgeous Ways To Rock Colorful Roots\" class=\"pinImg fullBleed\" data-load-state=\"pending\" onload=\"P.lazy.onImageLoad(this)\" src=\"https://s-media-cache-ak0.pinimg.com/236x/c7/03/3f/c7033fc2f74c60c08ea662686b37c270.jpg\"/>,\n",
       " <img alt=\"Love this hair--tried it and it stayed all day, easy tutorial to follow\" class=\"pinImg fullBleed\" data-load-state=\"pending\" onload=\"P.lazy.onImageLoad(this)\" src=\"https://s-media-cache-ak0.pinimg.com/236x/16/f5/17/16f517feb22406d8def1019d2af840e4.jpg\"/>,\n",
       " <img alt=\"Ok, so, just did this in 2 seconds and it's AMAZING\" class=\"pinImg fullBleed\" data-load-state=\"pending\" onload=\"P.lazy.onImageLoad(this)\" src=\"https://s-media-cache-ak0.pinimg.com/236x/7c/d8/47/7cd8473449f1b26ccf1b69baddd58ad9.jpg\"/>,\n",
       " <img alt=\"Magazine inspiration\" class=\"pinImg fullBleed\" data-load-state=\"pending\" onload=\"P.lazy.onImageLoad(this)\" src=\"https://s-media-cache-ak0.pinimg.com/236x/d4/6e/5c/d46e5c68dbfc2fb4fb547f670e57d6fa.jpg\"/>,\n",
       " <img alt=\"Magazine inspiration\" class=\"pinImg fullBleed\" data-load-state=\"pending\" onload=\"P.lazy.onImageLoad(this)\" src=\"https://s-media-cache-ak0.pinimg.com/236x/1f/47/3f/1f473f1061f1d5e33dfae9159cc335cd.jpg\"/>,\n",
       " <img alt=\"Magazine inspiration\" class=\"pinImg fullBleed\" data-load-state=\"pending\" onload=\"P.lazy.onImageLoad(this)\" src=\"https://s-media-cache-ak0.pinimg.com/236x/9c/59/e2/9c59e2459c7be4dd2281db42aca80a4f.jpg\"/>,\n",
       " <img alt=\"pixie haircut\" class=\"pinImg fullBleed\" data-load-state=\"pending\" onload=\"P.lazy.onImageLoad(this)\" src=\"https://s-media-cache-ak0.pinimg.com/236x/a9/c3/b2/a9c3b2b6c5411469744d03ab7762663c.jpg\"/>,\n",
       " <img alt=\"Everyday styling tutorial for a short angled bob- easy tips and step by step instructions\" class=\"pinImg fullBleed\" data-load-state=\"pending\" onload=\"P.lazy.onImageLoad(this)\" src=\"https://s-media-cache-ak0.pinimg.com/236x/57/54/01/5754011de353ba0e910af28b0f2af131.jpg\"/>,\n",
       " <img alt=\"Ashley Greene With Beautiful Ombre Lob\" class=\"pinImg fullBleed\" data-load-state=\"pending\" onload=\"P.lazy.onImageLoad(this)\" src=\"https://s-media-cache-ak0.pinimg.com/236x/3e/b8/3f/3eb83f10a141ecb63419b747a22ff0d4.jpg\"/>,\n",
       " <img alt=\"The Weaved-In Carousel Braid | 23 Creative Braid Tutorials That Are Deceptively Easy\" class=\"pinImg fullBleed\" data-load-state=\"pending\" onload=\"P.lazy.onImageLoad(this)\" src=\"https://s-media-cache-ak0.pinimg.com/236x/3d/92/85/3d9285c6397a2adf64731f19abbefbf1.jpg\"/>,\n",
       " <img alt=\"Office Hairstyles Tutorials: Cheshunt Bun Updos\" class=\"pinImg fullBleed\" data-load-state=\"pending\" onload=\"P.lazy.onImageLoad(this)\" src=\"https://s-media-cache-ak0.pinimg.com/236x/a7/1f/52/a71f523891436a4ec994a82a4d57d49d.jpg\"/>,\n",
       " <img alt=\"How to get the perfect curly girl haircut\" class=\"pinImg fullBleed\" data-load-state=\"pending\" onload=\"P.lazy.onImageLoad(this)\" src=\"https://s-media-cache-ak0.pinimg.com/236x/3e/a2/b4/3ea2b4f4619ee5883b5ff8666bd7c71c.jpg\"/>,\n",
       " <img alt=\"Blow Out Beautiful - Wow, I want long hair that does this.\" class=\"pinImg fullBleed\" data-load-state=\"pending\" onload=\"P.lazy.onImageLoad(this)\" src=\"https://s-media-cache-ak0.pinimg.com/236x/d4/44/96/d44496f6c79ecfa86e16b8154d233def.jpg\"/>]"
      ]
     },
     "execution_count": 7,
     "metadata": {},
     "output_type": "execute_result"
    }
   ],
   "source": [
    "# get the image info for the pinned images\n",
    "soup(\"img\", class_=\"pinImg fullBleed\")"
   ]
  },
  {
   "cell_type": "code",
   "execution_count": 89,
   "metadata": {
    "collapsed": false
   },
   "outputs": [
    {
     "name": "stdout",
     "output_type": "stream",
     "text": [
      "['https://s-media-cache-ak0.pinimg.com/236x/4d/41/fd/4d41fde25b579820917f0facd1b4c5b5.jpg']\n",
      "['https://s-media-cache-ak0.pinimg.com/236x/4d/41/fd/4d41fde25b579820917f0facd1b4c5b5.jpg', 'https://s-media-cache-ak0.pinimg.com/236x/d4/9c/ab/d49caba76fd76e0a82e19307a6dfa0bc.jpg']\n",
      "['https://s-media-cache-ak0.pinimg.com/236x/4d/41/fd/4d41fde25b579820917f0facd1b4c5b5.jpg', 'https://s-media-cache-ak0.pinimg.com/236x/d4/9c/ab/d49caba76fd76e0a82e19307a6dfa0bc.jpg', 'https://s-media-cache-ak0.pinimg.com/236x/3b/59/cd/3b59cd315285b57456250cae667895a4.jpg']\n",
      "['https://s-media-cache-ak0.pinimg.com/236x/4d/41/fd/4d41fde25b579820917f0facd1b4c5b5.jpg', 'https://s-media-cache-ak0.pinimg.com/236x/d4/9c/ab/d49caba76fd76e0a82e19307a6dfa0bc.jpg', 'https://s-media-cache-ak0.pinimg.com/236x/3b/59/cd/3b59cd315285b57456250cae667895a4.jpg', 'https://s-media-cache-ak0.pinimg.com/236x/62/1a/aa/621aaa8e707e6eb87f692e754f39b981.jpg']\n",
      "['https://s-media-cache-ak0.pinimg.com/236x/4d/41/fd/4d41fde25b579820917f0facd1b4c5b5.jpg', 'https://s-media-cache-ak0.pinimg.com/236x/d4/9c/ab/d49caba76fd76e0a82e19307a6dfa0bc.jpg', 'https://s-media-cache-ak0.pinimg.com/236x/3b/59/cd/3b59cd315285b57456250cae667895a4.jpg', 'https://s-media-cache-ak0.pinimg.com/236x/62/1a/aa/621aaa8e707e6eb87f692e754f39b981.jpg', 'https://s-media-cache-ak0.pinimg.com/236x/b7/4f/0a/b74f0a97767111cba5e294988a38ffb5.jpg']\n",
      "['https://s-media-cache-ak0.pinimg.com/236x/4d/41/fd/4d41fde25b579820917f0facd1b4c5b5.jpg', 'https://s-media-cache-ak0.pinimg.com/236x/d4/9c/ab/d49caba76fd76e0a82e19307a6dfa0bc.jpg', 'https://s-media-cache-ak0.pinimg.com/236x/3b/59/cd/3b59cd315285b57456250cae667895a4.jpg', 'https://s-media-cache-ak0.pinimg.com/236x/62/1a/aa/621aaa8e707e6eb87f692e754f39b981.jpg', 'https://s-media-cache-ak0.pinimg.com/236x/b7/4f/0a/b74f0a97767111cba5e294988a38ffb5.jpg', 'https://s-media-cache-ak0.pinimg.com/236x/9f/9a/0b/9f9a0beb48c93a03f08caa93a3e2d82e.jpg']\n",
      "['https://s-media-cache-ak0.pinimg.com/236x/4d/41/fd/4d41fde25b579820917f0facd1b4c5b5.jpg', 'https://s-media-cache-ak0.pinimg.com/236x/d4/9c/ab/d49caba76fd76e0a82e19307a6dfa0bc.jpg', 'https://s-media-cache-ak0.pinimg.com/236x/3b/59/cd/3b59cd315285b57456250cae667895a4.jpg', 'https://s-media-cache-ak0.pinimg.com/236x/62/1a/aa/621aaa8e707e6eb87f692e754f39b981.jpg', 'https://s-media-cache-ak0.pinimg.com/236x/b7/4f/0a/b74f0a97767111cba5e294988a38ffb5.jpg', 'https://s-media-cache-ak0.pinimg.com/236x/9f/9a/0b/9f9a0beb48c93a03f08caa93a3e2d82e.jpg', 'https://s-media-cache-ak0.pinimg.com/236x/5e/0f/4c/5e0f4c79a3ca0069a65ef986c9912773.jpg']\n",
      "['https://s-media-cache-ak0.pinimg.com/236x/4d/41/fd/4d41fde25b579820917f0facd1b4c5b5.jpg', 'https://s-media-cache-ak0.pinimg.com/236x/d4/9c/ab/d49caba76fd76e0a82e19307a6dfa0bc.jpg', 'https://s-media-cache-ak0.pinimg.com/236x/3b/59/cd/3b59cd315285b57456250cae667895a4.jpg', 'https://s-media-cache-ak0.pinimg.com/236x/62/1a/aa/621aaa8e707e6eb87f692e754f39b981.jpg', 'https://s-media-cache-ak0.pinimg.com/236x/b7/4f/0a/b74f0a97767111cba5e294988a38ffb5.jpg', 'https://s-media-cache-ak0.pinimg.com/236x/9f/9a/0b/9f9a0beb48c93a03f08caa93a3e2d82e.jpg', 'https://s-media-cache-ak0.pinimg.com/236x/5e/0f/4c/5e0f4c79a3ca0069a65ef986c9912773.jpg', 'https://s-media-cache-ak0.pinimg.com/236x/ac/3d/e2/ac3de2572c8d252a07cee7cbf134b886.jpg']\n",
      "['https://s-media-cache-ak0.pinimg.com/236x/4d/41/fd/4d41fde25b579820917f0facd1b4c5b5.jpg', 'https://s-media-cache-ak0.pinimg.com/236x/d4/9c/ab/d49caba76fd76e0a82e19307a6dfa0bc.jpg', 'https://s-media-cache-ak0.pinimg.com/236x/3b/59/cd/3b59cd315285b57456250cae667895a4.jpg', 'https://s-media-cache-ak0.pinimg.com/236x/62/1a/aa/621aaa8e707e6eb87f692e754f39b981.jpg', 'https://s-media-cache-ak0.pinimg.com/236x/b7/4f/0a/b74f0a97767111cba5e294988a38ffb5.jpg', 'https://s-media-cache-ak0.pinimg.com/236x/9f/9a/0b/9f9a0beb48c93a03f08caa93a3e2d82e.jpg', 'https://s-media-cache-ak0.pinimg.com/236x/5e/0f/4c/5e0f4c79a3ca0069a65ef986c9912773.jpg', 'https://s-media-cache-ak0.pinimg.com/236x/ac/3d/e2/ac3de2572c8d252a07cee7cbf134b886.jpg', 'https://s-media-cache-ak0.pinimg.com/236x/be/11/c4/be11c4775c5e83c6bc80b4052b6b4d00.jpg']\n",
      "['https://s-media-cache-ak0.pinimg.com/236x/4d/41/fd/4d41fde25b579820917f0facd1b4c5b5.jpg', 'https://s-media-cache-ak0.pinimg.com/236x/d4/9c/ab/d49caba76fd76e0a82e19307a6dfa0bc.jpg', 'https://s-media-cache-ak0.pinimg.com/236x/3b/59/cd/3b59cd315285b57456250cae667895a4.jpg', 'https://s-media-cache-ak0.pinimg.com/236x/62/1a/aa/621aaa8e707e6eb87f692e754f39b981.jpg', 'https://s-media-cache-ak0.pinimg.com/236x/b7/4f/0a/b74f0a97767111cba5e294988a38ffb5.jpg', 'https://s-media-cache-ak0.pinimg.com/236x/9f/9a/0b/9f9a0beb48c93a03f08caa93a3e2d82e.jpg', 'https://s-media-cache-ak0.pinimg.com/236x/5e/0f/4c/5e0f4c79a3ca0069a65ef986c9912773.jpg', 'https://s-media-cache-ak0.pinimg.com/236x/ac/3d/e2/ac3de2572c8d252a07cee7cbf134b886.jpg', 'https://s-media-cache-ak0.pinimg.com/236x/be/11/c4/be11c4775c5e83c6bc80b4052b6b4d00.jpg', 'https://s-media-cache-ak0.pinimg.com/236x/68/1e/0b/681e0b7b9c05c6537ea96e0cd7079018.jpg']\n",
      "['https://s-media-cache-ak0.pinimg.com/236x/4d/41/fd/4d41fde25b579820917f0facd1b4c5b5.jpg', 'https://s-media-cache-ak0.pinimg.com/236x/d4/9c/ab/d49caba76fd76e0a82e19307a6dfa0bc.jpg', 'https://s-media-cache-ak0.pinimg.com/236x/3b/59/cd/3b59cd315285b57456250cae667895a4.jpg', 'https://s-media-cache-ak0.pinimg.com/236x/62/1a/aa/621aaa8e707e6eb87f692e754f39b981.jpg', 'https://s-media-cache-ak0.pinimg.com/236x/b7/4f/0a/b74f0a97767111cba5e294988a38ffb5.jpg', 'https://s-media-cache-ak0.pinimg.com/236x/9f/9a/0b/9f9a0beb48c93a03f08caa93a3e2d82e.jpg', 'https://s-media-cache-ak0.pinimg.com/236x/5e/0f/4c/5e0f4c79a3ca0069a65ef986c9912773.jpg', 'https://s-media-cache-ak0.pinimg.com/236x/ac/3d/e2/ac3de2572c8d252a07cee7cbf134b886.jpg', 'https://s-media-cache-ak0.pinimg.com/236x/be/11/c4/be11c4775c5e83c6bc80b4052b6b4d00.jpg', 'https://s-media-cache-ak0.pinimg.com/236x/68/1e/0b/681e0b7b9c05c6537ea96e0cd7079018.jpg', 'https://s-media-cache-ak0.pinimg.com/236x/6a/c2/4b/6ac24bdb9e1515f322bd5aa79d9b60e3.jpg']\n",
      "['https://s-media-cache-ak0.pinimg.com/236x/4d/41/fd/4d41fde25b579820917f0facd1b4c5b5.jpg', 'https://s-media-cache-ak0.pinimg.com/236x/d4/9c/ab/d49caba76fd76e0a82e19307a6dfa0bc.jpg', 'https://s-media-cache-ak0.pinimg.com/236x/3b/59/cd/3b59cd315285b57456250cae667895a4.jpg', 'https://s-media-cache-ak0.pinimg.com/236x/62/1a/aa/621aaa8e707e6eb87f692e754f39b981.jpg', 'https://s-media-cache-ak0.pinimg.com/236x/b7/4f/0a/b74f0a97767111cba5e294988a38ffb5.jpg', 'https://s-media-cache-ak0.pinimg.com/236x/9f/9a/0b/9f9a0beb48c93a03f08caa93a3e2d82e.jpg', 'https://s-media-cache-ak0.pinimg.com/236x/5e/0f/4c/5e0f4c79a3ca0069a65ef986c9912773.jpg', 'https://s-media-cache-ak0.pinimg.com/236x/ac/3d/e2/ac3de2572c8d252a07cee7cbf134b886.jpg', 'https://s-media-cache-ak0.pinimg.com/236x/be/11/c4/be11c4775c5e83c6bc80b4052b6b4d00.jpg', 'https://s-media-cache-ak0.pinimg.com/236x/68/1e/0b/681e0b7b9c05c6537ea96e0cd7079018.jpg', 'https://s-media-cache-ak0.pinimg.com/236x/6a/c2/4b/6ac24bdb9e1515f322bd5aa79d9b60e3.jpg', 'https://s-media-cache-ak0.pinimg.com/236x/ac/95/40/ac9540a541e34542754039bc8adf880e.jpg']\n",
      "['https://s-media-cache-ak0.pinimg.com/236x/4d/41/fd/4d41fde25b579820917f0facd1b4c5b5.jpg', 'https://s-media-cache-ak0.pinimg.com/236x/d4/9c/ab/d49caba76fd76e0a82e19307a6dfa0bc.jpg', 'https://s-media-cache-ak0.pinimg.com/236x/3b/59/cd/3b59cd315285b57456250cae667895a4.jpg', 'https://s-media-cache-ak0.pinimg.com/236x/62/1a/aa/621aaa8e707e6eb87f692e754f39b981.jpg', 'https://s-media-cache-ak0.pinimg.com/236x/b7/4f/0a/b74f0a97767111cba5e294988a38ffb5.jpg', 'https://s-media-cache-ak0.pinimg.com/236x/9f/9a/0b/9f9a0beb48c93a03f08caa93a3e2d82e.jpg', 'https://s-media-cache-ak0.pinimg.com/236x/5e/0f/4c/5e0f4c79a3ca0069a65ef986c9912773.jpg', 'https://s-media-cache-ak0.pinimg.com/236x/ac/3d/e2/ac3de2572c8d252a07cee7cbf134b886.jpg', 'https://s-media-cache-ak0.pinimg.com/236x/be/11/c4/be11c4775c5e83c6bc80b4052b6b4d00.jpg', 'https://s-media-cache-ak0.pinimg.com/236x/68/1e/0b/681e0b7b9c05c6537ea96e0cd7079018.jpg', 'https://s-media-cache-ak0.pinimg.com/236x/6a/c2/4b/6ac24bdb9e1515f322bd5aa79d9b60e3.jpg', 'https://s-media-cache-ak0.pinimg.com/236x/ac/95/40/ac9540a541e34542754039bc8adf880e.jpg', 'https://s-media-cache-ak0.pinimg.com/236x/c7/03/3f/c7033fc2f74c60c08ea662686b37c270.jpg']\n",
      "['https://s-media-cache-ak0.pinimg.com/236x/4d/41/fd/4d41fde25b579820917f0facd1b4c5b5.jpg', 'https://s-media-cache-ak0.pinimg.com/236x/d4/9c/ab/d49caba76fd76e0a82e19307a6dfa0bc.jpg', 'https://s-media-cache-ak0.pinimg.com/236x/3b/59/cd/3b59cd315285b57456250cae667895a4.jpg', 'https://s-media-cache-ak0.pinimg.com/236x/62/1a/aa/621aaa8e707e6eb87f692e754f39b981.jpg', 'https://s-media-cache-ak0.pinimg.com/236x/b7/4f/0a/b74f0a97767111cba5e294988a38ffb5.jpg', 'https://s-media-cache-ak0.pinimg.com/236x/9f/9a/0b/9f9a0beb48c93a03f08caa93a3e2d82e.jpg', 'https://s-media-cache-ak0.pinimg.com/236x/5e/0f/4c/5e0f4c79a3ca0069a65ef986c9912773.jpg', 'https://s-media-cache-ak0.pinimg.com/236x/ac/3d/e2/ac3de2572c8d252a07cee7cbf134b886.jpg', 'https://s-media-cache-ak0.pinimg.com/236x/be/11/c4/be11c4775c5e83c6bc80b4052b6b4d00.jpg', 'https://s-media-cache-ak0.pinimg.com/236x/68/1e/0b/681e0b7b9c05c6537ea96e0cd7079018.jpg', 'https://s-media-cache-ak0.pinimg.com/236x/6a/c2/4b/6ac24bdb9e1515f322bd5aa79d9b60e3.jpg', 'https://s-media-cache-ak0.pinimg.com/236x/ac/95/40/ac9540a541e34542754039bc8adf880e.jpg', 'https://s-media-cache-ak0.pinimg.com/236x/c7/03/3f/c7033fc2f74c60c08ea662686b37c270.jpg', 'https://s-media-cache-ak0.pinimg.com/236x/16/f5/17/16f517feb22406d8def1019d2af840e4.jpg']\n",
      "['https://s-media-cache-ak0.pinimg.com/236x/4d/41/fd/4d41fde25b579820917f0facd1b4c5b5.jpg', 'https://s-media-cache-ak0.pinimg.com/236x/d4/9c/ab/d49caba76fd76e0a82e19307a6dfa0bc.jpg', 'https://s-media-cache-ak0.pinimg.com/236x/3b/59/cd/3b59cd315285b57456250cae667895a4.jpg', 'https://s-media-cache-ak0.pinimg.com/236x/62/1a/aa/621aaa8e707e6eb87f692e754f39b981.jpg', 'https://s-media-cache-ak0.pinimg.com/236x/b7/4f/0a/b74f0a97767111cba5e294988a38ffb5.jpg', 'https://s-media-cache-ak0.pinimg.com/236x/9f/9a/0b/9f9a0beb48c93a03f08caa93a3e2d82e.jpg', 'https://s-media-cache-ak0.pinimg.com/236x/5e/0f/4c/5e0f4c79a3ca0069a65ef986c9912773.jpg', 'https://s-media-cache-ak0.pinimg.com/236x/ac/3d/e2/ac3de2572c8d252a07cee7cbf134b886.jpg', 'https://s-media-cache-ak0.pinimg.com/236x/be/11/c4/be11c4775c5e83c6bc80b4052b6b4d00.jpg', 'https://s-media-cache-ak0.pinimg.com/236x/68/1e/0b/681e0b7b9c05c6537ea96e0cd7079018.jpg', 'https://s-media-cache-ak0.pinimg.com/236x/6a/c2/4b/6ac24bdb9e1515f322bd5aa79d9b60e3.jpg', 'https://s-media-cache-ak0.pinimg.com/236x/ac/95/40/ac9540a541e34542754039bc8adf880e.jpg', 'https://s-media-cache-ak0.pinimg.com/236x/c7/03/3f/c7033fc2f74c60c08ea662686b37c270.jpg', 'https://s-media-cache-ak0.pinimg.com/236x/16/f5/17/16f517feb22406d8def1019d2af840e4.jpg', 'https://s-media-cache-ak0.pinimg.com/236x/7c/d8/47/7cd8473449f1b26ccf1b69baddd58ad9.jpg']\n",
      "['https://s-media-cache-ak0.pinimg.com/236x/4d/41/fd/4d41fde25b579820917f0facd1b4c5b5.jpg', 'https://s-media-cache-ak0.pinimg.com/236x/d4/9c/ab/d49caba76fd76e0a82e19307a6dfa0bc.jpg', 'https://s-media-cache-ak0.pinimg.com/236x/3b/59/cd/3b59cd315285b57456250cae667895a4.jpg', 'https://s-media-cache-ak0.pinimg.com/236x/62/1a/aa/621aaa8e707e6eb87f692e754f39b981.jpg', 'https://s-media-cache-ak0.pinimg.com/236x/b7/4f/0a/b74f0a97767111cba5e294988a38ffb5.jpg', 'https://s-media-cache-ak0.pinimg.com/236x/9f/9a/0b/9f9a0beb48c93a03f08caa93a3e2d82e.jpg', 'https://s-media-cache-ak0.pinimg.com/236x/5e/0f/4c/5e0f4c79a3ca0069a65ef986c9912773.jpg', 'https://s-media-cache-ak0.pinimg.com/236x/ac/3d/e2/ac3de2572c8d252a07cee7cbf134b886.jpg', 'https://s-media-cache-ak0.pinimg.com/236x/be/11/c4/be11c4775c5e83c6bc80b4052b6b4d00.jpg', 'https://s-media-cache-ak0.pinimg.com/236x/68/1e/0b/681e0b7b9c05c6537ea96e0cd7079018.jpg', 'https://s-media-cache-ak0.pinimg.com/236x/6a/c2/4b/6ac24bdb9e1515f322bd5aa79d9b60e3.jpg', 'https://s-media-cache-ak0.pinimg.com/236x/ac/95/40/ac9540a541e34542754039bc8adf880e.jpg', 'https://s-media-cache-ak0.pinimg.com/236x/c7/03/3f/c7033fc2f74c60c08ea662686b37c270.jpg', 'https://s-media-cache-ak0.pinimg.com/236x/16/f5/17/16f517feb22406d8def1019d2af840e4.jpg', 'https://s-media-cache-ak0.pinimg.com/236x/7c/d8/47/7cd8473449f1b26ccf1b69baddd58ad9.jpg', 'https://s-media-cache-ak0.pinimg.com/236x/d4/6e/5c/d46e5c68dbfc2fb4fb547f670e57d6fa.jpg']\n",
      "['https://s-media-cache-ak0.pinimg.com/236x/4d/41/fd/4d41fde25b579820917f0facd1b4c5b5.jpg', 'https://s-media-cache-ak0.pinimg.com/236x/d4/9c/ab/d49caba76fd76e0a82e19307a6dfa0bc.jpg', 'https://s-media-cache-ak0.pinimg.com/236x/3b/59/cd/3b59cd315285b57456250cae667895a4.jpg', 'https://s-media-cache-ak0.pinimg.com/236x/62/1a/aa/621aaa8e707e6eb87f692e754f39b981.jpg', 'https://s-media-cache-ak0.pinimg.com/236x/b7/4f/0a/b74f0a97767111cba5e294988a38ffb5.jpg', 'https://s-media-cache-ak0.pinimg.com/236x/9f/9a/0b/9f9a0beb48c93a03f08caa93a3e2d82e.jpg', 'https://s-media-cache-ak0.pinimg.com/236x/5e/0f/4c/5e0f4c79a3ca0069a65ef986c9912773.jpg', 'https://s-media-cache-ak0.pinimg.com/236x/ac/3d/e2/ac3de2572c8d252a07cee7cbf134b886.jpg', 'https://s-media-cache-ak0.pinimg.com/236x/be/11/c4/be11c4775c5e83c6bc80b4052b6b4d00.jpg', 'https://s-media-cache-ak0.pinimg.com/236x/68/1e/0b/681e0b7b9c05c6537ea96e0cd7079018.jpg', 'https://s-media-cache-ak0.pinimg.com/236x/6a/c2/4b/6ac24bdb9e1515f322bd5aa79d9b60e3.jpg', 'https://s-media-cache-ak0.pinimg.com/236x/ac/95/40/ac9540a541e34542754039bc8adf880e.jpg', 'https://s-media-cache-ak0.pinimg.com/236x/c7/03/3f/c7033fc2f74c60c08ea662686b37c270.jpg', 'https://s-media-cache-ak0.pinimg.com/236x/16/f5/17/16f517feb22406d8def1019d2af840e4.jpg', 'https://s-media-cache-ak0.pinimg.com/236x/7c/d8/47/7cd8473449f1b26ccf1b69baddd58ad9.jpg', 'https://s-media-cache-ak0.pinimg.com/236x/d4/6e/5c/d46e5c68dbfc2fb4fb547f670e57d6fa.jpg', 'https://s-media-cache-ak0.pinimg.com/236x/1f/47/3f/1f473f1061f1d5e33dfae9159cc335cd.jpg']\n",
      "['https://s-media-cache-ak0.pinimg.com/236x/4d/41/fd/4d41fde25b579820917f0facd1b4c5b5.jpg', 'https://s-media-cache-ak0.pinimg.com/236x/d4/9c/ab/d49caba76fd76e0a82e19307a6dfa0bc.jpg', 'https://s-media-cache-ak0.pinimg.com/236x/3b/59/cd/3b59cd315285b57456250cae667895a4.jpg', 'https://s-media-cache-ak0.pinimg.com/236x/62/1a/aa/621aaa8e707e6eb87f692e754f39b981.jpg', 'https://s-media-cache-ak0.pinimg.com/236x/b7/4f/0a/b74f0a97767111cba5e294988a38ffb5.jpg', 'https://s-media-cache-ak0.pinimg.com/236x/9f/9a/0b/9f9a0beb48c93a03f08caa93a3e2d82e.jpg', 'https://s-media-cache-ak0.pinimg.com/236x/5e/0f/4c/5e0f4c79a3ca0069a65ef986c9912773.jpg', 'https://s-media-cache-ak0.pinimg.com/236x/ac/3d/e2/ac3de2572c8d252a07cee7cbf134b886.jpg', 'https://s-media-cache-ak0.pinimg.com/236x/be/11/c4/be11c4775c5e83c6bc80b4052b6b4d00.jpg', 'https://s-media-cache-ak0.pinimg.com/236x/68/1e/0b/681e0b7b9c05c6537ea96e0cd7079018.jpg', 'https://s-media-cache-ak0.pinimg.com/236x/6a/c2/4b/6ac24bdb9e1515f322bd5aa79d9b60e3.jpg', 'https://s-media-cache-ak0.pinimg.com/236x/ac/95/40/ac9540a541e34542754039bc8adf880e.jpg', 'https://s-media-cache-ak0.pinimg.com/236x/c7/03/3f/c7033fc2f74c60c08ea662686b37c270.jpg', 'https://s-media-cache-ak0.pinimg.com/236x/16/f5/17/16f517feb22406d8def1019d2af840e4.jpg', 'https://s-media-cache-ak0.pinimg.com/236x/7c/d8/47/7cd8473449f1b26ccf1b69baddd58ad9.jpg', 'https://s-media-cache-ak0.pinimg.com/236x/d4/6e/5c/d46e5c68dbfc2fb4fb547f670e57d6fa.jpg', 'https://s-media-cache-ak0.pinimg.com/236x/1f/47/3f/1f473f1061f1d5e33dfae9159cc335cd.jpg', 'https://s-media-cache-ak0.pinimg.com/236x/9c/59/e2/9c59e2459c7be4dd2281db42aca80a4f.jpg']\n",
      "['https://s-media-cache-ak0.pinimg.com/236x/4d/41/fd/4d41fde25b579820917f0facd1b4c5b5.jpg', 'https://s-media-cache-ak0.pinimg.com/236x/d4/9c/ab/d49caba76fd76e0a82e19307a6dfa0bc.jpg', 'https://s-media-cache-ak0.pinimg.com/236x/3b/59/cd/3b59cd315285b57456250cae667895a4.jpg', 'https://s-media-cache-ak0.pinimg.com/236x/62/1a/aa/621aaa8e707e6eb87f692e754f39b981.jpg', 'https://s-media-cache-ak0.pinimg.com/236x/b7/4f/0a/b74f0a97767111cba5e294988a38ffb5.jpg', 'https://s-media-cache-ak0.pinimg.com/236x/9f/9a/0b/9f9a0beb48c93a03f08caa93a3e2d82e.jpg', 'https://s-media-cache-ak0.pinimg.com/236x/5e/0f/4c/5e0f4c79a3ca0069a65ef986c9912773.jpg', 'https://s-media-cache-ak0.pinimg.com/236x/ac/3d/e2/ac3de2572c8d252a07cee7cbf134b886.jpg', 'https://s-media-cache-ak0.pinimg.com/236x/be/11/c4/be11c4775c5e83c6bc80b4052b6b4d00.jpg', 'https://s-media-cache-ak0.pinimg.com/236x/68/1e/0b/681e0b7b9c05c6537ea96e0cd7079018.jpg', 'https://s-media-cache-ak0.pinimg.com/236x/6a/c2/4b/6ac24bdb9e1515f322bd5aa79d9b60e3.jpg', 'https://s-media-cache-ak0.pinimg.com/236x/ac/95/40/ac9540a541e34542754039bc8adf880e.jpg', 'https://s-media-cache-ak0.pinimg.com/236x/c7/03/3f/c7033fc2f74c60c08ea662686b37c270.jpg', 'https://s-media-cache-ak0.pinimg.com/236x/16/f5/17/16f517feb22406d8def1019d2af840e4.jpg', 'https://s-media-cache-ak0.pinimg.com/236x/7c/d8/47/7cd8473449f1b26ccf1b69baddd58ad9.jpg', 'https://s-media-cache-ak0.pinimg.com/236x/d4/6e/5c/d46e5c68dbfc2fb4fb547f670e57d6fa.jpg', 'https://s-media-cache-ak0.pinimg.com/236x/1f/47/3f/1f473f1061f1d5e33dfae9159cc335cd.jpg', 'https://s-media-cache-ak0.pinimg.com/236x/9c/59/e2/9c59e2459c7be4dd2281db42aca80a4f.jpg', 'https://s-media-cache-ak0.pinimg.com/236x/a9/c3/b2/a9c3b2b6c5411469744d03ab7762663c.jpg']\n",
      "['https://s-media-cache-ak0.pinimg.com/236x/4d/41/fd/4d41fde25b579820917f0facd1b4c5b5.jpg', 'https://s-media-cache-ak0.pinimg.com/236x/d4/9c/ab/d49caba76fd76e0a82e19307a6dfa0bc.jpg', 'https://s-media-cache-ak0.pinimg.com/236x/3b/59/cd/3b59cd315285b57456250cae667895a4.jpg', 'https://s-media-cache-ak0.pinimg.com/236x/62/1a/aa/621aaa8e707e6eb87f692e754f39b981.jpg', 'https://s-media-cache-ak0.pinimg.com/236x/b7/4f/0a/b74f0a97767111cba5e294988a38ffb5.jpg', 'https://s-media-cache-ak0.pinimg.com/236x/9f/9a/0b/9f9a0beb48c93a03f08caa93a3e2d82e.jpg', 'https://s-media-cache-ak0.pinimg.com/236x/5e/0f/4c/5e0f4c79a3ca0069a65ef986c9912773.jpg', 'https://s-media-cache-ak0.pinimg.com/236x/ac/3d/e2/ac3de2572c8d252a07cee7cbf134b886.jpg', 'https://s-media-cache-ak0.pinimg.com/236x/be/11/c4/be11c4775c5e83c6bc80b4052b6b4d00.jpg', 'https://s-media-cache-ak0.pinimg.com/236x/68/1e/0b/681e0b7b9c05c6537ea96e0cd7079018.jpg', 'https://s-media-cache-ak0.pinimg.com/236x/6a/c2/4b/6ac24bdb9e1515f322bd5aa79d9b60e3.jpg', 'https://s-media-cache-ak0.pinimg.com/236x/ac/95/40/ac9540a541e34542754039bc8adf880e.jpg', 'https://s-media-cache-ak0.pinimg.com/236x/c7/03/3f/c7033fc2f74c60c08ea662686b37c270.jpg', 'https://s-media-cache-ak0.pinimg.com/236x/16/f5/17/16f517feb22406d8def1019d2af840e4.jpg', 'https://s-media-cache-ak0.pinimg.com/236x/7c/d8/47/7cd8473449f1b26ccf1b69baddd58ad9.jpg', 'https://s-media-cache-ak0.pinimg.com/236x/d4/6e/5c/d46e5c68dbfc2fb4fb547f670e57d6fa.jpg', 'https://s-media-cache-ak0.pinimg.com/236x/1f/47/3f/1f473f1061f1d5e33dfae9159cc335cd.jpg', 'https://s-media-cache-ak0.pinimg.com/236x/9c/59/e2/9c59e2459c7be4dd2281db42aca80a4f.jpg', 'https://s-media-cache-ak0.pinimg.com/236x/a9/c3/b2/a9c3b2b6c5411469744d03ab7762663c.jpg', 'https://s-media-cache-ak0.pinimg.com/236x/57/54/01/5754011de353ba0e910af28b0f2af131.jpg']\n",
      "['https://s-media-cache-ak0.pinimg.com/236x/4d/41/fd/4d41fde25b579820917f0facd1b4c5b5.jpg', 'https://s-media-cache-ak0.pinimg.com/236x/d4/9c/ab/d49caba76fd76e0a82e19307a6dfa0bc.jpg', 'https://s-media-cache-ak0.pinimg.com/236x/3b/59/cd/3b59cd315285b57456250cae667895a4.jpg', 'https://s-media-cache-ak0.pinimg.com/236x/62/1a/aa/621aaa8e707e6eb87f692e754f39b981.jpg', 'https://s-media-cache-ak0.pinimg.com/236x/b7/4f/0a/b74f0a97767111cba5e294988a38ffb5.jpg', 'https://s-media-cache-ak0.pinimg.com/236x/9f/9a/0b/9f9a0beb48c93a03f08caa93a3e2d82e.jpg', 'https://s-media-cache-ak0.pinimg.com/236x/5e/0f/4c/5e0f4c79a3ca0069a65ef986c9912773.jpg', 'https://s-media-cache-ak0.pinimg.com/236x/ac/3d/e2/ac3de2572c8d252a07cee7cbf134b886.jpg', 'https://s-media-cache-ak0.pinimg.com/236x/be/11/c4/be11c4775c5e83c6bc80b4052b6b4d00.jpg', 'https://s-media-cache-ak0.pinimg.com/236x/68/1e/0b/681e0b7b9c05c6537ea96e0cd7079018.jpg', 'https://s-media-cache-ak0.pinimg.com/236x/6a/c2/4b/6ac24bdb9e1515f322bd5aa79d9b60e3.jpg', 'https://s-media-cache-ak0.pinimg.com/236x/ac/95/40/ac9540a541e34542754039bc8adf880e.jpg', 'https://s-media-cache-ak0.pinimg.com/236x/c7/03/3f/c7033fc2f74c60c08ea662686b37c270.jpg', 'https://s-media-cache-ak0.pinimg.com/236x/16/f5/17/16f517feb22406d8def1019d2af840e4.jpg', 'https://s-media-cache-ak0.pinimg.com/236x/7c/d8/47/7cd8473449f1b26ccf1b69baddd58ad9.jpg', 'https://s-media-cache-ak0.pinimg.com/236x/d4/6e/5c/d46e5c68dbfc2fb4fb547f670e57d6fa.jpg', 'https://s-media-cache-ak0.pinimg.com/236x/1f/47/3f/1f473f1061f1d5e33dfae9159cc335cd.jpg', 'https://s-media-cache-ak0.pinimg.com/236x/9c/59/e2/9c59e2459c7be4dd2281db42aca80a4f.jpg', 'https://s-media-cache-ak0.pinimg.com/236x/a9/c3/b2/a9c3b2b6c5411469744d03ab7762663c.jpg', 'https://s-media-cache-ak0.pinimg.com/236x/57/54/01/5754011de353ba0e910af28b0f2af131.jpg', 'https://s-media-cache-ak0.pinimg.com/236x/3e/b8/3f/3eb83f10a141ecb63419b747a22ff0d4.jpg']\n",
      "['https://s-media-cache-ak0.pinimg.com/236x/4d/41/fd/4d41fde25b579820917f0facd1b4c5b5.jpg', 'https://s-media-cache-ak0.pinimg.com/236x/d4/9c/ab/d49caba76fd76e0a82e19307a6dfa0bc.jpg', 'https://s-media-cache-ak0.pinimg.com/236x/3b/59/cd/3b59cd315285b57456250cae667895a4.jpg', 'https://s-media-cache-ak0.pinimg.com/236x/62/1a/aa/621aaa8e707e6eb87f692e754f39b981.jpg', 'https://s-media-cache-ak0.pinimg.com/236x/b7/4f/0a/b74f0a97767111cba5e294988a38ffb5.jpg', 'https://s-media-cache-ak0.pinimg.com/236x/9f/9a/0b/9f9a0beb48c93a03f08caa93a3e2d82e.jpg', 'https://s-media-cache-ak0.pinimg.com/236x/5e/0f/4c/5e0f4c79a3ca0069a65ef986c9912773.jpg', 'https://s-media-cache-ak0.pinimg.com/236x/ac/3d/e2/ac3de2572c8d252a07cee7cbf134b886.jpg', 'https://s-media-cache-ak0.pinimg.com/236x/be/11/c4/be11c4775c5e83c6bc80b4052b6b4d00.jpg', 'https://s-media-cache-ak0.pinimg.com/236x/68/1e/0b/681e0b7b9c05c6537ea96e0cd7079018.jpg', 'https://s-media-cache-ak0.pinimg.com/236x/6a/c2/4b/6ac24bdb9e1515f322bd5aa79d9b60e3.jpg', 'https://s-media-cache-ak0.pinimg.com/236x/ac/95/40/ac9540a541e34542754039bc8adf880e.jpg', 'https://s-media-cache-ak0.pinimg.com/236x/c7/03/3f/c7033fc2f74c60c08ea662686b37c270.jpg', 'https://s-media-cache-ak0.pinimg.com/236x/16/f5/17/16f517feb22406d8def1019d2af840e4.jpg', 'https://s-media-cache-ak0.pinimg.com/236x/7c/d8/47/7cd8473449f1b26ccf1b69baddd58ad9.jpg', 'https://s-media-cache-ak0.pinimg.com/236x/d4/6e/5c/d46e5c68dbfc2fb4fb547f670e57d6fa.jpg', 'https://s-media-cache-ak0.pinimg.com/236x/1f/47/3f/1f473f1061f1d5e33dfae9159cc335cd.jpg', 'https://s-media-cache-ak0.pinimg.com/236x/9c/59/e2/9c59e2459c7be4dd2281db42aca80a4f.jpg', 'https://s-media-cache-ak0.pinimg.com/236x/a9/c3/b2/a9c3b2b6c5411469744d03ab7762663c.jpg', 'https://s-media-cache-ak0.pinimg.com/236x/57/54/01/5754011de353ba0e910af28b0f2af131.jpg', 'https://s-media-cache-ak0.pinimg.com/236x/3e/b8/3f/3eb83f10a141ecb63419b747a22ff0d4.jpg', 'https://s-media-cache-ak0.pinimg.com/236x/3d/92/85/3d9285c6397a2adf64731f19abbefbf1.jpg']\n",
      "['https://s-media-cache-ak0.pinimg.com/236x/4d/41/fd/4d41fde25b579820917f0facd1b4c5b5.jpg', 'https://s-media-cache-ak0.pinimg.com/236x/d4/9c/ab/d49caba76fd76e0a82e19307a6dfa0bc.jpg', 'https://s-media-cache-ak0.pinimg.com/236x/3b/59/cd/3b59cd315285b57456250cae667895a4.jpg', 'https://s-media-cache-ak0.pinimg.com/236x/62/1a/aa/621aaa8e707e6eb87f692e754f39b981.jpg', 'https://s-media-cache-ak0.pinimg.com/236x/b7/4f/0a/b74f0a97767111cba5e294988a38ffb5.jpg', 'https://s-media-cache-ak0.pinimg.com/236x/9f/9a/0b/9f9a0beb48c93a03f08caa93a3e2d82e.jpg', 'https://s-media-cache-ak0.pinimg.com/236x/5e/0f/4c/5e0f4c79a3ca0069a65ef986c9912773.jpg', 'https://s-media-cache-ak0.pinimg.com/236x/ac/3d/e2/ac3de2572c8d252a07cee7cbf134b886.jpg', 'https://s-media-cache-ak0.pinimg.com/236x/be/11/c4/be11c4775c5e83c6bc80b4052b6b4d00.jpg', 'https://s-media-cache-ak0.pinimg.com/236x/68/1e/0b/681e0b7b9c05c6537ea96e0cd7079018.jpg', 'https://s-media-cache-ak0.pinimg.com/236x/6a/c2/4b/6ac24bdb9e1515f322bd5aa79d9b60e3.jpg', 'https://s-media-cache-ak0.pinimg.com/236x/ac/95/40/ac9540a541e34542754039bc8adf880e.jpg', 'https://s-media-cache-ak0.pinimg.com/236x/c7/03/3f/c7033fc2f74c60c08ea662686b37c270.jpg', 'https://s-media-cache-ak0.pinimg.com/236x/16/f5/17/16f517feb22406d8def1019d2af840e4.jpg', 'https://s-media-cache-ak0.pinimg.com/236x/7c/d8/47/7cd8473449f1b26ccf1b69baddd58ad9.jpg', 'https://s-media-cache-ak0.pinimg.com/236x/d4/6e/5c/d46e5c68dbfc2fb4fb547f670e57d6fa.jpg', 'https://s-media-cache-ak0.pinimg.com/236x/1f/47/3f/1f473f1061f1d5e33dfae9159cc335cd.jpg', 'https://s-media-cache-ak0.pinimg.com/236x/9c/59/e2/9c59e2459c7be4dd2281db42aca80a4f.jpg', 'https://s-media-cache-ak0.pinimg.com/236x/a9/c3/b2/a9c3b2b6c5411469744d03ab7762663c.jpg', 'https://s-media-cache-ak0.pinimg.com/236x/57/54/01/5754011de353ba0e910af28b0f2af131.jpg', 'https://s-media-cache-ak0.pinimg.com/236x/3e/b8/3f/3eb83f10a141ecb63419b747a22ff0d4.jpg', 'https://s-media-cache-ak0.pinimg.com/236x/3d/92/85/3d9285c6397a2adf64731f19abbefbf1.jpg', 'https://s-media-cache-ak0.pinimg.com/236x/a7/1f/52/a71f523891436a4ec994a82a4d57d49d.jpg']\n",
      "['https://s-media-cache-ak0.pinimg.com/236x/4d/41/fd/4d41fde25b579820917f0facd1b4c5b5.jpg', 'https://s-media-cache-ak0.pinimg.com/236x/d4/9c/ab/d49caba76fd76e0a82e19307a6dfa0bc.jpg', 'https://s-media-cache-ak0.pinimg.com/236x/3b/59/cd/3b59cd315285b57456250cae667895a4.jpg', 'https://s-media-cache-ak0.pinimg.com/236x/62/1a/aa/621aaa8e707e6eb87f692e754f39b981.jpg', 'https://s-media-cache-ak0.pinimg.com/236x/b7/4f/0a/b74f0a97767111cba5e294988a38ffb5.jpg', 'https://s-media-cache-ak0.pinimg.com/236x/9f/9a/0b/9f9a0beb48c93a03f08caa93a3e2d82e.jpg', 'https://s-media-cache-ak0.pinimg.com/236x/5e/0f/4c/5e0f4c79a3ca0069a65ef986c9912773.jpg', 'https://s-media-cache-ak0.pinimg.com/236x/ac/3d/e2/ac3de2572c8d252a07cee7cbf134b886.jpg', 'https://s-media-cache-ak0.pinimg.com/236x/be/11/c4/be11c4775c5e83c6bc80b4052b6b4d00.jpg', 'https://s-media-cache-ak0.pinimg.com/236x/68/1e/0b/681e0b7b9c05c6537ea96e0cd7079018.jpg', 'https://s-media-cache-ak0.pinimg.com/236x/6a/c2/4b/6ac24bdb9e1515f322bd5aa79d9b60e3.jpg', 'https://s-media-cache-ak0.pinimg.com/236x/ac/95/40/ac9540a541e34542754039bc8adf880e.jpg', 'https://s-media-cache-ak0.pinimg.com/236x/c7/03/3f/c7033fc2f74c60c08ea662686b37c270.jpg', 'https://s-media-cache-ak0.pinimg.com/236x/16/f5/17/16f517feb22406d8def1019d2af840e4.jpg', 'https://s-media-cache-ak0.pinimg.com/236x/7c/d8/47/7cd8473449f1b26ccf1b69baddd58ad9.jpg', 'https://s-media-cache-ak0.pinimg.com/236x/d4/6e/5c/d46e5c68dbfc2fb4fb547f670e57d6fa.jpg', 'https://s-media-cache-ak0.pinimg.com/236x/1f/47/3f/1f473f1061f1d5e33dfae9159cc335cd.jpg', 'https://s-media-cache-ak0.pinimg.com/236x/9c/59/e2/9c59e2459c7be4dd2281db42aca80a4f.jpg', 'https://s-media-cache-ak0.pinimg.com/236x/a9/c3/b2/a9c3b2b6c5411469744d03ab7762663c.jpg', 'https://s-media-cache-ak0.pinimg.com/236x/57/54/01/5754011de353ba0e910af28b0f2af131.jpg', 'https://s-media-cache-ak0.pinimg.com/236x/3e/b8/3f/3eb83f10a141ecb63419b747a22ff0d4.jpg', 'https://s-media-cache-ak0.pinimg.com/236x/3d/92/85/3d9285c6397a2adf64731f19abbefbf1.jpg', 'https://s-media-cache-ak0.pinimg.com/236x/a7/1f/52/a71f523891436a4ec994a82a4d57d49d.jpg', 'https://s-media-cache-ak0.pinimg.com/236x/3e/a2/b4/3ea2b4f4619ee5883b5ff8666bd7c71c.jpg']\n",
      "['https://s-media-cache-ak0.pinimg.com/236x/4d/41/fd/4d41fde25b579820917f0facd1b4c5b5.jpg', 'https://s-media-cache-ak0.pinimg.com/236x/d4/9c/ab/d49caba76fd76e0a82e19307a6dfa0bc.jpg', 'https://s-media-cache-ak0.pinimg.com/236x/3b/59/cd/3b59cd315285b57456250cae667895a4.jpg', 'https://s-media-cache-ak0.pinimg.com/236x/62/1a/aa/621aaa8e707e6eb87f692e754f39b981.jpg', 'https://s-media-cache-ak0.pinimg.com/236x/b7/4f/0a/b74f0a97767111cba5e294988a38ffb5.jpg', 'https://s-media-cache-ak0.pinimg.com/236x/9f/9a/0b/9f9a0beb48c93a03f08caa93a3e2d82e.jpg', 'https://s-media-cache-ak0.pinimg.com/236x/5e/0f/4c/5e0f4c79a3ca0069a65ef986c9912773.jpg', 'https://s-media-cache-ak0.pinimg.com/236x/ac/3d/e2/ac3de2572c8d252a07cee7cbf134b886.jpg', 'https://s-media-cache-ak0.pinimg.com/236x/be/11/c4/be11c4775c5e83c6bc80b4052b6b4d00.jpg', 'https://s-media-cache-ak0.pinimg.com/236x/68/1e/0b/681e0b7b9c05c6537ea96e0cd7079018.jpg', 'https://s-media-cache-ak0.pinimg.com/236x/6a/c2/4b/6ac24bdb9e1515f322bd5aa79d9b60e3.jpg', 'https://s-media-cache-ak0.pinimg.com/236x/ac/95/40/ac9540a541e34542754039bc8adf880e.jpg', 'https://s-media-cache-ak0.pinimg.com/236x/c7/03/3f/c7033fc2f74c60c08ea662686b37c270.jpg', 'https://s-media-cache-ak0.pinimg.com/236x/16/f5/17/16f517feb22406d8def1019d2af840e4.jpg', 'https://s-media-cache-ak0.pinimg.com/236x/7c/d8/47/7cd8473449f1b26ccf1b69baddd58ad9.jpg', 'https://s-media-cache-ak0.pinimg.com/236x/d4/6e/5c/d46e5c68dbfc2fb4fb547f670e57d6fa.jpg', 'https://s-media-cache-ak0.pinimg.com/236x/1f/47/3f/1f473f1061f1d5e33dfae9159cc335cd.jpg', 'https://s-media-cache-ak0.pinimg.com/236x/9c/59/e2/9c59e2459c7be4dd2281db42aca80a4f.jpg', 'https://s-media-cache-ak0.pinimg.com/236x/a9/c3/b2/a9c3b2b6c5411469744d03ab7762663c.jpg', 'https://s-media-cache-ak0.pinimg.com/236x/57/54/01/5754011de353ba0e910af28b0f2af131.jpg', 'https://s-media-cache-ak0.pinimg.com/236x/3e/b8/3f/3eb83f10a141ecb63419b747a22ff0d4.jpg', 'https://s-media-cache-ak0.pinimg.com/236x/3d/92/85/3d9285c6397a2adf64731f19abbefbf1.jpg', 'https://s-media-cache-ak0.pinimg.com/236x/a7/1f/52/a71f523891436a4ec994a82a4d57d49d.jpg', 'https://s-media-cache-ak0.pinimg.com/236x/3e/a2/b4/3ea2b4f4619ee5883b5ff8666bd7c71c.jpg', 'https://s-media-cache-ak0.pinimg.com/236x/d4/44/96/d44496f6c79ecfa86e16b8154d233def.jpg']\n"
     ]
    }
   ],
   "source": [
    "# get all the pinterest permalinks (note: not the original links!)\n",
    "links = []\n",
    "for link in soup(\"img\", class_=\"pinImg fullBleed\"):\n",
    "    links.append(link['src'])\n",
    "    print links"
   ]
  },
  {
   "cell_type": "code",
   "execution_count": 77,
   "metadata": {
    "collapsed": false
   },
   "outputs": [],
   "source": [
    "# get all the pinterest names to use for files \n",
    "# names = []\n",
    "# for link in soup(\"img\", class_=\"pinImg fullBleed\"):\n",
    "  #  names.append(link['alt'][:10])"
   ]
  },
  {
   "cell_type": "code",
   "execution_count": 68,
   "metadata": {
    "collapsed": false
   },
   "outputs": [
    {
     "name": "stdout",
     "output_type": "stream",
     "text": [
      "['c5b5.jpg', 'a0bc.jpg', '95a4.jpg', 'b981.jpg', 'ffb5.jpg', 'd82e.jpg', '2773.jpg', 'b886.jpg', '4d00.jpg', '9018.jpg', '60e3.jpg', '880e.jpg', 'c270.jpg', '40e4.jpg', '8ad9.jpg', 'd6fa.jpg', '35cd.jpg', '0a4f.jpg', '663c.jpg', 'f131.jpg', 'f0d4.jpg', 'fbf1.jpg', 'd49d.jpg', 'c71c.jpg', '3def.jpg']\n"
     ]
    }
   ],
   "source": [
    "extensions = []\n",
    "for link in soup(\"img\", class_=\"pinImg fullBleed\"):\n",
    "    extensions.append(link['src'][-8:])\n",
    "    \n",
    "print extensions"
   ]
  },
  {
   "cell_type": "code",
   "execution_count": 2,
   "metadata": {
    "collapsed": false
   },
   "outputs": [],
   "source": [
    "import urllib"
   ]
  },
  {
   "cell_type": "code",
   "execution_count": 3,
   "metadata": {
    "collapsed": false
   },
   "outputs": [
    {
     "data": {
      "text/plain": [
       "('/Users/Rachel1/Desktop/Hair/test.jpg',\n",
       " <httplib.HTTPMessage instance at 0x1048e6a70>)"
      ]
     },
     "execution_count": 3,
     "metadata": {},
     "output_type": "execute_result"
    }
   ],
   "source": [
    "# Test - downloads single picture and specifies file destination\n",
    "urllib.urlretrieve(\"https://s-media-cache-ak0.pinimg.com/236x/ae/c2/5c/aec25c4d9c2bb0b0d4400955b19aad3f.jpg\",\"/Users/Rachel1/Desktop/Hair/test.jpg\")"
   ]
  },
  {
   "cell_type": "code",
   "execution_count": 71,
   "metadata": {
    "collapsed": false
   },
   "outputs": [
    {
     "name": "stdout",
     "output_type": "stream",
     "text": [
      "['/Users/Rachel1/Desktop/Hair/placeholderc5b5.jpg', '/Users/Rachel1/Desktop/Hair/placeholdera0bc.jpg', '/Users/Rachel1/Desktop/Hair/placeholder95a4.jpg', '/Users/Rachel1/Desktop/Hair/placeholderb981.jpg', '/Users/Rachel1/Desktop/Hair/placeholderffb5.jpg', '/Users/Rachel1/Desktop/Hair/placeholderd82e.jpg', '/Users/Rachel1/Desktop/Hair/placeholder2773.jpg', '/Users/Rachel1/Desktop/Hair/placeholderb886.jpg', '/Users/Rachel1/Desktop/Hair/placeholder4d00.jpg', '/Users/Rachel1/Desktop/Hair/placeholder9018.jpg', '/Users/Rachel1/Desktop/Hair/placeholder60e3.jpg', '/Users/Rachel1/Desktop/Hair/placeholder880e.jpg', '/Users/Rachel1/Desktop/Hair/placeholderc270.jpg', '/Users/Rachel1/Desktop/Hair/placeholder40e4.jpg', '/Users/Rachel1/Desktop/Hair/placeholder8ad9.jpg', '/Users/Rachel1/Desktop/Hair/placeholderd6fa.jpg', '/Users/Rachel1/Desktop/Hair/placeholder35cd.jpg', '/Users/Rachel1/Desktop/Hair/placeholder0a4f.jpg', '/Users/Rachel1/Desktop/Hair/placeholder663c.jpg', '/Users/Rachel1/Desktop/Hair/placeholderf131.jpg', '/Users/Rachel1/Desktop/Hair/placeholderf0d4.jpg', '/Users/Rachel1/Desktop/Hair/placeholderfbf1.jpg', '/Users/Rachel1/Desktop/Hair/placeholderd49d.jpg', '/Users/Rachel1/Desktop/Hair/placeholderc71c.jpg', '/Users/Rachel1/Desktop/Hair/placeholder3def.jpg']\n"
     ]
    }
   ],
   "source": [
    "fileloc = [\"/Users/Rachel1/Desktop/Hair/\"]*len(extensions)\n",
    "placeholders = [\"placeholder\"]*len(extensions)\n",
    "\n",
    "folders = []\n",
    "\n",
    "for i in xrange(len(names)):\n",
    "    folders.append(\"%s%s%s\" % (fileloc[i],placeholders[i],extensions[i]))\n",
    "    \n",
    "print folders"
   ]
  },
  {
   "cell_type": "code",
   "execution_count": 84,
   "metadata": {
    "collapsed": false
   },
   "outputs": [],
   "source": [
    "def getstuff(a,b):\n",
    "    urllib.urlretrieve(a,b)\n",
    "    \n",
    "getstuff(\"https://s-media-cache-ak0.pinimg.com/236x/ae/c2/5c/aec25c4d9c2bb0b0d4400955b19aad3f.jpg\",\"/Users/Rachel1/Desktop/Hair/test.jpg\")"
   ]
  },
  {
   "cell_type": "code",
   "execution_count": 88,
   "metadata": {
    "collapsed": false
   },
   "outputs": [
    {
     "name": "stdout",
     "output_type": "stream",
     "text": [
      "h\n"
     ]
    }
   ],
   "source": [
    "print "
   ]
  },
  {
   "cell_type": "code",
   "execution_count": 90,
   "metadata": {
    "collapsed": false
   },
   "outputs": [],
   "source": [
    "for link, folder in zip(links, folders):\n",
    "    getstuff(link, folder)      \n",
    "    \n",
    "    # IT WORKED!!!!!"
   ]
  },
  {
   "cell_type": "code",
   "execution_count": 102,
   "metadata": {
    "collapsed": false
   },
   "outputs": [
    {
     "data": {
      "text/plain": [
       "[]"
      ]
     },
     "execution_count": 102,
     "metadata": {},
     "output_type": "execute_result"
    }
   ],
   "source": []
  },
  {
   "cell_type": "code",
   "execution_count": 101,
   "metadata": {
    "collapsed": false
   },
   "outputs": [
    {
     "name": "stdout",
     "output_type": "stream",
     "text": [
      "[]\n",
      "[]\n"
     ]
    }
   ],
   "source": []
  }
 ],
 "metadata": {
  "kernelspec": {
   "display_name": "Python 2",
   "language": "python",
   "name": "python2"
  },
  "language_info": {
   "codemirror_mode": {
    "name": "ipython",
    "version": 2
   },
   "file_extension": ".py",
   "mimetype": "text/x-python",
   "name": "python",
   "nbconvert_exporter": "python",
   "pygments_lexer": "ipython2",
   "version": "2.7.10"
  }
 },
 "nbformat": 4,
 "nbformat_minor": 0
}
