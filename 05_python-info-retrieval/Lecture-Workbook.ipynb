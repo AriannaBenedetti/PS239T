{
 "cells": [
  {
   "cell_type": "markdown",
   "metadata": {},
   "source": [
    "# Lecture Notes + Exercises: Information Retrieval"
   ]
  },
  {
   "cell_type": "markdown",
   "metadata": {},
   "source": [
    "In this unit, we'll use python to turn a bunch of loose text documents into a real-life database. (Note: This database was created for a project by R. Terman and E. Voeten, and was processed using much the same process as you'll be learning here.)\n",
    "\n",
    "The lecture and problem set will leverage your new python skills, especially working with text, lists, and dictionaries; writing for-loops, conditional statements, and functions; and \"thinking\" like a programmer.\n",
    "\n",
    "**About the Data**\n",
    "\n",
    "We'll be creating a database from [Universal Period Review outcome reports](http://www.ohchr.org/EN/HRBodies/UPR/Pages/BasicFacts.aspx).\n",
    "\n",
    "The Universal Periodic Review (UPR) is a process run by the United Nations Human Rights Council, which involves a periodic review of the human rights records of all 193 UN Member States.\n",
    "\n",
    "Reviews take place through an interactive discussion between the State under review and other UN Member States. During this discussion any UN Member State can pose questions, comments and/or make recommendations to the States under review. States under review can then respond, stating which recommendations they reject, accept, will consider, etc. Reports are then drawn up detailing this discussion.\n",
    "\n",
    "We will be analyzing outcome reports from the 2014 Universal Period Reviews of 42 countries, which we retrieved [here](http://www.ohchr.org/EN/HRBodies/UPR/Pages/Documentation.aspx) and formatted as text documents.\n",
    "\n",
    "The goal is to convert these semi-structured texts to a tabular dataset of **recommendations** with the following variables:\n",
    "\n",
    "1. Text of recommendation (*text*)\n",
    "2. Country to which the recommendation is directed (*to*)\n",
    "3. Country that is making the recommendation (*from*)\n",
    "4. The year when the review took place (*year*)\n",
    "5. The response to the recommendation, i.e. whether the reviewed country rejects, accepts, etc (*decision*)\n",
    "\n",
    "In other words, we want to turn this:\n",
    "\n",
    "<img src=\"img/text.png\" width=\"600\">\n",
    "\n",
    "into this:\n",
    "\n",
    "<img src=\"img/tabular.png\" width=\"400\">\n",
    "\n"
   ]
  },
  {
   "cell_type": "markdown",
   "metadata": {},
   "source": [
    "___"
   ]
  },
  {
   "cell_type": "markdown",
   "metadata": {},
   "source": [
    "# Part 1: Reading Data\n",
    "\n",
    "During lecture, we'll be completing the first part of our project: reading and structuring data from our text files. Specifically, we need to know how to:\n",
    "\n",
    "1. Read filenames from a directory\n",
    "2. Read data from a single file\n",
    "3. Clean the text to select only the information we care about and format it in a way that's easy to work with\n",
    "4. Repeat steps 2-3 above by looping through all files in our directory, reading, cleaning, and structuring as we go\n",
    "\n",
    "First let's start by importing some helpful modules"
   ]
  },
  {
   "cell_type": "code",
   "execution_count": 1,
   "metadata": {
    "collapsed": true
   },
   "outputs": [],
   "source": [
    "import os\n",
    "import re\n",
    "import csv\n",
    "from operator import itemgetter\n",
    "from itertools import groupby"
   ]
  },
  {
   "cell_type": "markdown",
   "metadata": {},
   "source": [
    "## 1. Read filenames from directory"
   ]
  },
  {
   "cell_type": "markdown",
   "metadata": {},
   "source": [
    "First let's assign a variable `dir` containing the relative path to our text files."
   ]
  },
  {
   "cell_type": "code",
   "execution_count": 28,
   "metadata": {
    "collapsed": true
   },
   "outputs": [],
   "source": [
    "dir = 'data/txts'"
   ]
  },
  {
   "cell_type": "markdown",
   "metadata": {},
   "source": [
    "### 1.1 \n",
    "\n",
    "Print every filename in the directory 'data/txts'"
   ]
  },
  {
   "cell_type": "code",
   "execution_count": null,
   "metadata": {
    "collapsed": false
   },
   "outputs": [],
   "source": [
    "# YOUR CODE HERE"
   ]
  },
  {
   "cell_type": "markdown",
   "metadata": {},
   "source": [
    "### 1.2 \n",
    "\n",
    "Print only the filenames that endswith \".txt\" (hint: used the `endswith` method)"
   ]
  },
  {
   "cell_type": "code",
   "execution_count": null,
   "metadata": {
    "collapsed": false
   },
   "outputs": [],
   "source": [
    "# YOUR CODE HERE"
   ]
  },
  {
   "cell_type": "markdown",
   "metadata": {},
   "source": [
    "### 1.3 \n",
    "\n",
    "Print the full (relative) directory path of each filename ending with \".txt.\" For example, the first one should be \"raw-data/txts/afghanistan2014.txt\""
   ]
  },
  {
   "cell_type": "code",
   "execution_count": null,
   "metadata": {
    "collapsed": false
   },
   "outputs": [],
   "source": [
    "# YOUR CODE HERE"
   ]
  },
  {
   "cell_type": "markdown",
   "metadata": {},
   "source": [
    "### 1.4 \n",
    "\n",
    "Using the filename, print the country each document is about (hint: use slicing)"
   ]
  },
  {
   "cell_type": "code",
   "execution_count": null,
   "metadata": {
    "collapsed": false
   },
   "outputs": [],
   "source": [
    "# YOUR CODE HERE"
   ]
  },
  {
   "cell_type": "markdown",
   "metadata": {},
   "source": [
    "___"
   ]
  },
  {
   "cell_type": "markdown",
   "metadata": {},
   "source": [
    "## 2. Read data from a single file"
   ]
  },
  {
   "cell_type": "markdown",
   "metadata": {},
   "source": [
    "Let's work with just one text, \"cotedivoire2014.txt\"."
   ]
  },
  {
   "cell_type": "code",
   "execution_count": 6,
   "metadata": {
    "collapsed": true
   },
   "outputs": [],
   "source": [
    "file_name = \"cotedivoire2014.txt\""
   ]
  },
  {
   "cell_type": "markdown",
   "metadata": {},
   "source": [
    "### 2.1\n",
    "\n",
    "Create a dictionary called `upr` that stores the `'country'` and `'year'` keys from the `file_name`."
   ]
  },
  {
   "cell_type": "code",
   "execution_count": 36,
   "metadata": {
    "collapsed": false
   },
   "outputs": [
    {
     "data": {
      "text/plain": [
       "{'country': 'tuvalu', 'year': '2013'}"
      ]
     },
     "execution_count": 36,
     "metadata": {},
     "output_type": "execute_result"
    }
   ],
   "source": [
    "upr = {}\n",
    "upr['country'] = file_name[:-8]\n",
    "upr['year'] = file_name[-8:-4]\n",
    "upr"
   ]
  },
  {
   "cell_type": "markdown",
   "metadata": {},
   "source": [
    "### 2.2 \n",
    "\n",
    "Read the file into an object called `text`, then make sure to close the file. Be sure to read in the file as universal line mode, or `'rU'`. Later, we'll put this object in the dictionary we just made above."
   ]
  },
  {
   "cell_type": "code",
   "execution_count": 8,
   "metadata": {
    "collapsed": false
   },
   "outputs": [],
   "source": [
    "# YOUR CODE HERE"
   ]
  },
  {
   "cell_type": "code",
   "execution_count": 9,
   "metadata": {
    "collapsed": false
   },
   "outputs": [
    {
     "data": {
      "text/plain": [
       "'\\nDistr.: General 7 July 2014 English Original: English/French \\nGeneral Assembly \\nHuman Rights Council Twenty-seventh session \\nAgenda item 6 \\nUniversal Periodic Review \\nReport of the Working Group on the Universal Periodic Review* \\nC\\x99te d\\xd5Ivoire \\n* The annex to the present report is circulated as received. \\n\\nGE.14-07583  (E)    280714 300714 \\n*1407583* \\nContents \\n\\nParagraphs Page \\nIntroduction............................................................................................................. 1\\xd04 3 \\n\\nI. Summary of the proceedings of the review process................................................ 5\\xd0126 3 \\n\\nA. Presentation by the State under review........................................................... 5\\xd021 3 \\n\\nB. Interactive dialogue and responses by the State under review........................ 22\\xd0126 5 \\n\\nII. Conclusions and/or recommendations .................................................................... 127\\xd0130 14  Annex Composition of the delegation ............'"
      ]
     },
     "execution_count": 9,
     "metadata": {},
     "output_type": "execute_result"
    }
   ],
   "source": [
    "# take a look at the first 1000 characters\n",
    "text[:1000]"
   ]
  },
  {
   "cell_type": "markdown",
   "metadata": {},
   "source": [
    "___"
   ]
  },
  {
   "cell_type": "markdown",
   "metadata": {},
   "source": [
    "## 3. Clean the text"
   ]
  },
  {
   "cell_type": "markdown",
   "metadata": {},
   "source": [
    "### 3.1 \n",
    "\n",
    "Split `text` into a list of lines."
   ]
  },
  {
   "cell_type": "code",
   "execution_count": null,
   "metadata": {
    "collapsed": true
   },
   "outputs": [],
   "source": [
    "# YOUR CODE HERE"
   ]
  },
  {
   "cell_type": "code",
   "execution_count": 30,
   "metadata": {
    "collapsed": false
   },
   "outputs": [
    {
     "name": "stdout",
     "output_type": "stream",
     "text": [
      "100\n"
     ]
    },
    {
     "data": {
      "text/plain": [
       "['82.3. Continue its efforts to accede to the remaining core international human rights treaties, which will strengthen the domestic legislation with regard to the promotion and protection of human rights, including freedom of religion or belief (Turkey); ',\n",
       " '82.4. Work closely with the OHCHR and the Council for considering eventual participation to the core international instruments on human rights (Viet Nam); ',\n",
       " '82.5. Further continue internal consultations and request the technical assistance of relevant UN institutions with regards to the accession to the core international human rights treaties (Azerbaijan); ',\n",
       " '82.6. Increase efforts to swiftly ratify fundamental treaties on human rights, such as ICCPR and ICESCR, also by taking advantage of the available international technical assistance to address possible shortcomings in fulfilling the requirements of the international treaties (Italy); ',\n",
       " '82.7. Put in place, with the technical cooperation of OHCHR and the financial support of the donor\\xd5s community, a sustained human rights training process for government authorities, the People\\xd5s Lawyers Office, officials of the justice system and inhabitants of the country, in order to begin with a ratification process, or when applicable, accession, to the main international human rights treaties, including the Rome Statute of the International Criminal Court (Uruguay); ',\n",
       " '82.8. Ratify the Rome Statute of the International Criminal Court as soon as possible (Australia); ',\n",
       " '82.9. Ratify the Rome Statute of the International Criminal Court and accede to the Agreement on the Privileges and Immunities of the ICC (Estonia); ',\n",
       " '82.10. Accelerate the process of legislative compliance review, mentioned in the state report, in order to ratify the core human rights treaties, in particular the ICCPR (Hungary); ',\n",
       " '82.11. Consider becoming party to the Optional Protocols to the CRC (Thailand); ',\n",
       " '82.12. Consider signing and ratifying the new Optional Protocol to the CRC on a communications procedure (Slovakia); ',\n",
       " '82.13. Continue its efforts to harmonize its national legislation with international human rights instruments (Morocco); ',\n",
       " '82.14. Continue progress towards passage of subordinate legislation and full implementation of the Police Service Act 2009 and the Police Powers and Duties Act 2009 (Australia); ']"
      ]
     },
     "execution_count": 30,
     "metadata": {},
     "output_type": "execute_result"
    }
   ],
   "source": [
    "# test\n",
    "print len(text)\n",
    "text[3:15]"
   ]
  },
  {
   "cell_type": "markdown",
   "metadata": {},
   "source": [
    "### 3.2 \n",
    "\n",
    "Delete all empty lines from x"
   ]
  },
  {
   "cell_type": "code",
   "execution_count": null,
   "metadata": {
    "collapsed": false
   },
   "outputs": [],
   "source": [
    "text = filter(None,text)"
   ]
  },
  {
   "cell_type": "markdown",
   "metadata": {},
   "source": [
    "### 3.3 \n",
    "\n",
    "We want to slice the text so that we only keep the part in the \"Conclusions and/or Recommendations\" section. \n",
    "\n",
    "Find all lines that mention the phrase \"conclusions and/or recommendations\" in it, case insensitive. Put all of thse lines, into a list called `conclusionsList`"
   ]
  },
  {
   "cell_type": "code",
   "execution_count": null,
   "metadata": {
    "collapsed": false
   },
   "outputs": [],
   "source": [
    "# YOUR CODE HERE"
   ]
  },
  {
   "cell_type": "markdown",
   "metadata": {},
   "source": [
    "### 3.4 \n",
    "\n",
    "Notice that the section starts with the second mention of \"conclusions and/or recommendations\" (the first is the table of contents) and ends with the third mention. \n",
    "\n",
    "Make two objects called ConclusionsStart and ConclusionsEnd, containing the index of the second and third mention \"conclusions and/or recommendations\", respectively). Hint: Use the `index()` method"
   ]
  },
  {
   "cell_type": "code",
   "execution_count": null,
   "metadata": {
    "collapsed": false
   },
   "outputs": [],
   "source": [
    "# YOUR CODE HERE"
   ]
  },
  {
   "cell_type": "markdown",
   "metadata": {},
   "source": [
    "### 3.5 \n",
    "\n",
    "Using these indeces, slice the `text` list so that it only contains the lines in the section we want (including both the start and end paragraphs you identified above)"
   ]
  },
  {
   "cell_type": "code",
   "execution_count": null,
   "metadata": {
    "collapsed": true
   },
   "outputs": [],
   "source": [
    "# YOUR CODE HERE"
   ]
  },
  {
   "cell_type": "code",
   "execution_count": 31,
   "metadata": {
    "collapsed": false
   },
   "outputs": [
    {
     "data": {
      "text/plain": [
       "['82. The recommendations formulated during the interactive dialogue listed below enjoy the support of Tuvalu: ',\n",
       " '82.1. Continue the efforts to achieve accession to the main human rights international instruments and their consistent incorporation into domestic legislation (Costa Rica); ',\n",
       " '82.2. Consider ratifying new international human rights instruments which would assist in strengthening its legal and institutional framework for the promotion and protection of human rights (Nicaragua); ',\n",
       " '82.3. Continue its efforts to accede to the remaining core international human rights treaties, which will strengthen the domestic legislation with regard to the promotion and protection of human rights, including freedom of religion or belief (Turkey); ',\n",
       " '82.4. Work closely with the OHCHR and the Council for considering eventual participation to the core international instruments on human rights (Viet Nam); ',\n",
       " '82.5. Further continue internal consultations and request the technical assistance of relevant UN institutions with regards to the accession to the core international human rights treaties (Azerbaijan); ',\n",
       " '82.6. Increase efforts to swiftly ratify fundamental treaties on human rights, such as ICCPR and ICESCR, also by taking advantage of the available international technical assistance to address possible shortcomings in fulfilling the requirements of the international treaties (Italy); ',\n",
       " '82.7. Put in place, with the technical cooperation of OHCHR and the financial support of the donor\\xd5s community, a sustained human rights training process for government authorities, the People\\xd5s Lawyers Office, officials of the justice system and inhabitants of the country, in order to begin with a ratification process, or when applicable, accession, to the main international human rights treaties, including the Rome Statute of the International Criminal Court (Uruguay); ',\n",
       " '82.8. Ratify the Rome Statute of the International Criminal Court as soon as possible (Australia); ',\n",
       " '82.9. Ratify the Rome Statute of the International Criminal Court and accede to the Agreement on the Privileges and Immunities of the ICC (Estonia); ',\n",
       " '82.10. Accelerate the process of legislative compliance review, mentioned in the state report, in order to ratify the core human rights treaties, in particular the ICCPR (Hungary); ',\n",
       " '82.11. Consider becoming party to the Optional Protocols to the CRC (Thailand); ',\n",
       " '82.12. Consider signing and ratifying the new Optional Protocol to the CRC on a communications procedure (Slovakia); ',\n",
       " '82.13. Continue its efforts to harmonize its national legislation with international human rights instruments (Morocco); ',\n",
       " '82.14. Continue progress towards passage of subordinate legislation and full implementation of the Police Service Act 2009 and the Police Powers and Duties Act 2009 (Australia); ']"
      ]
     },
     "execution_count": 31,
     "metadata": {},
     "output_type": "execute_result"
    }
   ],
   "source": [
    "# test\n",
    "text[:15]"
   ]
  },
  {
   "cell_type": "markdown",
   "metadata": {},
   "source": [
    "### 3.6 \n",
    "\n",
    "We'd like to remove some paragraphs in this list that don't mean anything to us."
   ]
  },
  {
   "cell_type": "code",
   "execution_count": null,
   "metadata": {
    "collapsed": true
   },
   "outputs": [],
   "source": [
    "text = [line for line in text if '**' not in line]\n",
    "text = [line for line in text if 'recommendations have not been edited.' not in line]\n",
    "text = [line for line in text if 'recommendations will not be edited.' not in line]"
   ]
  },
  {
   "cell_type": "code",
   "execution_count": 37,
   "metadata": {
    "collapsed": false
   },
   "outputs": [
    {
     "data": {
      "text/plain": [
       "['84.23. Adopt, as a matter of priority, all legal and administrative measures to prohibit and punish corporal punishment of children in all settings, including at home (Uruguay); ',\n",
       " '84.24. Adopt legal and administrative measures to eliminate all forms of corporal punishment of children (Chile); ',\n",
       " '84.25. Adopt necessary legislative and administrative measures to guarantee freedom of religion (Mexico); ',\n",
       " '84.26. Make changes to the Constitution Amendment Act of 2010 to fully guarantee freedom of religion or belief (Canada); ',\n",
       " '84.27. Amend or repeal the Religious Organisations Act so as to establish a legal framework ensuring that everyone is free to practice his or her own religious faith without penalty (Ireland). ']"
      ]
     },
     "execution_count": 37,
     "metadata": {},
     "output_type": "execute_result"
    }
   ],
   "source": [
    "text[-5:]"
   ]
  },
  {
   "cell_type": "markdown",
   "metadata": {},
   "source": [
    "### 3.7 \n",
    "\n",
    "Notice how the last few lines are split, with the paragraph number and text on different lines -- deviating from the pattern of the rest of the text. Let's fix that using a `while` loop.\n",
    "\n",
    "Check it out and try to comprehend what it's doing"
   ]
  },
  {
   "cell_type": "code",
   "execution_count": 20,
   "metadata": {
    "collapsed": true
   },
   "outputs": [],
   "source": [
    "# merge lines so that each number starts with a number\n",
    "def mergeLines(l):\n",
    "    '''\n",
    "    This function takes in a list of lines `l` and merge broken paragraph lines \n",
    "    (merge all lines if they don't start with a number)\n",
    "    '''\n",
    "    i = 0\n",
    "    while i < len(l):\n",
    "        if not l[i][0].isdigit():\n",
    "            l[i-1:i+1] = [' '.join(l[i-1:i+1])]\n",
    "        else:\n",
    "            i = i+1\n",
    "    return(l)"
   ]
  },
  {
   "cell_type": "markdown",
   "metadata": {},
   "source": [
    "Now let's apply that function to our `text`"
   ]
  },
  {
   "cell_type": "code",
   "execution_count": 21,
   "metadata": {
    "collapsed": false
   },
   "outputs": [],
   "source": [
    "text = mergeLines(text)"
   ]
  },
  {
   "cell_type": "code",
   "execution_count": 32,
   "metadata": {
    "collapsed": false
   },
   "outputs": [
    {
     "data": {
      "text/plain": [
       "['84.23. Adopt, as a matter of priority, all legal and administrative measures to prohibit and punish corporal punishment of children in all settings, including at home (Uruguay); ',\n",
       " '84.24. Adopt legal and administrative measures to eliminate all forms of corporal punishment of children (Chile); ',\n",
       " '84.25. Adopt necessary legislative and administrative measures to guarantee freedom of religion (Mexico); ',\n",
       " '84.26. Make changes to the Constitution Amendment Act of 2010 to fully guarantee freedom of religion or belief (Canada); ',\n",
       " '84.27. Amend or repeal the Religious Organisations Act so as to establish a legal framework ensuring that everyone is free to practice his or her own religious faith without penalty (Ireland). ']"
      ]
     },
     "execution_count": 32,
     "metadata": {},
     "output_type": "execute_result"
    }
   ],
   "source": [
    "# test\n",
    "text[-5:]"
   ]
  },
  {
   "cell_type": "markdown",
   "metadata": {},
   "source": [
    "### 3.8 \n",
    "\n",
    "We probably don't need that last line -- on how the conclusions don't reflect the position of the working group"
   ]
  },
  {
   "cell_type": "code",
   "execution_count": 33,
   "metadata": {
    "collapsed": false
   },
   "outputs": [],
   "source": [
    "#YOUR CODE HERE"
   ]
  },
  {
   "cell_type": "code",
   "execution_count": 34,
   "metadata": {
    "collapsed": false
   },
   "outputs": [
    {
     "data": {
      "text/plain": [
       "['82. The recommendations formulated during the interactive dialogue listed below enjoy the support of Tuvalu: ',\n",
       " '82.1. Continue the efforts to achieve accession to the main human rights international instruments and their consistent incorporation into domestic legislation (Costa Rica); ',\n",
       " '82.2. Consider ratifying new international human rights instruments which would assist in strengthening its legal and institutional framework for the promotion and protection of human rights (Nicaragua); ',\n",
       " '82.3. Continue its efforts to accede to the remaining core international human rights treaties, which will strengthen the domestic legislation with regard to the promotion and protection of human rights, including freedom of religion or belief (Turkey); ',\n",
       " '82.4. Work closely with the OHCHR and the Council for considering eventual participation to the core international instruments on human rights (Viet Nam); ',\n",
       " '82.5. Further continue internal consultations and request the technical assistance of relevant UN institutions with regards to the accession to the core international human rights treaties (Azerbaijan); ',\n",
       " '82.6. Increase efforts to swiftly ratify fundamental treaties on human rights, such as ICCPR and ICESCR, also by taking advantage of the available international technical assistance to address possible shortcomings in fulfilling the requirements of the international treaties (Italy); ',\n",
       " '82.7. Put in place, with the technical cooperation of OHCHR and the financial support of the donor\\xd5s community, a sustained human rights training process for government authorities, the People\\xd5s Lawyers Office, officials of the justice system and inhabitants of the country, in order to begin with a ratification process, or when applicable, accession, to the main international human rights treaties, including the Rome Statute of the International Criminal Court (Uruguay); ',\n",
       " '82.8. Ratify the Rome Statute of the International Criminal Court as soon as possible (Australia); ',\n",
       " '82.9. Ratify the Rome Statute of the International Criminal Court and accede to the Agreement on the Privileges and Immunities of the ICC (Estonia); ',\n",
       " '82.10. Accelerate the process of legislative compliance review, mentioned in the state report, in order to ratify the core human rights treaties, in particular the ICCPR (Hungary); ',\n",
       " '82.11. Consider becoming party to the Optional Protocols to the CRC (Thailand); ',\n",
       " '82.12. Consider signing and ratifying the new Optional Protocol to the CRC on a communications procedure (Slovakia); ',\n",
       " '82.13. Continue its efforts to harmonize its national legislation with international human rights instruments (Morocco); ',\n",
       " '82.14. Continue progress towards passage of subordinate legislation and full implementation of the Police Service Act 2009 and the Police Powers and Duties Act 2009 (Australia); ',\n",
       " '82.15. Step up its efforts to implement the Police Powers and Duties Act (PPDA) (Indonesia); ',\n",
       " '82.16. Intensify efforts to establish a National Human Rights Commission in order to consolidate and secure the gains made in promoting and protecting the human rights of the people of Tuvalu (Nigeria); ',\n",
       " '82.17. Pursue its efforts to create a national human rights institution (Turkey); ',\n",
       " '82.18. Maintain and strengthen efforts towards the establishment of a fully-fledged National Human Rights Institution (Brazil); ',\n",
       " '82.19. Step up efforts in implementing the current national priorities, including the policy for youth and women advancement, Education Strategic Plan, Climate Change Adaptation Program and the National Sustainable Development Strategy (Viet Nam); ']"
      ]
     },
     "execution_count": 34,
     "metadata": {},
     "output_type": "execute_result"
    }
   ],
   "source": [
    "text[:20]"
   ]
  },
  {
   "cell_type": "markdown",
   "metadata": {},
   "source": [
    "3.8 Now that we have cleaned text, let's put that list in our dictionary"
   ]
  },
  {
   "cell_type": "code",
   "execution_count": 25,
   "metadata": {
    "collapsed": false
   },
   "outputs": [
    {
     "data": {
      "text/plain": [
       "['country', 'text', 'year']"
      ]
     },
     "execution_count": 25,
     "metadata": {},
     "output_type": "execute_result"
    }
   ],
   "source": [
    "upr['text'] = text\n",
    "upr.keys()"
   ]
  },
  {
   "cell_type": "markdown",
   "metadata": {},
   "source": [
    "___"
   ]
  },
  {
   "cell_type": "markdown",
   "metadata": {},
   "source": [
    "## 4. Loop through Files"
   ]
  },
  {
   "cell_type": "markdown",
   "metadata": {},
   "source": [
    "4.1 Using the code you wrote above, loop through all the .txt files in the directory, structuring and cleaning the data as you go. Each txt file will be stored as a dictionary. Store each dictionary in a list."
   ]
  },
  {
   "cell_type": "code",
   "execution_count": null,
   "metadata": {
    "collapsed": false
   },
   "outputs": [],
   "source": [
    "#YOUR CODE HERE"
   ]
  },
  {
   "cell_type": "code",
   "execution_count": 35,
   "metadata": {
    "collapsed": false
   },
   "outputs": [
    {
     "name": "stdout",
     "output_type": "stream",
     "text": [
      "Country: afghanistan\n",
      "Year: 2014\n",
      "Text: ['136. The recommendations formulated during the interactive dialogue and listed below have been examined by Afghanistan and enjoy its support: ', '136.1 To further build up on its effort to fully protect human rights in the country (Ethiopia); ', '136.2 Continue and deepen efforts to firmly root human rights values and principles in the Government system, including through human rights training to state officials (Indonesia); ', '136.3 Make further efforts to ensure the implementation of the legal framework which guarantees human rights, including the Constitution (Japan); ', '136.4 Further fulfil the internationally taken human rights obligations as well as integrate them into the national legislation (Kazakhstan); ', '136.5 Further strengthen its efforts to review its legislative framework and make necessary adjustments to it in order to ensure that it is in conformity with Afghanistan\\xd5s international human rights obligations (Norway); ', '136.6 Accelerate domestication process of international human rights laws to which Afghanistan is a member, in particular the International Covenant on Civil and Political Rights, Convention on the Elimination of All Forms of Discrimination against Women and the Convention on the Rights of the Child (Viet Nam); ', '136.7 Continue the process of making domestic laws compliant with the international conventions to which Afghanistan is party (Bahrain); ', '136.8 Take necessary measures to implement a national public awareness campaign on human rights, especially women and children\\xd5s rights (Iran (Islamic Republic of)); ', '136.9 Support the establishment of human rights units within more ministries (Iraq); '] ...\n"
     ]
    }
   ],
   "source": [
    "# test\n",
    "first_upr = l[0]\n",
    "\n",
    "print \"Country:\", first_upr['country']\n",
    "print \"Year:\", first_upr['year']\n",
    "print \"Text:\", first_upr['text'][:10], \"...\""
   ]
  },
  {
   "cell_type": "markdown",
   "metadata": {
    "collapsed": true
   },
   "source": [
    "## What Next?\n",
    "\n",
    "What patterns do you see in the text that you think we can harness to make our tabular dataset?"
   ]
  },
  {
   "cell_type": "code",
   "execution_count": null,
   "metadata": {
    "collapsed": true
   },
   "outputs": [],
   "source": []
  }
 ],
 "metadata": {
  "kernelspec": {
   "display_name": "Python 2",
   "language": "python",
   "name": "python2"
  },
  "language_info": {
   "codemirror_mode": {
    "name": "ipython",
    "version": 2
   },
   "file_extension": ".py",
   "mimetype": "text/x-python",
   "name": "python",
   "nbconvert_exporter": "python",
   "pygments_lexer": "ipython2",
   "version": "2.7.9"
  }
 },
 "nbformat": 4,
 "nbformat_minor": 0
}
