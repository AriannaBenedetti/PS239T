{
 "cells": [
  {
   "cell_type": "markdown",
   "metadata": {},
   "source": [
    "# Problem Set 5: Information Retrieval\n",
    "\n",
    "## Part 2: Structuring + Manipulating Data\n",
    "\n",
    "In this problem set, you'll be continuing to work with the data you imported during lecture. You'll be structuring and manipulating that data to turn it into a tabular dataset.\n",
    "\n",
    "Specifically you'll be:\n",
    "\n",
    "1. Splitting the text into \"chunks\" that correspond to major sections\n",
    "2. Repeat steps in part 1 by creating a function and looping through documents\n",
    "3. Get information about specific recommendations\n",
    "4. Write a csv file from our data\n",
    "5. Writing an algorithm that does steps 1-4 will less structured data\n",
    "\n",
    "To get started, import the following modules and run the code from lecture"
   ]
  },
  {
   "cell_type": "code",
   "execution_count": 146,
   "metadata": {
    "collapsed": true
   },
   "outputs": [],
   "source": [
    "import os\n",
    "import re\n",
    "import csv\n",
    "from operator import itemgetter\n",
    "from itertools import groupby"
   ]
  },
  {
   "cell_type": "markdown",
   "metadata": {},
   "source": [
    "___"
   ]
  },
  {
   "cell_type": "markdown",
   "metadata": {},
   "source": [
    "## Preface: Run Code from Lecture\n",
    "\n",
    "Run the code below to get started"
   ]
  },
  {
   "cell_type": "code",
   "execution_count": 147,
   "metadata": {
    "collapsed": true
   },
   "outputs": [],
   "source": [
    "# merge lines so that each number starts with a number\n",
    "def mergeLines(l):\n",
    "    '''\n",
    "    This function takes in a list of lines `l` and merge broken paragraph lines \n",
    "    (merge all lines if they don't start with a number)\n",
    "    '''\n",
    "    i = 0\n",
    "    while i < len(l):\n",
    "        if not l[i][0].isdigit():\n",
    "            l[i-1:i+1] = [' '.join(l[i-1:i+1])]\n",
    "        else:\n",
    "            i = i+1\n",
    "    return(l)"
   ]
  },
  {
   "cell_type": "code",
   "execution_count": 148,
   "metadata": {
    "collapsed": false
   },
   "outputs": [
    {
     "name": "stdout",
     "output_type": "stream",
     "text": [
      "processing afghanistan2014.txt...\n",
      "processing albania2014.txt...\n",
      "processing bangladesh2013.txt...\n",
      "processing belize2013.txt...\n",
      "processing bolivia2014.txt...\n",
      "processing botswana2013.txt...\n",
      "processing cotedivoire2014.txt...\n",
      "processing djibouti2013.txt...\n",
      "processing elsalvador2014.txt...\n",
      "processing fiji2014.txt...\n",
      "processing jordan2013.txt...\n",
      "processing kazakhstan2014.txt...\n",
      "processing monaco2013.txt...\n",
      "processing montenegro2013.txt...\n",
      "processing sanmarino2014.txt...\n",
      "processing serbia2013.txt...\n",
      "processing turkmenistan2013.txt...\n",
      "processing tuvalu2013.txt...\n"
     ]
    }
   ],
   "source": [
    "l=[]\n",
    "dir = 'data/txts'\n",
    "for file_name in os.listdir(dir):\n",
    "    broken = []\n",
    "    if file_name.endswith(\".txt\"):\n",
    "        print 'processing ' + file_name + '...'\n",
    "        try:\n",
    "            dic = {}\n",
    "            dic['country'] = file_name[:-8]\n",
    "            dic['year'] = file_name[-8:-4]\n",
    "            f = open(dir + '/' + file_name,'rU')\n",
    "            text = f.read() # read in text\n",
    "            f.close\n",
    "            text = text.split('\\n') # make a list\n",
    "            text = filter(None, text) # get rid of empty string items       \n",
    "             \n",
    "            # take only the conclusions and/or recommendations section\n",
    "            ConclusionsStart = text.index([line for line in text if \"conclusions and/or recommendations\" in line.lower()][1]) #startin from bottom\n",
    "            ConclusionsEnd = text.index([line for line in text if \"conclusions and/or recommendations\" in line.lower()][2]) # the last one is the disclaimer\n",
    "            text = text[ConclusionsStart+1:ConclusionsEnd+1] \n",
    "            \n",
    "            # get rid of the weird lines\n",
    "            text = [line for line in text if '**' not in line]\n",
    "            text = [line for line in text if 'recommendations have not been edited.' not in line]\n",
    "            text = [line for line in text if 'recommendations will not be edited.' not in line]\n",
    "            text = [line.replace('\\xd2','') for line in text]\n",
    "            text = [line.replace('\\t','') for line in text]\n",
    "            text = [line.lstrip(\" \") for line in text]\n",
    "            \n",
    "            # merge lines so that each line is its own paragraph, starting with a paragraph number\n",
    "            text = mergeLines(text)\n",
    "            \n",
    "            # get rid of that disclaimer paragraph\n",
    "            text = [line for line in text if 'endorsed by the working group' not in line.lower()]\n",
    "            \n",
    "            dic['text'] = text \n",
    "            \n",
    "            # append to list\n",
    "            l.append(dic)\n",
    "              \n",
    "        except Exception,e:\n",
    "            broken.append(file_name +str(e)) "
   ]
  },
  {
   "cell_type": "markdown",
   "metadata": {},
   "source": [
    "## 1. Chunk into sections"
   ]
  },
  {
   "cell_type": "markdown",
   "metadata": {},
   "source": [
    "### 1.1\n",
    "\n",
    "We'll first be working with a single UPR report. Make an object called `upr` that contains the fifth item in the list `l.`"
   ]
  },
  {
   "cell_type": "code",
   "execution_count": 149,
   "metadata": {
    "collapsed": true
   },
   "outputs": [],
   "source": [
    "# YOUR CODE HERE"
   ]
  },
  {
   "cell_type": "markdown",
   "metadata": {},
   "source": [
    "### 1.2\n",
    "\n",
    "These texts have 3 sections each. The first section contains those recommendations the country supports. The second section contains recs the country will consider. The third contains recommendations the country explicitely rejects. \n",
    "\n",
    "Each section starts with a main paragraph number (e.g. **123**. The individual recommendations are then noted as subparagraphs (e.g. **123.1, 123.2** etc.\n",
    "\n",
    "The problem is, we don't know what these paragarph numbers are *a priori*. Luckily, Rochelle wrote you a function that passes a document and retuns the main paragraph numbers in that document's \"Conclusions and Recommendations\" section."
   ]
  },
  {
   "cell_type": "code",
   "execution_count": 150,
   "metadata": {
    "collapsed": false
   },
   "outputs": [
    {
     "data": {
      "text/plain": [
       "(113, 114, 115)"
      ]
     },
     "execution_count": 150,
     "metadata": {},
     "output_type": "execute_result"
    }
   ],
   "source": [
    "# function to find main paragraphs numbers in each upr\n",
    "def mainParagraphs(upr):\n",
    "    '''\n",
    "    This function takes in a upr and returns the main paragraph numbers in the 'recommendations' section.\n",
    "    '''\n",
    "    firstParagraph = upr['text'][0].partition(\" \")[0]\n",
    "    if '.' in firstParagraph:\n",
    "            firstParagraph = firstParagraph.replace(\".\",\"\")\n",
    "    \n",
    "    # the first section containts the supported recs\n",
    "    firstParagraph = int(firstParagraph)\n",
    "    \n",
    "    # the second section contains the considered recs\n",
    "    secondParagraph = firstParagraph + 1\n",
    "    \n",
    "    # the third section contains the rejected recs\n",
    "    thirdParagraph = secondParagraph + 1\n",
    "    \n",
    "    return(firstParagraph, secondParagraph, thirdParagraph)\n",
    "\n",
    "# Uncomment to test\n",
    "mainParagraphs(upr)"
   ]
  },
  {
   "cell_type": "markdown",
   "metadata": {},
   "source": [
    "In your own words, explain how this function works. Feel free to make new cells and explore each line of the function, and/or litter the function with print statements."
   ]
  },
  {
   "cell_type": "markdown",
   "metadata": {},
   "source": [
    "***YOUR MARKDOWN ANSWER HERE***"
   ]
  },
  {
   "cell_type": "markdown",
   "metadata": {},
   "source": [
    "### 1.3\n",
    "\n",
    "Using this function, create three new variables, `support_P`, `consider_P`, and `reject_P`. Each variable should point to the paragraph number that it associated with that section. In this case, `support_P` should point to `113`. \n",
    "\n",
    "**Important: Don't just assign the numbers. Remember, we're going to generalize this code for all the uprs, and the individual paragraph numbers will change. So use the results from the function above.**"
   ]
  },
  {
   "cell_type": "code",
   "execution_count": 164,
   "metadata": {
    "collapsed": true
   },
   "outputs": [],
   "source": [
    "# YOUR CODE HERE"
   ]
  },
  {
   "cell_type": "code",
   "execution_count": 165,
   "metadata": {
    "collapsed": false
   },
   "outputs": [
    {
     "name": "stdout",
     "output_type": "stream",
     "text": [
      "113\n",
      "114\n",
      "115\n"
     ]
    }
   ],
   "source": [
    "# test your code\n",
    "print support_P\n",
    "print consider_P\n",
    "print reject_P"
   ]
  },
  {
   "cell_type": "markdown",
   "metadata": {},
   "source": [
    "### 1.4 \n",
    "\n",
    "Create a new dictionary called `sections`. The dictionary should have three keys: `support`, `consider`, and `implemented`. Each key should point to a list of lines in that section. Your final dictionary should look something like this:\n",
    "\n",
    "```\n",
    "{ 'support': [113. Some text, 113.1 An supported rec, 101.2 Another rec, 113.3 Even more...],\n",
    "    \n",
    "  'consider': [114. A new section, 114.1 A considered rec, 114.2 Even more recs, 114.3 You get the picture...] ,\n",
    "  \n",
    "  'reject': [115. The last section, 115.1 A rejected rec, 115.2 Even more recs, 115.3 Etc ...]\n",
    "}\n",
    "```\n",
    "\n",
    "*hint*: How do you know if a line belongs to a section? It starts with the main paragraph number for that section. So use the **.startswith()** method."
   ]
  },
  {
   "cell_type": "code",
   "execution_count": null,
   "metadata": {
    "collapsed": true
   },
   "outputs": [],
   "source": [
    "# YOUR CODE HERE"
   ]
  },
  {
   "cell_type": "code",
   "execution_count": 152,
   "metadata": {
    "collapsed": false
   },
   "outputs": [
    {
     "data": {
      "text/plain": [
       "['113.  The recommendations formulated during the interactive dialogue/listed below have been examined by the Plurinational State of Bolivia and enjoy the support of the State party: ',\n",
       " '113.1 Incorporate the Rome Statute into national law (Mexico); ',\n",
       " '113.2 Consider ratifying the United Nations Educational, Scientific and Cultural Organization (UNESCO) Convention against Discrimination in Education (Ghana); ',\n",
       " '113.3 Ratify the UNESCO Convention against Discrimination in Education and ensure that primary education is free and compulsory for all (Portugal); ',\n",
       " '113.4 Ratify the Protocol to the American Convention for Human Rights (Norway); ']"
      ]
     },
     "execution_count": 152,
     "metadata": {},
     "output_type": "execute_result"
    }
   ],
   "source": [
    "# test your code\n",
    "sections['support'][:5]"
   ]
  },
  {
   "cell_type": "markdown",
   "metadata": {},
   "source": [
    "## 1.5 Just keep recommendations\n",
    "\n",
    "Take a look at one of the sections in the `sections` dictionary. For each section, the first line is the header paragraph, explaining how these recommendations are linked (e.g. they've all been supported or rejected). Below that are the items belonging to that section, containing specific recommendations. The latter is what we really care about. So we can delete the first item of each list contained in the `sections` dictionary. \n",
    "\n",
    "Go ahead and delete the first line of the list values in `sections`.\n",
    "\n",
    "**Note: There are multiple ways to do this.**"
   ]
  },
  {
   "cell_type": "code",
   "execution_count": null,
   "metadata": {
    "collapsed": true
   },
   "outputs": [],
   "source": [
    "# YOUR CODE HERE"
   ]
  },
  {
   "cell_type": "code",
   "execution_count": 153,
   "metadata": {
    "collapsed": false
   },
   "outputs": [
    {
     "data": {
      "text/plain": [
       "['113.1 Incorporate the Rome Statute into national law (Mexico); ',\n",
       " '113.2 Consider ratifying the United Nations Educational, Scientific and Cultural Organization (UNESCO) Convention against Discrimination in Education (Ghana); ',\n",
       " '113.3 Ratify the UNESCO Convention against Discrimination in Education and ensure that primary education is free and compulsory for all (Portugal); ',\n",
       " '113.4 Ratify the Protocol to the American Convention for Human Rights (Norway); ',\n",
       " '113.5 Further strengthening, as to its funding and independence, of the national preventive mechanism under the Optional Protocol to the Convention against Torture (OP-CAT) so that it can function effectively and impartially (Czech Republic); ']"
      ]
     },
     "execution_count": 153,
     "metadata": {},
     "output_type": "execute_result"
    }
   ],
   "source": [
    "# test your code\n",
    "sections['support'][:5]"
   ]
  },
  {
   "cell_type": "markdown",
   "metadata": {},
   "source": [
    "___"
   ]
  },
  {
   "cell_type": "markdown",
   "metadata": {},
   "source": [
    "## 2.  Make a function"
   ]
  },
  {
   "cell_type": "markdown",
   "metadata": {},
   "source": [
    "### 2.1 \n",
    "\n",
    "We want to do the above parsing for each document in the list. Using the code you wrote in sections 1, write a function called `parse` that passes a document (from the original upr list), and returns an dictionary object `sections` for that document."
   ]
  },
  {
   "cell_type": "code",
   "execution_count": 179,
   "metadata": {
    "collapsed": true
   },
   "outputs": [],
   "source": [
    "# YOUR (FUNCTION) CODE HERE"
   ]
  },
  {
   "cell_type": "code",
   "execution_count": 171,
   "metadata": {
    "collapsed": false
   },
   "outputs": [
    {
     "data": {
      "text/plain": [
       "['82.1. Continue the efforts to achieve accession to the main human rights international instruments and their consistent incorporation into domestic legislation (Costa Rica); ',\n",
       " '82.2. Consider ratifying new international human rights instruments which would assist in strengthening its legal and institutional framework for the promotion and protection of human rights (Nicaragua); ',\n",
       " '82.3. Continue its efforts to accede to the remaining core international human rights treaties, which will strengthen the domestic legislation with regard to the promotion and protection of human rights, including freedom of religion or belief (Turkey); ',\n",
       " '82.4. Work closely with the OHCHR and the Council for considering eventual participation to the core international instruments on human rights (Viet Nam); ',\n",
       " '82.5. Further continue internal consultations and request the technical assistance of relevant UN institutions with regards to the accession to the core international human rights treaties (Azerbaijan); ']"
      ]
     },
     "execution_count": 171,
     "metadata": {},
     "output_type": "execute_result"
    }
   ],
   "source": [
    "# test your code\n",
    "parse(upr)['support'][:5]"
   ]
  },
  {
   "cell_type": "markdown",
   "metadata": {},
   "source": [
    "### 2.2 \n",
    "\n",
    "Loop through all the dictionaries in the list `l` and assign a new `sections` key to the output from the above function. When you're done, your list `l` should contain items that look like this (remember: dictionaries are unordered):\n",
    "\n",
    "```\n",
    "[ \n",
    "    {'country': 'afghanistan',\n",
    "     'year': '2014'\n",
    "     'sections': {'support': <some list>,\n",
    "                  'consider': <some list>,\n",
    "                  'reject': <some list>,\n",
    "                } \n",
    "      }\n",
    "                  \n",
    "     \n",
    "     {'country': 'albania',\n",
    "      'year': '2014'\n",
    "      'sections': {'support': <some list>,\n",
    "                  'consider': <some list>,\n",
    "                  'reject': <some list>,\n",
    "                }\n",
    "      }                 \n",
    "                  \n",
    "```               "
   ]
  },
  {
   "cell_type": "code",
   "execution_count": 172,
   "metadata": {
    "collapsed": true
   },
   "outputs": [],
   "source": [
    "# YOUR CODE HERE"
   ]
  },
  {
   "cell_type": "code",
   "execution_count": 155,
   "metadata": {
    "collapsed": false
   },
   "outputs": [
    {
     "data": {
      "text/plain": [
       "['136.1 To further build up on its effort to fully protect human rights in the country (Ethiopia); ',\n",
       " '136.2 Continue and deepen efforts to firmly root human rights values and principles in the Government system, including through human rights training to state officials (Indonesia); ',\n",
       " '136.3 Make further efforts to ensure the implementation of the legal framework which guarantees human rights, including the Constitution (Japan); ',\n",
       " '136.4 Further fulfil the internationally taken human rights obligations as well as integrate them into the national legislation (Kazakhstan); ',\n",
       " '136.5 Further strengthen its efforts to review its legislative framework and make necessary adjustments to it in order to ensure that it is in conformity with Afghanistan\\xd5s international human rights obligations (Norway); ']"
      ]
     },
     "execution_count": 155,
     "metadata": {},
     "output_type": "execute_result"
    }
   ],
   "source": [
    "#uncomment to test\n",
    "l[0]['sections']['support'][:5]"
   ]
  },
  {
   "cell_type": "markdown",
   "metadata": {},
   "source": [
    "___"
   ]
  },
  {
   "cell_type": "markdown",
   "metadata": {},
   "source": [
    "## 3. Get information about specific recommendations"
   ]
  },
  {
   "cell_type": "markdown",
   "metadata": {},
   "source": [
    "### 3.1 \n",
    "\n",
    "Take a look at a recommendation. I've given you a sample one below."
   ]
  },
  {
   "cell_type": "code",
   "execution_count": 156,
   "metadata": {
    "collapsed": false
   },
   "outputs": [
    {
     "name": "stdout",
     "output_type": "stream",
     "text": [
      "136.1 To further build up on its effort to fully protect human rights in the country (Ethiopia); \n"
     ]
    }
   ],
   "source": [
    "# get the first line, from the first section, of the first upr in `l`\n",
    "rec = l[0]['sections']['support'][0]\n",
    "print rec"
   ]
  },
  {
   "cell_type": "markdown",
   "metadata": {},
   "source": [
    "Notice that they're all formatted the same way, with the recommending country in parenthesis at the end, in between parentheses.\n",
    "\n",
    "In the cell below, find a way to pull out the recommending country. (Hint: Use the `split` method.)"
   ]
  },
  {
   "cell_type": "code",
   "execution_count": 173,
   "metadata": {
    "collapsed": false
   },
   "outputs": [],
   "source": [
    "# YOUR CODE HERE"
   ]
  },
  {
   "cell_type": "markdown",
   "metadata": {},
   "source": [
    "### 3.2 \n",
    "\n",
    "Create a function called `get_country` that passes an individual recommendation and returns the recommending country"
   ]
  },
  {
   "cell_type": "code",
   "execution_count": 174,
   "metadata": {
    "collapsed": true
   },
   "outputs": [],
   "source": [
    "# YOUR CODE HERE"
   ]
  },
  {
   "cell_type": "code",
   "execution_count": 175,
   "metadata": {
    "collapsed": false
   },
   "outputs": [
    {
     "data": {
      "text/plain": [
       "'Ethiopia'"
      ]
     },
     "execution_count": 175,
     "metadata": {},
     "output_type": "execute_result"
    }
   ],
   "source": [
    "# test your code\n",
    "get_country(l[0]['sections']['support'][0])"
   ]
  },
  {
   "cell_type": "markdown",
   "metadata": {},
   "source": [
    "### 3.3\n",
    "\n",
    "We now want to create a new list called `reclist` containing just individual recommendations. Each recommendation should be a dictionary with the following keys: \n",
    "\n",
    "1. `to`: the country under review\n",
    "2. `from`: the country (or countries) giving the recommendation\n",
    "4. `year`: the year of the review (all 2014 here)\n",
    "5. `decision`: whether the recommendation was supported, rejected, etc.\n",
    "6. `text`: the text of the recommendation\n",
    "\n",
    "Create your `reclist` by looping through your list `l`. (Hint: You'll need to use loops within loops.)"
   ]
  },
  {
   "cell_type": "code",
   "execution_count": null,
   "metadata": {
    "collapsed": true
   },
   "outputs": [],
   "source": [
    "# YOUR CODE HERE"
   ]
  },
  {
   "cell_type": "code",
   "execution_count": 180,
   "metadata": {
    "collapsed": false
   },
   "outputs": [
    {
     "data": {
      "text/plain": [
       "{'decision': 'support',\n",
       " 'from': 'Indonesia',\n",
       " 'text': '136.2 Continue and deepen efforts to firmly root human rights values and principles in the Government system, including through human rights training to state officials (Indonesia); ',\n",
       " 'to': 'afghanistan',\n",
       " 'year': '2014'}"
      ]
     },
     "execution_count": 180,
     "metadata": {},
     "output_type": "execute_result"
    }
   ],
   "source": [
    "# test your code\n",
    "reclist[1]"
   ]
  },
  {
   "cell_type": "markdown",
   "metadata": {},
   "source": [
    "## 4. Write a CSV\n",
    "\n",
    "We know want to write a csv file containing the information from `reclist`\n",
    "\n",
    "### 4.1\n",
    "To do this, first create a variable called `keys` containing the keys from the first dictionary in `reclist`"
   ]
  },
  {
   "cell_type": "code",
   "execution_count": null,
   "metadata": {
    "collapsed": true
   },
   "outputs": [],
   "source": [
    "# YOUR CODE HERE"
   ]
  },
  {
   "cell_type": "code",
   "execution_count": 177,
   "metadata": {
    "collapsed": false
   },
   "outputs": [
    {
     "data": {
      "text/plain": [
       "['text', 'to', 'decision', 'from', 'year']"
      ]
     },
     "execution_count": 177,
     "metadata": {},
     "output_type": "execute_result"
    }
   ],
   "source": [
    "#test your code\n",
    "keys"
   ]
  },
  {
   "cell_type": "markdown",
   "metadata": {},
   "source": [
    "### 4.2 \n",
    "\n",
    "Using the `DictWriter` function from the `csv` module, write a csv list of `reclist` into a file called `upr-recs.csv`"
   ]
  },
  {
   "cell_type": "code",
   "execution_count": 178,
   "metadata": {
    "collapsed": false
   },
   "outputs": [],
   "source": [
    "# YOUR CODE HERE"
   ]
  },
  {
   "cell_type": "markdown",
   "metadata": {},
   "source": [
    "## 5. Gotcha!\n",
    "\n",
    "I lied. Not all the upr documents have just 3 paragraphs following the same structure. Some of them have 2. Some of them have 4. And while most have `supported` and `considered` as sections, others have recommendations they refer to as `already implemented`. \n",
    "\n",
    "To sum up, there are 4 kinds of sections contained in these documents:\n",
    "\n",
    "1. Supported recommendations\n",
    "2. Already implemented recommendations\n",
    "3. Considered recommendations\n",
    "4. Rejected recommendations\n",
    "\n",
    "But any combination of these four can be present in any given document. There's no way to tell, a priori, how many sections the \"Conclusions and Recommendations\" portion will contain.\n",
    "\n",
    "(The full text collection is in the directory `data/txts-extra`)\n",
    "\n",
    "Write me an algorithm -- or a list of step-by-step instructions -- that walks me through how you would solve for this. That is, what extra steps would you have to include from the code above to get it to work? Remember, the final product has to be a CSV with each row being a recommendation, and a column for `year`, `to`, `from`, `text`, and `decision`."
   ]
  },
  {
   "cell_type": "markdown",
   "metadata": {},
   "source": [
    "***YOUR ANSWER HERE***"
   ]
  },
  {
   "cell_type": "markdown",
   "metadata": {},
   "source": [
    "*****"
   ]
  },
  {
   "cell_type": "markdown",
   "metadata": {},
   "source": [
    "# Optional Challenge\n",
    "\n",
    "Code it!"
   ]
  },
  {
   "cell_type": "markdown",
   "metadata": {
    "collapsed": true
   },
   "source": [
    "****\n",
    "# How to submit homework\n",
    "\n",
    "Once your finished with your homework and want to submit it, follow these instructions:\n",
    "    \n",
    "1. Go to file --> download as PDF\n",
    "2. Submit that PDF on bCourses!"
   ]
  },
  {
   "cell_type": "code",
   "execution_count": null,
   "metadata": {
    "collapsed": true
   },
   "outputs": [],
   "source": []
  }
 ],
 "metadata": {
  "kernelspec": {
   "display_name": "Python 2",
   "language": "python",
   "name": "python2"
  },
  "language_info": {
   "codemirror_mode": {
    "name": "ipython",
    "version": 2
   },
   "file_extension": ".py",
   "mimetype": "text/x-python",
   "name": "python",
   "nbconvert_exporter": "python",
   "pygments_lexer": "ipython2",
   "version": "2.7.9"
  }
 },
 "nbformat": 4,
 "nbformat_minor": 0
}
