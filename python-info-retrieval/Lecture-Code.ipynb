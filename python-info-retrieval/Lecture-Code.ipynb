{
 "cells": [
  {
   "cell_type": "markdown",
   "metadata": {},
   "source": [
    "# Lecture Notes + Exercises: Information Retrieval"
   ]
  },
  {
   "cell_type": "markdown",
   "metadata": {},
   "source": [
    "In this unit, we'll use python to turn a bunch of loose text documents into a real-life database. (Note: This database was created for a project by R. Terman and E. Voeten, and was processed using much the same process as you'll be learning here.)\n",
    "\n",
    "The lecture and problem set will leverage your new python skills, especially working with text, lists, and dictionaries; writing for-loops, conditional statements, and functions; and \"thinking\" like a programmer.\n",
    "\n",
    "**About the Data**\n",
    "\n",
    "We'll be creating a database from [Universal Period Review outcome reports](http://www.ohchr.org/EN/HRBodies/UPR/Pages/BasicFacts.aspx).\n",
    "\n",
    "The Universal Periodic Review (UPR) is a process run by the United Nations Human Rights Council, which involves a periodic review of the human rights records of all 193 UN Member States.\n",
    "\n",
    "Reviews take place through an interactive discussion between the State under review and other UN Member States. During this discussion any UN Member State can pose questions, comments and/or make recommendations to the States under review. States under review can then respond, stating which recommendations they reject, accept, will consider, etc. Reports are then drawn up detailing this discussion.\n",
    "\n",
    "We will be analyzing outcome reports from the 2014 Universal Period Reviews of 42 countries, which we retrieved [here](http://www.ohchr.org/EN/HRBodies/UPR/Pages/Documentation.aspx) and formatted as text documents.\n",
    "\n",
    "The goal is to convert these semi-structured texts to a tabular dataset of **recommendations** with the following variables:\n",
    "\n",
    "1. Text of recommendation (*text*)\n",
    "2. Country to which the recommendation is directed (*to*)\n",
    "3. Country that is making the recommendation (*from*)\n",
    "4. The year when the review took place (*year*)\n",
    "5. The response to the recommendation, i.e. whether the reviewed country rejects, accepts, etc (*decision*)\n",
    "\n",
    "In other words, we want to turn this:\n",
    "\n",
    "<img src=\"img/text.png\">\n",
    "\n",
    "into this:\n",
    "\n",
    "<img src=\"img/tabular.png\">\n",
    "\n"
   ]
  },
  {
   "cell_type": "markdown",
   "metadata": {},
   "source": [
    "___"
   ]
  },
  {
   "cell_type": "markdown",
   "metadata": {},
   "source": [
    "# Part 1: Reading Data\n",
    "\n",
    "During lecture, we'll be completing the first part of our project: reading and structuring data from our text files. Specifically, we need to know how to:\n",
    "\n",
    "1. Read filenames from a directory\n",
    "2. Read data from a single file\n",
    "3. Clean the text to select only the information we care about and format it in a way that's easy to work with\n",
    "4. Repeat steps 2-3 above by looping through all files in our directory, reading, cleaning, and structuring as we go\n",
    "\n",
    "First let's start by importing some helpful modules"
   ]
  },
  {
   "cell_type": "code",
   "execution_count": 2,
   "metadata": {
    "collapsed": true
   },
   "outputs": [],
   "source": [
    "import os\n",
    "import re\n",
    "import csv\n",
    "from operator import itemgetter\n",
    "from itertools import groupby"
   ]
  },
  {
   "cell_type": "markdown",
   "metadata": {},
   "source": [
    "## 1. Read filenames from directory"
   ]
  },
  {
   "cell_type": "markdown",
   "metadata": {},
   "source": [
    "1.1 Print every filename in the directory 'data/txts'"
   ]
  },
  {
   "cell_type": "code",
   "execution_count": 3,
   "metadata": {
    "collapsed": false
   },
   "outputs": [
    {
     "name": "stdout",
     "output_type": "stream",
     "text": [
      "afghanistan2014.txt\n",
      "albania2014.txt\n",
      "angola2014.txt\n",
      "bhutan2014.txt\n",
      "bolivia2014.txt\n",
      "bosniaandherzegovina2014.txt\n",
      "bruneidarussalam2014.txt\n",
      "cambodia2014.txt\n",
      "chile2014.txt\n",
      "comoros2014.txt\n",
      "costarica2014.txt\n",
      "cotedivoire2014.txt\n",
      "cyprus2014.txt\n",
      "democraticpeoplesrepublicofkorea2014.txt\n",
      "democraticrepublicofthecongo2014.txt\n",
      "dominica2014.txt\n",
      "dominicanrepublic2014.txt\n",
      "egypt2014.txt\n",
      "elsalvador2014.txt\n",
      "eritrea2014.txt\n",
      "ethiopia2014.txt\n",
      "fiji2014.txt\n",
      "gambia2014.txt\n",
      "guinea2014.txt\n",
      "iran2014.txt\n",
      "iraq2014.txt\n",
      "italy2014.txt\n",
      "kazakhstan2014.txt\n",
      "Macedonia2014.txt\n",
      "madagascar2014.txt\n",
      "newzealand2014.txt\n",
      "nicaragua2014.txt\n",
      "norway2014.txt\n",
      "portugal2014.txt\n",
      "qatar2014.txt\n",
      "sanmarino2014.txt\n",
      "slovakia2014.txt\n",
      "slovenia2014.txt\n",
      "uruguay2014.txt\n",
      "vanuatu2014.txt\n",
      "vietnam2014.txt\n",
      "yemen2014.txt\n"
     ]
    }
   ],
   "source": [
    "dir = 'data/txts'\n",
    "for file_name in os.listdir(dir):\n",
    "    print file_name"
   ]
  },
  {
   "cell_type": "markdown",
   "metadata": {},
   "source": [
    "1.2 Print only the filenames that endswith \".txt\" (hint: used the `endswith` method)"
   ]
  },
  {
   "cell_type": "code",
   "execution_count": 4,
   "metadata": {
    "collapsed": false
   },
   "outputs": [
    {
     "name": "stdout",
     "output_type": "stream",
     "text": [
      "afghanistan2014.txt\n",
      "albania2014.txt\n",
      "angola2014.txt\n",
      "bhutan2014.txt\n",
      "bolivia2014.txt\n",
      "bosniaandherzegovina2014.txt\n",
      "bruneidarussalam2014.txt\n",
      "cambodia2014.txt\n",
      "chile2014.txt\n",
      "comoros2014.txt\n",
      "costarica2014.txt\n",
      "cotedivoire2014.txt\n",
      "cyprus2014.txt\n",
      "democraticpeoplesrepublicofkorea2014.txt\n",
      "democraticrepublicofthecongo2014.txt\n",
      "dominica2014.txt\n",
      "dominicanrepublic2014.txt\n",
      "egypt2014.txt\n",
      "elsalvador2014.txt\n",
      "eritrea2014.txt\n",
      "ethiopia2014.txt\n",
      "fiji2014.txt\n",
      "gambia2014.txt\n",
      "guinea2014.txt\n",
      "iran2014.txt\n",
      "iraq2014.txt\n",
      "italy2014.txt\n",
      "kazakhstan2014.txt\n",
      "Macedonia2014.txt\n",
      "madagascar2014.txt\n",
      "newzealand2014.txt\n",
      "nicaragua2014.txt\n",
      "norway2014.txt\n",
      "portugal2014.txt\n",
      "qatar2014.txt\n",
      "sanmarino2014.txt\n",
      "slovakia2014.txt\n",
      "slovenia2014.txt\n",
      "uruguay2014.txt\n",
      "vanuatu2014.txt\n",
      "vietnam2014.txt\n",
      "yemen2014.txt\n"
     ]
    }
   ],
   "source": [
    "dir = 'data/txts'\n",
    "for file_name in os.listdir(dir):\n",
    "    if file_name.endswith(\".txt\"):\n",
    "        print file_name"
   ]
  },
  {
   "cell_type": "markdown",
   "metadata": {},
   "source": [
    "1.3 Print the full (relative) directory path of each filename ending with \".txt.\" For example, the first one should be \"raw-data/txts/afghanistan2014.txt\""
   ]
  },
  {
   "cell_type": "code",
   "execution_count": 5,
   "metadata": {
    "collapsed": false
   },
   "outputs": [
    {
     "name": "stdout",
     "output_type": "stream",
     "text": [
      "data/txts/afghanistan2014.txt\n",
      "data/txts/albania2014.txt\n",
      "data/txts/angola2014.txt\n",
      "data/txts/bhutan2014.txt\n",
      "data/txts/bolivia2014.txt\n",
      "data/txts/bosniaandherzegovina2014.txt\n",
      "data/txts/bruneidarussalam2014.txt\n",
      "data/txts/cambodia2014.txt\n",
      "data/txts/chile2014.txt\n",
      "data/txts/comoros2014.txt\n",
      "data/txts/costarica2014.txt\n",
      "data/txts/cotedivoire2014.txt\n",
      "data/txts/cyprus2014.txt\n",
      "data/txts/democraticpeoplesrepublicofkorea2014.txt\n",
      "data/txts/democraticrepublicofthecongo2014.txt\n",
      "data/txts/dominica2014.txt\n",
      "data/txts/dominicanrepublic2014.txt\n",
      "data/txts/egypt2014.txt\n",
      "data/txts/elsalvador2014.txt\n",
      "data/txts/eritrea2014.txt\n",
      "data/txts/ethiopia2014.txt\n",
      "data/txts/fiji2014.txt\n",
      "data/txts/gambia2014.txt\n",
      "data/txts/guinea2014.txt\n",
      "data/txts/iran2014.txt\n",
      "data/txts/iraq2014.txt\n",
      "data/txts/italy2014.txt\n",
      "data/txts/kazakhstan2014.txt\n",
      "data/txts/Macedonia2014.txt\n",
      "data/txts/madagascar2014.txt\n",
      "data/txts/newzealand2014.txt\n",
      "data/txts/nicaragua2014.txt\n",
      "data/txts/norway2014.txt\n",
      "data/txts/portugal2014.txt\n",
      "data/txts/qatar2014.txt\n",
      "data/txts/sanmarino2014.txt\n",
      "data/txts/slovakia2014.txt\n",
      "data/txts/slovenia2014.txt\n",
      "data/txts/uruguay2014.txt\n",
      "data/txts/vanuatu2014.txt\n",
      "data/txts/vietnam2014.txt\n",
      "data/txts/yemen2014.txt\n"
     ]
    }
   ],
   "source": [
    "dir = 'data/txts'\n",
    "for file_name in os.listdir(dir):\n",
    "    if file_name.endswith(\".txt\"):\n",
    "        print dir + '/' + file_name"
   ]
  },
  {
   "cell_type": "markdown",
   "metadata": {},
   "source": [
    "1.4 Using the filename, print the country each document is about (hint: use slicing)"
   ]
  },
  {
   "cell_type": "code",
   "execution_count": 6,
   "metadata": {
    "collapsed": false
   },
   "outputs": [
    {
     "name": "stdout",
     "output_type": "stream",
     "text": [
      "afghanistan\n",
      "albania\n",
      "angola\n",
      "bhutan\n",
      "bolivia\n",
      "bosniaandherzegovina\n",
      "bruneidarussalam\n",
      "cambodia\n",
      "chile\n",
      "comoros\n",
      "costarica\n",
      "cotedivoire\n",
      "cyprus\n",
      "democraticpeoplesrepublicofkorea\n",
      "democraticrepublicofthecongo\n",
      "dominica\n",
      "dominicanrepublic\n",
      "egypt\n",
      "elsalvador\n",
      "eritrea\n",
      "ethiopia\n",
      "fiji\n",
      "gambia\n",
      "guinea\n",
      "iran\n",
      "iraq\n",
      "italy\n",
      "kazakhstan\n",
      "Macedonia\n",
      "madagascar\n",
      "newzealand\n",
      "nicaragua\n",
      "norway\n",
      "portugal\n",
      "qatar\n",
      "sanmarino\n",
      "slovakia\n",
      "slovenia\n",
      "uruguay\n",
      "vanuatu\n",
      "vietnam\n",
      "yemen\n"
     ]
    }
   ],
   "source": [
    "dir = 'data/txts'\n",
    "for file_name in os.listdir(dir):\n",
    "    if file_name.endswith(\".txt\"):\n",
    "        print file_name[:-8]"
   ]
  },
  {
   "cell_type": "markdown",
   "metadata": {},
   "source": [
    "___"
   ]
  },
  {
   "cell_type": "markdown",
   "metadata": {},
   "source": [
    "## 2. Read data from a single file"
   ]
  },
  {
   "cell_type": "markdown",
   "metadata": {},
   "source": [
    "2.1 Let's work with just one text, \"cotedivoire2014.txt\". Create a dictionary called `upr` that stores the `'country'` and `'year'` keys from the `file_name`."
   ]
  },
  {
   "cell_type": "code",
   "execution_count": 7,
   "metadata": {
    "collapsed": false
   },
   "outputs": [
    {
     "data": {
      "text/plain": [
       "{'country': 'cotedivoire', 'year': '2014'}"
      ]
     },
     "execution_count": 7,
     "metadata": {},
     "output_type": "execute_result"
    }
   ],
   "source": [
    "file_name = \"cotedivoire2014.txt\"\n",
    "upr = {}\n",
    "upr['country'] = file_name[:-8]\n",
    "upr['year'] = file_name[-8:-4]\n",
    "upr"
   ]
  },
  {
   "cell_type": "markdown",
   "metadata": {},
   "source": [
    "2.2 Read the file into an object called `text`, then make sure to close the file. Be sure to read in the file as universal line mode, or `'rU'`. Later, we'll put this object in the dictionary."
   ]
  },
  {
   "cell_type": "code",
   "execution_count": 9,
   "metadata": {
    "collapsed": false
   },
   "outputs": [],
   "source": [
    "file_name = \"cotedivoire2014.txt\"\n",
    "with open(dir+'/'+file_name,'rU') as f:\n",
    "    text = f.read()"
   ]
  },
  {
   "cell_type": "code",
   "execution_count": 13,
   "metadata": {
    "collapsed": false
   },
   "outputs": [
    {
     "data": {
      "text/plain": [
       "'\\nDistr.: General 7 July 2014 English Original: English/French \\nGeneral Assembly \\nHuman Rights Council Twenty-seventh session \\nAgenda item 6 \\nUniversal Periodic Review \\nReport of the Working Group on the Universal Periodic Review* \\nC\\x99te d\\xd5Ivoire \\n* The annex to the present report is circulated as received. \\n\\nGE.14-07583  (E)    280714 300714 \\n*1407583* \\nContents \\n\\nParagraphs Page \\nIntroduction............................................................................................................. 1\\xd04 3 \\n\\nI. Summary of the proceedings of the review process................................................ 5\\xd0126 3 \\n\\nA. Presentation by the State under review........................................................... 5\\xd021 3 \\n\\nB. Interactive dialogue and responses by the State under review........................ 22\\xd0126 5 \\n\\nII. Conclusions and/or recommendations .................................................................... 127\\xd0130 14  Annex Composition of the delegation ....................................................................................................... 26 \\n\\nIntroduction \\n1. \\nThe Working Group on the Universal Periodic Review, established in accordance with Human Rights Council resolution 5/1 of 18 June 2007, held its nineteenth session from 28 April to 9 May 2014. The review of C\\x99te d\\xd5Ivoire was held at the 4th meeting, on 29 April 2014. The delegation of C\\x99te d\\xd5Ivoire was headed by Mr. Gn\\x8en\\x8ema Mamadou Coulibaly. At its 10th meeting, held on 2 May 2014, the Working Group adopted the report on C\\x99te d\\xd5Ivoire. \\n\\n2. \\nOn 15 January 2014, the Human Rights Council selected the following group of rapporteurs (troika) to facilitate the review of C\\x99te d\\xd5Ivoire: Argentina, Botswana and Kuwait.  \\n\\n3. \\nIn accordance with paragraph 15 of the annex to resolution 5/1 and paragraph 5 of the annex to resolution 16/21, the following documents were issued for the review of C\\x99te d\\xd5Ivoire: \\n\\n\\n(a) \\nA national report submitted/written presentation made in accordance '"
      ]
     },
     "execution_count": 13,
     "metadata": {},
     "output_type": "execute_result"
    }
   ],
   "source": [
    "text[:2000]"
   ]
  },
  {
   "cell_type": "markdown",
   "metadata": {},
   "source": [
    "___"
   ]
  },
  {
   "cell_type": "markdown",
   "metadata": {},
   "source": [
    "## 3. Clean the text"
   ]
  },
  {
   "cell_type": "markdown",
   "metadata": {},
   "source": [
    "3.1 Split `text` into a list of lines."
   ]
  },
  {
   "cell_type": "code",
   "execution_count": 14,
   "metadata": {
    "collapsed": false
   },
   "outputs": [
    {
     "data": {
      "text/plain": [
       "715"
      ]
     },
     "execution_count": 14,
     "metadata": {},
     "output_type": "execute_result"
    }
   ],
   "source": [
    "text = text.split(\"\\n\")\n",
    "len(text)"
   ]
  },
  {
   "cell_type": "code",
   "execution_count": 15,
   "metadata": {
    "collapsed": false
   },
   "outputs": [
    {
     "data": {
      "text/plain": [
       "['Human Rights Council Twenty-seventh session ',\n",
       " 'Agenda item 6 ',\n",
       " 'Universal Periodic Review ',\n",
       " 'Report of the Working Group on the Universal Periodic Review* ',\n",
       " 'C\\x99te d\\xd5Ivoire ',\n",
       " '* The annex to the present report is circulated as received. ',\n",
       " '',\n",
       " 'GE.14-07583  (E)    280714 300714 ',\n",
       " '*1407583* ',\n",
       " 'Contents ',\n",
       " '',\n",
       " 'Paragraphs Page ']"
      ]
     },
     "execution_count": 15,
     "metadata": {},
     "output_type": "execute_result"
    }
   ],
   "source": [
    "text[3:15]"
   ]
  },
  {
   "cell_type": "markdown",
   "metadata": {},
   "source": [
    "3.2 Delete all empty lines from x"
   ]
  },
  {
   "cell_type": "code",
   "execution_count": 16,
   "metadata": {
    "collapsed": false
   },
   "outputs": [
    {
     "data": {
      "text/plain": [
       "525"
      ]
     },
     "execution_count": 16,
     "metadata": {},
     "output_type": "execute_result"
    }
   ],
   "source": [
    "text = filter(None,text)\n",
    "len(text)"
   ]
  },
  {
   "cell_type": "markdown",
   "metadata": {},
   "source": [
    "3.3 We want to slice the text so that we only keep the part in the \"Conclusions and/or Recommendations\" section. Find all lines that mention the phrase \"conclusions and/or recommendations\" in it, case insensitive. Put all of thse lines, into a list called `conclusionsList`"
   ]
  },
  {
   "cell_type": "code",
   "execution_count": 17,
   "metadata": {
    "collapsed": false
   },
   "outputs": [],
   "source": [
    "conclusionsList = [line for line in text if \"conclusions and/or recommendations\" in line.lower()]"
   ]
  },
  {
   "cell_type": "markdown",
   "metadata": {},
   "source": [
    "2.5 Notice that the section starts with the second mention of \"conclusions and/or recommendations\" (the first is the table of contents) and ends with the third mention. \n",
    "\n",
    "Make two objects called ConclusionsStart and ConclusionsEnd, containing the index of the second and third mention \"conclusions and/or recommendations\", respectively). Hint: Use the `index()` method"
   ]
  },
  {
   "cell_type": "code",
   "execution_count": 18,
   "metadata": {
    "collapsed": false
   },
   "outputs": [],
   "source": [
    "ConclusionsStart = text.index(conclusionsList[1])\n",
    "ConclusionsEnd = text.index(conclusionsList[2])"
   ]
  },
  {
   "cell_type": "code",
   "execution_count": 19,
   "metadata": {
    "collapsed": true
   },
   "outputs": [],
   "source": [
    "## Note, we can also get the same results by using a list comprehension:\n",
    "## Uncomment to try it out\n",
    "## ConclusionsList = [i for i, j in enumerate(text) if \"conclusions and/or recommendations\" in j.lower()]\n",
    "## ConclusionsStart = ConclusionsList[1]\n",
    "## ConclusionsEnd = ConclusionsEnd[2]"
   ]
  },
  {
   "cell_type": "markdown",
   "metadata": {},
   "source": [
    "3.4 Using these indeces, slice the `text` list so that it only contains the lines in the section we want (including both the start and end paragraphs you identified above)"
   ]
  },
  {
   "cell_type": "code",
   "execution_count": 20,
   "metadata": {
    "collapsed": true
   },
   "outputs": [],
   "source": [
    "text = text[ConclusionsStart+1:ConclusionsEnd+1] "
   ]
  },
  {
   "cell_type": "code",
   "execution_count": 21,
   "metadata": {
    "collapsed": false
   },
   "outputs": [
    {
     "data": {
      "text/plain": [
       "['127. The recommendations listed below enjoy the support of C\\x99te d\\xd5Ivoire: ',\n",
       " '127.1 Consider the accession to core human rights instruments (Lesotho); and to other main international human rights treaties that it is not yet a party to (Philippines); ',\n",
       " '127.2 Make efforts towards the ratification of the OP-CAT (Chile); ',\n",
       " '127.3 Ratify the OP-CAT (Ghana, Tunisia), as recommended previously in 2009 (Czech Republic) and take policy measures to prevent torture and ill-treatment (Estonia); ',\n",
       " '127.4 Accede to the OP-CAT as soon as possible (Uruguay); ',\n",
       " '127.5 Consider ratifying OP-CAT (Burkina Faso); ',\n",
       " '127.6 Ratify the International Convention on the Protection of the Rights of All Migrant Workers and Members of Their Families (ICRMW) (Ghana); ',\n",
       " '127.7 Consider acceding to the ICRMW (Chad); ',\n",
       " '127.8 Make efforts towards the ratification of ICCPR-OP 2 (Chile); ',\n",
       " '** The conclusions and recommendations have not been edited. ',\n",
       " '127.9 Ratify ICCPR-OP 2 (Rwanda) to abolish death penalty (France, Montenegro); ',\n",
       " '127.10 Accede to the Agreement on the Privileges and Immunities of the International Criminal Court (Slovakia); ',\n",
       " '127.11 Sign and ratify the Optional Protocol to the International Covenant on Economic, Social and Cultural Rights (Portugal); ',\n",
       " '127.12 Fully implement CEDAW (Israel); ',\n",
       " '127.13 Ratify the third Optional Protocol to CRC (Portugal); ']"
      ]
     },
     "execution_count": 21,
     "metadata": {},
     "output_type": "execute_result"
    }
   ],
   "source": [
    "text[:15]"
   ]
  },
  {
   "cell_type": "markdown",
   "metadata": {},
   "source": [
    "3.5 We'd like to remove some paragraphs in this list that don't mean anything to us."
   ]
  },
  {
   "cell_type": "code",
   "execution_count": 22,
   "metadata": {
    "collapsed": true
   },
   "outputs": [],
   "source": [
    "# get rid of the weird lines\n",
    "text = [line for line in text if '**' not in line]\n",
    "text = [line for line in text if 'recommendations have not been edited.' not in line]\n",
    "text = [line for line in text if 'recommendations will not be edited.' not in line]"
   ]
  },
  {
   "cell_type": "code",
   "execution_count": 23,
   "metadata": {
    "collapsed": false
   },
   "outputs": [
    {
     "data": {
      "text/plain": [
       "['The following recommendations did not enjoy the support of C\\x99te d\\xd5Ivoire and would thus be noted: ',\n",
       " '129.1 Take further steps to prevent discrimination on the grounds of gender identity and sexual orientation and to raise awareness on its consequences (Netherlands); ',\n",
       " '129.2 Conduct such specific awareness-raising campaigns which can help to sensitize the general Ivorian public regarding the rights of LGBTI persons (Slovenia). ',\n",
       " '130. ',\n",
       " 'All conclusions and/or recommendations contained in the present report reflect the position of the submitting State(s) and/or the State under review. They should not be construed as endorsed by the Working Group as a whole. ']"
      ]
     },
     "execution_count": 23,
     "metadata": {},
     "output_type": "execute_result"
    }
   ],
   "source": [
    "text[-5:]"
   ]
  },
  {
   "cell_type": "markdown",
   "metadata": {},
   "source": [
    "3.6 Notice how the last few lines are split, with the paragraph number and text on different lines -- deviating from the pattern of the rest of the text. Let's fix that using a `while` loop."
   ]
  },
  {
   "cell_type": "code",
   "execution_count": 24,
   "metadata": {
    "collapsed": true
   },
   "outputs": [],
   "source": [
    "# merge lines so that each number starts with a number\n",
    "def mergeLines(l):\n",
    "    '''\n",
    "    This function takes in a list of lines `l` and merge broken paragraph lines \n",
    "    (merge all lines if they don't start with a number)\n",
    "    '''\n",
    "    i = 0\n",
    "    while i < len(l):\n",
    "        if not l[i][0].isdigit():\n",
    "            l[i-1:i+1] = [' '.join(l[i-1:i+1])]\n",
    "        else:\n",
    "            i = i+1\n",
    "    return(l)"
   ]
  },
  {
   "cell_type": "code",
   "execution_count": 25,
   "metadata": {
    "collapsed": false
   },
   "outputs": [],
   "source": [
    "text = mergeLines(text)"
   ]
  },
  {
   "cell_type": "code",
   "execution_count": 26,
   "metadata": {
    "collapsed": false
   },
   "outputs": [
    {
     "data": {
      "text/plain": [
       "['128.6 Better protect LGBTI persons and persons with AIDS against any act of discrimination and violence and review its legislation in this context (Switzerland). ',\n",
       " '129.  The following recommendations did not enjoy the support of C\\x99te d\\xd5Ivoire and would thus be noted: ',\n",
       " '129.1 Take further steps to prevent discrimination on the grounds of gender identity and sexual orientation and to raise awareness on its consequences (Netherlands); ',\n",
       " '129.2 Conduct such specific awareness-raising campaigns which can help to sensitize the general Ivorian public regarding the rights of LGBTI persons (Slovenia). ',\n",
       " '130.  All conclusions and/or recommendations contained in the present report reflect the position of the submitting State(s) and/or the State under review. They should not be construed as endorsed by the Working Group as a whole. ']"
      ]
     },
     "execution_count": 26,
     "metadata": {},
     "output_type": "execute_result"
    }
   ],
   "source": [
    "text[-5:]"
   ]
  },
  {
   "cell_type": "markdown",
   "metadata": {},
   "source": [
    "3.7 We probably don't need that last line -- on how the conclusions don't reflect the position of the working group"
   ]
  },
  {
   "cell_type": "code",
   "execution_count": 27,
   "metadata": {
    "collapsed": false
   },
   "outputs": [],
   "source": [
    "# get rid of that disclaimer paragraph\n",
    "text = [line for line in text if 'endorsed by the working group' not in line.lower()]"
   ]
  },
  {
   "cell_type": "code",
   "execution_count": 31,
   "metadata": {
    "collapsed": false
   },
   "outputs": [
    {
     "data": {
      "text/plain": [
       "['127. The recommendations listed below enjoy the support of C\\x99te d\\xd5Ivoire: ',\n",
       " '127.1 Consider the accession to core human rights instruments (Lesotho); and to other main international human rights treaties that it is not yet a party to (Philippines); ',\n",
       " '127.2 Make efforts towards the ratification of the OP-CAT (Chile); ',\n",
       " '127.3 Ratify the OP-CAT (Ghana, Tunisia), as recommended previously in 2009 (Czech Republic) and take policy measures to prevent torture and ill-treatment (Estonia); ',\n",
       " '127.4 Accede to the OP-CAT as soon as possible (Uruguay); ',\n",
       " '127.5 Consider ratifying OP-CAT (Burkina Faso); ',\n",
       " '127.6 Ratify the International Convention on the Protection of the Rights of All Migrant Workers and Members of Their Families (ICRMW) (Ghana); ',\n",
       " '127.7 Consider acceding to the ICRMW (Chad); ',\n",
       " '127.8 Make efforts towards the ratification of ICCPR-OP 2 (Chile); ',\n",
       " '127.9 Ratify ICCPR-OP 2 (Rwanda) to abolish death penalty (France, Montenegro); ',\n",
       " '127.10 Accede to the Agreement on the Privileges and Immunities of the International Criminal Court (Slovakia); ',\n",
       " '127.11 Sign and ratify the Optional Protocol to the International Covenant on Economic, Social and Cultural Rights (Portugal); ',\n",
       " '127.12 Fully implement CEDAW (Israel); ',\n",
       " '127.13 Ratify the third Optional Protocol to CRC (Portugal); ',\n",
       " '127.14 Sign (Portugal) ratify (France, Portugal, Tunisia) and accede to the International Convention for the Protection of All Persons from Enforced Disappearance as soon as possible (Uruguay); ',\n",
       " '127.15 Continue efforts to implement the total prohibition of torture and ill-treatment by integrating CAT into domestic legislation and ratify OP-CAT (Costa Rica); ',\n",
       " '127.16 Incorporate CAT into domestic law in order to define crimes of torture and incorporate it in the national legislation (France); ',\n",
       " '127.17 Revise the penal code and criminal procedure code and within this framework the definition and criminalization of torture (Cabo Verde); ',\n",
       " '127.18 Criminalize torture and other inhuman or degrading treatment or punishment in the Penal Code (Belgium); ',\n",
       " '127.19 Continue to adapt national legislation in order to better implement the provisions of international treaties (Russian Federation); ']"
      ]
     },
     "execution_count": 31,
     "metadata": {},
     "output_type": "execute_result"
    }
   ],
   "source": [
    "text[:20]"
   ]
  },
  {
   "cell_type": "markdown",
   "metadata": {},
   "source": [
    "3.8 Now that we have cleaned text, let's put that list in our dictionary"
   ]
  },
  {
   "cell_type": "code",
   "execution_count": 32,
   "metadata": {
    "collapsed": false
   },
   "outputs": [
    {
     "data": {
      "text/plain": [
       "['country', 'text', 'year']"
      ]
     },
     "execution_count": 32,
     "metadata": {},
     "output_type": "execute_result"
    }
   ],
   "source": [
    "upr['text'] = text\n",
    "upr.keys()"
   ]
  },
  {
   "cell_type": "markdown",
   "metadata": {},
   "source": [
    "___"
   ]
  },
  {
   "cell_type": "markdown",
   "metadata": {},
   "source": [
    "## 4. Loop through Files"
   ]
  },
  {
   "cell_type": "markdown",
   "metadata": {},
   "source": [
    "4.1 Using the code you wrote above, loop through all the .txt files in the directory, structuring and cleaning the data as you go. Each txt file will be stored as a dictionary. Store each dictionary in a list."
   ]
  },
  {
   "cell_type": "code",
   "execution_count": 33,
   "metadata": {
    "collapsed": false
   },
   "outputs": [
    {
     "name": "stdout",
     "output_type": "stream",
     "text": [
      "processing afghanistan2014.txt...\n",
      "processing albania2014.txt...\n",
      "processing angola2014.txt...\n",
      "processing bhutan2014.txt...\n",
      "processing bolivia2014.txt...\n",
      "processing bosniaandherzegovina2014.txt...\n",
      "processing bruneidarussalam2014.txt...\n",
      "processing cambodia2014.txt...\n",
      "processing chile2014.txt...\n",
      "processing comoros2014.txt...\n",
      "processing costarica2014.txt...\n",
      "processing cotedivoire2014.txt...\n",
      "processing cyprus2014.txt...\n",
      "processing democraticpeoplesrepublicofkorea2014.txt...\n",
      "processing democraticrepublicofthecongo2014.txt...\n",
      "processing dominica2014.txt...\n",
      "processing dominicanrepublic2014.txt...\n",
      "processing egypt2014.txt...\n",
      "processing elsalvador2014.txt...\n",
      "processing eritrea2014.txt...\n",
      "processing ethiopia2014.txt...\n",
      "processing fiji2014.txt...\n",
      "processing gambia2014.txt...\n",
      "processing guinea2014.txt...\n",
      "processing iran2014.txt...\n",
      "processing iraq2014.txt...\n",
      "processing italy2014.txt...\n",
      "processing kazakhstan2014.txt...\n",
      "processing Macedonia2014.txt...\n",
      "processing madagascar2014.txt...\n",
      "processing newzealand2014.txt...\n",
      "processing nicaragua2014.txt...\n",
      "processing norway2014.txt...\n",
      "processing portugal2014.txt...\n",
      "processing qatar2014.txt...\n",
      "processing sanmarino2014.txt...\n",
      "processing slovakia2014.txt...\n",
      "processing slovenia2014.txt...\n",
      "processing uruguay2014.txt...\n",
      "processing vanuatu2014.txt...\n",
      "processing vietnam2014.txt...\n",
      "processing yemen2014.txt...\n"
     ]
    }
   ],
   "source": [
    "l=[]\n",
    "dir = 'data/txts'\n",
    "for file_name in os.listdir(dir):\n",
    "    broken = []\n",
    "    if file_name.endswith(\".txt\"):\n",
    "        print 'processing ' + file_name + '...'\n",
    "        try:\n",
    "            upr = {}\n",
    "            upr['country'] = file_name[:-8]\n",
    "            upr['year'] = file_name[-8:-4]\n",
    "            f = open(dir + '/' + file_name,'rU')\n",
    "            text = f.read() # read in text\n",
    "            f.close\n",
    "            text = text.split('\\n') # make a list\n",
    "            text = filter(None, text) # get rid of empty string items       \n",
    "             \n",
    "            # take only the conclusions and/or recommendations section\n",
    "            ConclusionsStart = text.index([line for line in text if \"conclusions and/or recommendations\" in line.lower()][1]) #startin from bottom\n",
    "            ConclusionsEnd = text.index([line for line in text if \"conclusions and/or recommendations\" in line.lower()][2]) # the last one is the disclaimer\n",
    "            text = text[ConclusionsStart+1:ConclusionsEnd+1] \n",
    "            \n",
    "            # get rid of the weird lines\n",
    "            text = [line for line in text if '**' not in line]\n",
    "            text = [line for line in text if 'recommendations have not been edited.' not in line]\n",
    "            text = [line for line in text if 'recommendations will not be edited.' not in line]\n",
    "            text = [line.replace('\\xd2','') for line in text]\n",
    "            text = [line.replace('\\t','') for line in text]\n",
    "            text = [line.lstrip(\" \") for line in text]\n",
    "            \n",
    "            # merge lines so that each line is its own paragraph, starting with a paragraph number\n",
    "            text = mergeLines(text)\n",
    "            \n",
    "            # get rid of that disclaimer paragraph\n",
    "            text = [line for line in text if 'endorsed by the working group' not in line.lower()]\n",
    "            \n",
    "            upr['text'] = text \n",
    "            \n",
    "            # append to list\n",
    "            l.append(upr)\n",
    "              \n",
    "        except Exception,e:\n",
    "            broken.append(file_name +str(e)) "
   ]
  },
  {
   "cell_type": "code",
   "execution_count": 39,
   "metadata": {
    "collapsed": false
   },
   "outputs": [
    {
     "name": "stdout",
     "output_type": "stream",
     "text": [
      "Country: afghanistan\n",
      "Year: 2014\n",
      "Text: ['136. The recommendations formulated during the interactive dialogue and listed below have been examined by Afghanistan and enjoy its support: ', '136.1 To further build up on its effort to fully protect human rights in the country (Ethiopia); ', '136.2 Continue and deepen efforts to firmly root human rights values and principles in the Government system, including through human rights training to state officials (Indonesia); ', '136.3 Make further efforts to ensure the implementation of the legal framework which guarantees human rights, including the Constitution (Japan); ', '136.4 Further fulfil the internationally taken human rights obligations as well as integrate them into the national legislation (Kazakhstan); ', '136.5 Further strengthen its efforts to review its legislative framework and make necessary adjustments to it in order to ensure that it is in conformity with Afghanistan\\xd5s international human rights obligations (Norway); ', '136.6 Accelerate domestication process of international human rights laws to which Afghanistan is a member, in particular the International Covenant on Civil and Political Rights, Convention on the Elimination of All Forms of Discrimination against Women and the Convention on the Rights of the Child (Viet Nam); ', '136.7 Continue the process of making domestic laws compliant with the international conventions to which Afghanistan is party (Bahrain); ', '136.8 Take necessary measures to implement a national public awareness campaign on human rights, especially women and children\\xd5s rights (Iran (Islamic Republic of)); ', '136.9 Support the establishment of human rights units within more ministries (Iraq); '] ...\n"
     ]
    }
   ],
   "source": [
    "first_upr = l[0]\n",
    "\n",
    "print \"Country:\",first_upr['country']\n",
    "print \"Year:\",first_upr['year']\n",
    "print \"Text:\",first_upr['text'][:10], \"...\""
   ]
  },
  {
   "cell_type": "markdown",
   "metadata": {
    "collapsed": true
   },
   "source": [
    "## What Next?\n",
    "\n",
    "What patterns do you see in the text that you think we can harness to make our tabular dataset?"
   ]
  }
 ],
 "metadata": {
  "kernelspec": {
   "display_name": "Python 2",
   "language": "python",
   "name": "python2"
  },
  "language_info": {
   "codemirror_mode": {
    "name": "ipython",
    "version": 2
   },
   "file_extension": ".py",
   "mimetype": "text/x-python",
   "name": "python",
   "nbconvert_exporter": "python",
   "pygments_lexer": "ipython2",
   "version": "2.7.9"
  }
 },
 "nbformat": 4,
 "nbformat_minor": 0
}
