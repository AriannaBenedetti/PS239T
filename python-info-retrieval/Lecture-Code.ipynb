{
 "cells": [
  {
   "cell_type": "markdown",
   "metadata": {},
   "source": [
    "# Lecture Notes + Exercises: Reading Data"
   ]
  },
  {
   "cell_type": "code",
   "execution_count": 1,
   "metadata": {
    "collapsed": true
   },
   "outputs": [],
   "source": [
    "import os\n",
    "import re\n",
    "import csv\n",
    "from operator import itemgetter\n",
    "from itertools import groupby"
   ]
  },
  {
   "cell_type": "markdown",
   "metadata": {},
   "source": [
    "## 1: Reading Filenames from Directory"
   ]
  },
  {
   "cell_type": "markdown",
   "metadata": {},
   "source": [
    "1.1 Print every filename in the directory 'data/txts'"
   ]
  },
  {
   "cell_type": "code",
   "execution_count": 3,
   "metadata": {
    "collapsed": false
   },
   "outputs": [
    {
     "name": "stdout",
     "output_type": "stream",
     "text": [
      "afghanistan2009.txt\n",
      "afghanistan2014.txt\n",
      "albania2010.txt\n",
      "albania2014.txt\n",
      "algeria2008.txt\n",
      "algeria2012.txt\n",
      "andorra2011.txt\n",
      "angola2010.txt\n",
      "angola2014.txt\n",
      "antiguaandbarbuda2011.txt\n",
      "argentina2008.txt\n",
      "argentina2012.txt\n",
      "armenia2010.txt\n",
      "australia2011.txt\n",
      "austria2011.txt\n",
      "azerbaijan2009.txt\n",
      "azerbaijan2013.txt\n",
      "bahamas2009.txt\n",
      "bahamas2013.txt\n",
      "bahrain2008.txt\n",
      "bahrain2012.txt\n",
      "bangladesh2009.txt\n",
      "bangladesh2013.txt\n",
      "barbados2009.txt\n",
      "barbados2013.txt\n",
      "belarus2010.txt\n",
      "belgium2011.txt\n",
      "belize2009.txt\n",
      "belize2013.txt\n",
      "benin2008.txt\n",
      "benin2012.txt\n",
      "bhutan2010.txt\n",
      "bhutan2014.txt\n",
      "bolivia2010.txt\n",
      "bolivia2014.txt\n",
      "bosniaandherzegovina2010.txt\n",
      "bosniaandherzegovina2014.txt\n",
      "botswana2009.txt\n",
      "botswana2013.txt\n",
      "brazil2008.txt\n",
      "brazil2012.txt\n",
      "bruneidarussalam2010.txt\n",
      "bruneidarussalam2014.txt\n",
      "bulgaria2011.txt\n",
      "burkinafaso2009.txt\n",
      "burkinafaso2013.txt\n",
      "burundi2009.txt\n",
      "burundi2013.txt\n",
      "cambodia2010.txt\n",
      "cambodia2014.txt\n",
      "cameroon2009.txt\n",
      "cameroon2013.txt\n",
      "canada2009.txt\n",
      "canada2013.txt\n",
      "capeverde2009.txt\n",
      "capeverde2013.txt\n",
      "centralafricanrepublic2009.txt\n",
      "centralafricanrepublic2013.txt\n",
      "chad2009.txt\n",
      "chad2013.txt\n",
      "chile2009.txt\n",
      "chile2014.txt\n",
      "china2009.txt\n",
      "china2013.txt\n",
      "colombia2009.txt\n",
      "colombia2013.txt\n",
      "comoros2009.txt\n",
      "comoros2014.txt\n",
      "congo2009.txt\n",
      "congo2013.txt\n",
      "costarica2010.txt\n",
      "costarica2014.txt\n",
      "cotedivoire2010.txt\n",
      "cotedivoire2014.txt\n",
      "croatia2011.txt\n",
      "cuba2009.txt\n",
      "cuba2013.txt\n",
      "cyprus2010.txt\n",
      "cyprus2014.txt\n",
      "czechrepublic2008.txt\n",
      "czechrepublic2012.txt\n",
      "democraticpeoplesrepublicofkorea2010.txt\n",
      "democraticpeoplesrepublicofkorea2014.txt\n",
      "democraticrepublicofthecongo2010.txt\n",
      "democraticrepublicofthecongo2014.txt\n",
      "denmark2011.txt\n",
      "djibouti2009.txt\n",
      "djibouti2013.txt\n",
      "dominica2010.txt\n",
      "dominica2014.txt\n",
      "dominicanrepublic2010.txt\n",
      "dominicanrepublic2014.txt\n",
      "ecuador2008.txt\n",
      "ecuador2012.txt\n",
      "egypt2010.txt\n",
      "egypt2014.txt\n",
      "elsalvador2010.txt\n",
      "elsalvador2014.txt\n",
      "equatorialguinea2010.txt\n",
      "eritrea2010.txt\n",
      "eritrea2014.txt\n",
      "estonia2011.txt\n",
      "ethiopia2010.txt\n",
      "ethiopia2014.txt\n",
      "fiji2010.txt\n",
      "fiji2014.txt\n",
      "finland2008.txt\n",
      "finland2012.txt\n",
      "france2008.txt\n",
      "france2013.txt\n",
      "gabon2008.txt\n",
      "gabon2012.txt\n",
      "gambia2010.txt\n",
      "gambia2014.txt\n",
      "georgia2011.txt\n",
      "germany2009.txt\n",
      "germany2013.txt\n",
      "ghana2008.txt\n",
      "ghana2012.txt\n",
      "greece2011.txt\n",
      "grenada2010.txt\n",
      "guatemala2008.txt\n",
      "guatemala2012.txt\n",
      "guinea-bissau2010.txt\n",
      "guinea2010.txt\n",
      "guinea2014.txt\n",
      "guyana2010.txt\n",
      "honduras2011.txt\n",
      "hungary2011.txt\n",
      "iceland2011.txt\n",
      "india2008.txt\n",
      "india2012.txt\n",
      "indonesia2008.txt\n",
      "indonesia2012.txt\n",
      "iran2010.txt\n",
      "iran2014.txt\n",
      "iraq2010.txt\n",
      "iraq2014.txt\n",
      "ireland2011.txt\n",
      "israel2009.txt\n",
      "israel2013.txt\n",
      "italy2010.txt\n",
      "italy2014.txt\n",
      "jamaica2011.txt\n",
      "japan2008.txt\n",
      "japan2012.txt\n",
      "jordan2009.txt\n",
      "jordan2013.txt\n",
      "kazakhstan2010.txt\n",
      "kazakhstan2014.txt\n",
      "kenya2010.txt\n",
      "kiribati2010.txt\n",
      "korea2008.txt\n",
      "kuwait2010.txt\n",
      "kyrgysztan2010.txt\n",
      "laopeoplesdemocraticrepublic2010.txt\n",
      "latvia2011.txt\n",
      "lebanon2011.txt\n",
      "lesotho2010.txt\n",
      "liberia2011.txt\n",
      "libya2011.txt\n",
      "liechtenstein2009.txt\n",
      "liechtenstein2013.txt\n",
      "lithuania2011.txt\n",
      "luxembourg2009.txt\n",
      "luxembourg2013.txt\n",
      "macedonia2009.txt\n",
      "Macedonia2014.txt\n",
      "madagascar2010.txt\n",
      "madagascar2014.txt\n",
      "malawi2011.txt\n",
      "malaysia2009.txt\n",
      "malaysia2013.txt\n",
      "maldives2011.txt\n",
      "mali2008.txt\n",
      "mali2013.txt\n",
      "malta2009.txt\n",
      "malta2013.txt\n",
      "marshallislands2011.txt\n",
      "mauritania2011.txt\n",
      "mauritius2009.txt\n",
      "mauritius2013.txt\n",
      "mexico2009.txt\n",
      "mexico2013.txt\n",
      "micronesia2011.txt\n",
      "moldova2011.txt\n",
      "monaco2009.txt\n",
      "monaco2013.txt\n",
      "mongolia2011.txt\n",
      "montenegro2009.txt\n",
      "montenegro2013.txt\n",
      "morocco2008.txt\n",
      "morocco2012.txt\n",
      "mozambique2011.txt\n",
      "myanmar2011.txt\n",
      "namibia2011.txt\n",
      "nauru2011.txt\n",
      "nepal2011.txt\n",
      "netherlands2008.txt\n",
      "netherlands2012.txt\n",
      "newzealand2009.txt\n",
      "newzealand2014.txt\n",
      "nicaragua2010.txt\n",
      "nicaragua2014.txt\n",
      "niger2011.txt\n",
      "nigeria2009.txt\n",
      "nigeria2013.txt\n",
      "norway2010.txt\n",
      "norway2014.txt\n",
      "oman2011.txt\n",
      "pakistan2008.txt\n",
      "pakistan2012.txt\n",
      "palau2011.txt\n",
      "panama2011.txt\n",
      "papuanewguinea2011.txt\n",
      "paraguay2011.txt\n",
      "peru2008.txt\n",
      "peru2012.txt\n",
      "philippines2008.txt\n",
      "philippines2012.txt\n",
      "poland2008.txt\n",
      "poland2012.txt\n",
      "portugal2010.txt\n",
      "portugal2014.txt\n",
      "qatar2010.txt\n",
      "qatar2014.txt\n",
      "republicofkorea2012.txt\n",
      "romania2008.txt\n",
      "romania2013.txt\n",
      "russia2009.txt\n",
      "russia2013.txt\n",
      "rwanda2011.txt\n",
      "saintkittsandnevis2011.txt\n",
      "saintlucia2011.txt\n",
      "saintvincentandthegrenadines2011.txt\n",
      "samoa2011.txt\n",
      "sanmarino2010.txt\n",
      "sanmarino2014.txt\n",
      "saotomeandprincipe2011.txt\n",
      "saudiarabia2009.txt\n",
      "saudiarabia2013.txt\n",
      "senegal2009.txt\n",
      "senegal2013.txt\n",
      "serbia2009.txt\n",
      "serbia2013.txt\n",
      "seychelles2011.txt\n",
      "sierraleone2011.txt\n",
      "singapore2011.txt\n",
      "slovakia2009.txt\n",
      "slovakia2014.txt\n",
      "slovenia2010.txt\n",
      "slovenia2014.txt\n",
      "solomonislands2011.txt\n",
      "somalia2011.txt\n",
      "southafrica2008.txt\n",
      "southafrica2012.txt\n",
      "spain2010.txt\n",
      "srilanka2008.txt\n",
      "srilanka2012.txt\n",
      "sudan2011.txt\n",
      "suriname2011.txt\n",
      "swaziland2011.txt\n",
      "sweden2010.txt\n",
      "switzerland2008.txt\n",
      "switzerland2012.txt\n",
      "syria2011.txt\n",
      "tajikistan2011.txt\n",
      "tanzania2011.txt\n",
      "thailand2011.txt\n",
      "timorleste2011.txt\n",
      "togo2011.txt\n",
      "tonga2008.txt\n",
      "tonga2013.txt\n",
      "trinidadandtobago2011.txt\n",
      "tunisia2008.txt\n",
      "tunisia2012.txt\n",
      "turkey2010.txt\n",
      "turkmenistan2009.txt\n",
      "turkmenistan2013.txt\n",
      "tuvalu2009.txt\n",
      "tuvalu2013.txt\n",
      "uganda2011.txt\n",
      "ukraine2008.txt\n",
      "ukraine2012.txt\n",
      "unitedarabemirates2009.txt\n",
      "unitedarabemirates2013.txt\n",
      "unitedkingdom2008.txt\n",
      "unitedkingdom2012.txt\n",
      "unitedstatesofamerica2011.txt\n",
      "uruguay2009.txt\n",
      "uruguay2014.txt\n",
      "uzbekistan2009.txt\n",
      "uzbekistan2013.txt\n",
      "vanuatu2009.txt\n",
      "vanuatu2014.txt\n",
      "venezuela2011.txt\n",
      "vietnam2009.txt\n",
      "vietnam2014.txt\n",
      "yemen2009.txt\n",
      "yemen2014.txt\n",
      "zambia2008.txt\n",
      "zambia2012.txt\n",
      "zimbabwe2011.txt\n"
     ]
    }
   ],
   "source": [
    "dir = 'data/txts'\n",
    "for file_name in os.listdir(dir):\n",
    "    print file_name"
   ]
  },
  {
   "cell_type": "markdown",
   "metadata": {},
   "source": [
    "1.2 Print only the filenames that endswith \".txt\" (hint: used the endswith() method)"
   ]
  },
  {
   "cell_type": "code",
   "execution_count": 4,
   "metadata": {
    "collapsed": false
   },
   "outputs": [
    {
     "name": "stdout",
     "output_type": "stream",
     "text": [
      "afghanistan2014.txt\n",
      "albania2014.txt\n",
      "angola2014.txt\n",
      "bhutan2014.txt\n",
      "bolivia2014.txt\n",
      "bosniaandherzegovina2014.txt\n",
      "bruneidarussalam2014.txt\n",
      "cambodia2014.txt\n",
      "chile2014.txt\n",
      "comoros2014.txt\n",
      "costarica2014.txt\n",
      "cotedivoire2014.txt\n",
      "cyprus2014.txt\n",
      "democraticpeoplesrepublicofkorea2014.txt\n",
      "democraticrepublicofthecongo2014.txt\n",
      "dominica2014.txt\n",
      "dominicanrepublic2014.txt\n",
      "egypt2014.txt\n",
      "elsalvador2014.txt\n",
      "eritrea2014.txt\n",
      "ethiopia2014.txt\n",
      "fiji2014.txt\n",
      "gambia2014.txt\n",
      "guinea2014.txt\n",
      "iran2014.txt\n",
      "iraq2014.txt\n",
      "italy2014.txt\n",
      "kazakhstan2014.txt\n",
      "Macedonia2014.txt\n",
      "madagascar2014.txt\n",
      "newzealand2014.txt\n",
      "nicaragua2014.txt\n",
      "norway2014.txt\n",
      "portugal2014.txt\n",
      "qatar2014.txt\n",
      "sanmarino2014.txt\n",
      "slovakia2014.txt\n",
      "slovenia2014.txt\n",
      "uruguay2014.txt\n",
      "vanuatu2014.txt\n",
      "vietnam2014.txt\n",
      "yemen2014.txt\n"
     ]
    }
   ],
   "source": [
    "dir = 'data/txts'\n",
    "for file_name in os.listdir(dir):\n",
    "    broken = []\n",
    "    if file_name.endswith(\".txt\") and '2014' in file_name:\n",
    "        print file_name"
   ]
  },
  {
   "cell_type": "markdown",
   "metadata": {},
   "source": [
    "1.3 Print the full (relative) directory path of each filename ending with \".txt.\" For example, the first one should be \"raw-data/txts/afghanistan2014.txt\""
   ]
  },
  {
   "cell_type": "code",
   "execution_count": 5,
   "metadata": {
    "collapsed": false
   },
   "outputs": [
    {
     "name": "stdout",
     "output_type": "stream",
     "text": [
      "raw-data/txts/afghanistan2014.txt\n",
      "raw-data/txts/albania2014.txt\n",
      "raw-data/txts/angola2014.txt\n",
      "raw-data/txts/bhutan2014.txt\n",
      "raw-data/txts/bolivia2014.txt\n",
      "raw-data/txts/bosniaandherzegovina2014.txt\n",
      "raw-data/txts/bruneidarussalam2014.txt\n",
      "raw-data/txts/cambodia2014.txt\n",
      "raw-data/txts/chile2014.txt\n",
      "raw-data/txts/comoros2014.txt\n",
      "raw-data/txts/costarica2014.txt\n",
      "raw-data/txts/cotedivoire2014.txt\n",
      "raw-data/txts/cyprus2014.txt\n",
      "raw-data/txts/democraticpeoplesrepublicofkorea2014.txt\n",
      "raw-data/txts/democraticrepublicofthecongo2014.txt\n",
      "raw-data/txts/dominica2014.txt\n",
      "raw-data/txts/dominicanrepublic2014.txt\n",
      "raw-data/txts/egypt2014.txt\n",
      "raw-data/txts/elsalvador2014.txt\n",
      "raw-data/txts/eritrea2014.txt\n",
      "raw-data/txts/ethiopia2014.txt\n",
      "raw-data/txts/fiji2014.txt\n",
      "raw-data/txts/gambia2014.txt\n",
      "raw-data/txts/guinea2014.txt\n",
      "raw-data/txts/iran2014.txt\n",
      "raw-data/txts/iraq2014.txt\n",
      "raw-data/txts/italy2014.txt\n",
      "raw-data/txts/kazakhstan2014.txt\n",
      "raw-data/txts/Macedonia2014.txt\n",
      "raw-data/txts/madagascar2014.txt\n",
      "raw-data/txts/newzealand2014.txt\n",
      "raw-data/txts/nicaragua2014.txt\n",
      "raw-data/txts/norway2014.txt\n",
      "raw-data/txts/portugal2014.txt\n",
      "raw-data/txts/qatar2014.txt\n",
      "raw-data/txts/sanmarino2014.txt\n",
      "raw-data/txts/slovakia2014.txt\n",
      "raw-data/txts/slovenia2014.txt\n",
      "raw-data/txts/uruguay2014.txt\n",
      "raw-data/txts/vanuatu2014.txt\n",
      "raw-data/txts/vietnam2014.txt\n",
      "raw-data/txts/yemen2014.txt\n"
     ]
    }
   ],
   "source": [
    "dir = 'data/txts'\n",
    "for file_name in os.listdir(dir):\n",
    "    broken = []\n",
    "    if file_name.endswith(\".txt\"):\n",
    "        print dir + '/' + file_name"
   ]
  },
  {
   "cell_type": "markdown",
   "metadata": {},
   "source": [
    "1.4 Using the filename, print the country each document is about (hint: use slicing)"
   ]
  },
  {
   "cell_type": "code",
   "execution_count": 6,
   "metadata": {
    "collapsed": false
   },
   "outputs": [
    {
     "name": "stdout",
     "output_type": "stream",
     "text": [
      "afghanistan\n",
      "albania\n",
      "angola\n",
      "bhutan\n",
      "bolivia\n",
      "bosniaandherzegovina\n",
      "bruneidarussalam\n",
      "cambodia\n",
      "chile\n",
      "comoros\n",
      "costarica\n",
      "cotedivoire\n",
      "cyprus\n",
      "democraticpeoplesrepublicofkorea\n",
      "democraticrepublicofthecongo\n",
      "dominica\n",
      "dominicanrepublic\n",
      "egypt\n",
      "elsalvador\n",
      "eritrea\n",
      "ethiopia\n",
      "fiji\n",
      "gambia\n",
      "guinea\n",
      "iran\n",
      "iraq\n",
      "italy\n",
      "kazakhstan\n",
      "Macedonia\n",
      "madagascar\n",
      "newzealand\n",
      "nicaragua\n",
      "norway\n",
      "portugal\n",
      "qatar\n",
      "sanmarino\n",
      "slovakia\n",
      "slovenia\n",
      "uruguay\n",
      "vanuatu\n",
      "vietnam\n",
      "yemen\n"
     ]
    }
   ],
   "source": [
    "dir = 'data/txts'\n",
    "for file_name in os.listdir(dir):\n",
    "    broken = []\n",
    "    if file_name.endswith(\".txt\"):\n",
    "        print file_name[:-8]"
   ]
  },
  {
   "cell_type": "markdown",
   "metadata": {},
   "source": [
    "## 2: Reading Data from Single File"
   ]
  },
  {
   "cell_type": "markdown",
   "metadata": {},
   "source": [
    "2.1 Let's work with just one text, \"cotedivoire2014.txt\". Create a dictionary that stores the 'country' and 'year' keys from the filename"
   ]
  },
  {
   "cell_type": "code",
   "execution_count": 59,
   "metadata": {
    "collapsed": false
   },
   "outputs": [
    {
     "data": {
      "text/plain": [
       "{'country': 'cotedivoire', 'year': '2014'}"
      ]
     },
     "execution_count": 59,
     "metadata": {},
     "output_type": "execute_result"
    }
   ],
   "source": [
    "file_name = \"cotedivoire2014.txt\"\n",
    "dic = {}\n",
    "dic['country'] = file_name[:-8]\n",
    "dic['year'] = file_name[-8:-4]\n",
    "dic"
   ]
  },
  {
   "cell_type": "markdown",
   "metadata": {},
   "source": [
    "2.2 Read the file into an object called `text`, then make sure to close the file. Be sure to read in the file as universal line mode, or \"rU\". Later, we'll put this object in the dictionary."
   ]
  },
  {
   "cell_type": "code",
   "execution_count": null,
   "metadata": {
    "collapsed": true
   },
   "outputs": [],
   "source": [
    "file_name = \"cotedivoire2014.txt\"\n",
    "f = open(dir+'/'+file_name,'rU')\n",
    "text = f.read()\n",
    "f.close"
   ]
  },
  {
   "cell_type": "code",
   "execution_count": 31,
   "metadata": {
    "collapsed": false
   },
   "outputs": [
    {
     "data": {
      "text/plain": [
       "'\\nDistr.: General 7 July 2014 English Original: English/French \\nGeneral Assembly \\nHuman Rights Council Twenty-seventh session \\nAgenda item 6 \\nUniversal Periodic Review \\nReport of the Working Group on the Universal Periodic Review* \\nC\\x99te d\\xd5Ivoire \\n* The annex to the present report is circulated as received. \\n\\nGE.14-07583  (E)    280714 300714 \\n*1407583* \\nContents \\n\\nParagraphs Page \\nIntroduction............................................................................................................. 1\\xd04 3 \\n\\nI. Summary of the proceedings of the review process................................................ 5\\xd0126 3 \\n\\nA. Presentation by the State under review........................................................... 5\\xd021 3 \\n\\nB. Interactive dialogue and responses by the State under review........................ 22\\xd0126 5 \\n\\nII. Conclusions and/or recommendations .................................................................... 127\\xd0130 14  Annex Composition of the delegation ....................................................................................................... 26 \\n\\nIntroduction \\n1. \\nThe Working Group on the Universal Periodic Review, established in accordance with Human Rights Council resolution 5/1 of 18 June 2007, held its nineteenth session from 28 April to 9 May 2014. The review of C\\x99te d\\xd5Ivoire was held at the 4th meeting, on 29 April 2014. The delegation of C\\x99te d\\xd5Ivoire was headed by Mr. Gn\\x8en\\x8ema Mamadou Coulibaly. At its 10th meeting, held on 2 May 2014, the Working Group adopted the report on C\\x99te d\\xd5Ivoire. \\n\\n2. \\nOn 15 January 2014, the Human Rights Council selected the following group of rapporteurs (troika) to facilitate the review of C\\x99te d\\xd5Ivoire: Argentina, Botswana and Kuwait.  \\n\\n3. \\nIn accordance with paragraph 15 of the annex to resolution 5/1 and paragraph 5 of the annex to resolution 16/21, the following documents were issued for the review of C\\x99te d\\xd5Ivoire: \\n\\n\\n(a) \\nA national report submitted/written presentation made in accordance with paragraph 15 (a) (A/HRC/WG.6/19/CIV/1); \\n\\n(b) \\nA compilation prepared by the Office of the United Nations High Commissioner for Human Rights (OHCHR) in accordance with paragraph 15 (b) (A/HRC/WG.6/19/CIV/2); \\n\\n(c) \\nA summary prepared by OHCHR in accordance with paragraph 15 (c) (A/HRC/WG.6/19/CIV/3). \\n\\n\\n4. A list of questions prepared in advance by Belgium, the Czech Republic, Germany, Liechtenstein, Mexico, the Netherlands, Norway, Slovenia, Spain, Sweden and the United Kingdom of Great Britain and Northern Ireland was transmitted to C\\x99te d\\xd5Ivoire through the troika. Those questions are available on the extranet of the universal periodic review (UPR). \\nI. Summary of the proceedings of the review process \\nA. Presentation by the State under review \\n5. \\nThe head of the Ivorian delegation said that his country\\xd5s national report had been submitted in accordance with paragraph 5 of the annex to Human Rights Council resolution 16/21. The report had been prepared by a national universal periodic review team, the inherent difficulties faced by any administration emerging from a crisis notwithstanding. The results obtained had been extensively consolidated and shared with Ivorian civil society. \\n\\n6. \\nStructured around 13 main points, the C\\x99te d\\xd5Ivoire report could be summarized in three themes: the development of the normative and institutional framework; follow-up to and implementation of the recommendations and commitments arising from the universal periodic review; and the expectations of C\\x99te d\\xd5Ivoire in terms of capacity-building and technical assistance. \\n\\n7. \\nC\\x99te d\\xd5Ivoire had made efforts to bring its legal provisions into line with international standards. The Ivorian authorities had taken many steps to strengthen the national normative and institutional framework by adopting a number of laws and establishing operational structures. \\n\\n8. \\nC\\x99te d\\xd5Ivoire had adopted the law on the insertion of article 85 bis into title VI of the Constitution and on the International Criminal Court; the law on the establishment, remit, organization and operation of the National Human Rights Commission of C\\x99te d\\xd5Ivoire in accordance with the Paris Principles; the law on marriage, whose objective was to create de facto and de jure equality in Ivorian households; the law to amend the Nationality Code in relation to the procedure for acquiring nationality by marriage; particular provisions concerning the acquisition of nationality by declaration; the law on rural landownership; and the bill on sustainable development. \\n\\n9. \\nC\\x99te d\\xd5Ivoire had established several operational structures, including the Commission against Gender-Based Violence, the National Commission for the Family and the National Social Cohesion Programme. \\n\\n10. \\nIn March 2012, C\\x99te d\\xd5Ivoire had adopted the National Development Plan, a unifying framework for the implementation of all national development policies, structured around six areas: defence, security, justice and the rule of law; education, health, employment and social affairs; economy, agriculture and the private sector; infrastructure, water, energy and mines; environment, quality of life and habitat, public services; and culture, youth and sport. \\n\\n11. \\nThe national policy for the promotion and protection of human rights, introduced by the Ivorian Government in 2011, was monitored by the Ministry of Justice, Human Rights and Civil Liberties. A bill on the protection of human rights defenders had been drafted in cooperation with civil society and adopted by the Council of Ministers in September 2013. \\n\\n12. \\nC\\x99te d\\xd5Ivoire had made progress by acceding to the 1954 Convention relating to the Status of Stateless Persons and the 1961 Convention on the Reduction of Statelessness in October 2013; to the Optional Protocol to the Convention on the Rights of the Child on the involvement of children in armed conflict in March 2012; and to the Optional Protocol to the Convention on the Elimination of All Forms of Discrimination against Women in January 2012. \\n\\n13. \\nC\\x99te d\\xd5Ivoire had ratified the Protocol to the African Charter on Human and Peoples\\xd5 Rights on the Rights of Women in Africa in March 2012, and the amendment to the Basel Convention on the Control of Transboundary Movements of Hazardous Wastes and Their Disposal in September 2013. \\n\\n14. \\nDuring the previous universal periodic review, C\\x99te d\\xd5Ivoire had received 147 recommendations. It had accepted 108 of them, expressed reservations or observations in relation to 37 and rejected 2. Despite the many crises it had gone through, C\\x99te d\\xd5Ivoire had spared no effort in ensuring that it implemented a large proportion of the recommendations. \\n\\n15. \\nThe recommendations regarding the country\\xd5s political situation and overcoming the crisis had been implemented fully, as was demonstrated by the adoption of the following measures: the organization of elections in the aftermath of the crisis in accordance with the Ouagadougou Agreement, the redeployment of the administration across the entire national territory, the establishment of the Disarmament, Demobilization and Reintegration authority, the establishment of the new National Human Rights Commission in line with the Paris Principles, the creation of the Dialogue, Truth and Reconciliation Commission, the ratification of the Rome Statute and full cooperation with the International Criminal Court, the establishment of a national post-crisis commission of inquiry, the establishment of a special investigation unit, the introduction of human rights and citizenship education into curricula, and the adoption of a national strategy on sustainable development. \\n\\n16. \\nThe recommendations being implemented were primarily related to the progressive realization of economic, social and cultural rights. The Ivorian people welcomed the Government\\xd5s efforts in many development sectors, such as health, through the \\n\\nrefurbishment, construction and fitting out of health facilities, the provision of free medical care for mothers and children, and specific programmes to combat pandemics (AIDS, tuberculosis, malaria, etc.); education, through the refurbishment of the 5 public universities, the construction and refurbishment of 4,478 primary- and secondary-school classrooms, the recruitment, as an exceptional measure, of 8,000 teachers, the introduction of school canteens and the distribution of 6,880,600 textbooks and 5,762,334 school kits that had enabled more than 90 per cent of students enrolled in primary school to take advantage of free education; and road infrastructure.  \\n\\n17. \\nIvorians also welcomed the increase in the minimum wage, from 35,000 CFA francs (70 dollars) to 60,000 CFA francs (120 dollars). Similarly, State workers had received a salary increase in January 2014. \\n\\n18. \\nC\\x99te d\\xd5Ivoire was determined to implement the recommendations of the universal periodic review. However, because of a lack of resources, it had not been able to fully implement them given other priorities in the aftermath of the crisis. \\n\\n19. \\nC\\x99te d\\xd5Ivoire was presenting its needs in the area of the promotion and protection of human rights to the whole international community. Countries such as C\\x99te d\\xd5Ivoire, emerging from crisis, faced huge difficulties in guaranteeing their citizens full enjoyment of their human rights. For that reason, the United Nations, so as to encourage international solidarity among its members, made available a variety of mechanisms to support requesting States. \\n\\n20. \\nIt was incumbent on States to ensure the promotion and respect of the human rights of their citizens.  \\n\\n21. \\nC\\x99te d\\xd5Ivoire, mindful of that fundamental task but also of its current limitations, wished to make a solemn appeal to the entire United Nations system as well as to multilateral and bilateral partners to support its efforts in seven priority areas: peacebuilding; treaty body reports; combating violence against women and improving their living conditions; improving prison policy; adopting a national human rights policy; and working towards national reconciliation. \\n\\n\\n\\nB. Interactive dialogue and responses by the State under review \\n22. \\nDuring the interactive dialogue, 86 delegations made statements. Recommendations made during the dialogue are to be found in section II of the present report. \\n\\n23. \\nChile acknowledged the complex political situation that the country had faced since the 2010 elections and noted the work of the Dialogue, Truth and Reconciliation Commission. It also acknowledged the information provided that described the progress made towards restoring the rule of law. \\n\\n24. \\nChina commended C\\x99te d\\xd5Ivoire on its National Development Plan. It welcomed the prioritization of poverty eradication and job creation in the context of economic and social development. It noted improvements to primary education and health services and cooperation with international bodies. \\n\\n25. \\nComoros praised achievements in the areas of national reconciliation and social cohesion in the light of the crisis sweeping the country, although efforts still needed to be made at political, economic and social levels. It noted the national authorities\\xd5 concern for prioritizing human rights. \\n\\n26. \\nThe Congo noted the strengthening of legislation and measures to shed light on human rights violations and combat impunity. It called on C\\x99te d\\xd5Ivoire to establish a follow-up mechanism for the implementation of recommendations. \\n\\n27. \\nCosta Rica noted the creation of investigative bodies to fight impunity for human rights violations. It commended the alignment of the National Human Rights Commission with the Paris Principles and urged it to strengthen the Commission. \\n\\n28. \\nCuba noted the efforts made to implement previous recommendations, particularly after the instability experienced by the country. The establishment of the National Development Plan had exemplified the political will necessary to advance towards the development of the country and would result in enhanced protection of human rights. \\n\\n29. \\nThe Czech Republic warmly welcomed the delegation. \\n\\n30. \\nThe Democratic Republic of the Congo congratulated C\\x99te d\\xd5Ivoire on its efforts to implement the recommendations, despite the difficulties it faced. It noted the reinforcement of the legal framework in order to address numerous human rights violations. \\n\\n31. \\nDjibouti noted the efforts to improve the human rights situation by establishing social dialogue and national human rights institutions. It welcomed the country\\xd5s willingness to cooperate with international human rights mechanisms. \\n\\n32. \\nEgypt noted the thoroughness of the consultations during the preparation of the report, which demonstrated the country\\xd5s willingness to engage with the human rights system and reflected its commitment to democracy. \\n\\n33. \\nEstonia hoped for a speedy enactment of the new legislation concerning human rights defenders. While it appreciated the steps taken to improve access to justice, further efforts were needed to combat corruption. It was concerned by the increase in violence against women and children. \\n\\n34. \\nFrance commended the cooperation between C\\x99te d\\xd5Ivoire and the Human Rights Council. It welcomed the ratification of the Rome Statute of the International Criminal Court and the Convention on the Rights of Persons with Disabilities (CRPD). \\n\\n35. \\nGabon praised the cooperation with international procedures and welcomed the ratification of various instruments. It welcomed the measures taken to combat discrimination against women and commended the establishment of the Dialogue, Truth and Reconciliation Commission. \\n\\n36. \\nGermany commended C\\x99te d\\xd5Ivoire on the progress made since the previous UPR cycle. It welcomed the efforts that had contributed to an improvement of the general human rights situation in the country. \\n\\n37. \\nGhana commended C\\x99te d\\xd5Ivoire on its ratification of the Rome Statute, on the establishment of its Dialogue, Truth and Reconciliation Commission, and on the improvement in the country\\xd5s security and economic situation. \\n\\n38. \\nHungary commended C\\x99te d\\xd5Ivoire on its national action plan against domestic and sexual violence but expressed concern at the delayed implementation of the plan. It was concerned that female genital mutilation (FGM) remained a widespread practice, and that millions of children held no birth certificate. \\n\\n39. \\nIndonesia welcomed developments concerning the normative and institutional human rights framework. It welcomed the establishment of the National Human Rights Commission and the Dialogue, Truth and Reconciliation Commission. \\n\\n40. \\nIraq praised the efforts of C\\x99te d\\xd5Ivoire since the last report, which illustrated the country\\xd5s willingness to advance, despite the difficulties it was facing. It welcomed measures to consolidate legislation and create institutions to promote human rights. \\n\\n41. \\nIreland noted the ratification of the Rome Statute. While it welcomed the establishment of the two new commissions, it was concerned by the lack of accountability \\n\\nfor serious violations committed during the crisis of 2010. It was concerned by the prevalence of gender-based and sexual violence. \\n\\n42. \\nIsrael appreciated the progress made since the first UPR cycle. It congratulated C\\x99te d\\xd5Ivoire on its efforts to rebuild state institutions and on adopting a guidance paper on Ministry of Justice policy. It noted that CEDAW did not have sufficient visibility as a legal basis for eliminating discrimination against women. \\n\\n43. \\nItaly welcomed the efforts to promote reconciliation in the country. It noted that harmful traditional practices remained customary in the country although they were illegal. It commended the country\\xd5s commitment to civil society and human rights defenders. \\n\\n44. \\nLatvia noted the establishment of the National Human Rights Commission and the ratification of the Rome Statute. It was concerned by reports of gender-based violence and violence against children and women and encouraged C\\x99te d\\xd5Ivoire to intensify efforts to protect the rights of those groups. \\n\\n45. \\nLesotho welcomed the achievements of C\\x99te d\\xd5Ivoire in harmonizing domestic legislation with regional and international human rights instruments. It commended the establishment of the National Human Rights Commission, the Office of the Ombudsman and the National Press Council. \\n\\n46. \\nLibya welcomed the efforts to promote human rights, strengthen national dialogue and foster civil peace and national reconciliation despite major difficulties facing the country. It noted the ratification of several instruments. It welcomed the National Development Plan, which would help build security and stability. \\n\\n47. \\nLiechtenstein acknowledged the efforts towards long-term improvement of the human rights situation in the country. It was concerned at the lack of comprehensive legislation on violence against women, reports of an increase in gender-based violence, and the continued practice of FGM.  \\n\\n48. \\nLuxembourg welcomed the efforts to improve human rights. Efforts to combat violence against women and girls were insufficient. It was concerned at the lack of attention given to sexual violence and at the persistence of forced marriage and FGM.  \\n\\n49. \\nMadagascar welcomed the implementation of the Ouagadougou Agreement. It also welcomed the various legislative measures to protect human rights, and progress regarding children\\xd5s rights, reform of the judiciary and the fight against poverty. It encouraged C\\x99te d\\xd5Ivoire to increase access to health care for vulnerable groups and to guarantee free education for all. \\n\\n50. \\nMalaysia noted the efforts regarding women\\xd5s and children\\xd5s rights and poverty reduction. It noted C\\x99te d\\xd5Ivoire\\xd5s commitment to resolving the challenges it faced through political dialogue, to furthering the cause of human rights and to restoring the rule of law. \\n\\n51. \\nMaldives commended the consideration and fulfilment of previous recommendations, and noted the agreement for visits by special procedures as well as the efforts regarding children\\xd5s rights and the promotion of women\\xd5s roles. It welcomed the adoption of the bill on human rights defenders. \\n\\n52. \\nMali commended the implementation of various previous recommendations and actions to promote national reconciliation, including the social cohesion programme. It noted the country\\xd5s full cooperation with United Nations bodies and called on the international community to support peacebuilding efforts. \\n\\n53. \\nMauritania welcomed the efforts to protect and promote human rights and to uphold the rule of law through the enactment of legislation and through accession to a number of \\n\\ninternational instruments, including the protocol to the African Charter, and the Rome Statute, and noted the abolition of the death penalty. \\n\\n54. \\nMauritius welcomed the commitment to implement previous recommendations. It appreciated the strengthening of the National Human Rights Commission and the adoption of the National Development Plan. It noted progress regarding primary education and encouraged C\\x99te d\\xd5Ivoire to work towards the achievement of Millennium Development Goal 2. \\n\\n55. \\nMexico noted the progress towards sustainable peace and political reconciliation. It appealed to C\\x99te d\\xd5Ivoire to engage in fair transitional justice proceedings. It noted legislative reforms and the accession to international conventions on statelessness. \\n\\n56. \\nMontenegro requested details on efforts to improve cooperation with the International Criminal Court (ICC) and to strengthen national institutions, including the judiciary and the police. It welcomed efforts to combat FGM and noted the persistence of forced and early marriage. It encouraged enforcement of the law to prohibit those practices.  \\n\\n57. \\nMorocco welcomed the country\\xd5s commitment to national reconciliation. It commended C\\x99te d\\xd5Ivoire\\xd5s democratic achievements in the political, institutional and legislative spheres, and progress regarding the security and political situation. It commended the country\\xd5s commitment to establishing a mechanism to follow up on recommendations. \\n\\n58. \\nMozambique noted the country\\xd5s unstable situation. It praised the institution of the Dialogue, Truth and Reconciliation Commission and noted the draft legal framework concerning war victims. It congratulated C\\x99te d\\xd5Ivoire on having adopted a national plan on domestic violence. \\n\\n59. \\nThe Netherlands commended steps to investigate and prosecute offences against human rights defenders and journalists, and welcomed the adoption of the bill to protect their rights, as well as the ratification of the Rome Statute. It expressed concern regarding the protection of women\\xd5s rights.  \\n\\n60. \\nNicaragua applauded the adoption of the National Development Plan, and noted the efforts towards national dialogue, reconciliation, and strengthening internal democratic processes. It encouraged continued efforts towards lasting peace and development.  \\n\\n61. \\nThe Niger welcomed the reconciliation efforts, the law on the National Human Rights Commission, and the National Development Plan. It encouraged the international community to provide technical assistance to ensure continued efforts, ratification of conventions and strengthened institutional capacity. \\n\\n62. \\nNigeria commended the steps taken to align domestic legislation with international laws, despite shortfalls. It urged further efforts to ensure fundamental rights and basic freedoms. It invited the international community to support the protection of women\\xd5s and children\\xd5s rights and the provision of education and stable health care. \\n\\n63. \\nNorway expressed concern regarding arbitrary detention, the capacity, availability, affordability and independence of the courts, the prevalence of FGM, and the level of gender-based violence. It welcomed efforts to combat child labour, including the trafficking of children, and to support victims of gender-based violence. \\n\\n64. \\nParaguay noted the ratification of the Rome Statute and encouraged the harmonization of domestic legislation with that document. It commended the ratification of CRPD and of the Optional Protocol to the Convention on the Elimination of All Forms of Discrimination against Women (OP-CEDAW). The Law on Marriage was an important step for women\\xd5s rights, ensuring equal parental responsibility. \\n\\n65. \\nThe Philippines applauded the steps taken to implement recommendations accepted during the first UPR cycle. The international community should support reconciliation and human rights protection efforts. It noted the prioritization given to consolidating peace, combating violence against women and improving women\\xd5s living conditions. \\n\\n66. \\nThe Republic of Korea noted the Government\\xd5s efforts to overcome challenges and improve human rights by establishing the National Human Rights Commission and the Commission on Dialogue, Truth and Reconciliation. It commended the ratification of the Rome Statute and the signature of the Optional Protocol to the Convention on the Rights of the Child. \\n\\n67. \\nThe Russian Federation welcomed the developments in the human rights situation since the first UPR cycle, including the ratification of OP-CEDAW and CRPD. It noted that legislation did not prohibit discrimination against women, and also noted continued occurrences of FGM and forced early marriage. \\n\\n68. \\nAfter the initial presentation, 47 States parties made comments in relation to the supporting documents for the review of C\\x99te d\\xd5Ivoire. After those statements, most of which concerned the recommendations by the States parties, the head of the delegation welcomed the relevant and very useful contributions by the States parties aimed at strengthening the promotion and protection of human rights in C\\x99te d\\xd5Ivoire. He also responded to two of the questions raised. \\n\\n69. \\nIn response to the question of Montenegro with regard to the level of cooperation between C\\x99te d\\xd5Ivoire and the International Criminal Court since the ratification of the Rome Statute, he said that there was good cooperation. A cooperation agreement had been in place since before the ratification, and C\\x99te d\\xd5Ivoire was prepared to cooperate with the Court. \\n\\n70. \\nWith regard to combating impunity, he said that C\\x99te d\\xd5Ivoire was working towards achieving zero impunity. The Ivorian Government was aware that impunity was at the root of serious abuses and violations in the aftermath of the 2010 post-election crisis. The perpetrators of acts liable to criminal prosecution would be brought to justice. \\n\\n71. \\nWith regard to the measures taken in relation to polygamy and early marriage, he said that C\\x99te d\\xd5Ivoire had a system of monogamy and that polygamy was considered an offence. The legal age for marriage was set in legislation, and any derogation from that was punishable by law. \\n\\n72. \\nIn response to the statement by Luxembourg concerning the trivialization of violence and the culture of impunity, he said that sexual violence could not be trivialized in C\\x99te d\\xd5Ivoire. No country could experience peace if it did not punish such behaviour. C\\x99te d\\xd5Ivoire strove to combat all forms of violation and impunity. All acts brought to the attention of the authorities were prosecuted. \\n\\n73. \\nIn response to the questions submitted in advance, particularly those concerning the submission of reports to the treaty bodies, he emphasized that, since the end of the post.election crisis, C\\x99te d\\xd5Ivoire had undertaken to prepare its reports to the human rights treaty bodies within the requested deadlines. Operational departments in the various ministries had been entrusted with the task. \\n\\n74. \\nHowever, the Government was in the process of reactivating the decree on the establishment of a committee to monitor implementation of international human rights instruments. That committee would, among other tasks, prepare the summary and periodic reports of C\\x99te d\\xd5Ivoire to the relevant bodies of the United Nations and the African Commission on Human and Peoples\\xd5 Rights. \\n\\n75. \\nWith regard to the ratification of international human rights instruments, the head of the delegation said that there were no obstacles to the ratification of the International Convention for the Protection of All Persons from Enforced Disappearance or the Second Optional Protocol to the International Covenant on Civil and Political Rights, aiming at the abolition of the death penalty. C\\x99te d\\xd5Ivoire was a party to the International Covenant on Civil and Political Rights, article 6 of which suggested abolishing the death penalty. \\n\\n76. \\nAs for the harmonization of national legislation with international standards, C\\x99te d\\xd5Ivoire intended to address shortcomings in relation to rape as part of its reform of the standard codes. However, it should be borne in mind that articles 354 and 356 of the Ivorian Criminal Code criminalized rape and sexual harassment. C\\x99te d\\xd5Ivoire had ratified the Rome Statute on 15 February 2013. \\n\\n77. \\nC\\x99te d\\xd5Ivoire had signed the bilateral immunity agreements on 30 June 2003 and planned to ratify the Agreement on the Privileges and Immunities of the International Criminal Court and implement the Rome Statute in national law. \\n\\n78. \\nRwanda applauded the creation of the Dialogue, Truth and Reconciliation Commission and the National Human Rights Commission, and of the national health policy document, the adoption of a national strategy for sustainable development, and the efforts to combat gender-based violence. \\n\\n79. \\nSenegal noted the creation of a ministerial human rights department, the establishment of the National Human Rights Commission, and the efforts to combat impunity. It welcomed the implementation of the national strategy for sustainable development. \\n\\n80. \\nSierra Leone commended C\\x99te d\\xd5Ivoire on its legislative reforms and willingness to ensure political and institutional reform in conformity with international human rights conventions. It noted the efforts to provide social, legal and civil protection and welcomed the National Development Plan. \\n\\n81. \\nSingapore noted the improved security situation and encouraged further efforts to enhance the rule of law. It noted the legislative changes made to strengthen the administration of justice and the steps taken to promote the right to education. \\n\\n82. \\nSlovakia welcomed the ratification of the Rome Statute, and the law on protecting human rights defenders. It welcomed the Dialogue, Truth and Reconciliation Commission. It expressed concern regarding gender-based violence and stated that violence against children must be addressed.  \\n\\n83. \\nSlovenia commended the follow-up to the recommendations of the International Commission of Inquiry and the Human Rights Council made during the post-election crisis. It welcomed the ratification of the Rome Statute and the cooperation with ICC. \\n\\n84. \\nSouth Africa commended the efforts to improve human rights and fulfil international obligations, which should continue. It welcomed the adoption of the National Development Plan and the bringing into line of the National Human Rights Commission with the Paris Principles. \\n\\n85. \\nSouth Sudan commended the cooperation with all special procedures mandate holders and encouraged the Government to continue that cooperation. It called on the international community to provide support and assistance for implementation of the recommendations regarding, inter alia, poverty, discrimination, violence against women, FGM and detention conditions. \\n\\n86. \\nSpain welcomed the accession of C\\x99te d\\xd5Ivoire to CRPD and to the Convention on the Reduction of Statelessness of 1961, and the creation of the National Human Rights Commission. It commended the steps taken to strengthen judicial independence. It \\n\\nexpressed concern regarding victims of sexual violence, and discrimination against persons with albinism. \\n\\n87. \\nThe State of Palestine welcomed the efforts made to improve the human rights situation since the first UPR cycle, despite the challenges the country was facing. \\n\\n88. \\nThe Sudan welcomed the efforts to promote human rights and strengthen national institutions, despite the challenges facing the country. It paid tribute to the country\\xd5s commitment to and cooperation with the review, and highlighted its efforts to implement recommendations accepted during the first UPR cycle. \\n\\n89. \\nSweden welcomed the positive developments regarding the prosecution of sexual violence, but expressed concern regarding FGM. Although assistance was provided to victims of rape and domestic violence, impunity remained a concern. It welcomed the efforts to pursue reconciliation and disarmament, although much remained to be done. \\n\\n90. \\nSwitzerland expressed concern about the lack of judicial impartiality regarding human rights violations and acts of torture, the number of people at risk of statelessness, the number of cases of sexual violence, and violations of the rights of lesbian, gay, bisexual, transgender and intersex persons and of those with HIV/AIDS. \\n\\n91. \\nThailand encouraged the extending of a standing invitation to special procedures mandate holders. It expressed concern about human rights violations, harmful gender stereotypes, and a lack of access to justice for women. It commended the ratification by C\\x99te d\\xd5Ivoire of OP-CEDAW, the Optional Protocol to the Convention on the Rights of the Child on the involvement of children in armed conflict (OP-CRC-AC) and the Optional Protocol to the Convention on the Rights of the Child on the sale of children, child prostitution and child pornography (OP-CRC-SC). \\n\\n92. \\nThe former Yugoslav Republic of Macedonia asked about measures taken to address corruption in the judiciary, create an independent judiciary and overcome impunity. Welcoming the ratification of OP-CRC-AC and OP-CRC-SC, it urged the country to fulfil its reporting obligations under the Convention against Torture and Other Cruel, Inhuman or Degrading Treatment or Punishment (CAT). Sexual violence remained a concern. \\n\\n93. \\nTogo applauded the Government\\xd5s commitment to implementing recommendations accepted in 2009, despite the challenges facing the country. It noted that C\\x99te d\\xd5Ivoire had become a party to the majority of international human rights instruments. It welcomed the commitment to a transitional justice process.  \\n\\n94. \\nTunisia commended the political and institutional reform, the conformity of the National Human Rights Institution with the Paris Principles, and the ratification of the Rome Statute. The process for adopting the national human rights policy should be accelerated. Freedoms of civil society actors should be ensured. \\n\\n95. \\nTurkey noted the adoption of a national human rights policy and the law on human rights defenders, the ratification of international instruments and the collaboration with the Human Rights Council. It commended the national reconciliation policy and expressed concern regarding the poor levels of birth registration. \\n\\n96. \\nThe United Arab Emirates recognized the implementation of previously accepted recommendations. It commended the steps taken to alleviate the impact of the post-election crisis on human rights and to promote national reconciliation. It encouraged capacity-building to meet priorities. It called upon the international community to provide technical assistance. \\n\\n97. \\nThe United Kingdom of Great Britain and Northern Ireland welcomed the establishment of the National Human Rights Commission. Implementing the conclusions of \\n\\nthe National Commission of Inquiry report would address causes of violence and ensure equal justice. The United Kingdom encouraged cooperation on transitional justice. \\n\\n98. \\nThe United States of America commended the passing of acts on acquisition of nationality by declaration, and the ratification of the Convention on the Reduction of Statelessness, of 1961. Slow security sector reform and national reconciliation efforts were of concern. Child labour and human trafficking remained an issue. \\n\\n99. \\nUruguay welcomed the ratification of the Rome Statute, the adoption of the National Development Plan and the bill on protection of human rights defenders. It encouraged C\\x99te d\\xd5Ivoire to cooperate with the Independent Expert and to keep working against corporal punishment and sexual abuse in schools. \\n\\n100. \\nThe Bolivarian Republic of Venezuela welcomed the compliance of the National Human Rights Commission with the Paris Principles, and the ratification of CRPD, OP.CRC-AC and OP-CRC-SC. Genuine dialogue and cooperation with C\\x99te d\\xd5Ivoire were fundamental to national reconciliation and lasting peace.  \\n\\n101. \\nAlgeria commended the efforts made towards national reconciliation, and the normative and institutional reform. It called on the international community to provide technical assistance to strengthen the capacity of C\\x99te d\\xd5Ivoire to face human rights challenges. \\n\\n102. \\nAngola applauded the continued cooperation with human rights mechanisms and the ratification of CRPD and the Optional Protocol to the International Covenant on Civil and Political Rights. It commended the efforts made towards national reconciliation and supported permanent political dialogue. It asked what progress had been made in eliminating FGM. \\n\\n103. \\nArgentina highlighted the ratification of key international human rights instruments. It encouraged C\\x99te d\\xd5Ivoire to strengthen its national reconciliation policy to fully encompass the promotion and protection of human rights and to pay special attention to vulnerable groups such as internally displaced persons (IDPs). \\n\\n104. \\nAustralia welcomed the conformity of the National Human Rights Commission with the Paris Principles, and the ratification of the Rome Statute. It noted the efforts made towards peace and security, and security sector reform, disarmament, demobilization and reintegration. It remained deeply concerned by the prevalence of sexual violence. \\n\\n105. \\nBangladesh acknowledged the endeavours of C\\x99te d\\xd5Ivoire to promote and protect human rights, including at the legislative and national policy levels. It noted that major challenges included restoring the rule of law, national reconciliation, attaining economic, social and cultural development goals, and combating poverty. \\n\\n106. \\nBelgium commended the ratification of the Protocol to the African Charter on Human and Peoples\\xd5 Rights on the Rights of Women in Africa, and of OP-CEDAW, and the adoption of legislation on gender equality within marriage. It welcomed the country\\xd5s cooperation with ICC, but encouraged it to step up its efforts in criminal justice. \\n\\n107. \\nBenin commended the efforts to promote and protect human rights and strengthen political dialogue, peace, security and economic and social reconstruction. It encouraged C\\x99te d\\xd5Ivoire to continue those efforts and urged the international community to increase its support to the country. \\n\\n108. \\nThe Plurinational State of Bolivia recognized the progress made since the first UPR. It encouraged C\\x99te d\\xd5Ivoire to continue strengthening human rights protection through its institutions, legislation and national policies. \\n\\n109. \\nBotswana noted progress in implementing previous recommendations and encouraged C\\x99te d\\xd5Ivoire to continue combating poverty and promoting civil and political rights. It was concerned at persistent discrimination and violence against women and at the lack of legislation prohibiting discrimination against women. \\n\\n110. \\nBrazil noted the efforts to address political, economic and social post-crisis challenges. Women\\xd5s rights and the justice system remained concerns. It acknowledged the steps taken to comply with the recommendations from the last UPR cycle concerning discrimination against women. \\n\\n111. \\nBurkina Faso commended government efforts to promote and protect human rights following the serious post-electoral crisis. It welcomed the implementation of the core provisions of the 2007 Ouagadougou Agreement, and the national peace and reconciliation policy of C\\x99te d\\xd5Ivoire. \\n\\n112. \\nBurundi welcomed the Government\\xd5s improved national legislative and institutional framework, the adoption of a national development plan and the ratification of many international human rights instruments. \\n\\n113. \\nCabo Verde welcomed the establishment of a national human rights institution in accordance with the Paris Principles, the adoption of a national human rights policy, legislation and a strategy to combat early marriage, and a national framework plan to combat poverty and promote development. \\n\\n114. \\nCanada encouraged the Government to continue combating violence against women, particularly focusing on FGM and on child, early and forced marriages, and expressed support for the national reconciliation process and government efforts to promote and protect the rights of all people. \\n\\n115. \\nThe Central African Republic commended the efforts to implement the recommendations from the first UPR. It encouraged continued endeavours for national reconciliation, and implementation of the measures taken to shed light on serious human rights violations and to combat impunity. \\n\\n116. \\nChad noted that C\\x99te d\\xd5Ivoire continued to improve its human rights situation, that there had been broad consultations for the preparation of its report, and that it was party to the key international human rights instruments, demonstrating its commitment to the cause. \\n\\n117. \\nEthiopia commended the ratification of CRPD and OP-CRC-AC, and the measures taken to promote education for all, develop primary education for all children, in both urban and rural areas, and eliminate disparities between boys and girls. \\n\\n118. \\nPortugal noted with satisfaction that C\\x99te d\\xd5Ivoire had recently ratified the Rome Statute, adopted legislation on the protection of human rights defenders and established the National Human Rights Commission. \\n\\n119. \\nResponding to the concern expressed by Spain regarding the situation of persons with albinism in C\\x99te d\\xd5Ivoire, the head of the delegation said that they did not face any discrimination in his country. He undertook, before the international community, to take action, if the need arose, in respect of any violations to which persons with albinism might be subjected.  \\n\\n120. \\nOn the issue of statelessness, he said that by ratifying the two conventions on statelessness C\\x99te d\\xd5Ivoire had considerably reduced the risk of such cases. The Ivorian Government was fully aware of the risks arising from not obtaining civil registration documents. \\n\\n121. \\nWith regard to traditional hunters, commonly known as dozos, the head of the delegation said that training and awareness-raising activities were being conducted to bring \\n\\nthem back to their areas of origin to dedicate themselves exclusively to their original activities.  \\n\\n122. \\nWith regard to corporal punishment and trafficking in children, he said that there was no tolerance in Ivorian legislation of ill-treatment or abuse in general or of such treatment of children in particular. He also highlighted the active involvement of the First Lady of C\\x99te d\\xd5Ivoire in children\\xd5s issues. \\n\\n123. \\nResponding to the final questions, particularly in relation to corruption in the judiciary, he said that the establishment of the High Authority for Good Governance and the adoption of the law on combating corruption and similar offences were intended to combat the phenomenon of corruption in all sectors of Ivorian public life, including the judiciary. \\n\\n124. \\nHe added that judges were independent and made rulings they believed to be in compliance with the law and their convictions.  \\n\\n125. \\nDespite the considerable progress made by C\\x99te d\\xd5Ivoire in normalizing political life and building a State based on the rule of law, in which democracy was the only regulatory framework for political conduct, it should be acknowledged that much remained to be done, as was shown by the priorities outlined earlier. \\n\\n126. \\nThe head of the delegation welcomed the universal periodic review as an extraordinary mechanism for the promotion and protection of human rights worldwide and, on behalf of the President, Alassane Ouattara, and the people of C\\x99te d\\xd5Ivoire, paid tribute to all the States that had actively participated in the review for their constructive contributions, and to the international organizations. He urged them to continue to show solidarity with C\\x99te d\\xd5Ivoire. In closing, he said that, more than ever, C\\x99te d\\xd5Ivoire needed their support in order to attain its objectives ahead of 2020. \\n\\n\\n\\n\\n\\nII. Conclusions and/or recommendations** \\n127. The recommendations listed below enjoy the support of C\\x99te d\\xd5Ivoire: \\n127.1 Consider the accession to core human rights instruments (Lesotho); and to other main international human rights treaties that it is not yet a party to (Philippines); \\n127.2 Make efforts towards the ratification of the OP-CAT (Chile); \\n127.3 Ratify the OP-CAT (Ghana, Tunisia), as recommended previously in 2009 (Czech Republic) and take policy measures to prevent torture and ill-treatment (Estonia); \\n\\n127.4 Accede to the OP-CAT as soon as possible (Uruguay); \\n127.5 Consider ratifying OP-CAT (Burkina Faso); \\n127.6 Ratify the International Convention on the Protection of the Rights of All Migrant Workers and Members of Their Families (ICRMW) (Ghana); \\n\\n127.7 Consider acceding to the ICRMW (Chad); \\n127.8 Make efforts towards the ratification of ICCPR-OP 2 (Chile); \\n** The conclusions and recommendations have not been edited. \\n127.9 Ratify ICCPR-OP 2 (Rwanda) to abolish death penalty (France, Montenegro); \\n127.10 Accede to the Agreement on the Privileges and Immunities of the International Criminal Court (Slovakia); \\n127.11 Sign and ratify the Optional Protocol to the International Covenant on Economic, Social and Cultural Rights (Portugal); \\n127.12 Fully implement CEDAW (Israel); \\n127.13 Ratify the third Optional Protocol to CRC (Portugal); \\n127.14 Sign (Portugal) ratify (France, Portugal, Tunisia) and accede to the International Convention for the Protection of All Persons from Enforced Disappearance as soon as possible (Uruguay); \\n127.15 Continue efforts to implement the total prohibition of torture and ill-treatment by integrating CAT into domestic legislation and ratify OP-CAT (Costa Rica); \\n127.16 Incorporate CAT into domestic law in order to define crimes of torture and incorporate it in the national legislation (France); \\n127.17 Revise the penal code and criminal procedure code and within this framework the definition and criminalization of torture (Cabo Verde); \\n127.18 Criminalize torture and other inhuman or degrading treatment or punishment in the Penal Code (Belgium); \\n127.19 Continue to adapt national legislation in order to better implement the provisions of international treaties (Russian Federation); \\n127.20 Continue to develop the institutional and legal framework in respect of human rights (Lesotho); \\n127.21 Review the Criminal and Criminal Procedural Codes in order to bring them into line with international standards (Russian Federation); \\n127.22 Review its national legislation in order to ensure its full alignment with obligations under the Rome Statute, in particular by incorporating provisions enabling cooperation with the Court (Latvia); \\n127.23 Fully align its national legislation with the Rome Statute of the ICC and accede to the Agreement on the Privileges and Immunities of the Court (APIC) (Estonia); \\n127.24 Fully align its national legislation with the Rome Statute, including by incorporating provisions to cooperate promptly and fully with ICC and to investigate and prosecute genocide, crimes against humanity and war crimes effectively before its national courts (Liechtenstein); \\n127.25 Continue its full cooperation with ICC (Burkina Faso);  \\n127.26 Introduce legislative measures to strengthen the rule of law and consolidate cooperation between national and international mechanisms to fight against impunity notably between the ICC, the Special Investigation Unit, and the military court (Canada); \\n127.27 Quickly complete the alignment of the national legislation with the provisions of the Rome Statute (Tunisia); \\n127.28 Adopt legislative measures for an effective implementation of the Rome Statute (Uruguay); \\n127.29 Revise its legislation to bring it into line with the requirements of the Rome Statue, so that, for example, statutes of limitations are not applicable to crimes against humanity, ensuring that all persons regardless of their position or rank are liable to prosecution as well as including responsibility of superior officers for crimes against humanity and war crimes committed with their knowledge (Belgium); \\n127.30 Swiftly adopt the law on the protection of human rights defenders by the Ivorian Parliament, and its immediate implementation (Czech Republic); \\n127.31 Adopt a comprehensive law on the trafficking in persons, including women and children (Sierra Leone); \\n127.32 Fully align its national legislation with the CEDAW, including by eliminating all discriminatory provisions from national laws and by supporting its full implementation with practical as well as policy measures (Estonia); \\n127.33 Intensify its efforts to combat violence against women by criminalizing and implementing comprehensive laws prohibiting sexual and gender-based violence and female genital mutilation, and by providing the necessary support to victims of sexual and gender-based violence (Liechtenstein); \\n127.34 Continue and strengthen its efforts towards enforcing the law on female genital mutilation (Norway); \\n127.35 Take necessary steps to enforce laws covering violence, including sexual violence, against women and girls and support to victims to ensure that perpetrators are sanctioned (Norway); \\n127.36 Take all the necessary measures to criminalize violence against women and girls and adopt a committed and determined criminal policy to fight against this surge (Luxembourg); \\n\\n127.37 Criminalize domestic violence in the Penal Code (Paraguay); \\n127.38 Adopt a comprehensive law on violence against women (South Africa); \\n127.39 Carry on the legislative amendments to repeal all discriminatory provisions against women and adopt a comprehensive law on violence against women (Turkey); \\n127.40 Include in its criminal law the definition of rape and other crimes of a sexual nature, according to International Law (Uruguay); \\n127.41 Adopt a specific law on domestic violence, including by criminalizing marital rape (Belgium); \\n127.42 Enact legislation dealing with prohibiting violence against women and implement it in law and practice (Botswana); \\n127.43 Take measures both in legislation and practice to ensure the rights of children, including access to education and health, birth registration, combating child labour and violence against them (Costa Rica); \\n127.44 Guarantee that the legal and institutional framework ensures that children in conflict with the law be dealt with in a manner that conforms to international standards (South Africa); \\n127.45 Enhance the activities of the National Commission for Human Rights and ensure its conformity with the Paris Principles (France); \\n127.46 Create an independent Human Rights Institution in accordance with the Paris Principles (Ghana); \\n127.47 Continue its efforts in empowering the National Human Rights Commission, in particular by holding consultations with all stakeholders with a view to making necessary adjustments to the existing law so as to ensure the Commission is in line with the Paris Principles in respect of its mandate, composition, organization, functioning, independence and means (Indonesia); \\n127.48 Ensure that its NHRI is in conformity with the Paris Principles (Sierra Leone); \\n127.49 Focus on the five priority areas identified by the Government (Ghana); \\n127.50 Continue its efforts to overcome its domestic challenges and constraints with a view to improving the human rights situation in the country (Malaysia); \\n127.51 Establish a National Action Plan for the priorities, initiatives and commitments it has identified in its UPR report with a view to improving the human rights situation in C\\x99te d\\xd5Ivoire (Mauritius); \\n127.52 Continue to advance in tackling, in an efficient and responsible manner, the structural underlying causes of discrimination against women (Comoros); \\n127.53 Approve the national strategy to promote gender mainstreaming and empowerment of women, and to strengthen mechanisms responsible for monitoring its effective implementation (Maldives); \\n127.54 Strengthen the national policy against sexual violence, in cooperation with the UN and civil society and pursue its efforts to promote women\\xd5s rights in particular to fight against all forms of genital mutilation and forced and early marriages (France); \\n127.55 Strengthen the protection and assistance provided to victims in the national action plan against domestic and sexual violence, including measures to encourage complaints, and access to justice, legal advice, medical and psychological attention (Mexico); \\n127.56 Undertake a comprehensive legal and cultural awareness-raising campaign on sexual and gender-based violence including issues such as rape, forced marriage, female genital mutilation and domestic violence (Ireland); \\n127.57 Pursue efforts to combat violence against women, notably by intensifying awareness-raising campaigns about respect for women\\xd5s rights (State of Palestine); \\n127.58 Continue ongoing efforts and adopt effective measures and policies to stop and prevent sexual violence against women and girls, as recommended previously in 2009 (Sweden); \\n127.59 Continue efforts to fight violence against women, including by raising awareness on the fight against female genital mutilation (Algeria); \\n127.60 Allocate greater resources to combat sexual violence and to prosecute perpetrators (Australia); \\n127.61 Take effective action to protect women and children from sexual violence, including by strengthening and implementing legislation against domestic violence and providing counselling services and safe places for victims (Germany); \\n127.62 Facilitate the filing of complaints by victims of sexual violence by assigning women (officers) to police stations and subsidize medical certificates attesting to such violence (Hungary); \\n127.63 Consolidate the progress achieved in the field of human rights education and training, by regularly organizing, with the assistance of the international community, seminars and awareness-raising workshops on human rights, particularly for members of the security forces and the judiciary (Morocco); \\n127.64 Implement policies aimed primarily at judicial and police officers, which combat stereotypes that normalize violence against women, in order to create a proper atmosphere for victims to file complaints on such acts (Paraguay); \\n127.65 Intensify awareness-raising and educational campaigns to supplement current programmes aimed at empowering women, with a particular focus on identifying and countering discriminatory perceptions and actions or practices that could endanger the safety and security of women and girls (Philippines); \\n127.66 Adopt a national strategy to combat violence against women and to ensure equal participation of women in political and social life (Russian Federation); \\n127.67 Take further measures to improve transparency and clarification on its policies and measures to promote gender equality, especially with regard to the implementation of Act No. 2013-33 (Netherlands); \\n127.68 Continue working on the elaboration of its national human rights policy for its prompt implementation and take into account the constructive contributions arising from this review in the aforementioned policy (Nicaragua); \\n127.69 Strengthen the inclusive approach in the implementation of the national policy for the promotion and protection of Human Rights (Senegal); \\n127.70 Step up efforts to strengthen the process of national reconciliation (Congo); \\n127.71 Redouble its efforts to succeed in the national reconciliation process (Democratic Republic of the Congo); \\n127.72 Strengthen the action of the Dialogue, Truth and Reconciliation Commission in line with the National Programme on Social Cohesion (France); \\n127.73 Speed up the national reconciliation process, so as to consolidate the progress towards the enjoyment of human rights by its people, with the support of the international community (Mozambique); \\n127.74 Continue the dialogue and positive measures to foster national reconciliation and social cohesion (Senegal); \\n127.75 Continue the policy of national reconciliation and consider, if necessary, elaboration of further measures with a view to fostering the process of reconciliation (Slovakia); \\n\\n127.76 Continue the process of national reconciliation (Algeria); \\n127.77 Continue its efforts to finalize the national reconciliation process so as to preserve the promotion and protection of human rights (Angola); \\n127.78 Ensure the participation of all political parties, civil society organizations and community leaders in the work of the Dialogue, Truth and Reconciliation Commission (Australia); \\n127.79 Continue its dialogue on the national reconciliation process through the work of the Dialogue, Truth and Reconciliation Commission by ensuring that the search for truth is a fundamental principle of the Commission, so that it produces recommendations for fair and unbiased actions, and adopt these recommendations at the earliest (Canada); \\n127.80 Redouble its efforts to reintegrate former combatants (Australia); \\n127.81 Continue its efforts to identify war victims and compensate the damages (Togo); \\n127.82 Take full use of technical assistance of the UN and Ivorian NGOs dealing with women\\xd5s rights to finalize the strategy and implement it accordingly, once adopted (Slovenia); \\n127.83 Continue to move forward through the adoption of all measures and policies that can achieve greater efficiency in the promotion and protection of human rights, and the promotion of the rule of law (Burundi); \\n127.84 Adopt a multiannual action plan to implement the National Policy on Human Rights, and the recommendations of the Human Rights Council, with an effective monitoring structure (Cabo Verde); \\n127.85 Implement the National Commission of Inquiry recommendations to ensure that those responsible for violations of human rights, from all parties are held accountable for their actions as soon as possible (Canada); \\n127.86 Strengthen the implementation of the recommendations of the International Commission on Access to Justice and Victims Assistance, and of those observations made by the Convention on the Elimination of All Forms of Discrimination against Women (Chile); \\n127.87 Extend the deadline for late registration of births and put in place a simple and free birth registration procedure as well as a national strategy to raise awareness on the importance of birth registration (Hungary); \\n127.88 Continue building its national capacities and implement its priorities as they were specified in its national report (United Arab Emirates); \\n127.89 Develop a comprehensive policy aimed at strengthening the judicial system, and rule of law (Botswana); \\n127.90 Continue the implementation of the national strategy to encourage women to stand for elections and elected positions (Algeria); \\n127.91 Submit its initial report to the Committee against Torture which is fifteen years overdue (Republic of Korea); \\n127.92 Submit its backlog of outstanding reports to the concerned treaty bodies (Sierra Leone); \\n127.93 Cooperate with the mandate holders of special procedures and treaty bodies (Chad); \\n127.94 Continue its cooperation with the treaty bodies and submit its outstanding reports (Togo); \\n127.95 Request the necessary aid and technical assistance to the international community, in particular to the United Nations bodies dealing with development, to support the initiatives of the National Development Plan (Morocco); \\n127.96 Pursue the reforms engaged for the protection of children and gender equality (Djibouti); \\n127.97 Make every effort to completely abolish all forms of discrimination against women (Burundi); \\n127.98 Speed up the process of identification of discriminatory provisions against women (Paraguay); \\n127.99 Continue its fight against discrimination against women (Bangladesh); \\n127.100 Strengthen measures to expand women\\xd5s access to land and to microfinance and microcredit at low interest rates (Egypt); \\n127.101 Double its efforts to enhance the enjoyment of women of their legitimate rights and protect them from all forms of violations (Sudan); \\n127.102 Take all necessary measures to further promote the rights of women and girls, including abolishing all discriminatory laws, implementing the national action plan to combat sexual violence and ending female genital mutilation (Brazil); \\n127.103 Take concrete measures to protect the rights of people with albinism, in accordance with the recommendations made by the Office of the High Commissioner, and raise awareness among society about their situation (Spain); \\n127.104 Adopt measures to stop aggressions and discrimination against persons suffering from albinism (Central African Republic); \\n127.105 Reduce overcrowding and improve physical situation of prisoners and administrative management in prisons (Spain); \\n127.106 Consider incorporating the UN Rules for the Treatment of Women Prisoners and Non-Custodial Measures for Women Offenders, otherwise known as the \\xd2Bangkok Rules\\xd3, as part of its programme to enhance the condition of detainees in prisons (Thailand); \\n127.107 Refrain from arbitrary arrests and make every effort to bring detainees before a judge within the statutory deadline of 48 hours (Germany); \\n127.108 End all arbitrary detention and strengthen the capacity on the judicial system as addressed in the country report following the previous Universal Periodic Review (Norway); \\n127.109 Continue improving conditions of detention, notably through the separation of quarters of children, women and men in detention facilities where this has not been achieved yet (State of Palestine); \\n127.110 Continue to take measures to ensure in practice the protection of children against sale and trafficking, in accordance with Act No. 2010-272, and ensure that persons engaging in the sale and trafficking of children are prosecuted (Egypt); \\n127.111 Intensify the initiatives aimed at both preventing child and women trafficking, child labour, forced prostitution, and facilitating the social reintegration of the victims (Italy); \\n127.112 Take necessary measures to eliminate worst forms of child labour, specifically in mining, forced begging, and commercial sexual exploitation (United States of America); \\n127.113 Thoroughly investigate human rights violations perpetrated by all sides after the 2010 presidential elections and fully cooperate with the ICC\\xd5s investigations (Czech Republic); \\n127.114 Ensure an equitable and impartial approach to the administration of justice so that all perpetrators responsible for violent crimes are held to account, irrespective of their political, tribal or religious background (Ireland); \\n127.115 Ensure that all those responsible for serious human rights abuses and violations of international humanitarian law are brought to justice in accordance with its international obligations (Israel); \\n127.116 Ensure that all the initiatives taken in the field of reconciliation comply with international standards on human rights, beginning with a comprehensive fight against impunity (Italy); \\n127.117 Promote national reconciliation by investigating crimes, accountability measures and reparation for victims (Mexico); \\n127.118 Reinforce the judicial system which ensures that serious human rights perpetrators are brought to justice (Republic of Korea); \\n127.119 Strengthen mechanisms which facilitate access to justice for victims of atrocities including sexual violence (Sierra Leone); \\n127.120 Continue to undertake measures to enhance the rule of law to protect the rights of its people (Singapore); \\n127.121 Prosecute all presumed perpetrators of human rights violations (Switzerland); \\n127.122 Continue efforts initiated in order to prosecute all perpetrators of serious human rights violations and provide assistance to victims (Argentina); \\n127.123 Ensure fair and rapid justice for all perpetrators of human rights violations (Burkina Faso); \\n127.124 Strengthen the judiciary and police bodies for the prevention of sexual violence, in particular through increasing the number of women and their visibility in the police and the justice system (Portugal); \\n127.125 Strengthen awareness campaigns on the harmful consequences of female genital mutilation and bring all excision practitioners to justice (Hungary); \\n127.126 Thoroughly investigate all allegations of sexual violence and bring perpetrators of such crimes to justice, in accordance with international standards, as recommended previously in 2009 (Sweden); \\n127.127 Undertake all necessary measures to end impunity for sexual violence by investigating all allegations of sexual violence and to prosecute individuals against whom there is sufficient evidence of such abuses (the former Yugoslav Republic of Macedonia); \\n127.128 Guarantee to women effective access to the courts and strengthen assistance and support to victims (Argentina); \\n127.129 Develop a comprehensive policy aimed at strengthening the judicial system, focusing on the effective access to justice for women (Israel); \\n127.130 Take measures to facilitate access to justice for victims of sexual violence, such as by issuing the medical certificates necessary to lodge complaints for sexual violence (Belgium); \\n127.131 Improve access to legal assistance and ensure compensation for victims, especially female victims of sexual violence (Burkina Faso); \\n127.132 Work towards fostering the independence of the Judiciary and reducing the number of people in pretrial detention without substantiated charges (Brazil); \\n127.133 Engage without any delay to prosecute all those who have committed serious violations of human rights, in particular during the post-electoral crisis in 2010, without any consideration of their ethnic, religious or political status (Luxembourg); \\n127.134 Step up their efforts and undertake credible investigations and prosecutions against members of both sides of the post-electoral conflict, including the security forces, thus contributing to the end of impunity (Slovenia); \\n127.135 Take appropriate measures to expedite the ongoing legal proceedings against supporters of former President Laurent Gbagbo, and investigate and punish, when appropriate, crimes committed by the forces of President Ouattara (Spain); \\n127.136 Continue to fight impunity by pursuing crimes that occurred during or in conjunction with the post-electoral conflict and previous conflicts in the country, regardless of which side in the conflicts the perpetrators belonged to. This includes continuing cooperation with the International Criminal Court (Sweden); \\n127.137 Implement the report of the National Inquiry Commission and the commitments taken to fight against impunity, by prosecuting the presumed perpetrators of human rights abuses during the post-electoral crisis regardless of their political affiliation (France); \\n127.138 Expedite its fight against impunity and prosecute the perpetrators of serious violations of human rights committed during the post-electoral crisis (Turkey); \\n127.139 Ensure that all parties responsible for the post-election crimes of 2010 be brought to justice regardless of their political affiliation (United Kingdom of Great Britain and Northern Ireland); \\n127.140 Develop a comprehensive transitional justice strategy that will encompass accountability, reparations, security sector reform and judicial reform ahead of the presidential elections in October 2015 (United Kingdom of Great Britain and Northern Ireland); \\n127.141 Investigate, and when appropriate, prosecute perpetrators of serious crimes, including abuses perpetrated by both sides of the post-election violence, on a non-discriminatory basis and regardless of their ethnic, religious, or political affiliations, to promote national reconciliation and the rule of law (United States of America); \\n127.142 Continue to prioritize the investigation and prosecution of serious international crimes regardless of political affiliation and cooperate with the International Criminal Court in this regard (Australia); \\n127.143 Take concrete steps to combat impunity with respect to human rights abuses committed by security forces, including dozos, by increasing governmental oversight of their operations, investigating credible allegations, and prosecuting cases where appropriate (United States of America); \\n127.144 Improve local administrative and judicial mechanisms to recover lands in the shortest possible time (Spain); \\n127.145 Give priority to resolving conflicts related to land tenure (Burkina Faso); \\n127.146 Adopt measures to ensure open and free campaign before the 2015 presidential elections, grant the opposition representatives access to all State-controlled media, and promote work of all journalists (Czech Republic); \\n127.147 Leave no stone unturned to address all outstanding electoral reform issues to guarantee free and fair elections in 2015 (Ghana); \\n127.148 Spare no efforts in creating conditions conducive to the peaceful and democratically credible holding of the 2015 presidential elections, in particular by convening a solid voter registration process reforming as necessary the National Election Commission (Indonesia); \\n127.149 Take the adequate measures to enlarge the space allocated to civil society (Djibouti); \\n127.150 Step up its efforts to protect civil society space within the country (Italy); \\n127.151 Pursue efforts to improve the living conditions of women, notably through measures aimed at encouraging women to stand for elective office and to seek public appointments, as well as through measures aimed at facilitating women\\xd5s access to credit, land, and to basic health services (State of Palestine); \\n127.152 Continue the efforts to facilitate the registration of births and create awareness of the importance of this procedure, which allows access to all other rights and basic services such as education and health (Turkey); \\n127.153 Conduct awareness campaigns to promote birth registration of all children and take the necessary measures to ensure easy and effective access to free birth registration for the newborn (Mexico); \\n127.154 Continue ongoing efforts to reduce the rates of maternal mortality (Egypt); \\n127.155 Strengthen efforts to reduce the incidence of maternal mortality (South Africa); \\n127.156 Take concrete measures to improve victim assistance, including health and psychosocial help, to victims of sexual violence and rape, also by providing free medical certificates to rape survivors, since this for most victims unaffordable document is deemed crucial in the course of any pursued investigations (Slovenia); \\n127.157 Remove any obstruction of the right to justice for victims of sexual violence and provide them with effective treatments (Spain); \\n127.158 Share experience with states within the region and benefit from their experiences in combating female genital mutilation (South Sudan); \\n127.159 Continue effectively the fight against female genital mutilation (Togo); \\n127.160 Continue efforts to sensitize public officials on the respect for women\\xd5s rights, in particular the fight against female genital mutilation (Bolivia (Plurinational State of)); \\n127.161 Continue its efforts in the social field, in particular for those most in need, especially in the field of nutrition, health and education (Venezuela (Bolivarian Republic of)); \\n127.162 Increase its efforts through targeted and comprehensive measures, especially in education, in order to eliminate traditional harmful practices, such as FGM and early and forced marriage (Italy); \\n127.163 Continue and strengthen efforts to provide quality education for all, especially free primary education for children and education for persons with disabilities (Maldives); \\n127.164 With support from UNESCO and ILO, continue to strengthen its education system and vocational training especially for youth (Singapore); \\n127.165 Continue current efforts to provide every child with good quality basic education (Egypt); \\n127.166 Urge to take measures for the introduction of specific modules on human rights at all levels of education, and to continue its cooperation with international and regional human rights mechanisms, boost the national framework of humanitarian consultation created by the decree of 23 January 2013 and to strengthen the role of NGOs\\xd5 interface and civil society (Burkina Faso); \\n127.167 Continue to create the conditions to facilitate the voluntary reparation of Ivorian refugees in accordance with the Tripartite Agreement (Ghana); \\n127.168 Adopt additional measures that tend to develop a comprehensive strategy that tends to address the needs of IDPs and provide sustainable solutions (Argentina); \\n127.169 Strengthen monitoring and supervision by relevant environmental agencies in order to ensure that toxic waste is treated in an environmentally sound manner (Egypt); \\n127.170 Intensify efforts to meet the Millennium Development Goals within the remaining period (Ethiopia); \\n127.171 Continue, with the assistance of the international community, to implement its plans for economic and social development and further reduce poverty so as to lay a firm foundation for improving peoples\\xd5 livelihood (China); \\n127.172 Strengthen measures taken to fight poverty and unemployment, including through the intensified implementation of programmes in the National Development Plan for 2012\\xd02015 in order to combat poverty and foster development (Ethiopia); \\n127.173 Continue its efforts on poverty reduction (Cuba); \\n127.174 Continue its fight against poverty with international community\\xd5s support (Bangladesh); \\n127.175 Continue to consolidate efforts to combat extreme poverty and improve the economic situation in the country, while ensuring that marginalized sectors, including persons with disabilities and migrants, are given equal and fair access to labour opportunities (Philippines); \\n127.176 Work towards the effective implementation of the national development plan that was adopted in March 2012 in its six points (Sudan); \\n127.177 Redouble actions to improve the compliance with the human right to water (Bolivia (Plurinational State of)); \\n127.178 Consider the promotion and protection of the rights of peasants and other people working in rural areas (Bolivia (Plurinational State of)). \\n128. \\nThe following recommendations will be examined by C\\x99te d\\xd5Ivoire, which will provide responses in due time, but no later than the 27th session of the Human Rights Council in September 2014: \\n\\n128.1 Ratify the Kampala amendments to the Rome Statute, if possible with a view to contributing to the activation of the jurisdiction of the ICC over the crime of aggression at the beginning of 2017 (Liechtenstein); \\n128.2 Consider ratification of the Optional Protocol to the Convention on the Rights of the Child on a communications procedure (Slovakia) as a matter of priority (Thailand); \\n128.3 Fulfil its obligations in accordance with CAT, immediately submit its overdue initial national report to the Committee against Torture and include a specific individual offence criminalizing acts of torture as well as a definition of torture in the national legislation (Czech Republic); \\n128.4 Consider extending a standing invitation to all the special procedures mandate holders of the Human Rights Council (Latvia); \\n128.5 Extend a standing invitation to all Human Rights Council special procedures (Montenegro, Portugal, Republic of Korea); \\n128.6 Better protect LGBTI persons and persons with AIDS against any act of discrimination and violence and review its legislation in this context (Switzerland). \\n\\n129. \\nThe following recommendations did not enjoy the support of C\\x99te d\\xd5Ivoire and would thus be noted: \\n\\n129.1 Take further steps to prevent discrimination on the grounds of gender identity and sexual orientation and to raise awareness on its consequences (Netherlands); \\n129.2 Conduct such specific awareness-raising campaigns which can help to sensitize the general Ivorian public regarding the rights of LGBTI persons (Slovenia). \\n\\n130. \\nAll conclusions and/or recommendations contained in the present report reflect the position of the submitting State(s) and/or the State under review. They should not be construed as endorsed by the Working Group as a whole. \\n\\n\\n\\n\\nAnnex \\n\\n[English only] \\n\\nComposition of the delegation \\nThe delegation of C\\x99te d\\xd5Ivoire was headed by Mr. Gn\\x8en\\x8ema Mamadou Coulibaly and composed of the following members: \\n\\xa5 \\nKouadio\\t Adjoumani, Permanent Representative of C\\x99te d\\xd5Ivoire to the United Nations; \\n\\n\\xa5 \\nMamadou Diane, Adviser Counsellor of the President of the Republic; \\n\\n\\xa5 \\nFid\\x8ele Sarassoro, Adviser to the President, Director of ADDR; \\n\\n\\xa5 \\nBako Jean Fructueux, Deputy Chief of Cabinet \\xd0 Ministry of Justice; \\n\\n\\xa5 \\nAcka Kassy Joseph,\\t Technical Adviser of the Cabinet of the Prime Minister \\xd0 Ministry of Economy, Finances and Budget; \\n\\n\\xa5 \\nOuattara Siaka Stevens, Technical Adviser of the Cabinet of the State Ministry \\xd0 Ministry of the Interior and Security; \\n\\n\\xa5 \\nKoffi Yao Bernard, Technical Adviser in charge of Conventions of the Ministry of the Environment, Urban Health and Sustainable Development; \\n\\n\\xa5 \\nOulai Zagni Madel\\x8ene, Deputy of the National Assembly; \\n\\n\\xa5 \\nMarie-Christine Bocoum, Commission Director \\xd0 Economic and Social Council; \\n\\n\\xa5 \\nKon\\x8e\\t Mariatou, Director Coordinator of the National Programme for Social Cohesion; \\n\\n\\xa5 \\nKamat\\x8e Banhouman, Director of Promotion of Human Rights and Public Liberties; \\n\\n\\xa5 \\nAgoh G\\x8erard, Vice Director on Legislation \\xd0 Ministry of Defense; \\n\\n\\xa5 \\nFrank Aymar Douzan, Minister in charge of the Economy, Finances and Budget; \\n\\n\\xa5 \\nZouon Bi Tidou Nestor, First Counsellor to the Permanent Mission in Geneva; \\n\\n\\xa5 \\nTi\\x8emoko Moriko, Counsellor, Permanent Mission in Geneva; \\n\\n\\xa5 \\nBakayoko Nogozene, Counsellor, Permanent Mission in Geneva; \\n\\n\\xa5 \\nSilu\\x8e Karim, Counsellor, Permanent Mission in Geneva; \\n\\n\\xa5 \\nBamba Lancin\\x8e Jo\\x91l, Counsellor in charge of Protocol of the Permanent Mission in Geneva; \\n\\n\\xa5 \\nDi\\x8e Mind\\x8eba Hanna Gr\\x89ce, Assistant to the Direction of Legal Affairs \\xd0 Ministry of State \\xd0 Minister of Planning and Development; \\n\\n\\xa5 \\nY\\x8eboua Kouassi Martin, member of the Permanent Mission in Geneva; \\n\\n\\xa5 \\nBenson Eba Fatim, Permanent Mission at Geneva. \\n\\n\\n\\n\\n\\n'"
      ]
     },
     "execution_count": 31,
     "metadata": {},
     "output_type": "execute_result"
    }
   ],
   "source": [
    "text"
   ]
  },
  {
   "cell_type": "markdown",
   "metadata": {},
   "source": [
    "### 3. Cleaning the text"
   ]
  },
  {
   "cell_type": "markdown",
   "metadata": {},
   "source": [
    "3.1 Split `text` into a list of lines."
   ]
  },
  {
   "cell_type": "code",
   "execution_count": 32,
   "metadata": {
    "collapsed": false
   },
   "outputs": [
    {
     "data": {
      "text/plain": [
       "715"
      ]
     },
     "execution_count": 32,
     "metadata": {},
     "output_type": "execute_result"
    }
   ],
   "source": [
    "text = text.split(\"\\n\")\n",
    "len(text)"
   ]
  },
  {
   "cell_type": "code",
   "execution_count": 34,
   "metadata": {
    "collapsed": false
   },
   "outputs": [
    {
     "data": {
      "text/plain": [
       "['Human Rights Council Twenty-seventh session ',\n",
       " 'Agenda item 6 ',\n",
       " 'Universal Periodic Review ',\n",
       " 'Report of the Working Group on the Universal Periodic Review* ',\n",
       " 'C\\x99te d\\xd5Ivoire ',\n",
       " '* The annex to the present report is circulated as received. ',\n",
       " '',\n",
       " 'GE.14-07583  (E)    280714 300714 ',\n",
       " '*1407583* ',\n",
       " 'Contents ',\n",
       " '',\n",
       " 'Paragraphs Page ']"
      ]
     },
     "execution_count": 34,
     "metadata": {},
     "output_type": "execute_result"
    }
   ],
   "source": [
    "text[3:15]"
   ]
  },
  {
   "cell_type": "markdown",
   "metadata": {},
   "source": [
    "3.2 Delete all empty lines from x"
   ]
  },
  {
   "cell_type": "code",
   "execution_count": 35,
   "metadata": {
    "collapsed": false
   },
   "outputs": [
    {
     "data": {
      "text/plain": [
       "525"
      ]
     },
     "execution_count": 35,
     "metadata": {},
     "output_type": "execute_result"
    }
   ],
   "source": [
    "text = filter(None,text)\n",
    "len(text)"
   ]
  },
  {
   "cell_type": "markdown",
   "metadata": {},
   "source": [
    "3.3 We want to slice the text so that we only keep the part in the \"Conclusions and/or Recommendations\" section. Find all lines that mention the phrase \"conclusions and/or recommendations\" in it, case insensitive. Put all of thse lines, into a list called `conclusionsList`"
   ]
  },
  {
   "cell_type": "code",
   "execution_count": 36,
   "metadata": {
    "collapsed": false
   },
   "outputs": [
    {
     "data": {
      "text/plain": [
       "['II. Conclusions and/or recommendations .................................................................... 127\\xd0130 14  Annex Composition of the delegation ....................................................................................................... 26 ',\n",
       " 'II. Conclusions and/or recommendations** ',\n",
       " 'All conclusions and/or recommendations contained in the present report reflect the position of the submitting State(s) and/or the State under review. They should not be construed as endorsed by the Working Group as a whole. ']"
      ]
     },
     "execution_count": 36,
     "metadata": {},
     "output_type": "execute_result"
    }
   ],
   "source": [
    "conclusionsList = [line for line in text if \"conclusions and/or recommendations\" in line.lower()]\n",
    "conclusionsList"
   ]
  },
  {
   "cell_type": "markdown",
   "metadata": {},
   "source": [
    "2.5 Notice that the section starts with the second mention of \"conclusions and/or recommendations\" (the first is the table of contents) and ends with the third mention. Make two objects called ConclusionsStart and ConclusionsEnd, containing the index of the second and third mention \"conclusions and/or recommendations\", respectively). Hint: Use the `index()` method"
   ]
  },
  {
   "cell_type": "code",
   "execution_count": 37,
   "metadata": {
    "collapsed": false
   },
   "outputs": [],
   "source": [
    "ConclusionsStart = text.index(conclusionsList[1])\n",
    "ConclusionsEnd = text.index(conclusionsList[2])"
   ]
  },
  {
   "cell_type": "markdown",
   "metadata": {},
   "source": [
    "3.4 Using these indeces, slice the `text` list so that it only contains the lines in the section we want (including both the start and end paragraphs you identified above)"
   ]
  },
  {
   "cell_type": "code",
   "execution_count": 38,
   "metadata": {
    "collapsed": true
   },
   "outputs": [],
   "source": [
    "text = text[ConclusionsStart+1:ConclusionsEnd+1] "
   ]
  },
  {
   "cell_type": "code",
   "execution_count": 43,
   "metadata": {
    "collapsed": false
   },
   "outputs": [
    {
     "data": {
      "text/plain": [
       "['127. The recommendations listed below enjoy the support of C\\x99te d\\xd5Ivoire: ',\n",
       " '127.1 Consider the accession to core human rights instruments (Lesotho); and to other main international human rights treaties that it is not yet a party to (Philippines); ',\n",
       " '127.2 Make efforts towards the ratification of the OP-CAT (Chile); ',\n",
       " '127.3 Ratify the OP-CAT (Ghana, Tunisia), as recommended previously in 2009 (Czech Republic) and take policy measures to prevent torture and ill-treatment (Estonia); ',\n",
       " '127.4 Accede to the OP-CAT as soon as possible (Uruguay); ',\n",
       " '127.5 Consider ratifying OP-CAT (Burkina Faso); ',\n",
       " '127.6 Ratify the International Convention on the Protection of the Rights of All Migrant Workers and Members of Their Families (ICRMW) (Ghana); ',\n",
       " '127.7 Consider acceding to the ICRMW (Chad); ',\n",
       " '127.8 Make efforts towards the ratification of ICCPR-OP 2 (Chile); ',\n",
       " '** The conclusions and recommendations have not been edited. ',\n",
       " '127.9 Ratify ICCPR-OP 2 (Rwanda) to abolish death penalty (France, Montenegro); ',\n",
       " '127.10 Accede to the Agreement on the Privileges and Immunities of the International Criminal Court (Slovakia); ',\n",
       " '127.11 Sign and ratify the Optional Protocol to the International Covenant on Economic, Social and Cultural Rights (Portugal); ',\n",
       " '127.12 Fully implement CEDAW (Israel); ',\n",
       " '127.13 Ratify the third Optional Protocol to CRC (Portugal); ']"
      ]
     },
     "execution_count": 43,
     "metadata": {},
     "output_type": "execute_result"
    }
   ],
   "source": [
    "text[:15]"
   ]
  },
  {
   "cell_type": "markdown",
   "metadata": {},
   "source": [
    "3.5 We'd like to remove some paragraphs in this list that don't mean anything to us. I'v"
   ]
  },
  {
   "cell_type": "code",
   "execution_count": 44,
   "metadata": {
    "collapsed": true
   },
   "outputs": [],
   "source": [
    "# get rid of the weird lines\n",
    "text = [line for line in text if '**' not in line]\n",
    "text = [line for line in text if 'recommendations have not been edited.' not in line]\n",
    "text = [line for line in text if 'recommendations will not be edited.' not in line]"
   ]
  },
  {
   "cell_type": "code",
   "execution_count": 49,
   "metadata": {
    "collapsed": false
   },
   "outputs": [
    {
     "data": {
      "text/plain": [
       "['The following recommendations did not enjoy the support of C\\x99te d\\xd5Ivoire and would thus be noted: ',\n",
       " '129.1 Take further steps to prevent discrimination on the grounds of gender identity and sexual orientation and to raise awareness on its consequences (Netherlands); ',\n",
       " '129.2 Conduct such specific awareness-raising campaigns which can help to sensitize the general Ivorian public regarding the rights of LGBTI persons (Slovenia). ',\n",
       " '130. ',\n",
       " 'All conclusions and/or recommendations contained in the present report reflect the position of the submitting State(s) and/or the State under review. They should not be construed as endorsed by the Working Group as a whole. ']"
      ]
     },
     "execution_count": 49,
     "metadata": {},
     "output_type": "execute_result"
    }
   ],
   "source": [
    "text[-5:]"
   ]
  },
  {
   "cell_type": "markdown",
   "metadata": {},
   "source": [
    "3.6 Notice how the last few lines are split, with the paragraph number and text on different lines -- deviating from the pattern of the rest of the text. Let's fix that."
   ]
  },
  {
   "cell_type": "code",
   "execution_count": null,
   "metadata": {
    "collapsed": true
   },
   "outputs": [],
   "source": [
    "# merge lines so that each number starts with a number\n",
    "def mergeLines(l):\n",
    "    '''\n",
    "    This function takes in a list of lines `l` and merge broken paragraph lines \n",
    "    (merge all lines if they don't start with a number)\n",
    "    '''\n",
    "    i = 0\n",
    "    while i < len(l):\n",
    "        if not l[i][0].isdigit():\n",
    "            l[i-1:i+1] = [' '.join(l[i-1:i+1])]\n",
    "        else:\n",
    "            i = i+1\n",
    "    return(l)"
   ]
  },
  {
   "cell_type": "code",
   "execution_count": 51,
   "metadata": {
    "collapsed": false
   },
   "outputs": [],
   "source": [
    "text = mergeLines(text)"
   ]
  },
  {
   "cell_type": "code",
   "execution_count": 52,
   "metadata": {
    "collapsed": false
   },
   "outputs": [
    {
     "data": {
      "text/plain": [
       "['128.6 Better protect LGBTI persons and persons with AIDS against any act of discrimination and violence and review its legislation in this context (Switzerland). ',\n",
       " '129.  The following recommendations did not enjoy the support of C\\x99te d\\xd5Ivoire and would thus be noted: ',\n",
       " '129.1 Take further steps to prevent discrimination on the grounds of gender identity and sexual orientation and to raise awareness on its consequences (Netherlands); ',\n",
       " '129.2 Conduct such specific awareness-raising campaigns which can help to sensitize the general Ivorian public regarding the rights of LGBTI persons (Slovenia). ',\n",
       " '130.  All conclusions and/or recommendations contained in the present report reflect the position of the submitting State(s) and/or the State under review. They should not be construed as endorsed by the Working Group as a whole. ']"
      ]
     },
     "execution_count": 52,
     "metadata": {},
     "output_type": "execute_result"
    }
   ],
   "source": [
    "text[-5:]"
   ]
  },
  {
   "cell_type": "markdown",
   "metadata": {},
   "source": [
    "3.7 We probably don't need that last line -- on how the conclusions don't reflect the position of the working group"
   ]
  },
  {
   "cell_type": "code",
   "execution_count": 54,
   "metadata": {
    "collapsed": false
   },
   "outputs": [],
   "source": [
    "# get rid of that disclaimer paragraph\n",
    "text = [line for line in text if 'endorsed by the working group' not in line.lower()]"
   ]
  },
  {
   "cell_type": "code",
   "execution_count": 55,
   "metadata": {
    "collapsed": false
   },
   "outputs": [
    {
     "data": {
      "text/plain": [
       "['127. The recommendations listed below enjoy the support of C\\x99te d\\xd5Ivoire: ',\n",
       " '127.1 Consider the accession to core human rights instruments (Lesotho); and to other main international human rights treaties that it is not yet a party to (Philippines); ',\n",
       " '127.2 Make efforts towards the ratification of the OP-CAT (Chile); ',\n",
       " '127.3 Ratify the OP-CAT (Ghana, Tunisia), as recommended previously in 2009 (Czech Republic) and take policy measures to prevent torture and ill-treatment (Estonia); ',\n",
       " '127.4 Accede to the OP-CAT as soon as possible (Uruguay); ',\n",
       " '127.5 Consider ratifying OP-CAT (Burkina Faso); ',\n",
       " '127.6 Ratify the International Convention on the Protection of the Rights of All Migrant Workers and Members of Their Families (ICRMW) (Ghana); ',\n",
       " '127.7 Consider acceding to the ICRMW (Chad); ',\n",
       " '127.8 Make efforts towards the ratification of ICCPR-OP 2 (Chile); ',\n",
       " '127.9 Ratify ICCPR-OP 2 (Rwanda) to abolish death penalty (France, Montenegro); ',\n",
       " '127.10 Accede to the Agreement on the Privileges and Immunities of the International Criminal Court (Slovakia); ',\n",
       " '127.11 Sign and ratify the Optional Protocol to the International Covenant on Economic, Social and Cultural Rights (Portugal); ',\n",
       " '127.12 Fully implement CEDAW (Israel); ',\n",
       " '127.13 Ratify the third Optional Protocol to CRC (Portugal); ',\n",
       " '127.14 Sign (Portugal) ratify (France, Portugal, Tunisia) and accede to the International Convention for the Protection of All Persons from Enforced Disappearance as soon as possible (Uruguay); ',\n",
       " '127.15 Continue efforts to implement the total prohibition of torture and ill-treatment by integrating CAT into domestic legislation and ratify OP-CAT (Costa Rica); ',\n",
       " '127.16 Incorporate CAT into domestic law in order to define crimes of torture and incorporate it in the national legislation (France); ',\n",
       " '127.17 Revise the penal code and criminal procedure code and within this framework the definition and criminalization of torture (Cabo Verde); ',\n",
       " '127.18 Criminalize torture and other inhuman or degrading treatment or punishment in the Penal Code (Belgium); ',\n",
       " '127.19 Continue to adapt national legislation in order to better implement the provisions of international treaties (Russian Federation); ',\n",
       " '127.20 Continue to develop the institutional and legal framework in respect of human rights (Lesotho); ',\n",
       " '127.21 Review the Criminal and Criminal Procedural Codes in order to bring them into line with international standards (Russian Federation); ',\n",
       " '127.22 Review its national legislation in order to ensure its full alignment with obligations under the Rome Statute, in particular by incorporating provisions enabling cooperation with the Court (Latvia); ',\n",
       " '127.23 Fully align its national legislation with the Rome Statute of the ICC and accede to the Agreement on the Privileges and Immunities of the Court (APIC) (Estonia); ',\n",
       " '127.24 Fully align its national legislation with the Rome Statute, including by incorporating provisions to cooperate promptly and fully with ICC and to investigate and prosecute genocide, crimes against humanity and war crimes effectively before its national courts (Liechtenstein); ',\n",
       " '127.25 Continue its full cooperation with ICC (Burkina Faso);  ',\n",
       " '127.26 Introduce legislative measures to strengthen the rule of law and consolidate cooperation between national and international mechanisms to fight against impunity notably between the ICC, the Special Investigation Unit, and the military court (Canada); ',\n",
       " '127.27 Quickly complete the alignment of the national legislation with the provisions of the Rome Statute (Tunisia); ',\n",
       " '127.28 Adopt legislative measures for an effective implementation of the Rome Statute (Uruguay); ',\n",
       " '127.29 Revise its legislation to bring it into line with the requirements of the Rome Statue, so that, for example, statutes of limitations are not applicable to crimes against humanity, ensuring that all persons regardless of their position or rank are liable to prosecution as well as including responsibility of superior officers for crimes against humanity and war crimes committed with their knowledge (Belgium); ',\n",
       " '127.30 Swiftly adopt the law on the protection of human rights defenders by the Ivorian Parliament, and its immediate implementation (Czech Republic); ',\n",
       " '127.31 Adopt a comprehensive law on the trafficking in persons, including women and children (Sierra Leone); ',\n",
       " '127.32 Fully align its national legislation with the CEDAW, including by eliminating all discriminatory provisions from national laws and by supporting its full implementation with practical as well as policy measures (Estonia); ',\n",
       " '127.33 Intensify its efforts to combat violence against women by criminalizing and implementing comprehensive laws prohibiting sexual and gender-based violence and female genital mutilation, and by providing the necessary support to victims of sexual and gender-based violence (Liechtenstein); ',\n",
       " '127.34 Continue and strengthen its efforts towards enforcing the law on female genital mutilation (Norway); ',\n",
       " '127.35 Take necessary steps to enforce laws covering violence, including sexual violence, against women and girls and support to victims to ensure that perpetrators are sanctioned (Norway); ',\n",
       " '127.36 Take all the necessary measures to criminalize violence against women and girls and adopt a committed and determined criminal policy to fight against this surge (Luxembourg); ',\n",
       " '127.37 Criminalize domestic violence in the Penal Code (Paraguay); ',\n",
       " '127.38 Adopt a comprehensive law on violence against women (South Africa); ',\n",
       " '127.39 Carry on the legislative amendments to repeal all discriminatory provisions against women and adopt a comprehensive law on violence against women (Turkey); ',\n",
       " '127.40 Include in its criminal law the definition of rape and other crimes of a sexual nature, according to International Law (Uruguay); ',\n",
       " '127.41 Adopt a specific law on domestic violence, including by criminalizing marital rape (Belgium); ',\n",
       " '127.42 Enact legislation dealing with prohibiting violence against women and implement it in law and practice (Botswana); ',\n",
       " '127.43 Take measures both in legislation and practice to ensure the rights of children, including access to education and health, birth registration, combating child labour and violence against them (Costa Rica); ',\n",
       " '127.44 Guarantee that the legal and institutional framework ensures that children in conflict with the law be dealt with in a manner that conforms to international standards (South Africa); ',\n",
       " '127.45 Enhance the activities of the National Commission for Human Rights and ensure its conformity with the Paris Principles (France); ',\n",
       " '127.46 Create an independent Human Rights Institution in accordance with the Paris Principles (Ghana); ',\n",
       " '127.47 Continue its efforts in empowering the National Human Rights Commission, in particular by holding consultations with all stakeholders with a view to making necessary adjustments to the existing law so as to ensure the Commission is in line with the Paris Principles in respect of its mandate, composition, organization, functioning, independence and means (Indonesia); ',\n",
       " '127.48 Ensure that its NHRI is in conformity with the Paris Principles (Sierra Leone); ',\n",
       " '127.49 Focus on the five priority areas identified by the Government (Ghana); ',\n",
       " '127.50 Continue its efforts to overcome its domestic challenges and constraints with a view to improving the human rights situation in the country (Malaysia); ',\n",
       " '127.51 Establish a National Action Plan for the priorities, initiatives and commitments it has identified in its UPR report with a view to improving the human rights situation in C\\x99te d\\xd5Ivoire (Mauritius); ',\n",
       " '127.52 Continue to advance in tackling, in an efficient and responsible manner, the structural underlying causes of discrimination against women (Comoros); ',\n",
       " '127.53 Approve the national strategy to promote gender mainstreaming and empowerment of women, and to strengthen mechanisms responsible for monitoring its effective implementation (Maldives); ',\n",
       " '127.54 Strengthen the national policy against sexual violence, in cooperation with the UN and civil society and pursue its efforts to promote women\\xd5s rights in particular to fight against all forms of genital mutilation and forced and early marriages (France); ',\n",
       " '127.55 Strengthen the protection and assistance provided to victims in the national action plan against domestic and sexual violence, including measures to encourage complaints, and access to justice, legal advice, medical and psychological attention (Mexico); ',\n",
       " '127.56 Undertake a comprehensive legal and cultural awareness-raising campaign on sexual and gender-based violence including issues such as rape, forced marriage, female genital mutilation and domestic violence (Ireland); ',\n",
       " '127.57 Pursue efforts to combat violence against women, notably by intensifying awareness-raising campaigns about respect for women\\xd5s rights (State of Palestine); ',\n",
       " '127.58 Continue ongoing efforts and adopt effective measures and policies to stop and prevent sexual violence against women and girls, as recommended previously in 2009 (Sweden); ',\n",
       " '127.59 Continue efforts to fight violence against women, including by raising awareness on the fight against female genital mutilation (Algeria); ',\n",
       " '127.60 Allocate greater resources to combat sexual violence and to prosecute perpetrators (Australia); ',\n",
       " '127.61 Take effective action to protect women and children from sexual violence, including by strengthening and implementing legislation against domestic violence and providing counselling services and safe places for victims (Germany); ',\n",
       " '127.62 Facilitate the filing of complaints by victims of sexual violence by assigning women (officers) to police stations and subsidize medical certificates attesting to such violence (Hungary); ',\n",
       " '127.63 Consolidate the progress achieved in the field of human rights education and training, by regularly organizing, with the assistance of the international community, seminars and awareness-raising workshops on human rights, particularly for members of the security forces and the judiciary (Morocco); ',\n",
       " '127.64 Implement policies aimed primarily at judicial and police officers, which combat stereotypes that normalize violence against women, in order to create a proper atmosphere for victims to file complaints on such acts (Paraguay); ',\n",
       " '127.65 Intensify awareness-raising and educational campaigns to supplement current programmes aimed at empowering women, with a particular focus on identifying and countering discriminatory perceptions and actions or practices that could endanger the safety and security of women and girls (Philippines); ',\n",
       " '127.66 Adopt a national strategy to combat violence against women and to ensure equal participation of women in political and social life (Russian Federation); ',\n",
       " '127.67 Take further measures to improve transparency and clarification on its policies and measures to promote gender equality, especially with regard to the implementation of Act No. 2013-33 (Netherlands); ',\n",
       " '127.68 Continue working on the elaboration of its national human rights policy for its prompt implementation and take into account the constructive contributions arising from this review in the aforementioned policy (Nicaragua); ',\n",
       " '127.69 Strengthen the inclusive approach in the implementation of the national policy for the promotion and protection of Human Rights (Senegal); ',\n",
       " '127.70 Step up efforts to strengthen the process of national reconciliation (Congo); ',\n",
       " '127.71 Redouble its efforts to succeed in the national reconciliation process (Democratic Republic of the Congo); ',\n",
       " '127.72 Strengthen the action of the Dialogue, Truth and Reconciliation Commission in line with the National Programme on Social Cohesion (France); ',\n",
       " '127.73 Speed up the national reconciliation process, so as to consolidate the progress towards the enjoyment of human rights by its people, with the support of the international community (Mozambique); ',\n",
       " '127.74 Continue the dialogue and positive measures to foster national reconciliation and social cohesion (Senegal); ',\n",
       " '127.75 Continue the policy of national reconciliation and consider, if necessary, elaboration of further measures with a view to fostering the process of reconciliation (Slovakia); ',\n",
       " '127.76 Continue the process of national reconciliation (Algeria); ',\n",
       " '127.77 Continue its efforts to finalize the national reconciliation process so as to preserve the promotion and protection of human rights (Angola); ',\n",
       " '127.78 Ensure the participation of all political parties, civil society organizations and community leaders in the work of the Dialogue, Truth and Reconciliation Commission (Australia); ',\n",
       " '127.79 Continue its dialogue on the national reconciliation process through the work of the Dialogue, Truth and Reconciliation Commission by ensuring that the search for truth is a fundamental principle of the Commission, so that it produces recommendations for fair and unbiased actions, and adopt these recommendations at the earliest (Canada); ',\n",
       " '127.80 Redouble its efforts to reintegrate former combatants (Australia); ',\n",
       " '127.81 Continue its efforts to identify war victims and compensate the damages (Togo); ',\n",
       " '127.82 Take full use of technical assistance of the UN and Ivorian NGOs dealing with women\\xd5s rights to finalize the strategy and implement it accordingly, once adopted (Slovenia); ',\n",
       " '127.83 Continue to move forward through the adoption of all measures and policies that can achieve greater efficiency in the promotion and protection of human rights, and the promotion of the rule of law (Burundi); ',\n",
       " '127.84 Adopt a multiannual action plan to implement the National Policy on Human Rights, and the recommendations of the Human Rights Council, with an effective monitoring structure (Cabo Verde); ',\n",
       " '127.85 Implement the National Commission of Inquiry recommendations to ensure that those responsible for violations of human rights, from all parties are held accountable for their actions as soon as possible (Canada); ',\n",
       " '127.86 Strengthen the implementation of the recommendations of the International Commission on Access to Justice and Victims Assistance, and of those observations made by the Convention on the Elimination of All Forms of Discrimination against Women (Chile); ',\n",
       " '127.87 Extend the deadline for late registration of births and put in place a simple and free birth registration procedure as well as a national strategy to raise awareness on the importance of birth registration (Hungary); ',\n",
       " '127.88 Continue building its national capacities and implement its priorities as they were specified in its national report (United Arab Emirates); ',\n",
       " '127.89 Develop a comprehensive policy aimed at strengthening the judicial system, and rule of law (Botswana); ',\n",
       " '127.90 Continue the implementation of the national strategy to encourage women to stand for elections and elected positions (Algeria); ',\n",
       " '127.91 Submit its initial report to the Committee against Torture which is fifteen years overdue (Republic of Korea); ',\n",
       " '127.92 Submit its backlog of outstanding reports to the concerned treaty bodies (Sierra Leone); ',\n",
       " '127.93 Cooperate with the mandate holders of special procedures and treaty bodies (Chad); ',\n",
       " '127.94 Continue its cooperation with the treaty bodies and submit its outstanding reports (Togo); ',\n",
       " '127.95 Request the necessary aid and technical assistance to the international community, in particular to the United Nations bodies dealing with development, to support the initiatives of the National Development Plan (Morocco); ',\n",
       " '127.96 Pursue the reforms engaged for the protection of children and gender equality (Djibouti); ',\n",
       " '127.97 Make every effort to completely abolish all forms of discrimination against women (Burundi); ',\n",
       " '127.98 Speed up the process of identification of discriminatory provisions against women (Paraguay); ',\n",
       " '127.99 Continue its fight against discrimination against women (Bangladesh); ',\n",
       " '127.100 Strengthen measures to expand women\\xd5s access to land and to microfinance and microcredit at low interest rates (Egypt); ',\n",
       " '127.101 Double its efforts to enhance the enjoyment of women of their legitimate rights and protect them from all forms of violations (Sudan); ',\n",
       " '127.102 Take all necessary measures to further promote the rights of women and girls, including abolishing all discriminatory laws, implementing the national action plan to combat sexual violence and ending female genital mutilation (Brazil); ',\n",
       " '127.103 Take concrete measures to protect the rights of people with albinism, in accordance with the recommendations made by the Office of the High Commissioner, and raise awareness among society about their situation (Spain); ',\n",
       " '127.104 Adopt measures to stop aggressions and discrimination against persons suffering from albinism (Central African Republic); ',\n",
       " '127.105 Reduce overcrowding and improve physical situation of prisoners and administrative management in prisons (Spain); ',\n",
       " '127.106 Consider incorporating the UN Rules for the Treatment of Women Prisoners and Non-Custodial Measures for Women Offenders, otherwise known as the \\xd2Bangkok Rules\\xd3, as part of its programme to enhance the condition of detainees in prisons (Thailand); ',\n",
       " '127.107 Refrain from arbitrary arrests and make every effort to bring detainees before a judge within the statutory deadline of 48 hours (Germany); ',\n",
       " '127.108 End all arbitrary detention and strengthen the capacity on the judicial system as addressed in the country report following the previous Universal Periodic Review (Norway); ',\n",
       " '127.109 Continue improving conditions of detention, notably through the separation of quarters of children, women and men in detention facilities where this has not been achieved yet (State of Palestine); ',\n",
       " '127.110 Continue to take measures to ensure in practice the protection of children against sale and trafficking, in accordance with Act No. 2010-272, and ensure that persons engaging in the sale and trafficking of children are prosecuted (Egypt); ',\n",
       " '127.111 Intensify the initiatives aimed at both preventing child and women trafficking, child labour, forced prostitution, and facilitating the social reintegration of the victims (Italy); ',\n",
       " '127.112 Take necessary measures to eliminate worst forms of child labour, specifically in mining, forced begging, and commercial sexual exploitation (United States of America); ',\n",
       " '127.113 Thoroughly investigate human rights violations perpetrated by all sides after the 2010 presidential elections and fully cooperate with the ICC\\xd5s investigations (Czech Republic); ',\n",
       " '127.114 Ensure an equitable and impartial approach to the administration of justice so that all perpetrators responsible for violent crimes are held to account, irrespective of their political, tribal or religious background (Ireland); ',\n",
       " '127.115 Ensure that all those responsible for serious human rights abuses and violations of international humanitarian law are brought to justice in accordance with its international obligations (Israel); ',\n",
       " '127.116 Ensure that all the initiatives taken in the field of reconciliation comply with international standards on human rights, beginning with a comprehensive fight against impunity (Italy); ',\n",
       " '127.117 Promote national reconciliation by investigating crimes, accountability measures and reparation for victims (Mexico); ',\n",
       " '127.118 Reinforce the judicial system which ensures that serious human rights perpetrators are brought to justice (Republic of Korea); ',\n",
       " '127.119 Strengthen mechanisms which facilitate access to justice for victims of atrocities including sexual violence (Sierra Leone); ',\n",
       " '127.120 Continue to undertake measures to enhance the rule of law to protect the rights of its people (Singapore); ',\n",
       " '127.121 Prosecute all presumed perpetrators of human rights violations (Switzerland); ',\n",
       " '127.122 Continue efforts initiated in order to prosecute all perpetrators of serious human rights violations and provide assistance to victims (Argentina); ',\n",
       " '127.123 Ensure fair and rapid justice for all perpetrators of human rights violations (Burkina Faso); ',\n",
       " '127.124 Strengthen the judiciary and police bodies for the prevention of sexual violence, in particular through increasing the number of women and their visibility in the police and the justice system (Portugal); ',\n",
       " '127.125 Strengthen awareness campaigns on the harmful consequences of female genital mutilation and bring all excision practitioners to justice (Hungary); ',\n",
       " '127.126 Thoroughly investigate all allegations of sexual violence and bring perpetrators of such crimes to justice, in accordance with international standards, as recommended previously in 2009 (Sweden); ',\n",
       " '127.127 Undertake all necessary measures to end impunity for sexual violence by investigating all allegations of sexual violence and to prosecute individuals against whom there is sufficient evidence of such abuses (the former Yugoslav Republic of Macedonia); ',\n",
       " '127.128 Guarantee to women effective access to the courts and strengthen assistance and support to victims (Argentina); ',\n",
       " '127.129 Develop a comprehensive policy aimed at strengthening the judicial system, focusing on the effective access to justice for women (Israel); ',\n",
       " '127.130 Take measures to facilitate access to justice for victims of sexual violence, such as by issuing the medical certificates necessary to lodge complaints for sexual violence (Belgium); ',\n",
       " '127.131 Improve access to legal assistance and ensure compensation for victims, especially female victims of sexual violence (Burkina Faso); ',\n",
       " '127.132 Work towards fostering the independence of the Judiciary and reducing the number of people in pretrial detention without substantiated charges (Brazil); ',\n",
       " '127.133 Engage without any delay to prosecute all those who have committed serious violations of human rights, in particular during the post-electoral crisis in 2010, without any consideration of their ethnic, religious or political status (Luxembourg); ',\n",
       " '127.134 Step up their efforts and undertake credible investigations and prosecutions against members of both sides of the post-electoral conflict, including the security forces, thus contributing to the end of impunity (Slovenia); ',\n",
       " '127.135 Take appropriate measures to expedite the ongoing legal proceedings against supporters of former President Laurent Gbagbo, and investigate and punish, when appropriate, crimes committed by the forces of President Ouattara (Spain); ',\n",
       " '127.136 Continue to fight impunity by pursuing crimes that occurred during or in conjunction with the post-electoral conflict and previous conflicts in the country, regardless of which side in the conflicts the perpetrators belonged to. This includes continuing cooperation with the International Criminal Court (Sweden); ',\n",
       " '127.137 Implement the report of the National Inquiry Commission and the commitments taken to fight against impunity, by prosecuting the presumed perpetrators of human rights abuses during the post-electoral crisis regardless of their political affiliation (France); ',\n",
       " '127.138 Expedite its fight against impunity and prosecute the perpetrators of serious violations of human rights committed during the post-electoral crisis (Turkey); ',\n",
       " '127.139 Ensure that all parties responsible for the post-election crimes of 2010 be brought to justice regardless of their political affiliation (United Kingdom of Great Britain and Northern Ireland); ',\n",
       " '127.140 Develop a comprehensive transitional justice strategy that will encompass accountability, reparations, security sector reform and judicial reform ahead of the presidential elections in October 2015 (United Kingdom of Great Britain and Northern Ireland); ',\n",
       " '127.141 Investigate, and when appropriate, prosecute perpetrators of serious crimes, including abuses perpetrated by both sides of the post-election violence, on a non-discriminatory basis and regardless of their ethnic, religious, or political affiliations, to promote national reconciliation and the rule of law (United States of America); ',\n",
       " '127.142 Continue to prioritize the investigation and prosecution of serious international crimes regardless of political affiliation and cooperate with the International Criminal Court in this regard (Australia); ',\n",
       " '127.143 Take concrete steps to combat impunity with respect to human rights abuses committed by security forces, including dozos, by increasing governmental oversight of their operations, investigating credible allegations, and prosecuting cases where appropriate (United States of America); ',\n",
       " '127.144 Improve local administrative and judicial mechanisms to recover lands in the shortest possible time (Spain); ',\n",
       " '127.145 Give priority to resolving conflicts related to land tenure (Burkina Faso); ',\n",
       " '127.146 Adopt measures to ensure open and free campaign before the 2015 presidential elections, grant the opposition representatives access to all State-controlled media, and promote work of all journalists (Czech Republic); ',\n",
       " '127.147 Leave no stone unturned to address all outstanding electoral reform issues to guarantee free and fair elections in 2015 (Ghana); ',\n",
       " '127.148 Spare no efforts in creating conditions conducive to the peaceful and democratically credible holding of the 2015 presidential elections, in particular by convening a solid voter registration process reforming as necessary the National Election Commission (Indonesia); ',\n",
       " '127.149 Take the adequate measures to enlarge the space allocated to civil society (Djibouti); ',\n",
       " '127.150 Step up its efforts to protect civil society space within the country (Italy); ',\n",
       " '127.151 Pursue efforts to improve the living conditions of women, notably through measures aimed at encouraging women to stand for elective office and to seek public appointments, as well as through measures aimed at facilitating women\\xd5s access to credit, land, and to basic health services (State of Palestine); ',\n",
       " '127.152 Continue the efforts to facilitate the registration of births and create awareness of the importance of this procedure, which allows access to all other rights and basic services such as education and health (Turkey); ',\n",
       " '127.153 Conduct awareness campaigns to promote birth registration of all children and take the necessary measures to ensure easy and effective access to free birth registration for the newborn (Mexico); ',\n",
       " '127.154 Continue ongoing efforts to reduce the rates of maternal mortality (Egypt); ',\n",
       " '127.155 Strengthen efforts to reduce the incidence of maternal mortality (South Africa); ',\n",
       " '127.156 Take concrete measures to improve victim assistance, including health and psychosocial help, to victims of sexual violence and rape, also by providing free medical certificates to rape survivors, since this for most victims unaffordable document is deemed crucial in the course of any pursued investigations (Slovenia); ',\n",
       " '127.157 Remove any obstruction of the right to justice for victims of sexual violence and provide them with effective treatments (Spain); ',\n",
       " '127.158 Share experience with states within the region and benefit from their experiences in combating female genital mutilation (South Sudan); ',\n",
       " '127.159 Continue effectively the fight against female genital mutilation (Togo); ',\n",
       " '127.160 Continue efforts to sensitize public officials on the respect for women\\xd5s rights, in particular the fight against female genital mutilation (Bolivia (Plurinational State of)); ',\n",
       " '127.161 Continue its efforts in the social field, in particular for those most in need, especially in the field of nutrition, health and education (Venezuela (Bolivarian Republic of)); ',\n",
       " '127.162 Increase its efforts through targeted and comprehensive measures, especially in education, in order to eliminate traditional harmful practices, such as FGM and early and forced marriage (Italy); ',\n",
       " '127.163 Continue and strengthen efforts to provide quality education for all, especially free primary education for children and education for persons with disabilities (Maldives); ',\n",
       " '127.164 With support from UNESCO and ILO, continue to strengthen its education system and vocational training especially for youth (Singapore); ',\n",
       " '127.165 Continue current efforts to provide every child with good quality basic education (Egypt); ',\n",
       " '127.166 Urge to take measures for the introduction of specific modules on human rights at all levels of education, and to continue its cooperation with international and regional human rights mechanisms, boost the national framework of humanitarian consultation created by the decree of 23 January 2013 and to strengthen the role of NGOs\\xd5 interface and civil society (Burkina Faso); ',\n",
       " '127.167 Continue to create the conditions to facilitate the voluntary reparation of Ivorian refugees in accordance with the Tripartite Agreement (Ghana); ',\n",
       " '127.168 Adopt additional measures that tend to develop a comprehensive strategy that tends to address the needs of IDPs and provide sustainable solutions (Argentina); ',\n",
       " '127.169 Strengthen monitoring and supervision by relevant environmental agencies in order to ensure that toxic waste is treated in an environmentally sound manner (Egypt); ',\n",
       " '127.170 Intensify efforts to meet the Millennium Development Goals within the remaining period (Ethiopia); ',\n",
       " '127.171 Continue, with the assistance of the international community, to implement its plans for economic and social development and further reduce poverty so as to lay a firm foundation for improving peoples\\xd5 livelihood (China); ',\n",
       " '127.172 Strengthen measures taken to fight poverty and unemployment, including through the intensified implementation of programmes in the National Development Plan for 2012\\xd02015 in order to combat poverty and foster development (Ethiopia); ',\n",
       " '127.173 Continue its efforts on poverty reduction (Cuba); ',\n",
       " '127.174 Continue its fight against poverty with international community\\xd5s support (Bangladesh); ',\n",
       " '127.175 Continue to consolidate efforts to combat extreme poverty and improve the economic situation in the country, while ensuring that marginalized sectors, including persons with disabilities and migrants, are given equal and fair access to labour opportunities (Philippines); ',\n",
       " '127.176 Work towards the effective implementation of the national development plan that was adopted in March 2012 in its six points (Sudan); ',\n",
       " '127.177 Redouble actions to improve the compliance with the human right to water (Bolivia (Plurinational State of)); ',\n",
       " '127.178 Consider the promotion and protection of the rights of peasants and other people working in rural areas (Bolivia (Plurinational State of)). ',\n",
       " '128.  The following recommendations will be examined by C\\x99te d\\xd5Ivoire, which will provide responses in due time, but no later than the 27th session of the Human Rights Council in September 2014: ',\n",
       " '128.1 Ratify the Kampala amendments to the Rome Statute, if possible with a view to contributing to the activation of the jurisdiction of the ICC over the crime of aggression at the beginning of 2017 (Liechtenstein); ',\n",
       " '128.2 Consider ratification of the Optional Protocol to the Convention on the Rights of the Child on a communications procedure (Slovakia) as a matter of priority (Thailand); ',\n",
       " '128.3 Fulfil its obligations in accordance with CAT, immediately submit its overdue initial national report to the Committee against Torture and include a specific individual offence criminalizing acts of torture as well as a definition of torture in the national legislation (Czech Republic); ',\n",
       " '128.4 Consider extending a standing invitation to all the special procedures mandate holders of the Human Rights Council (Latvia); ',\n",
       " '128.5 Extend a standing invitation to all Human Rights Council special procedures (Montenegro, Portugal, Republic of Korea); ',\n",
       " '128.6 Better protect LGBTI persons and persons with AIDS against any act of discrimination and violence and review its legislation in this context (Switzerland). ',\n",
       " '129.  The following recommendations did not enjoy the support of C\\x99te d\\xd5Ivoire and would thus be noted: ',\n",
       " '129.1 Take further steps to prevent discrimination on the grounds of gender identity and sexual orientation and to raise awareness on its consequences (Netherlands); ',\n",
       " '129.2 Conduct such specific awareness-raising campaigns which can help to sensitize the general Ivorian public regarding the rights of LGBTI persons (Slovenia). ']"
      ]
     },
     "execution_count": 55,
     "metadata": {},
     "output_type": "execute_result"
    }
   ],
   "source": [
    "text"
   ]
  },
  {
   "cell_type": "markdown",
   "metadata": {},
   "source": [
    "3.8 Now that we have claned text, let's put that list in our dictionary"
   ]
  },
  {
   "cell_type": "code",
   "execution_count": 63,
   "metadata": {
    "collapsed": false
   },
   "outputs": [
    {
     "data": {
      "text/plain": [
       "['country', 'text', 'year']"
      ]
     },
     "execution_count": 63,
     "metadata": {},
     "output_type": "execute_result"
    }
   ],
   "source": [
    "dic['text'] = text\n",
    "dic.keys()"
   ]
  },
  {
   "cell_type": "markdown",
   "metadata": {},
   "source": [
    "## 4. Looping through Files, Reading, and Structuring"
   ]
  },
  {
   "cell_type": "markdown",
   "metadata": {},
   "source": [
    "4.1 Using the code you wrote above, loop through all the .txt files in the directory, structuring and cleaning the data as you go. Each txt file will be stored as a dictionary. Store each dictionary in a list."
   ]
  },
  {
   "cell_type": "code",
   "execution_count": 70,
   "metadata": {
    "collapsed": false
   },
   "outputs": [
    {
     "name": "stdout",
     "output_type": "stream",
     "text": [
      "processing afghanistan2014.txt...\n",
      "processing albania2014.txt...\n",
      "processing angola2014.txt...\n",
      "processing bhutan2014.txt...\n",
      "processing bolivia2014.txt...\n",
      "processing bosniaandherzegovina2014.txt...\n",
      "processing bruneidarussalam2014.txt...\n",
      "processing cambodia2014.txt...\n",
      "processing chile2014.txt...\n",
      "processing comoros2014.txt...\n",
      "processing costarica2014.txt...\n",
      "processing cotedivoire2014.txt...\n",
      "processing cyprus2014.txt...\n",
      "processing democraticpeoplesrepublicofkorea2014.txt...\n",
      "processing democraticrepublicofthecongo2014.txt...\n",
      "processing dominica2014.txt...\n",
      "processing dominicanrepublic2014.txt...\n",
      "processing egypt2014.txt...\n",
      "processing elsalvador2014.txt...\n",
      "processing eritrea2014.txt...\n",
      "processing ethiopia2014.txt...\n",
      "processing fiji2014.txt...\n",
      "processing gambia2014.txt...\n",
      "processing guinea2014.txt...\n",
      "processing iran2014.txt...\n",
      "processing iraq2014.txt...\n",
      "processing italy2014.txt...\n",
      "processing kazakhstan2014.txt...\n",
      "processing Macedonia2014.txt...\n",
      "processing madagascar2014.txt...\n",
      "processing newzealand2014.txt...\n",
      "processing nicaragua2014.txt...\n",
      "processing norway2014.txt...\n",
      "processing portugal2014.txt...\n",
      "processing qatar2014.txt...\n",
      "processing sanmarino2014.txt...\n",
      "processing slovakia2014.txt...\n",
      "processing slovenia2014.txt...\n",
      "processing uruguay2014.txt...\n",
      "processing vanuatu2014.txt...\n",
      "processing vietnam2014.txt...\n",
      "processing yemen2014.txt...\n"
     ]
    }
   ],
   "source": [
    "l=[]\n",
    "dir = 'data/txts'\n",
    "for file_name in os.listdir(dir):\n",
    "    broken = []\n",
    "    if file_name.endswith(\".txt\"):\n",
    "        print 'processing ' + file_name + '...'\n",
    "        try:\n",
    "            dic = {}\n",
    "            dic['country'] = file_name[:-8]\n",
    "            dic['year'] = file_name[-8:-4]\n",
    "            f = open(dir + '/' + file_name,'rU')\n",
    "            text = f.read() # read in text\n",
    "            f.close\n",
    "            text = text.split('\\n') # make a list\n",
    "            text = filter(None, text) # get rid of empty string items       \n",
    "             \n",
    "            # take only the conclusions and/or recommendations section\n",
    "            ConclusionsStart = text.index([line for line in text if \"conclusions and/or recommendations\" in line.lower()][1]) #startin from bottom\n",
    "            ConclusionsEnd = text.index([line for line in text if \"conclusions and/or recommendations\" in line.lower()][2]) # the last one is the disclaimer\n",
    "            text = text[ConclusionsStart+1:ConclusionsEnd+1] \n",
    "            \n",
    "            # get rid of the weird lines\n",
    "            text = [line for line in text if '**' not in line]\n",
    "            text = [line for line in text if 'recommendations have not been edited.' not in line]\n",
    "            text = [line for line in text if 'recommendations will not be edited.' not in line]\n",
    "            text = [line.replace('\\xd2','') for line in text]\n",
    "            text = [line.replace('\\t','') for line in text]\n",
    "            text = [line.lstrip(\" \") for line in text]\n",
    "            \n",
    "            # merge lines so that each line is its own paragraph, starting with a paragraph number\n",
    "            text = mergeLines(text)\n",
    "            \n",
    "            # get rid of that disclaimer paragraph\n",
    "            text = [line for line in text if 'endorsed by the working group' not in line.lower()]\n",
    "            \n",
    "            dic['text'] = text \n",
    "            \n",
    "            # append to list\n",
    "            l.append(dic)\n",
    "              \n",
    "        except Exception,e:\n",
    "            broken.append(file_name +str(e)) "
   ]
  },
  {
   "cell_type": "code",
   "execution_count": 67,
   "metadata": {
    "collapsed": false
   },
   "outputs": [
    {
     "data": {
      "text/plain": [
       "{'country': 'afghanistan',\n",
       " 'text': ['136. The recommendations formulated during the interactive dialogue and listed below have been examined by Afghanistan and enjoy its support: ',\n",
       "  '136.1 To further build up on its effort to fully protect human rights in the country (Ethiopia); ',\n",
       "  '136.2 Continue and deepen efforts to firmly root human rights values and principles in the Government system, including through human rights training to state officials (Indonesia); ',\n",
       "  '136.3 Make further efforts to ensure the implementation of the legal framework which guarantees human rights, including the Constitution (Japan); ',\n",
       "  '136.4 Further fulfil the internationally taken human rights obligations as well as integrate them into the national legislation (Kazakhstan); ',\n",
       "  '136.5 Further strengthen its efforts to review its legislative framework and make necessary adjustments to it in order to ensure that it is in conformity with Afghanistan\\xd5s international human rights obligations (Norway); ',\n",
       "  '136.6 Accelerate domestication process of international human rights laws to which Afghanistan is a member, in particular the International Covenant on Civil and Political Rights, Convention on the Elimination of All Forms of Discrimination against Women and the Convention on the Rights of the Child (Viet Nam); ',\n",
       "  '136.7 Continue the process of making domestic laws compliant with the international conventions to which Afghanistan is party (Bahrain); ',\n",
       "  '136.8 Take necessary measures to implement a national public awareness campaign on human rights, especially women and children\\xd5s rights (Iran (Islamic Republic of)); ',\n",
       "  '136.9 Support the establishment of human rights units within more ministries (Iraq); ',\n",
       "  '136.10 Take into account the outcomes of this universal periodic review in the process of transformation and national reconstruction and pay particular attention to the most vulnerable social groups, among which, women and children (Nicaragua); ',\n",
       "  '136.11 Continue to spread human rights awareness throughout the country and include it in the national curriculum (Pakistan); ',\n",
       "  '136.12 Continue its constructive engagement with its regional and international partners to meet the challenges in the promotion and protection of human rights (Philippines); ',\n",
       "  '136.13 Attract aid and attention of the international community and donors for further strengthening and supporting human rights institutions working within the framework of the Afghan Government for protection, observance and realization of the human rights (Saudi Arabia); ',\n",
       "  '136.14 Further empowerment of the Legislation Department of the Ministry of Justice in the area of specialized human resources, professional staff and other necessary facilities (Saudi Arabia); ',\n",
       "  '136.15 Continue its efforts to enhance the rule of law and ensure peace and safety in its society (Singapore); ',\n",
       "  '136.16 Take all the necessary steps to ensure the effective implementation of the Action Plan to halt child recruitment and other violations against children (Slovenia); ',\n",
       "  '136.17 Strengthen the technical capabilities of the judicial and legal institutions (State of Palestine); ',\n",
       "  '136.18 Observe all human rights principles, international conventions and raise awareness among students in higher education institutions regarding human rights values (Turkmenistan); ',\n",
       "  '136.19 Increase efforts in the process of technical support and consultation services in order to support the reforms in the area of human rights in order to align them with international standards (United Arab Emirates); ',\n",
       "  '136.20 Take measures to ensure coordination of activities of national and international human rights organisations working on different aspects of human rights in Afghanistan (Uzbekistan); ',\n",
       "  '136.21 Continue taking steps in order to fully protect and promote the rights of women and children, especially by protecting them from violence (Kazakhstan); ',\n",
       "  '136.22 Extend a standing invitation to all Special Rapporteurs of the Human Rights Council (the former Yugoslav Republic of Macedonia); ',\n",
       "  '136.23 Extend an open invitation to all special procedures of the Human Rights Council and establish an adequate mechanism to bring to date all national reports to the Committees and to respond to information requests of the special procedures (Uruguay); ',\n",
       "  '136.24 Continue its efforts to enable women to enjoy their legitimate rights, and to highly prioritize awareness raising among all sections of the community regarding the women\\xd5s rights and the importance of their realization within the cultural and civil context of the Afghani society (Sudan); ',\n",
       "  '136.25 Continue its efforts in establishing and providing public services through social security, especially for women and children (State of Palestine); ',\n",
       "  '136.26 Work towards the earliest possible adoption and effective implementation of the Law on Social Protection (Viet Nam); ',\n",
       "  '136.27 Endeavour to improve on the institutions of health care delivery in order to facilitate accessible health services for its citizens, especially women and children (Nigeria); ',\n",
       "  '136.28 Strengthen efforts to eliminate illiteracy, particularly in rural areas (Kyrgyzstan); ',\n",
       "  '136.29 Increase the focus on persons with disabilities and work towards integrating them in the community (Iraq); ',\n",
       "  '136.30 Further increase its efforts to ensure access to education and health care to all including people with disabilities (Bhutan); ',\n",
       "  '136.31 Guarantee that repatriated Afghan refugees, particularly women and girls, have adequate access to sanitation services, education, food, housing, freedom of movement and opportunities (Uruguay); ',\n",
       "  '136.32 Continue the measures with regard to strengthening self-reliance of the returning refugees and IDPs (Azerbaijan); ',\n",
       "  '136.33 Establish measures for displaced persons to have particularly better access to the land and to improve their shelters and infrastructures nearby (France); ',\n",
       "  '136.34 Adopt comprehensive legislation or policies with a view to facilitating durable solutions for internally displaced persons (Austria); ',\n",
       "  '136.35 Adopt further national strategies for eradication of poverty and improvement of livelihoods for citizens (Morocco); ',\n",
       "  '136.36 Further promote economic and social development and urge the international community to honour its commitment of assistance, making more investment in the field of welfare and assisting the sustainable development for Afghanistan (China); ',\n",
       "  '136.37 Take into full account children, girls in particular, the most marginalised groups, including persons with disabilities, in the strategy and programmes of development in the area of health and education (Djibouti); ',\n",
       "  '136.38 Continue implementing national policies and programmes to improve the living conditions of the people (Kuwait); ',\n",
       "  '136.39 Adopt more effective and strict good governance policies in order to ensure prosperity for the Afghan people (Mauritania);  ',\n",
       "  '136.40 Give continuity to fighting poverty and improving the quality of life of people (Nepal); ',\n",
       "  '136.41 Advance in the coordination of the different government departments with competencies on the issue of water (Spain); ',\n",
       "  '136.42 To strengthen its efforts for poverty eradication and to guarantee the right of education all over the country (Sudan); ',\n",
       "  '136.43 Make prioritized efforts to achieve Millennium Development Goals as soon as possible (Viet Nam); ',\n",
       "  '136.44 Take all necessary measures to ensure equal access to health and education (Bahrain); ',\n",
       "  '136.45 Continue strengthening the protection of vulnerable groups, such as the group of victims of war (Spain); ',\n",
       "  '136.46 Energetically drive forward judicial reform, combat corruption and enhance the capacity of the judiciary (Germany); ',\n",
       "  '136.47 Take all the appropriate measures to ensure the creation of a functional and independent judiciary (Romania); ',\n",
       "  '136.48 Take measures to improve the criminal justice system, including through the implementation of the 164 articles outlined in Presidential Decree No. 45 of August 2012 (Japan); ',\n",
       "  '136.49 Make every effort possible to ensure the human rights of prisoners and detainees are fully observed in the criminal justice system (New Zealand); 136.50 Continue its efforts in the field of poverty reduction so that the vulnerability of children to risks of poverty, human trafficking and kidnapping is decreased (Azerbaijan); ',\n",
       "  '136.51 Continue its measures in laws and other pieces of legislation concerning the promotion of equity, the situation of women and their education opportunities (Azerbaijan); ',\n",
       "  '136.52 Continue its efforts to empower women and underprivileged segments of the society (Ethiopia); ',\n",
       "  '136.53 Continue taking steps aiming to achieve further economic empowerment of women (Egypt); ',\n",
       "  '136.54 Take all possible actions to eliminate all forms of violence against women and amend all Laws that discriminate against women (Greece); ',\n",
       "  '136.55 Continue its efforts in improving the situation of women (India); ',\n",
       "  '136.56 Continue steady enforcement and implementation of measures and legislation designed to promote and protect women\\xd5s rights (Japan); ',\n",
       "  '136.57 Continue its efforts to strengthen the domestic legal system to protect women and girls and promote greater gender equality (Singapore); ',\n",
       "  '136.58 Continue the efforts aiming at promotion and protection of the rights of women (Algeria); ',\n",
       "  '136.59 Take initiatives to improve recruitment and retention of female police officers (Sweden); ',\n",
       "  '136.60 Comply with its CEDAW obligations, and undertake further steps to empower women at all levels by creating more employment opportunities and increasing their rights in participation in decision-making (Bahrain); ',\n",
       "  '136.61 Ensure that all of Afghanistan\\xd5s religious communities are able to practice their religion freely and that their right to freedom of religion or belief is protected in any new legislation or legislation currently under review (Canada); ',\n",
       "  '136.62 Ensure freedom of religion in the legislation and in practice and promote tolerance through awareness-raising campaigns and free access to information (Mexico); ',\n",
       "  '136.63 Implement and enforce provisions on freedom of religious worship set out in the Constitution and international human rights treaties to which it is a party (Czech Republic); ',\n",
       "  '136.64 Continue efforts to guarantee health care at both levels identified (Cuba); ',\n",
       "  '136.65 Further facilitate access to health services and education, especially for women and children (Iran (Islamic Republic of)); ',\n",
       "  '136.66 Take further steps to provide access to education and healthcare for all citizens, particularly in rural areas where there is an immediate need (Pakistan); ',\n",
       "  '136.67 Continue strengthening access to education, in particular, to orphans, children with disabilities and children of missing parents (South Sudan); ',\n",
       "  '136.68 Introduce and adopt a gender strategy that would be implemented in the higher education institutions (Turkmenistan); ',\n",
       "  '136.69 Enhance efforts to eliminate discrimination against Afghan women and to promote leadership and equal participation in political, peace and reconciliation processes (Croatia); ',\n",
       "  '136.70 Protect the rights of women by ensuring their participation in political life and in all the peace and reconciliation processes as well as equal opportunities in the area of education and employment (Djibouti); ',\n",
       "  '136.71 Implement the Security Council resolutions on Women, Peace and Security, by ensuring, in particular, participation of women on an equal footing and at every level of responsibility in the reconciliation process (France); ',\n",
       "  '136.72 Fully implement the National Action Plan of the United Nations Security Council Resolution 1325 on women, peace and security (Estonia); ',\n",
       "  '136.73 Implement UN Security Council Resolutions on Women, Peace and Security, including by supporting the participation of women in peace talks, and continuing to increase the proportion of women playing an active role in the security forces, in particular the police, while ensuring their safety and dignity in their place of work (Ireland); ',\n",
       "  '136.74 Implement the Security Council resolutions on Women, Peace and Security, in particular by supporting the participation of women in peace negotiations and ensuring the necessary framework to increase the participation of women in political and judicial life and within security institutions of the country, taking into account their security as well as their personal dignity (Belgium); ',\n",
       "  '136.75 Revise the legislation on child marriage and the legal age of marriage so as to be consistent with international standards, with the aim of both harmonizing the legal framework by eliminating the co-existence of different prescriptions in Civil Law and in Shari\\xd5a regulations and preventing the practice of early and forced marriages (Italy); ',\n",
       "  '136.76 Enact and implement legislation that protects children, and set the minimum age for marriage at 18 for both girls and boys (Sweden); ',\n",
       "  '136.77 Ensure that any physical and moral harm against journalists or human rights defenders is subjected to an investigation and that those responsible are duly prosecuted (Belgium); ',\n",
       "  '136.78 Ensure that no governmental entity endorses the restriction of freedom of expression in any way whatsoever (Belgium); ',\n",
       "  '136.79 Ensure that no government entities restrict the right to freedom of expression and that media regulations conform to Afghanistan\\xd5s international human rights obligations, and ensure prompt and effective investigations of threats, attacks and killings of journalists in order to prevent them and to bring those responsible to justice (Lithuania); ',\n",
       "  '136.80 Allow journalists, human rights defenders among all others to exercise the right to freedom of expression (Maldives); ',\n",
       "  '136.81 Continue measures to combat terrorism, including the financing of terrorism (Sri Lanka); ',\n",
       "  '136.82 Deploy possible additional efforts to prevent cases of torture and ill-treatment and to prosecute perpetrators (Italy); ',\n",
       "  '136.83 Consider a possibility of improving the penitentiary system as well as implement, in the national legislation, provisions of the Convention against Torture and Other Cruel, Inhuman or Degrading Treatment or Punishment (Russian Federation); ',\n",
       "  '136.84 Continue advancing in the fight against torture and ill-treatment in the administration of justice, of the security forces of the State and in the penitentiary centres (Spain); ',\n",
       "  '136.85 Further strengthen the Legal Aid Department of the Ministry of Justice and establish relevant mechanisms for coordination of its activities with other entities working in the area of providing legal assistance (Uzbekistan); ',\n",
       "  '136.86 Ensure that access to education is not hampered by differences, particular gender, and take necessary measures to guarantee security of female students and staff members (Mexico); ',\n",
       "  '136.87 Continue to enact measures to ensure girls\\xd5 right to education, namely the reinforcement of security, hiring of more female teachers and improvement of schooling facilities (Portugal); ',\n",
       "  '136.88 Continue to take all possible measures to improve access to quality education without gender discrimination (Switzerland); ',\n",
       "  '136.89 Continue strengthening national democratic institutions (Nepal); ',\n",
       "  '136.90 Pay particular attention to the human rights related issues, particularly by encouraging effective participation of women in political life (Morocco); ',\n",
       "  '136.91 Seek international cooperation in order to improve its electoral system, prior to the presidential and provincial elections due in 2014, and the election due in 2015 (Brazil); ',\n",
       "  '136.92 Take necessary measures to increase the percentage of women in decision-making positions (Ethiopia); ',\n",
       "  '136.93 Ensure the inclusion of provisions relating to equality between men and women in the Constitution and the legislative system, and continue to pursue the implementation of effective measures to combat gender inequality (Chile); ',\n",
       "  '136.94 Advance in the application of legislative measures aiming at the prohibition of discrimination in education, in particular in the rural areas, with a view to promoting gender equality (Chile); ',\n",
       "  '136.95 Strengthen efforts on the fight of discrimination against women and girls, particularly regarding access to education, health, justice and participation (Ecuador); ',\n",
       "  '136.96 Improve national legislation to ensure equality between men and women based on the non-discrimination principle (Russian Federation); ',\n",
       "  '136.97 In the light of the current reform of the Criminal Code and the Code on Criminal Proceedings, do not include any discriminatory provisions against women (Spain); ',\n",
       "  '136.98 Ensure that women and women\\xd5s rights advocates participate in every stage of negotiations concerning a political settlement to the conflict and that the rights of women and girls are respected in any eventual settlement (Canada); ',\n",
       "  '136.99 Guarantee women\\xd5s representation in all decision-making levels in line with the United Nations Security Council Resolution 1325 and related resolutions as well as on the Convention of the Elimination of All Forms of Discrimination against Women (Finland); ',\n",
       "  '136.100 Establish comprehensive legislation to help law enforcement officials identify cases of early and forced marriages and organize awareness-raising campaigns in that regard (Croatia); ',\n",
       "  '136.101 Continue its efforts to eliminate violence against women in line with the relevant recommendations of the Committee on the Elimination of Discrimination against Women (Latvia); ',\n",
       "  '136.102 Take all possible measures to ensure the protection of and respect for the rights of women and children at legal and practical level (Switzerland); ',\n",
       "  '136.103 Take measures to ensure that many individuals who are guilty of violence are effectively convicted and put an end to the impunity from which they benefit too often (Belgium); ',\n",
       "  '136.104 Investigate all allegations of mistreatment or abuse of detainees by the National Directorate of Security, the Afghan National Police and the Afghan Local Police and ensure that those who commit such acts are held accountable (Canada); ',\n",
       "  '136.105 Thoroughly investigate allegations of human rights violations by members of the Afghan National Security Forces, and hold perpetrators accountable (United States of America); ',\n",
       "  '136.106 Continue efforts aimed at putting an end to impunity, and guarantee an effective and impartial application of the legislation and court rulings, through the formal judicial system (Argentina); ',\n",
       "  '136.107 Continue adopting measures aiming at the protection of children and youth, in particular on their right to education (Cuba); ',\n",
       "  '136.108 Continue efforts in child rights protection and improving children\\xd5s conditions, especially in the education and healthcare fields (Qatar); ',\n",
       "  '136.109 Continue efforts in adopting required measures to ensure child care, including for disabled children, and ensure their rights in education and health (Yemen); ',\n",
       "  '136.110 Enact measures to create safe school environments for girls and promote the right to education for girls on an equal basis with boys (Croatia); ',\n",
       "  '136.111 Take effective measures to combat child labor and sexual exploitation of children as well as forced marriages (Germany); ',\n",
       "  '136.112 Step-up efforts in the protection of the rights of children, including continuing its measures in combating violence against children (Malaysia); ',\n",
       "  '136.113 Pay attention to the provision of security and protection of schools and teachers from all attacks (Kyrgyzstan); ',\n",
       "  '136.114 Continue and strengthen its efforts to combat the illegal use of children in armed conflict (Sri Lanka); ',\n",
       "  '136.115 Take measures to put an end to any recruitment or use of children in armed forces and groups within the police forces (France); ',\n",
       "  '136.116 End all recruitment and use of children by military groups (Montenegro); ',\n",
       "  '136.117 Provide demobilized children with assistance and penalize those persons responsible for military recruitment of children (Poland); ',\n",
       "  '136.118 Continue using its sovereign right to apply the death penalty as a tool of criminal justice in accordance with proper safeguards specified under International Human Rights Law (Egypt); ',\n",
       "  '136.119 Allow the Afghanistan Independent Human Rights Commission to safely operate and carry out its mandate in an independent and effective manner (United States of America); ',\n",
       "  '136.120 Substantially increase its allocation of funds to the Afghanistan Independent Human Rights Commission in order to ensure its long-term sustainability (Denmark); ',\n",
       "  '136.121 Adequately resource the Afghanistan Independent Human Rights Commission and design the Commissioners\\xd5 nomination process in a way to ensure the A status of the Commission under the Paris Principles. (Germany); ',\n",
       "  '136.122 Ensure the independence of the Human Rights Commission, including through providing regular budgeting for the Commission, and proceed to the immediate appointment of its members (Greece); ',\n",
       "  '136.123 Accelerate the appointment of the members of the Afghan Independent Human Rights Commission (Iraq); ',\n",
       "  '136.124 Enable and support the Afghan Independent Human Rights Commission to continue its work as an effective and independent institution, including a transparent selection process of Commissioners, and by adequately funding the Commission on a permanent basis (Netherlands); ',\n",
       "  '136.125 Further support the work of the Afghanistan Independent Human Rights Commission by employing a transparent and participatory selection process for the Commission\\xd5s members (New Zealand); ',\n",
       "  '136.126 Increase and regularize the core funding of the Afghanistan Independent Human Rights Commission (New Zealand); ',\n",
       "  '136.127 Introduce transparent procedures in appointing members of the Afghanistan Independent Human Rights Commission and provide sufficient financial assistance to it (Republic of Korea); ',\n",
       "  '136.128 Commit to actions that strengthen the capacity of the Afghan Independent Human Rights Commission (AIHRC) including providing adequate funding and reviewing the Law on the Structure, Duties and Mandate of the AIHRC to ensure its alignment with Paris Principles (Australia); ',\n",
       "  '136.129 Further strengthen and provide all the appropriate means (financial and institutional) for the national organizations for defence of human rights so that they can pursue and achieve their objectives (Comoros); ',\n",
       "  '136.130 Ensure that a framework policy to protect child rights according to international standards is adopted and a national campaign to promote awareness of child rights is undertaken (Greece); ',\n",
       "  '136.131 Intensify its efforts to ensure full and effective implementation of the Law on Elimination of Violence against Women and implement United Nations Security Council resolutions on Women, Peace and Security (Lithuania); ',\n",
       "  '136.132 Set up measures to facilitate and accelerate the implementation of the law on the elimination of violence against women (Belgium); ',\n",
       "  '136.133 Establish a strategy to implement the Law on the Elimination of Violence against Women by the creation of permanent and efficient mechanisms in order to report, investigate and publicize cases of gender violence (Brazil); ',\n",
       "  '136.134 Take steps to fully implement the Elimination of Violence against Women Law, including by providing training and capacity-building to law enforcement officials; implementing standard, country-wide procedures to record and track complaints of violence against women; and ensuring that all allegations of violence against women are thoroughly investigated and referred to the appropriate authorities under Afghan law (Canada); ',\n",
       "  '136.135 Ensure the full implementation of the Elimination of Violence against Women law and hold accountable police and prosecution supervisors who are not ensuring the enforcement of the law (Croatia); ',\n",
       "  '136.136 Take measurable steps to fully implement the Elimination of Violence Against Women law, and investigate thoroughly all suspected cases of gender based violence and violence against defenders of women\\xd5s rights and bring those responsible to justice (United States of America); ',\n",
       "  '136.137 Take steps to ensure the prompt enforcement of the National Action Plan for Women of Afghanistan, the Elimination of Violence Against Women Law and its international CEDAW obligations and reject any further attempts to water down the intentions of those measures (Denmark); ',\n",
       "  '136.138 Take all necessary measures for effective application of the 2009 law on the elimination of violence against women (France); ',\n",
       "  '136.139 Ensure the full application of the Elimination of Violence against Women Law (Finland); ',\n",
       "  '136.140 Ensure early presentation of the report on the implementation of the Law for the Elimination of Violence against Women, effective and nation-wide implementation of that Law and comprehensive collection of data, monitoring and evaluation to further identify weaknesses in implementation, and to ensure continuing conformity of the law for the Elimination of Violence against Women with CEDAW (Germany); ',\n",
       "  '136.141 Reinforce the implementation of the Law on the Elimination of Violence against Women (Iceland); ',\n",
       "  '136.142 Put in place within six months a concrete plan, covering the next two-year period, to improve implementation of the 2009 Law on the Elimination of Violence Against Women, including the measures recommended to Afghanistan by the Committee on the Elimination of Discrimination against Women in July 2013 (Ireland); ',\n",
       "  '136.143 Take further steps to ensure full implementation of the Elimination of Violence against Women law also taking into account the respect for the provisions contained in international treaties that Afghanistan has signed (Italy); ',\n",
       "  '136.144 Continue measures in eliminating discrimination against women through the implementation of its Law on the Elimination of Violence against Women (Malaysia); ',\n",
       "  '136.145 Strengthen legislation and enforcement of the law to end violence against women and promotion and protection of human rights of women and girls (Maldives); ',\n",
       "  '136.146 Ensure effective enforcement of the Law on Violence against Women (New Zealand); ',\n",
       "  '136.147 Adopt measures in order to strengthen the knowledge of the Elimination of Violence against Women Law within the police and the judiciary to guarantee effective implementation of the law (Norway); ',\n",
       "  '136.148 Step up efforts to effectively implement the Elimination of Violence against Women law and the programs outlined in the National Action Plan for Afghan Women (Philippines); ',\n",
       "  '136.149 Implement fully the Law on the Elimination of Violence against Women and refrain from approving any new legislation which may compromise the implementation of the Convention on the Elimination of All Forms of Discrimination against Women, to which Afghanistan is party (Portugal); ',\n",
       "  '136.150 Take action to fully implement and enforce the 2009 Elimination of Violence against Women Law (Australia); ',\n",
       "  '136.151 Take further steps on effectively implementing the Law on Elimination of Violence against Women (Turkey); ',\n",
       "  '136.152 Reinforce efforts to implement the Law on the Elimination of Violence against Women in order to support the establishment of specialized police and prosecutions units; to track the number of cases brought under the Law; and to investigate provinces or districts with low numbers of prosecutions (Sweden); ',\n",
       "  '136.153 Take additional steps to ensure women\\xd5s full participation in public life as well as in the peace and reconciliation process and ensure that the Law on the Elimination of Violence against Women is implemented and that all acts of violence against women are thoroughly investigated and those responsible are brought to justice (Austria); ',\n",
       "  '136.154 Ensure closer monitoring of the implementation of the National Action Plan for Women by developing the monitoring and evaluation capacity of the Ministry of Women\\xd5s Affairs and other national entities (Italy); ',\n",
       "  '136.155 Effectively implement the legislation aimed at ensuring the realization of the rights of women and children, especially the legislation on combating domestic violence (Romania); ',\n",
       "  '136.156 Finalize and implement a National Action Plan on Women, Peace and Security (Australia); ',\n",
       "  '136.157 Adopt additional measures to ensure the effective application of the law to eliminate violence against women and to ensure the protection of women\\xd5s rights (Chile); ',\n",
       "  '136.158 Continue with actions aimed at eliminating all forms of violence against women and girls (Ecuador); ',\n",
       "  '136.159 Increase continued efforts to eliminate violence against women and children in the country (Iran (Islamic Republic of)); ',\n",
       "  '136.160 Take effective measures to prevent child and forced marriages (Poland); ',\n",
       "  '136.161 Put forward its utmost efforts to abolish practices such as honor killing, early forced marriage and domestic violence both at the legal and policy levels (Republic of Korea); ',\n",
       "  '136.162 Address more effectively cases of gender-based violence including by their proper and effective investigations and adequate prosecution of perpetrators (Slovakia); ',\n",
       "  '136.163 Strengthen efforts in eliminating discrimination and violence against women, also by raising the awareness of the general public and training officials in judiciary and law enforcement at all levels that will include human rights of women (Slovenia); ',\n",
       "  '136.164 Increase all kinds of measures to effectively combat impunity regarding acts of violence against women, as well as to prevent, investigate, prosecute and sanction the acts of violence perpetrated against women by State agents and other persons (Uruguay); ',\n",
       "  '136.165 Complete the exercises in strengthening national legal and administrative frameworks in order for them to be in line with human rights principles by fully implementing those frameworks, in particular the 2009 law on the Elimination of Violence against Women and the inclusion of restorative justice principles in the 2004 Juvenile Code (Indonesia); ',\n",
       "  '136.166 Review its national legislation in order to ensure its full alignment with obligations under the Rome Statute, in particular by incorporating provisions enabling cooperation with the Court (Latvia); ',\n",
       "  '136.167 Accelerate the process of aligning its national legislation with the provisions of the Rome Statute (Tunisia); ',\n",
       "  '136.168 Fully align the national legislation with all obligations under the Rome Statute of the International Criminal Court (Austria); ',\n",
       "  '136.169 Take immediate measures in order to comply fully with the Optional Protocol to the Convention on the Rights of the Child on the involvement of children in armed conflict and implement the Action Plan to end the recruitment and use of children, signed with the United Nations in 2011 (Lithuania); ',\n",
       "  '136.170 Cultivate and develop at local as well as national level a culture of human rights through appropriate programmes increasingly adapted to the cultural context in the framework of formal and non-formal education (Comoros); ',\n",
       "  '136.171 Develop and strengthen international human rights standards among Afghan citizens (Kuwait); ',\n",
       "  '136.172 Strengthen coordination between national and international institutions working in the area of human rights with a view to effectively conduct and launch human rights trainings provided to the government agencies\\xd5 staff (Saudi Arabia); ',\n",
       "  '136.173 Put priority attention to issues regarding education and training in the human rights area for the officials of the law enforcement bodies, judiciary and of investigative bodies (Tajikistan); ',\n",
       "  '136.174 Develop an academic curriculum on the basis of human rights standards, values and international conventions (Turkmenistan); ',\n",
       "  '136.175 Further provide training to security and law enforcement organs on the protection and promotion of human rights (Ethiopia); ',\n",
       "  '136.176 Step up its national capacity-building programs for law enforcement officials, including through international cooperation (Egypt); ',\n",
       "  '136.177 Continue efforts in human rights awareness raising, especially within the law enforcement sector (Qatar); ',\n",
       "  '136.178 Ensure gender equity in higher education institutions of the country by increasing the number of female students (Bhutan). ',\n",
       "  '137. The following recommendations will be examined by Afghanistan, which will provide responses in due time, but no later than the twenty-sixth session of the Human Rights Council in June 2014: ',\n",
       "  '137.1. Consider ratifying the International Convention on the Protection of the Rights of All Migrant Workers and Members of Their Families (Egypt); ',\n",
       "  '137.2 Ratify the Protocol to Prevent, Suppress and Punish Trafficking in Persons, Especially Women and Children, supplementing the United Nations Convention against Transnational Organized Crime and the Convention on Preventing and Combating Trafficking in Women and Children for Prostitution of the South Asian Association for Regional Cooperation (Spain); ',\n",
       "  '137.3 Ratify the International Convention for the Protection of All Persons from Enforced Disappearance, Optional Protocol to the Convention against Torture, and Optional Protocol to the Convention on the Elimination of All Forms of Discrimination against Women (Tunisia);  ',\n",
       "  '137.4 Uphold efforts aimed at the practical implementation of its human rights commitments and accede to the optional protocols of the human rights conventions to which it is a party (Hungary); ',\n",
       "  '137.5 Enhance cooperation with the Human Rights Council by issuing a standing invitation to special procedures and accepting all visits requested by mandate holders (Hungary); ',\n",
       "  '137.6 Strengthen its cooperation with the special procedures of the Human Rights Council by responding positively to the pending visit requests and eventually consider extending a standing invitation to all the special procedures mandate holders (Latvia); ',\n",
       "  '137.7 Respond positively to requests to visit made by the Special Rapporteur on violence against women, it causes and consequences (Mexico); ',\n",
       "  '137.8 Respond positively to requests to visit made by the Special Rapporteur on torture and other cruel, inhuman or degrading treatment or punishment (Mexico); ',\n",
       "  '137.9 Expand cooperation with the special procedures, including with the Special Rapporteur on torture and other cruel, inhuman or degrading treatment and punishment, and the Special Rapporteur on violence against women, its causes and consequences (Tajikistan); ',\n",
       "  '137.10 Consider incorporating the United Nations Rules for the Treatment of Women Prisoners and Non-Custodial Measure for Women Offenders, otherwise known as the Bangkok Rules\\xd3, as a part of its programme to enhance the conditions of women detainees in prison (Thailand); ',\n",
       "  '137.11 Adopt measures to combat cases of torture and ill-treatment in the detention centres (France); ',\n",
       "  '137.12 Address shortcomings identified by international election monitors and ensure that the election and campaigning ahead of them, including the access of candidates to the media, are transparent, free and fair (Czech Republic); ',\n",
       "  '137.13 Repeal article 398 of the Afghan Penal Code with a view to ensuring full accountability for the perpetrators of so-called honour killings (Poland); ',\n",
       "  '137.14 Repeal article 398 of the Penal Code which gives perpetrators of honour killings legal concessions (United Kingdom of Great Britain and Northern Ireland); ',\n",
       "  '137.15 Amend the National Reconciliation, General Amnesty and National Stability Law to allow for prosecutions of certain crimes, such as genocide, war crimes and torture (Sweden); ',\n",
       "  '137.16 Reinforce and consolidate recovery of the country and national reconciliation and remedy past human rights violations through the establishment of a transitional justice strategy (Morocco); ',\n",
       "  '137.17 Decisively take issue with human rights violations and war crimes of the past decades with a view to bringing the perpetrators to justice (Germany); ',\n",
       "  '137.18 Ensure a national mechanism for transitional justice and national reconciliation, starting with the immediate release of the conflict mapping report of the Human Rights Commission and ensure adequate security assistance for its staff (Netherlands); ',\n",
       "  '137.19 Implement the objectives of its 2005 Action Plan on Peace, Justice and Reconciliation and the National Priority Programme no. 6 in relation to human rights, and prosecute persons who committed grave human rights violations or war crimes (Switzerland); ',\n",
       "  '137.20 Adhere to the 1954 Convention relating to the Status of Stateless Persons and 1961 Convention on the Reduction of Statelessness (Uruguay); ',\n",
       "  '137.21 Give the Afghanistan Independent Human Rights Commission the independence and legal authority to hold to account perpetrators of detainee mistreatment (United Kingdom of Great Britain and Northern Ireland); ',\n",
       "  '137.22 Accede to and fully implement the Optional Protocol to CEDAW, amend laws that discriminate against women, and facilitate a broad public discussion on women\\xd5s rights and equality (Czech Republic); ',\n",
       "  '137.23 Ratify the Agreement on the Privileges and Immunities of the International Criminal Court and take all necessary measures for their implementation as well as the preservation of the integrity of the Rome Statute (France); ',\n",
       "  '137.24 Ratify the Kampala Amendments to the Rome Statute and the Agreement on the Privileges and Immunities of the International Criminal Court (Estonia); ',\n",
       "  '137.25 Accede to the Agreement on the Privileges and Immunities of the International Criminal Court (Slovakia); ',\n",
       "  '137.26 Sign and ratify the Optional Protocol to the Convention against Torture and Other Cruel, Inhuman or Degrading Treatment or Punishment (France); ',\n",
       "  '137.27 Ratify the Optional Protocol to the Convention against Torture and take policy measures to prevent torture and ill treatment (Estonia); ',\n",
       "  '137.28 Ratify the Optional Protocol to CAT, and by virtue of the latter, establish a national preventive mechanism (Switzerland); ',\n",
       "  '137.29 Accede to the Optional Protocol to CAT and implement measures ensuring prompt and impartial investigation of ill-treatment and torture of detainees and strengthen the accountability mechanisms for police and armed forces (Czech Republic); ',\n",
       "  '137.30 Ratify the two optional protocols to the International Covenant on Civil and Political Rights (ICCPR) as well as the Optional Protocol to CAT and make the necessary declarations under article 41 of ICCPR and articles 20, 21 and 22 of CAT (Austria); ',\n",
       "  '137.31 Takes steps to ensure proper and widespread enforcement of article 29 of the Constitution and ratify the Optional Protocol to the Convention against Torture (Denmark); ',\n",
       "  '137.32 Ratify the Optional Protocol to the Convention on the Rights of the Child on the involvement of children in armed conflict (Algeria); ',\n",
       "  '137.33 Ratify the Optional Protocol to the International Covenant on Economic, Social and Cultural Rights and the Optional Protocol to the Convention on the Rights of the Child on a communications procedure (Portugal); ',\n",
       "  '137.34 Consider becoming a party to the Optional Protocol to the Convention on the Rights of the Child on a communications procedure (Thailand). ',\n",
       "  '138. The recommendations below did not enjoy the support of Afghanistan: ',\n",
       "  '138.1 Re-establish the moratorium on executions and beyond that, consider final abolition of the death penalty (France); ',\n",
       "  '138.2 Consider adoption of a moratorium on executions with a view to abolishing the death penalty (Italy); ',\n",
       "  '138.3 Establish an immediate official moratorium on the use of the death penalty with a view to abolishing it (Montenegro); ',\n",
       "  '138.4 Establish a moratorium in the use of the death penalty as a preliminary step to its definitive abolition (Spain); ',\n",
       "  '138.5 Establish a moratorium on executions with a view to removing the death penalty from its criminal statutes and ratifying the Second Optional Protocol to the International Covenant on Civil and Political Rights (Australia); ',\n",
       "  '138.6 Reintroduce a moratorium on executions with a view to the abolition of capital punishment (Czech Republic); ',\n",
       "  '138.7 Re-establish a moratorium to executions, with a view to the final abolition of the death penalty, and ratify the Second Optional Protocol to ICCPR (Uruguay); ',\n",
       "  '138.8 Consider a formal moratorium on executions of all persons condemned with the death penalty and examine the possibility of abolishing the death penalty (Argentina); ',\n",
       "  '138.9 Reintroduce the moratorium on executions as a first step towards the abolition of the death penalty (Sweden); ',\n",
       "  '138.10 Abolish the practice of prosecuting women for moral crimes\\xd3 (New Zealand); ',\n",
       "  '138.11 Ensure non-discrimination on the basis of sexual orientation and gender identity and repeal the provisions of the penal code which criminalise sexual relations between consenting adults of the same sex (Norway); ',\n",
       "  '138.12 Put an end to the practice of criminal prosecutions for moral crimes against women who have fled their home (France). '],\n",
       " 'year': '2014'}"
      ]
     },
     "execution_count": 67,
     "metadata": {},
     "output_type": "execute_result"
    }
   ],
   "source": [
    "l[0]"
   ]
  },
  {
   "cell_type": "code",
   "execution_count": null,
   "metadata": {
    "collapsed": true
   },
   "outputs": [],
   "source": []
  }
 ],
 "metadata": {
  "kernelspec": {
   "display_name": "Python 2",
   "language": "python",
   "name": "python2"
  },
  "language_info": {
   "codemirror_mode": {
    "name": "ipython",
    "version": 2
   },
   "file_extension": ".py",
   "mimetype": "text/x-python",
   "name": "python",
   "nbconvert_exporter": "python",
   "pygments_lexer": "ipython2",
   "version": "2.7.9"
  }
 },
 "nbformat": 4,
 "nbformat_minor": 0
}
