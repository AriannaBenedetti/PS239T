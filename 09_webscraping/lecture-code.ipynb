{
 "cells": [
  {
   "cell_type": "markdown",
   "metadata": {},
   "source": [
    "# Webscraping - Lecture Code"
   ]
  },
  {
   "cell_type": "markdown",
   "metadata": {},
   "source": [
    "## The Task:\n",
    "\n",
    "Gather information Illinois' elected state legislators"
   ]
  },
  {
   "cell_type": "markdown",
   "metadata": {},
   "source": [
    "## The Tools:\n",
    "\n",
    "1. [Requests](http://docs.python-requests.org/en/latest/user/quickstart/)\n",
    "2. [Beautiful Soup](http://www.crummy.com/software/BeautifulSoup/bs4/doc/)"
   ]
  },
  {
   "cell_type": "code",
   "execution_count": 6,
   "metadata": {
    "collapsed": false
   },
   "outputs": [],
   "source": [
    "# import required modules\n",
    "import requests\n",
    "from bs4 import BeautifulSoup"
   ]
  },
  {
   "cell_type": "markdown",
   "metadata": {},
   "source": [
    "We use `requests` library to:\n",
    "1. make a GET request to the page\n",
    "2. read in the html of the page"
   ]
  },
  {
   "cell_type": "code",
   "execution_count": 166,
   "metadata": {
    "collapsed": false
   },
   "outputs": [],
   "source": [
    "# import html text\n",
    "req = requests.get('http://www.ilga.gov/senate/default.asp') # make a GET request\n",
    "src = req.text # read the content of the server’s response"
   ]
  },
  {
   "cell_type": "markdown",
   "metadata": {},
   "source": [
    "Now we use the `bBautifulSoup` library to parse the reponse into an HTML tree."
   ]
  },
  {
   "cell_type": "code",
   "execution_count": 5,
   "metadata": {
    "collapsed": false
   },
   "outputs": [
    {
     "ename": "NameError",
     "evalue": "name 'src' is not defined",
     "output_type": "error",
     "traceback": [
      "\u001b[0;31m---------------------------------------------------------------------------\u001b[0m",
      "\u001b[0;31mNameError\u001b[0m                                 Traceback (most recent call last)",
      "\u001b[0;32m<ipython-input-5-fbfe04fb17c1>\u001b[0m in \u001b[0;36m<module>\u001b[0;34m()\u001b[0m\n\u001b[1;32m      1\u001b[0m \u001b[0;31m# parse the response into an HTML tree\u001b[0m\u001b[0;34m\u001b[0m\u001b[0;34m\u001b[0m\u001b[0m\n\u001b[0;32m----> 2\u001b[0;31m \u001b[0msoup\u001b[0m \u001b[0;34m=\u001b[0m \u001b[0mBeautifulSoup\u001b[0m\u001b[0;34m(\u001b[0m\u001b[0msrc\u001b[0m\u001b[0;34m,\u001b[0m \u001b[0;34m'html.parser'\u001b[0m\u001b[0;34m)\u001b[0m\u001b[0;34m\u001b[0m\u001b[0m\n\u001b[0m",
      "\u001b[0;31mNameError\u001b[0m: name 'src' is not defined"
     ]
    }
   ],
   "source": [
    "# parse the response into an HTML tree\n",
    "soup = BeautifulSoup(src)"
   ]
  },
  {
   "cell_type": "markdown",
   "metadata": {},
   "source": [
    "BeautifulSoup has a number of functions to find things on a page. Let's search first for HTML tags."
   ]
  },
  {
   "cell_type": "code",
   "execution_count": 168,
   "metadata": {
    "collapsed": false
   },
   "outputs": [
    {
     "data": {
      "text/plain": [
       "[<a href=\"/default.asp\"><img alt=\"Illinois General Assembly\" border=\"0\" height=\"49\" src=\"/images/logo_sm.gif\" width=\"462\"/></a>,\n",
       " <a class=\"mainmenu\" href=\"/\">Home</a>,\n",
       " <a class=\"mainmenu\" href=\"/legislation/\" onblur=\"HM_f_PopDown('elMenu1')\" onfocus=\"HM_f_PopUp('elMenu1',event)\" onmouseout=\"HM_f_PopDown('elMenu1')\" onmouseover=\"HM_f_PopUp('elMenu1',event)\">Legislation &amp; Laws</a>,\n",
       " <a class=\"mainmenu\" href=\"/senate/\" onblur=\"HM_f_PopDown('elMenu3')\" onfocus=\"HM_f_PopUp('elMenu3',event)\" onmouseout=\"HM_f_PopDown('elMenu3')\" onmouseover=\"HM_f_PopUp('elMenu3',event)\">Senate</a>,\n",
       " <a class=\"mainmenu\" href=\"/house/\" onblur=\"HM_f_PopDown('elMenu2')\" onfocus=\"HM_f_PopUp('elMenu2',event)\" onmouseout=\"HM_f_PopDown('elMenu2')\" onmouseover=\"HM_f_PopUp('elMenu2',event)\">House</a>,\n",
       " <a class=\"mainmenu\" href=\"/mylegislation/\" onblur=\"HM_f_PopDown('elMenu4')\" onfocus=\"HM_f_PopUp('elMenu4',event)\" onmouseout=\"HM_f_PopDown('elMenu4')\" onmouseover=\"HM_f_PopUp('elMenu4',event)\">My Legislation</a>,\n",
       " <a class=\"mainmenu\" href=\"/sitemap.asp\">Site Map</a>,\n",
       " <a class=\"sidemenu\" href=\"/senate/default.asp\">  Members  </a>,\n",
       " <a class=\"sidemenu\" href=\"/senate/committees/default.asp\">  Committees  </a>,\n",
       " <a class=\"sidemenu\" href=\"/senate/schedules/default.asp\">  Schedules  </a>,\n",
       " <a class=\"sidemenu\" href=\"/senate/journals/default.asp\">  Journals  </a>,\n",
       " <a class=\"sidemenu\" href=\"/senate/transcripts/default.asp\">  Transcripts  </a>,\n",
       " <a class=\"sidemenu\" href=\"/senate/rules.asp\">  Rules  </a>,\n",
       " <a class=\"sidemenu\" href=\"/senate/audvid.asp\">  Live Audio/Video  </a>,\n",
       " <a href=\"99GA_Senate_Leadership.pdf\">Leadership</a>,\n",
       " <a href=\"99GA_Senate_Officers.pdf\">Officers</a>,\n",
       " <a href=\"99GA_Senate_Seating_Chart.pdf\">Senate Seating Chart</a>,\n",
       " <a class=\"filetab\" href=\"javascript:Sort('LastName','',99);\" title=\"Sort by Senator\">Senator</a>,\n",
       " <a class=\"filetab\" href=\"javascript:Sort('DistrictNumber','',99);\" title=\"Sort by District\">District</a>,\n",
       " <a class=\"filetab\" href=\"javascript:Sort('Party','',99);\" title=\"Sort by Party\">Party</a>,\n",
       " <a href=\"/senate/Senator.asp?GA=99&amp;MemberID=2130\">Pamela J. Althoff</a>,\n",
       " <a href=\"SenatorBills.asp?MemberID=2130\">Bills</a>,\n",
       " <a href=\"SenCommittees.asp?MemberID=2130\">Committees</a>,\n",
       " <a href=\"/senate/Senator.asp?GA=99&amp;MemberID=2275\">Neil Anderson</a>,\n",
       " <a href=\"SenatorBills.asp?MemberID=2275\">Bills</a>,\n",
       " <a href=\"SenCommittees.asp?MemberID=2275\">Committees</a>,\n",
       " <a href=\"/senate/Senator.asp?GA=99&amp;MemberID=2208\">Jason A. Barickman</a>,\n",
       " <a href=\"SenatorBills.asp?MemberID=2208\">Bills</a>,\n",
       " <a href=\"SenCommittees.asp?MemberID=2208\">Committees</a>,\n",
       " <a href=\"/senate/Senator.asp?GA=99&amp;MemberID=2276\">Scott M. Bennett</a>,\n",
       " <a href=\"SenatorBills.asp?MemberID=2276\">Bills</a>,\n",
       " <a href=\"SenCommittees.asp?MemberID=2276\">Committees</a>,\n",
       " <a href=\"/senate/Senator.asp?GA=99&amp;MemberID=2210\">Jennifer Bertino-Tarrant</a>,\n",
       " <a href=\"SenatorBills.asp?MemberID=2210\">Bills</a>,\n",
       " <a href=\"SenCommittees.asp?MemberID=2210\">Committees</a>,\n",
       " <a href=\"/senate/Senator.asp?GA=99&amp;MemberID=2209\">Daniel Biss</a>,\n",
       " <a href=\"SenatorBills.asp?MemberID=2209\">Bills</a>,\n",
       " <a href=\"SenCommittees.asp?MemberID=2209\">Committees</a>,\n",
       " <a href=\"/senate/Senator.asp?GA=99&amp;MemberID=2160\">Tim Bivins</a>,\n",
       " <a href=\"SenatorBills.asp?MemberID=2160\">Bills</a>,\n",
       " <a href=\"SenCommittees.asp?MemberID=2160\">Committees</a>,\n",
       " <a href=\"/senate/Senator.asp?GA=99&amp;MemberID=2108\">William E. Brady</a>,\n",
       " <a href=\"SenatorBills.asp?MemberID=2108\">Bills</a>,\n",
       " <a href=\"SenCommittees.asp?MemberID=2108\">Committees</a>,\n",
       " <a href=\"/senate/Senator.asp?GA=99&amp;MemberID=2211\">Melinda Bush</a>,\n",
       " <a href=\"SenatorBills.asp?MemberID=2211\">Bills</a>,\n",
       " <a href=\"SenCommittees.asp?MemberID=2211\">Committees</a>,\n",
       " <a href=\"/senate/Senator.asp?GA=99&amp;MemberID=2097\">James F. Clayborne, Jr.</a>,\n",
       " <a href=\"SenatorBills.asp?MemberID=2097\">Bills</a>,\n",
       " <a href=\"SenCommittees.asp?MemberID=2097\">Committees</a>,\n",
       " <a href=\"/senate/Senator.asp?GA=99&amp;MemberID=2123\">Jacqueline Y. Collins</a>,\n",
       " <a href=\"SenatorBills.asp?MemberID=2123\">Bills</a>,\n",
       " <a href=\"SenCommittees.asp?MemberID=2123\">Committees</a>,\n",
       " <a href=\"/senate/Senator.asp?GA=99&amp;MemberID=2212\">Michael Connelly</a>,\n",
       " <a href=\"SenatorBills.asp?MemberID=2212\">Bills</a>,\n",
       " <a href=\"SenCommittees.asp?MemberID=2212\">Committees</a>,\n",
       " <a href=\"/senate/Senator.asp?GA=99&amp;MemberID=2098\">John J. Cullerton</a>,\n",
       " <a href=\"SenatorBills.asp?MemberID=2098\">Bills</a>,\n",
       " <a href=\"SenCommittees.asp?MemberID=2098\">Committees</a>,\n",
       " <a href=\"/senate/Senator.asp?GA=99&amp;MemberID=2213\">Thomas Cullerton</a>,\n",
       " <a href=\"SenatorBills.asp?MemberID=2213\">Bills</a>,\n",
       " <a href=\"SenCommittees.asp?MemberID=2213\">Committees</a>,\n",
       " <a href=\"/senate/Senator.asp?GA=99&amp;MemberID=2214\">Bill Cunningham</a>,\n",
       " <a href=\"SenatorBills.asp?MemberID=2214\">Bills</a>,\n",
       " <a href=\"SenCommittees.asp?MemberID=2214\">Committees</a>,\n",
       " <a href=\"/senate/Senator.asp?GA=99&amp;MemberID=2144\">William Delgado</a>,\n",
       " <a href=\"SenatorBills.asp?MemberID=2144\">Bills</a>,\n",
       " <a href=\"SenCommittees.asp?MemberID=2144\">Committees</a>,\n",
       " <a href=\"/senate/Senator.asp?GA=99&amp;MemberID=2170\">Dan Duffy</a>,\n",
       " <a href=\"SenatorBills.asp?MemberID=2170\">Bills</a>,\n",
       " <a href=\"SenCommittees.asp?MemberID=2170\">Committees</a>,\n",
       " <a href=\"/senate/Senator.asp?GA=99&amp;MemberID=2133\">Gary Forby</a>,\n",
       " <a href=\"SenatorBills.asp?MemberID=2133\">Bills</a>,\n",
       " <a href=\"SenCommittees.asp?MemberID=2133\">Committees</a>,\n",
       " <a href=\"/senate/Senator.asp?GA=99&amp;MemberID=2128\">William R. Haine</a>,\n",
       " <a href=\"SenatorBills.asp?MemberID=2128\">Bills</a>,\n",
       " <a href=\"SenCommittees.asp?MemberID=2128\">Committees</a>,\n",
       " <a href=\"/senate/Senator.asp?GA=99&amp;MemberID=2125\">Don Harmon</a>,\n",
       " <a href=\"SenatorBills.asp?MemberID=2125\">Bills</a>,\n",
       " <a href=\"SenCommittees.asp?MemberID=2125\">Committees</a>,\n",
       " <a href=\"/senate/Senator.asp?GA=99&amp;MemberID=2215\">Napoleon Harris, III</a>,\n",
       " <a href=\"SenatorBills.asp?MemberID=2215\">Bills</a>,\n",
       " <a href=\"SenCommittees.asp?MemberID=2215\">Committees</a>,\n",
       " <a href=\"/senate/Senator.asp?GA=99&amp;MemberID=2216\">Michael E. Hastings</a>,\n",
       " <a href=\"SenatorBills.asp?MemberID=2216\">Bills</a>,\n",
       " <a href=\"SenCommittees.asp?MemberID=2216\">Committees</a>,\n",
       " <a href=\"/senate/Senator.asp?GA=99&amp;MemberID=2150\">Linda Holmes</a>,\n",
       " <a href=\"SenatorBills.asp?MemberID=2150\">Bills</a>,\n",
       " <a href=\"SenCommittees.asp?MemberID=2150\">Committees</a>,\n",
       " <a href=\"/senate/Senator.asp?GA=99&amp;MemberID=2129\">Mattie Hunter</a>,\n",
       " <a href=\"SenatorBills.asp?MemberID=2129\">Bills</a>,\n",
       " <a href=\"SenCommittees.asp?MemberID=2129\">Committees</a>,\n",
       " <a href=\"/senate/Senator.asp?GA=99&amp;MemberID=2171\">Toi W. Hutchinson</a>,\n",
       " <a href=\"SenatorBills.asp?MemberID=2171\">Bills</a>,\n",
       " <a href=\"SenCommittees.asp?MemberID=2171\">Committees</a>,\n",
       " <a href=\"/senate/Senator.asp?GA=99&amp;MemberID=2173\">Emil Jones, III</a>,\n",
       " <a href=\"SenatorBills.asp?MemberID=2173\">Bills</a>,\n",
       " <a href=\"SenCommittees.asp?MemberID=2173\">Committees</a>,\n",
       " <a href=\"/senate/Senator.asp?GA=99&amp;MemberID=2152\">David Koehler</a>,\n",
       " <a href=\"SenatorBills.asp?MemberID=2152\">Bills</a>,\n",
       " <a href=\"SenCommittees.asp?MemberID=2152\">Committees</a>,\n",
       " <a href=\"/senate/Senator.asp?GA=99&amp;MemberID=2149\">Dan Kotowski</a>,\n",
       " <a href=\"SenatorBills.asp?MemberID=2149\">Bills</a>,\n",
       " <a href=\"SenCommittees.asp?MemberID=2149\">Committees</a>,\n",
       " <a href=\"/senate/Senator.asp?GA=99&amp;MemberID=2199\">Darin M. LaHood</a>,\n",
       " <a href=\"SenatorBills.asp?MemberID=2199\">Bills</a>,\n",
       " <a href=\"SenCommittees.asp?MemberID=2199\">Committees</a>,\n",
       " <a href=\"/senate/Senator.asp?GA=99&amp;MemberID=2198\">Steven M. Landek</a>,\n",
       " <a href=\"SenatorBills.asp?MemberID=2198\">Bills</a>,\n",
       " <a href=\"SenCommittees.asp?MemberID=2198\">Committees</a>,\n",
       " <a href=\"/senate/Senator.asp?GA=99&amp;MemberID=2100\">Kimberly A. Lightford</a>,\n",
       " <a href=\"SenatorBills.asp?MemberID=2100\">Bills</a>,\n",
       " <a href=\"SenCommittees.asp?MemberID=2100\">Committees</a>,\n",
       " <a href=\"/senate/Senator.asp?GA=99&amp;MemberID=2101\">Terry Link</a>,\n",
       " <a href=\"SenatorBills.asp?MemberID=2101\">Bills</a>,\n",
       " <a href=\"SenCommittees.asp?MemberID=2101\">Committees</a>,\n",
       " <a href=\"/senate/Senator.asp?GA=99&amp;MemberID=2102\">David S. Luechtefeld</a>,\n",
       " <a href=\"SenatorBills.asp?MemberID=2102\">Bills</a>,\n",
       " <a href=\"SenCommittees.asp?MemberID=2102\">Committees</a>,\n",
       " <a href=\"/senate/Senator.asp?GA=99&amp;MemberID=2217\">Andy Manar</a>,\n",
       " <a href=\"SenatorBills.asp?MemberID=2217\">Bills</a>,\n",
       " <a href=\"SenCommittees.asp?MemberID=2217\">Committees</a>,\n",
       " <a href=\"/senate/Senator.asp?GA=99&amp;MemberID=2124\">Iris Y. Martinez</a>,\n",
       " <a href=\"SenatorBills.asp?MemberID=2124\">Bills</a>,\n",
       " <a href=\"SenCommittees.asp?MemberID=2124\">Committees</a>,\n",
       " <a href=\"/senate/Senator.asp?GA=99&amp;MemberID=2197\">Wm. Sam McCann</a>,\n",
       " <a href=\"SenatorBills.asp?MemberID=2197\">Bills</a>,\n",
       " <a href=\"SenCommittees.asp?MemberID=2197\">Committees</a>,\n",
       " <a href=\"/senate/Senator.asp?GA=99&amp;MemberID=2174\">Kyle McCarter</a>,\n",
       " <a href=\"SenatorBills.asp?MemberID=2174\">Bills</a>,\n",
       " <a href=\"SenCommittees.asp?MemberID=2174\">Committees</a>,\n",
       " <a href=\"/senate/Senator.asp?GA=99&amp;MemberID=2218\">Karen McConnaughay</a>,\n",
       " <a href=\"SenatorBills.asp?MemberID=2218\">Bills</a>,\n",
       " <a href=\"SenCommittees.asp?MemberID=2218\">Committees</a>,\n",
       " <a href=\"/senate/Senator.asp?GA=99&amp;MemberID=2202\">Pat McGuire</a>,\n",
       " <a href=\"SenatorBills.asp?MemberID=2202\">Bills</a>,\n",
       " <a href=\"SenCommittees.asp?MemberID=2202\">Committees</a>,\n",
       " <a href=\"/senate/Senator.asp?GA=99&amp;MemberID=2219\">Julie A. Morrison</a>,\n",
       " <a href=\"SenatorBills.asp?MemberID=2219\">Bills</a>,\n",
       " <a href=\"SenCommittees.asp?MemberID=2219\">Committees</a>,\n",
       " <a href=\"/senate/Senator.asp?GA=99&amp;MemberID=2180\">John G. Mulroe</a>,\n",
       " <a href=\"SenatorBills.asp?MemberID=2180\">Bills</a>,\n",
       " <a href=\"SenCommittees.asp?MemberID=2180\">Committees</a>,\n",
       " <a href=\"/senate/Senator.asp?GA=99&amp;MemberID=2103\">Antonio Muñoz</a>,\n",
       " <a href=\"SenatorBills.asp?MemberID=2103\">Bills</a>,\n",
       " <a href=\"SenCommittees.asp?MemberID=2103\">Committees</a>,\n",
       " <a href=\"/senate/Senator.asp?GA=99&amp;MemberID=2148\">Matt Murphy</a>,\n",
       " <a href=\"SenatorBills.asp?MemberID=2148\">Bills</a>,\n",
       " <a href=\"SenCommittees.asp?MemberID=2148\">Committees</a>,\n",
       " <a href=\"/senate/Senator.asp?GA=99&amp;MemberID=2147\">Michael Noland</a>,\n",
       " <a href=\"SenatorBills.asp?MemberID=2147\">Bills</a>,\n",
       " <a href=\"SenCommittees.asp?MemberID=2147\">Committees</a>,\n",
       " <a href=\"/senate/Senator.asp?GA=99&amp;MemberID=2256\">Chris Nybo</a>,\n",
       " <a href=\"SenatorBills.asp?MemberID=2256\">Bills</a>,\n",
       " <a href=\"SenCommittees.asp?MemberID=2256\">Committees</a>,\n",
       " <a href=\"/senate/Senator.asp?GA=99&amp;MemberID=2220\">Jim Oberweis</a>,\n",
       " <a href=\"SenatorBills.asp?MemberID=2220\">Bills</a>,\n",
       " <a href=\"SenCommittees.asp?MemberID=2220\">Committees</a>,\n",
       " <a href=\"/senate/Senator.asp?GA=99&amp;MemberID=2104\">Christine Radogno</a>,\n",
       " <a href=\"SenatorBills.asp?MemberID=2104\">Bills</a>,\n",
       " <a href=\"SenCommittees.asp?MemberID=2104\">Committees</a>,\n",
       " <a href=\"/senate/Senator.asp?GA=99&amp;MemberID=2135\">Kwame Raoul</a>,\n",
       " <a href=\"SenatorBills.asp?MemberID=2135\">Bills</a>,\n",
       " <a href=\"SenCommittees.asp?MemberID=2135\">Committees</a>,\n",
       " <a href=\"/senate/Senator.asp?GA=99&amp;MemberID=2182\">Sue Rezin</a>,\n",
       " <a href=\"SenatorBills.asp?MemberID=2182\">Bills</a>,\n",
       " <a href=\"SenCommittees.asp?MemberID=2182\">Committees</a>,\n",
       " <a href=\"/senate/Senator.asp?GA=99&amp;MemberID=2127\">Dale A. Righter</a>,\n",
       " <a href=\"SenatorBills.asp?MemberID=2127\">Bills</a>,\n",
       " <a href=\"SenCommittees.asp?MemberID=2127\">Committees</a>,\n",
       " <a href=\"/senate/Senator.asp?GA=99&amp;MemberID=2221\">Chapin Rose</a>,\n",
       " <a href=\"SenatorBills.asp?MemberID=2221\">Bills</a>,\n",
       " <a href=\"SenCommittees.asp?MemberID=2221\">Committees</a>,\n",
       " <a href=\"/senate/Senator.asp?GA=99&amp;MemberID=2122\">Martin A. Sandoval</a>,\n",
       " <a href=\"SenatorBills.asp?MemberID=2122\">Bills</a>,\n",
       " <a href=\"SenCommittees.asp?MemberID=2122\">Committees</a>,\n",
       " <a href=\"/senate/Senator.asp?GA=99&amp;MemberID=2105\">Ira I. Silverstein</a>,\n",
       " <a href=\"SenatorBills.asp?MemberID=2105\">Bills</a>,\n",
       " <a href=\"SenCommittees.asp?MemberID=2105\">Committees</a>,\n",
       " <a href=\"/senate/Senator.asp?GA=99&amp;MemberID=2222\">Steve Stadelman</a>,\n",
       " <a href=\"SenatorBills.asp?MemberID=2222\">Bills</a>,\n",
       " <a href=\"SenCommittees.asp?MemberID=2222\">Committees</a>,\n",
       " <a href=\"/senate/Senator.asp?GA=99&amp;MemberID=2159\">Heather A. Steans</a>,\n",
       " <a href=\"SenatorBills.asp?MemberID=2159\">Bills</a>,\n",
       " <a href=\"SenCommittees.asp?MemberID=2159\">Committees</a>,\n",
       " <a href=\"/senate/Senator.asp?GA=99&amp;MemberID=2126\">John M. Sullivan</a>,\n",
       " <a href=\"SenatorBills.asp?MemberID=2126\">Bills</a>,\n",
       " <a href=\"SenCommittees.asp?MemberID=2126\">Committees</a>,\n",
       " <a href=\"/senate/Senator.asp?GA=99&amp;MemberID=2106\">Dave Syverson</a>,\n",
       " <a href=\"SenatorBills.asp?MemberID=2106\">Bills</a>,\n",
       " <a href=\"SenCommittees.asp?MemberID=2106\">Committees</a>,\n",
       " <a href=\"/senate/Senator.asp?GA=99&amp;MemberID=2107\">Donne E. Trotter</a>,\n",
       " <a href=\"SenatorBills.asp?MemberID=2107\">Bills</a>,\n",
       " <a href=\"SenCommittees.asp?MemberID=2107\">Committees</a>,\n",
       " <a href=\"/senate/Senator.asp?GA=99&amp;MemberID=2223\">Patricia Van Pelt</a>,\n",
       " <a href=\"SenatorBills.asp?MemberID=2223\">Bills</a>,\n",
       " <a href=\"SenCommittees.asp?MemberID=2223\">Committees</a>,\n",
       " <a href=\"/reports/rptMemberList.asp?gaid=13&amp;ChamberId=S\" target=\"new\">click here</a>,\n",
       " <a class=\"footer\" href=\"/\" title=\"View the General Assembly web site home page\">Home</a>,\n",
       " <a class=\"footer\" href=\"/legislation/\" title=\"View Legislation and Laws\">Legislation &amp; Laws</a>,\n",
       " <a class=\"footer\" href=\"/house/default.asp\" title=\"View information regarding House of Representatives\">House</a>,\n",
       " <a class=\"footer\" href=\"/senate/default.asp\" title=\"View information regarding Senate\">Senate</a>,\n",
       " <a class=\"footer\" href=\"/mylegislation/default.asp\" title=\"Set up customized queries, create reports for tracking, etc.\">My Legislation</a>,\n",
       " <a class=\"footer\" href=\"/disclaimer.asp\" title=\"Disclaimers regarding the Illinois General Assembly web site\">Disclaimers</a>,\n",
       " <a class=\"footer\" href=\"/contact.asp\" title=\"Contact the Illinois General Assembly Web Support Staff\">Email</a>]"
      ]
     },
     "execution_count": 168,
     "metadata": {},
     "output_type": "execute_result"
    }
   ],
   "source": [
    "# find all elements in a certain tag\n",
    "# these two lines of code are equivilant\n",
    "soup.find_all(\"a\")\n",
    "soup(\"a\")"
   ]
  },
  {
   "cell_type": "markdown",
   "metadata": {},
   "source": [
    "We can also search for HTML tags with certin attributes, like particular CSS classes."
   ]
  },
  {
   "cell_type": "code",
   "execution_count": 169,
   "metadata": {
    "collapsed": false
   },
   "outputs": [
    {
     "data": {
      "text/plain": [
       "[<a class=\"sidemenu\" href=\"/senate/default.asp\">  Members  </a>,\n",
       " <a class=\"sidemenu\" href=\"/senate/committees/default.asp\">  Committees  </a>,\n",
       " <a class=\"sidemenu\" href=\"/senate/schedules/default.asp\">  Schedules  </a>,\n",
       " <a class=\"sidemenu\" href=\"/senate/journals/default.asp\">  Journals  </a>,\n",
       " <a class=\"sidemenu\" href=\"/senate/transcripts/default.asp\">  Transcripts  </a>,\n",
       " <a class=\"sidemenu\" href=\"/senate/rules.asp\">  Rules  </a>,\n",
       " <a class=\"sidemenu\" href=\"/senate/audvid.asp\">  Live Audio/Video  </a>]"
      ]
     },
     "execution_count": 169,
     "metadata": {},
     "output_type": "execute_result"
    }
   ],
   "source": [
    "# Get only the links in 'sidemenu' class\n",
    "soup(\"a\", attrs={\"class\": \"sidemenu\"}) # in bs4, this should be soup(\"a\", class=\"sidemenu\"})"
   ]
  },
  {
   "cell_type": "code",
   "execution_count": 170,
   "metadata": {
    "collapsed": false
   },
   "outputs": [
    {
     "name": "stdout",
     "output_type": "stream",
     "text": [
      "/default.asp\n",
      "/\n",
      "/legislation/\n",
      "/senate/\n",
      "/house/\n",
      "/mylegislation/\n",
      "/sitemap.asp\n",
      "/senate/default.asp\n",
      "/senate/committees/default.asp\n",
      "/senate/schedules/default.asp\n",
      "/senate/journals/default.asp\n",
      "/senate/transcripts/default.asp\n",
      "/senate/rules.asp\n",
      "/senate/audvid.asp\n",
      "99GA_Senate_Leadership.pdf\n",
      "99GA_Senate_Officers.pdf\n",
      "99GA_Senate_Seating_Chart.pdf\n",
      "javascript:Sort('LastName','',99);\n",
      "javascript:Sort('DistrictNumber','',99);\n",
      "javascript:Sort('Party','',99);\n",
      "/senate/Senator.asp?GA=99&MemberID=2130\n",
      "SenatorBills.asp?MemberID=2130\n",
      "SenCommittees.asp?MemberID=2130\n",
      "/senate/Senator.asp?GA=99&MemberID=2275\n",
      "SenatorBills.asp?MemberID=2275\n",
      "SenCommittees.asp?MemberID=2275\n",
      "/senate/Senator.asp?GA=99&MemberID=2208\n",
      "SenatorBills.asp?MemberID=2208\n",
      "SenCommittees.asp?MemberID=2208\n",
      "/senate/Senator.asp?GA=99&MemberID=2276\n",
      "SenatorBills.asp?MemberID=2276\n",
      "SenCommittees.asp?MemberID=2276\n",
      "/senate/Senator.asp?GA=99&MemberID=2210\n",
      "SenatorBills.asp?MemberID=2210\n",
      "SenCommittees.asp?MemberID=2210\n",
      "/senate/Senator.asp?GA=99&MemberID=2209\n",
      "SenatorBills.asp?MemberID=2209\n",
      "SenCommittees.asp?MemberID=2209\n",
      "/senate/Senator.asp?GA=99&MemberID=2160\n",
      "SenatorBills.asp?MemberID=2160\n",
      "SenCommittees.asp?MemberID=2160\n",
      "/senate/Senator.asp?GA=99&MemberID=2108\n",
      "SenatorBills.asp?MemberID=2108\n",
      "SenCommittees.asp?MemberID=2108\n",
      "/senate/Senator.asp?GA=99&MemberID=2211\n",
      "SenatorBills.asp?MemberID=2211\n",
      "SenCommittees.asp?MemberID=2211\n",
      "/senate/Senator.asp?GA=99&MemberID=2097\n",
      "SenatorBills.asp?MemberID=2097\n",
      "SenCommittees.asp?MemberID=2097\n",
      "/senate/Senator.asp?GA=99&MemberID=2123\n",
      "SenatorBills.asp?MemberID=2123\n",
      "SenCommittees.asp?MemberID=2123\n",
      "/senate/Senator.asp?GA=99&MemberID=2212\n",
      "SenatorBills.asp?MemberID=2212\n",
      "SenCommittees.asp?MemberID=2212\n",
      "/senate/Senator.asp?GA=99&MemberID=2098\n",
      "SenatorBills.asp?MemberID=2098\n",
      "SenCommittees.asp?MemberID=2098\n",
      "/senate/Senator.asp?GA=99&MemberID=2213\n",
      "SenatorBills.asp?MemberID=2213\n",
      "SenCommittees.asp?MemberID=2213\n",
      "/senate/Senator.asp?GA=99&MemberID=2214\n",
      "SenatorBills.asp?MemberID=2214\n",
      "SenCommittees.asp?MemberID=2214\n",
      "/senate/Senator.asp?GA=99&MemberID=2144\n",
      "SenatorBills.asp?MemberID=2144\n",
      "SenCommittees.asp?MemberID=2144\n",
      "/senate/Senator.asp?GA=99&MemberID=2170\n",
      "SenatorBills.asp?MemberID=2170\n",
      "SenCommittees.asp?MemberID=2170\n",
      "/senate/Senator.asp?GA=99&MemberID=2133\n",
      "SenatorBills.asp?MemberID=2133\n",
      "SenCommittees.asp?MemberID=2133\n",
      "/senate/Senator.asp?GA=99&MemberID=2128\n",
      "SenatorBills.asp?MemberID=2128\n",
      "SenCommittees.asp?MemberID=2128\n",
      "/senate/Senator.asp?GA=99&MemberID=2125\n",
      "SenatorBills.asp?MemberID=2125\n",
      "SenCommittees.asp?MemberID=2125\n",
      "/senate/Senator.asp?GA=99&MemberID=2215\n",
      "SenatorBills.asp?MemberID=2215\n",
      "SenCommittees.asp?MemberID=2215\n",
      "/senate/Senator.asp?GA=99&MemberID=2216\n",
      "SenatorBills.asp?MemberID=2216\n",
      "SenCommittees.asp?MemberID=2216\n",
      "/senate/Senator.asp?GA=99&MemberID=2150\n",
      "SenatorBills.asp?MemberID=2150\n",
      "SenCommittees.asp?MemberID=2150\n",
      "/senate/Senator.asp?GA=99&MemberID=2129\n",
      "SenatorBills.asp?MemberID=2129\n",
      "SenCommittees.asp?MemberID=2129\n",
      "/senate/Senator.asp?GA=99&MemberID=2171\n",
      "SenatorBills.asp?MemberID=2171\n",
      "SenCommittees.asp?MemberID=2171\n",
      "/senate/Senator.asp?GA=99&MemberID=2173\n",
      "SenatorBills.asp?MemberID=2173\n",
      "SenCommittees.asp?MemberID=2173\n",
      "/senate/Senator.asp?GA=99&MemberID=2152\n",
      "SenatorBills.asp?MemberID=2152\n",
      "SenCommittees.asp?MemberID=2152\n",
      "/senate/Senator.asp?GA=99&MemberID=2149\n",
      "SenatorBills.asp?MemberID=2149\n",
      "SenCommittees.asp?MemberID=2149\n",
      "/senate/Senator.asp?GA=99&MemberID=2199\n",
      "SenatorBills.asp?MemberID=2199\n",
      "SenCommittees.asp?MemberID=2199\n",
      "/senate/Senator.asp?GA=99&MemberID=2198\n",
      "SenatorBills.asp?MemberID=2198\n",
      "SenCommittees.asp?MemberID=2198\n",
      "/senate/Senator.asp?GA=99&MemberID=2100\n",
      "SenatorBills.asp?MemberID=2100\n",
      "SenCommittees.asp?MemberID=2100\n",
      "/senate/Senator.asp?GA=99&MemberID=2101\n",
      "SenatorBills.asp?MemberID=2101\n",
      "SenCommittees.asp?MemberID=2101\n",
      "/senate/Senator.asp?GA=99&MemberID=2102\n",
      "SenatorBills.asp?MemberID=2102\n",
      "SenCommittees.asp?MemberID=2102\n",
      "/senate/Senator.asp?GA=99&MemberID=2217\n",
      "SenatorBills.asp?MemberID=2217\n",
      "SenCommittees.asp?MemberID=2217\n",
      "/senate/Senator.asp?GA=99&MemberID=2124\n",
      "SenatorBills.asp?MemberID=2124\n",
      "SenCommittees.asp?MemberID=2124\n",
      "/senate/Senator.asp?GA=99&MemberID=2197\n",
      "SenatorBills.asp?MemberID=2197\n",
      "SenCommittees.asp?MemberID=2197\n",
      "/senate/Senator.asp?GA=99&MemberID=2174\n",
      "SenatorBills.asp?MemberID=2174\n",
      "SenCommittees.asp?MemberID=2174\n",
      "/senate/Senator.asp?GA=99&MemberID=2218\n",
      "SenatorBills.asp?MemberID=2218\n",
      "SenCommittees.asp?MemberID=2218\n",
      "/senate/Senator.asp?GA=99&MemberID=2202\n",
      "SenatorBills.asp?MemberID=2202\n",
      "SenCommittees.asp?MemberID=2202\n",
      "/senate/Senator.asp?GA=99&MemberID=2219\n",
      "SenatorBills.asp?MemberID=2219\n",
      "SenCommittees.asp?MemberID=2219\n",
      "/senate/Senator.asp?GA=99&MemberID=2180\n",
      "SenatorBills.asp?MemberID=2180\n",
      "SenCommittees.asp?MemberID=2180\n",
      "/senate/Senator.asp?GA=99&MemberID=2103\n",
      "SenatorBills.asp?MemberID=2103\n",
      "SenCommittees.asp?MemberID=2103\n",
      "/senate/Senator.asp?GA=99&MemberID=2148\n",
      "SenatorBills.asp?MemberID=2148\n",
      "SenCommittees.asp?MemberID=2148\n",
      "/senate/Senator.asp?GA=99&MemberID=2147\n",
      "SenatorBills.asp?MemberID=2147\n",
      "SenCommittees.asp?MemberID=2147\n",
      "/senate/Senator.asp?GA=99&MemberID=2256\n",
      "SenatorBills.asp?MemberID=2256\n",
      "SenCommittees.asp?MemberID=2256\n",
      "/senate/Senator.asp?GA=99&MemberID=2220\n",
      "SenatorBills.asp?MemberID=2220\n",
      "SenCommittees.asp?MemberID=2220\n",
      "/senate/Senator.asp?GA=99&MemberID=2104\n",
      "SenatorBills.asp?MemberID=2104\n",
      "SenCommittees.asp?MemberID=2104\n",
      "/senate/Senator.asp?GA=99&MemberID=2135\n",
      "SenatorBills.asp?MemberID=2135\n",
      "SenCommittees.asp?MemberID=2135\n",
      "/senate/Senator.asp?GA=99&MemberID=2182\n",
      "SenatorBills.asp?MemberID=2182\n",
      "SenCommittees.asp?MemberID=2182\n",
      "/senate/Senator.asp?GA=99&MemberID=2127\n",
      "SenatorBills.asp?MemberID=2127\n",
      "SenCommittees.asp?MemberID=2127\n",
      "/senate/Senator.asp?GA=99&MemberID=2221\n",
      "SenatorBills.asp?MemberID=2221\n",
      "SenCommittees.asp?MemberID=2221\n",
      "/senate/Senator.asp?GA=99&MemberID=2122\n",
      "SenatorBills.asp?MemberID=2122\n",
      "SenCommittees.asp?MemberID=2122\n",
      "/senate/Senator.asp?GA=99&MemberID=2105\n",
      "SenatorBills.asp?MemberID=2105\n",
      "SenCommittees.asp?MemberID=2105\n",
      "/senate/Senator.asp?GA=99&MemberID=2222\n",
      "SenatorBills.asp?MemberID=2222\n",
      "SenCommittees.asp?MemberID=2222\n",
      "/senate/Senator.asp?GA=99&MemberID=2159\n",
      "SenatorBills.asp?MemberID=2159\n",
      "SenCommittees.asp?MemberID=2159\n",
      "/senate/Senator.asp?GA=99&MemberID=2126\n",
      "SenatorBills.asp?MemberID=2126\n",
      "SenCommittees.asp?MemberID=2126\n",
      "/senate/Senator.asp?GA=99&MemberID=2106\n",
      "SenatorBills.asp?MemberID=2106\n",
      "SenCommittees.asp?MemberID=2106\n",
      "/senate/Senator.asp?GA=99&MemberID=2107\n",
      "SenatorBills.asp?MemberID=2107\n",
      "SenCommittees.asp?MemberID=2107\n",
      "/senate/Senator.asp?GA=99&MemberID=2223\n",
      "SenatorBills.asp?MemberID=2223\n",
      "SenCommittees.asp?MemberID=2223\n",
      "/reports/rptMemberList.asp?gaid=13&ChamberId=S\n",
      "/\n",
      "/legislation/\n",
      "/house/default.asp\n",
      "/senate/default.asp\n",
      "/mylegislation/default.asp\n",
      "/disclaimer.asp\n",
      "/contact.asp\n"
     ]
    }
   ],
   "source": [
    "# Get just the href (url) attribute\n",
    "for link in soup('a'):\n",
    "    print link['href']"
   ]
  },
  {
   "cell_type": "markdown",
   "metadata": {},
   "source": [
    "Many elements on a page will have the same html tag. For instance, if you search for everything with the `p` tag, you're likely to get a lot of stuff, much of which you don't want.\n",
    "\n",
    "Oftentimes a more efficient way to search and find things on a website is by CSS selector."
   ]
  },
  {
   "cell_type": "code",
   "execution_count": 171,
   "metadata": {
    "collapsed": false
   },
   "outputs": [
    {
     "data": {
      "text/plain": [
       "<tr><td bgcolor=\"white\" class=\"detail\" width=\"40%\"><a href=\"/senate/Senator.asp?GA=99&amp;MemberID=2130\">Pamela J. Althoff</a></td><td align=\"center\" bgcolor=\"white\" class=\"detail\" width=\"15%\"><a href=\"SenatorBills.asp?MemberID=2130\">Bills</a></td><td align=\"center\" bgcolor=\"white\" class=\"detail\" width=\"15%\"><a href=\"SenCommittees.asp?MemberID=2130\">Committees</a></td><td align=\"center\" bgcolor=\"white\" class=\"detail\" width=\"15%\">32</td><td align=\"center\" bgcolor=\"white\" class=\"detail\" width=\"15%\">R</td></tr>"
      ]
     },
     "execution_count": 171,
     "metadata": {},
     "output_type": "execute_result"
    }
   ],
   "source": [
    "# Search Tree using CSS Selectors\n",
    "rows = soup.select('tr') # returns a list of every ‘tr’ css selector in the page\n",
    "rows = soup.select('tr tr tr') # returns every ‘tr tr tr’ css selector in the page\n",
    "rows[2]"
   ]
  },
  {
   "cell_type": "markdown",
   "metadata": {},
   "source": [
    "We can use the `select` method on anything. Let's say we want to find everything with the CSS selector `td.detail` in an item of the list we created above."
   ]
  },
  {
   "cell_type": "code",
   "execution_count": 172,
   "metadata": {
    "collapsed": false,
    "scrolled": false
   },
   "outputs": [
    {
     "data": {
      "text/plain": [
       "[<td bgcolor=\"white\" class=\"detail\" width=\"40%\"><a href=\"/senate/Senator.asp?GA=99&amp;MemberID=2130\">Pamela J. Althoff</a></td>,\n",
       " <td align=\"center\" bgcolor=\"white\" class=\"detail\" width=\"15%\"><a href=\"SenatorBills.asp?MemberID=2130\">Bills</a></td>,\n",
       " <td align=\"center\" bgcolor=\"white\" class=\"detail\" width=\"15%\"><a href=\"SenCommittees.asp?MemberID=2130\">Committees</a></td>,\n",
       " <td align=\"center\" bgcolor=\"white\" class=\"detail\" width=\"15%\">32</td>,\n",
       " <td align=\"center\" bgcolor=\"white\" class=\"detail\" width=\"15%\">R</td>]"
      ]
     },
     "execution_count": 172,
     "metadata": {},
     "output_type": "execute_result"
    }
   ],
   "source": [
    "# Get the table row items \n",
    "row = rows[2]\n",
    "row.select('td.detail') # select only those 'td' tags with class 'detail'"
   ]
  },
  {
   "cell_type": "markdown",
   "metadata": {},
   "source": [
    "Most of the time, we're interested in the actual **text** of a website, not its tags. To get the text of an HTML element, use the `text` method."
   ]
  },
  {
   "cell_type": "code",
   "execution_count": 175,
   "metadata": {
    "collapsed": false
   },
   "outputs": [
    {
     "name": "stdout",
     "output_type": "stream",
     "text": [
      "Pamela J. Althoff\n",
      "Bills\n",
      "Committees\n",
      "32\n",
      "R\n"
     ]
    }
   ],
   "source": [
    "# Keep only the text in each of those cells\n",
    "detailCells = row.select('td.detail')\n",
    "for cell in detailCells:\n",
    "    print cell.text"
   ]
  },
  {
   "cell_type": "markdown",
   "metadata": {},
   "source": [
    "Now we can combine the beautifulsoup tools with our basic python skills to scrape an entire web page."
   ]
  },
  {
   "cell_type": "code",
   "execution_count": 174,
   "metadata": {
    "collapsed": false
   },
   "outputs": [
    {
     "name": "stdout",
     "output_type": "stream",
     "text": [
      "Pamela J. Althoff\n",
      "32\n",
      "R\n"
     ]
    }
   ],
   "source": [
    "# Check em out\n",
    "rowData = [cell.text for cell in detailCells]\n",
    "print rowData[0] # Name\n",
    "print rowData[3] # district\n",
    "print rowData[4] # party"
   ]
  },
  {
   "cell_type": "code",
   "execution_count": 115,
   "metadata": {
    "collapsed": false
   },
   "outputs": [],
   "source": [
    "# Use a for loop to get 'em all\n",
    "members = []\n",
    "for row in rows:\n",
    "    # see if it's a 'detail' row\n",
    "    detailCells = row.select('td.detail')\n",
    "    if len(detailCells) is not 5: \n",
    "        continue\n",
    "    # get the data\n",
    "    rowData = [cell.text for cell in detailCells]\n",
    "    name = rowData[0]\n",
    "    district = int(rowData[3])\n",
    "    party = rowData[4]\n",
    "    members.append((name,district,party))"
   ]
  },
  {
   "cell_type": "code",
   "execution_count": 116,
   "metadata": {
    "collapsed": false
   },
   "outputs": [],
   "source": [
    "# Putting it all together in a function\n",
    "def get_members(url):\n",
    "    src = requests.get(url).text\n",
    "    soup = BeautifulSoup(src)\n",
    "    rows = soup.select('tr')\n",
    "    members = []\n",
    "    for row in rows:\n",
    "        # see if it's a 'detail' row\n",
    "        detailCells = row.select('td.detail')\n",
    "        if len(detailCells) is not 5:\n",
    "            continue\n",
    "        # get the data\n",
    "        rowData = [cell.text for cell in detailCells]\n",
    "        name = rowData[0]\n",
    "        district = int(rowData[3])\n",
    "        party = rowData[4]\n",
    "        members.append((name,district,party))\n",
    "    return(members)"
   ]
  },
  {
   "cell_type": "code",
   "execution_count": 117,
   "metadata": {
    "collapsed": false
   },
   "outputs": [
    {
     "data": {
      "text/plain": [
       "[(u'Pamela J. Althoff', 32, u'R'),\n",
       " (u'Neil Anderson', 36, u'R'),\n",
       " (u'Jason A. Barickman', 53, u'R'),\n",
       " (u'Scott M. Bennett', 52, u'D'),\n",
       " (u'Jennifer Bertino-Tarrant', 49, u'D'),\n",
       " (u'Daniel Biss', 9, u'D'),\n",
       " (u'Tim Bivins', 45, u'R'),\n",
       " (u'William E. Brady', 44, u'R'),\n",
       " (u'Melinda Bush', 31, u'D'),\n",
       " (u'James F. Clayborne, Jr.', 57, u'D'),\n",
       " (u'Jacqueline Y. Collins', 16, u'D'),\n",
       " (u'Michael Connelly', 21, u'R'),\n",
       " (u'John J. Cullerton', 6, u'D'),\n",
       " (u'Thomas Cullerton', 23, u'D'),\n",
       " (u'Bill Cunningham', 18, u'D'),\n",
       " (u'William Delgado', 2, u'D'),\n",
       " (u'Dan Duffy', 26, u'R'),\n",
       " (u'Gary Forby', 59, u'D'),\n",
       " (u'William R. Haine', 56, u'D'),\n",
       " (u'Don Harmon', 39, u'D'),\n",
       " (u'Napoleon Harris, III', 15, u'D'),\n",
       " (u'Michael E. Hastings', 19, u'D'),\n",
       " (u'Linda Holmes', 42, u'D'),\n",
       " (u'Mattie Hunter', 3, u'D'),\n",
       " (u'Toi W. Hutchinson', 40, u'D'),\n",
       " (u'Emil Jones, III', 14, u'D'),\n",
       " (u'David Koehler', 46, u'D'),\n",
       " (u'Dan Kotowski', 28, u'D'),\n",
       " (u'Darin M. LaHood', 37, u'R'),\n",
       " (u'Steven M. Landek', 12, u'D'),\n",
       " (u'Kimberly A. Lightford', 4, u'D'),\n",
       " (u'Terry Link', 30, u'D'),\n",
       " (u'David S. Luechtefeld', 58, u'R'),\n",
       " (u'Andy Manar', 48, u'D'),\n",
       " (u'Iris Y. Martinez', 20, u'D'),\n",
       " (u'Wm. Sam McCann', 50, u'R'),\n",
       " (u'Kyle McCarter', 54, u'R'),\n",
       " (u'Karen McConnaughay', 33, u'R'),\n",
       " (u'Pat McGuire', 43, u'D'),\n",
       " (u'Julie A. Morrison', 29, u'D'),\n",
       " (u'John G. Mulroe', 10, u'D'),\n",
       " (u'Antonio Mu\\xf1oz', 1, u'D'),\n",
       " (u'Matt Murphy', 27, u'R'),\n",
       " (u'Michael Noland', 22, u'D'),\n",
       " (u'Chris Nybo', 24, u'R'),\n",
       " (u'Jim Oberweis', 25, u'R'),\n",
       " (u'Christine Radogno', 41, u'R'),\n",
       " (u'Kwame Raoul', 13, u'D'),\n",
       " (u'Sue Rezin', 38, u'R'),\n",
       " (u'Dale A. Righter', 55, u'R'),\n",
       " (u'Chapin Rose', 51, u'R'),\n",
       " (u'Martin A. Sandoval', 11, u'D'),\n",
       " (u'Ira I. Silverstein', 8, u'D'),\n",
       " (u'Steve Stadelman', 34, u'D'),\n",
       " (u'Heather A. Steans', 7, u'D'),\n",
       " (u'John M. Sullivan', 47, u'D'),\n",
       " (u'Dave Syverson', 35, u'R'),\n",
       " (u'Donne E. Trotter', 17, u'D'),\n",
       " (u'Patricia Van Pelt', 5, u'D')]"
      ]
     },
     "execution_count": 117,
     "metadata": {},
     "output_type": "execute_result"
    }
   ],
   "source": [
    "get_members('http://www.ilga.gov/senate/default.asp')"
   ]
  },
  {
   "cell_type": "code",
   "execution_count": null,
   "metadata": {
    "collapsed": true
   },
   "outputs": [],
   "source": []
  }
 ],
 "metadata": {
  "kernelspec": {
   "display_name": "Python 2",
   "language": "python",
   "name": "python2"
  },
  "language_info": {
   "codemirror_mode": {
    "name": "ipython",
    "version": 2
   },
   "file_extension": ".py",
   "mimetype": "text/x-python",
   "name": "python",
   "nbconvert_exporter": "python",
   "pygments_lexer": "ipython2",
   "version": "2.7.9"
  }
 },
 "nbformat": 4,
 "nbformat_minor": 0
}
