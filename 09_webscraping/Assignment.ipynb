{
 "cells": [
  {
   "cell_type": "markdown",
   "metadata": {},
   "source": [
    "# Webscraping Problem Set"
   ]
  },
  {
   "cell_type": "markdown",
   "metadata": {},
   "source": [
    "First, run the code below to import the `requests` and `BeautifulSoup` libraries, as well as some other libraries we will be using."
   ]
  },
  {
   "cell_type": "code",
   "execution_count": 1,
   "metadata": {
    "collapsed": true
   },
   "outputs": [],
   "source": [
    "import requests\n",
    "from bs4 import BeautifulSoup\n",
    "from datetime import datetime\n",
    "import time\n",
    "import re\n",
    "import sys"
   ]
  },
  {
   "cell_type": "markdown",
   "metadata": {},
   "source": [
    "`1`. In this week's lecture, we introduced a function `get_members()` which returns tuples of state senators (upper chamber) and house reps (lower chamber) from Illinois. **For this assignment, we will only be looking at the state senators and not the members of the state house.** We've provided a similar function below that returns a list of tuples: \n",
    "\n",
    "  - the senator's name\n",
    "  - their district number\n",
    "  - and their party\n",
    "\n",
    "Our goals in this problem set are:\n",
    "  - To scrape the relative URL (e.g. \"`/senate/SenatorBills.asp?MemberID=1911&GA=98`\" for each senator's list of bills\n",
    "  - To modify the relative URL to be a full URL _which only lists primary-sponsored bills_ (e.g. http://www.ilga.gov/senate/SenatorBills.asp?MemberID=1911&GA=98&Primary=True — note the \"`&Primary=True`\")\n",
    "  - To automatically scrape that list of bills primarily sponsored by each senator\n",
    "\n",
    "(Also note the \"GA=98\" part of the URLs — we're going to be sticking to the previous term's senators (the \"98th\" assembly)\n",
    "\n",
    "Run the code below and make sure it works, then we'll get started."
   ]
  },
  {
   "cell_type": "code",
   "execution_count": 2,
   "metadata": {
    "collapsed": false
   },
   "outputs": [
    {
     "name": "stdout",
     "output_type": "stream",
     "text": [
      "First 5 senate members: [(u'Pamela J. Althoff', 32, u'R'), (u'Jason A. Barickman', 53, u'R'), (u'Scott M Bennett', 52, u'D'), (u'Jennifer Bertino-Tarrant', 49, u'D'), (u'Daniel Biss', 9, u'D')]\n"
     ]
    }
   ],
   "source": [
    "def get_members(url):\n",
    "    # modified code from Tuesday Jan 20 lecture\n",
    "    src = requests.get(url).text\n",
    "    soup = BeautifulSoup(src)\n",
    "    rows = soup.select('tr')\n",
    "    members = []\n",
    "    for row in rows:\n",
    "        # see if it's a 'detail' row\n",
    "        detailCells = row.select('td.detail')\n",
    "        if len(detailCells) is not 5:\n",
    "            continue\n",
    "        # get the data \n",
    "        rowData = [cell.text for cell in detailCells]\n",
    "        name = rowData[0]\n",
    "        district = int(rowData[3])\n",
    "        party = rowData[4]\n",
    "        members.append((name,district,party))\n",
    "    return(members)\n",
    "\n",
    "senateMembers = get_members('http://www.ilga.gov/senate/default.asp?GA=98')\n",
    "\n",
    "print \"First 5 senate members:\", senateMembers[0:5]"
   ]
  },
  {
   "cell_type": "markdown",
   "metadata": {},
   "source": [
    "`2`. Describe, in English, what is going on when this function executes. Pay close attention to the uses of the `select()` function. Feel free to pepper the code with `print` commands and `type()` function calls so that you know what the types of different objects are."
   ]
  },
  {
   "cell_type": "markdown",
   "metadata": {},
   "source": []
  },
  {
   "cell_type": "markdown",
   "metadata": {},
   "source": [
    "`3`. The `get_members()` function above uses the <a href=\"http://www.crummy.com/software/BeautifulSoup/bs4/doc/\">`BeautifulSoup`</a> library to scrape the Illinois General Assembly website and pull out the information about the senators and representatives.\n",
    "\n",
    "As you can see from the example bill URLs provided in question 1 above, the format for the list of bills in 2014 for a given senator is:\n",
    "\n",
    "http://www.ilga.gov/senate/SenatorBills.asp + ? + GA=98 + &MemberID=_memberID_ + &Primary=True\n",
    "\n",
    "You should be able to see that, unfortunately, _memberID_ is not currently something pulled out in our scraping function `get_members()`. Your initial task is to modify `get_members()` so that we also retrieve the URL which points to the corresponding page of primary-sponsored bills, for each member, and return it along with their name, district, and party.\n",
    "\n",
    "Paste `get_members()` below; then modify it to return the bills URL as a 4th element of the tuples returned by the function.\n",
    "\n",
    "  - To do this, you will want to get the appropriate anchor element (`<a>`) in each legislator's row of the table. You can again use the `.select()` method on the `row` object in the loop to do this — similar to the command that finds all of the `td.detail` cells in the row. Remember that we only want the link to the legislator's bills, not the committees or the legislator's profile page.\n",
    "  - The anchor elements' HTML will look like `<a href=\"/senate/Senator.asp/...\">Bills</a>`. The string in the `href` attribute contains the relative link we are after. You can access an attribute of a BeatifulSoup `Tag` object the same way you access a Python dictionary: `anchor['attributeName']`. (See the <a href=\"http://www.crummy.com/software/BeautifulSoup/bs4/doc/#tag\">documentation</a> for more details).\n",
    "      - (NOTE: There are a _lot_ of different ways to use BeautifulSoup to get things done; whatever you need to do to pull that HREF out is fine. Posting on Piazza is recommended for discussing different strategies.)\n",
    "  \n",
    "  - The HREF is what's called a _relative_ URL: i.e., it looks like this:\n",
    "  \n",
    "  `SenatorBills.asp?GA=98&MemberID=2018`\n",
    "  \n",
    "  as opposed to having a full path, like:\n",
    "  \n",
    "  `http://www.ilga.gov/senate/SenatorBills.asp?GA=98&MemberID=2018`\n",
    "  \n",
    "  You will have to add the appropriate prefix for the senate to the returned string (and thus transform the HREF into a full-fledged URL), i.e., \"`http://www.ilga.gov/senate/`\".\n",
    "\n"
   ]
  },
  {
   "cell_type": "code",
   "execution_count": 3,
   "metadata": {
    "collapsed": true
   },
   "outputs": [],
   "source": [
    "def get_members(url):\n",
    "    # def: your code here\n",
    "    pass\n",
    "\n",
    "# uncomment to test your code:\n",
    "#senateMembers = get_members('http://www.ilga.gov/senate/default.asp?GA=98')\n",
    "#print \"First 5 senate members:\", senateMembers[0:5]\n",
    "\n",
    "'''Answer\n",
    "\n",
    "def get_members(url):\n",
    "    src = requests.get(url).text\n",
    "    soup = BeautifulSoup(src)\n",
    "    rows = soup.select('tr')\n",
    "    members = []\n",
    "    for row in rows:\n",
    "        # see if it's a 'detail' row\n",
    "        detailCells = row.select('td.detail')\n",
    "        if len(detailCells) is not 5:\n",
    "            continue\n",
    "        # get the data \n",
    "        rowData = [cell.text for cell in row]\n",
    "        name = rowData[0]\n",
    "        district = int(rowData[3])\n",
    "        party = rowData[4]\n",
    "        url = row.select('a')[1]['href']\n",
    "        url = \"http://www.ilga.gov/senate/\"+url\n",
    "        members.append((name,district,party,url))\n",
    "    return(members)\n",
    "'''"
   ]
  },
  {
   "cell_type": "markdown",
   "metadata": {},
   "source": [
    "`4`. Given the `senateMembers`  list, create a new dictionary `members_dict` which has as its keys the district number (e.g. ` 32`) and as its values, the entire tuple as returned by `get_members()` (name, district number, party, url). We can do this because the district number is a unique identifier for each senator.\n",
    "\n",
    "Calling `members_dict[32]`, for example, should return the 4-tuple:\n",
    "\n",
    "```(u'Pamela J. Althoff',\n",
    "32,\n",
    "u'R',\n",
    "'http://www.ilga.gov/senate/SenatorBills.asp?GA=98&MemberID=1911&Primary=True')```.\n",
    "\n",
    "(We'll use this later to look up the URL.)"
   ]
  },
  {
   "cell_type": "code",
   "execution_count": null,
   "metadata": {
    "collapsed": true
   },
   "outputs": [],
   "source": [
    "'''Answer\n",
    "members_dict = {}\n",
    "for member in senateMembers:\n",
    "    members_dict[member[1]] = member\n",
    "print members_dict[32]\n",
    "'''"
   ]
  },
  {
   "cell_type": "markdown",
   "metadata": {},
   "source": [
    "`5`. Write a function called `get_bills(url)` to parse a given Bills URL. This will involve:\n",
    "\n",
    "  - requesting the URL using the <a href=\"http://docs.python-requests.org/en/latest/\">`requests`</a> library (see p. 14 in the slides from Tuesday Jan 20)\n",
    "  - using the features of the `BeautifulSoup` library to find all of the `<td>` elements with the class 'billlist'\n",
    "  - return a _list_ of tuples, each with:\n",
    "      - the bill id (1st column) **NOTE: we only want you to accept Senate bills with valid names; these start with 'SB' and end with a number. We created a function `is_valid_senatebill_id()` to help you decide if it is valid or not. Otherwise, don't add it to the list!**\n",
    "      - description (2nd column)\n",
    "      - chamber (S or H) (3rd column)\n",
    "      - the last action (4th column)\n",
    "      - the last action date (5th column)\n",
    "  \n",
    "  We are going to want to use the date library to represent the date. You can use the function `datetime.strptime()` to convert from the date string (e.g. `'8/1/2014'`) to an object which understands the meaning of that string (e.g. as an actual date), like so:\n",
    "  - my_date = `datetime.strptime('8/1/2014', '%m/%d/%Y')`\n",
    "\n",
    "\n"
   ]
  },
  {
   "cell_type": "code",
   "execution_count": 4,
   "metadata": {
    "collapsed": true
   },
   "outputs": [],
   "source": [
    "# This function returns True if the bill in question is a Senate Bill ('SB') followed by a number\n",
    "def is_valid_senatebill_id(bill_id_str):\n",
    "    match = re.match('SB[0-9]+$',bill_id_str)\n",
    "    if match: \n",
    "        return True\n",
    "    else:\n",
    "        return False\n",
    "\n",
    "def get_bills(url):\n",
    "    # your code here\n",
    "    pass\n",
    "\n",
    "# uncomment to test your code:\n",
    "#print get_bills('http://www.ilga.gov/senate/SenatorBills.asp?GA=98&MemberID=2018')[0:5]\n",
    "\n",
    "'''\n",
    "\n",
    "def get_bills(url):\n",
    "    src = requests.get(url).text\n",
    "    soup = BeautifulSoup(src)\n",
    "    rows = soup.select('tr')\n",
    "    bills = []\n",
    "    for row in rows:\n",
    "        detailCells = row.select('td.billlist')\n",
    "        if len(detailCells) is not 5:\n",
    "            continue\n",
    "        rowData = [cell.text for cell in row]\n",
    "        if is_valid_senatebill_id(rowData[0]) is False:\n",
    "            continue\n",
    "        bill_id = rowData[0]\n",
    "        description = rowData[2]\n",
    "        champber = rowData[3]\n",
    "        last_action = rowData[4]\n",
    "        last_action_date = datetime.strptime(rowData[5],'%m/%d/%Y')\n",
    "        bills.append((bill_id,description,champber,last_action,last_action_date))\n",
    "    return(bills)\n",
    "'''"
   ]
  },
  {
   "cell_type": "markdown",
   "metadata": {},
   "source": [
    "`6`. Finally, create a dictionary `bills_dict` which maps a district number (the key) onto a list_of_bills (the value). You can do this by looping over all of the senate members and calling `get_bills()` for each of their associated bill URLs.\n",
    "\n",
    "NOTE: please call the function `time.sleep(0.5)` for each iteration of the loop, so that we don't destroy the state's web site."
   ]
  },
  {
   "cell_type": "code",
   "execution_count": null,
   "metadata": {
    "collapsed": true
   },
   "outputs": [],
   "source": []
  },
  {
   "cell_type": "markdown",
   "metadata": {},
   "source": [
    "`7`. Extra credit / Challenge: Make a similar list of tuples for the information on California state senators, [here](http://senate.ca.gov/senators)"
   ]
  },
  {
   "cell_type": "code",
   "execution_count": null,
   "metadata": {
    "collapsed": true
   },
   "outputs": [],
   "source": [
    "'''\n",
    "req = requests.get('hhttp://senate.ca.gov/senators') # make a GET request\n",
    "src = req.text # read the content of the server’s response\n",
    "\n",
    "rows = soup.select(\".views-row\")\n",
    "\n",
    "members = []\n",
    "for row in rows:\n",
    "    detailCells = row.select('.views-field')\n",
    "    # get the data\n",
    "    rowData = [cell.text for cell in detailCells]\n",
    "    name = rowData[1]\n",
    "    district = rowData[2]\n",
    "    if '(D)' in name:\n",
    "        party = \"D\"\n",
    "    else:\n",
    "        party = \"R\"\n",
    "    members.append((name,district))"
   ]
  }
 ],
 "metadata": {
  "kernelspec": {
   "display_name": "Python 2",
   "language": "python",
   "name": "python2"
  },
  "language_info": {
   "codemirror_mode": {
    "name": "ipython",
    "version": 2
   },
   "file_extension": ".py",
   "mimetype": "text/x-python",
   "name": "python",
   "nbconvert_exporter": "python",
   "pygments_lexer": "ipython2",
   "version": "2.7.9"
  }
 },
 "nbformat": 4,
 "nbformat_minor": 0
}
