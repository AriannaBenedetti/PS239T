{
 "cells": [
  {
   "cell_type": "markdown",
   "metadata": {},
   "source": [
    "# How to Write Beautiful Code\n",
    "\n",
    "* Intuitive, explicit, (beautiful) functions\n",
    "* Structure (white space, multiple lines)\n",
    "* Meaningful names\n",
    "* Docstrings\n",
    "* Unit tests\n",
    "* External mark-up (IPython)"
   ]
  },
  {
   "cell_type": "markdown",
   "metadata": {},
   "source": [
    "### Naming Conventions\n",
    "\n",
    "* joined_lower for functions, methods, attributes\n",
    "\n",
    "* joined_lower or ALL_CAPS for constants\n",
    "\n",
    "* StudlyCaps for classes\n",
    "\n",
    "* camelCase only to conform to pre-existing conventions"
   ]
  },
  {
   "cell_type": "markdown",
   "metadata": {},
   "source": [
    "### White Space - 1\n",
    "\n",
    "* 4 spaces per indentation level.\n",
    "\n",
    "* No hard tabs.\n",
    "\n",
    "* Never mix tabs and spaces.\n",
    "\n",
    "* iPython notebooks convert tab to 4 spaces\n",
    "\n",
    "* One blank line between functions.\n",
    "\n",
    "* Two blank lines between classes."
   ]
  },
  {
   "cell_type": "markdown",
   "metadata": {},
   "source": [
    "### White Space - 2\n",
    "\n",
    "* Add a space after \",\" in dicts, lists, tuples, & argument lists, and after \":\" in dicts, but not before.\n",
    "* Put spaces around assignments & comparisons (except in argument lists).\n",
    "* No spaces just inside parentheses or just before argument lists.\n",
    "* No spaces just inside docstrings."
   ]
  },
  {
   "cell_type": "code",
   "execution_count": 44,
   "metadata": {
    "collapsed": true
   },
   "outputs": [],
   "source": [
    "def make_squares(key, value=0):\n",
    "    \"\"\"Return a dictionary and a list...\"\"\"\n",
    "    d = {key: value}\n",
    "    l = [key, value]\n",
    "    return d, l"
   ]
  },
  {
   "cell_type": "markdown",
   "metadata": {},
   "source": [
    "### Long Lines & Continuations\n",
    "\n",
    "* Keep lines below 80 characters in length.\n",
    "\n",
    "* Use implied line continuation inside parentheses:"
   ]
  },
  {
   "cell_type": "code",
   "execution_count": 47,
   "metadata": {
    "collapsed": false
   },
   "outputs": [],
   "source": [
    "x = [(\"item 1\",\n",
    "      \"item 2\",\n",
    "      \"item 3\",\n",
    "      \"item 3\")]"
   ]
  },
  {
   "cell_type": "markdown",
   "metadata": {},
   "source": [
    "Or a backslah, although this is not as recommended:"
   ]
  },
  {
   "cell_type": "code",
   "execution_count": 48,
   "metadata": {
    "collapsed": true
   },
   "outputs": [],
   "source": [
    "x = [\"item 1\", \\\n",
    "      \"item 2\", \\\n",
    "      \"item 3\", \\\n",
    "      \"item 3\"]"
   ]
  },
  {
   "cell_type": "markdown",
   "metadata": {},
   "source": [
    "### Docstrings and Comments\n",
    "\n",
    "Docstrings = **How to use** code\n",
    "\n",
    "Comments = **Why** (rationale) & **how** code works\n",
    "\n",
    "Docstrings explain how to use code, and are for the **users** of your code. Uses of docstrings:\n",
    "\n",
    "* Explain the purpose of the function even if it seems obvious to you, because it might not be obvious to someone else later on.\n",
    "* Describe the parameters expected, the return values, and any exceptions raised.\n",
    "* If the method is tightly coupled with a single caller, make some mention of the caller (though be careful as the caller might change later).\n",
    "* Comments explain why, and are for the maintainers of your code. Examples include notes to yourself, like:"
   ]
  },
  {
   "cell_type": "code",
   "execution_count": 49,
   "metadata": {
    "collapsed": true
   },
   "outputs": [],
   "source": [
    "# !!! BUG: ...\n",
    "\n",
    "# !!! FIX: This is a hack\n",
    "\n",
    "# ??? Why is this here?"
   ]
  },
  {
   "cell_type": "markdown",
   "metadata": {},
   "source": [
    "Both of these groups include **you**, so write good docstrings and comments!\n",
    "\n",
    "Docstrings are useful in interactive use `help()` and for iPython notebooks:"
   ]
  },
  {
   "cell_type": "code",
   "execution_count": 35,
   "metadata": {
    "collapsed": true
   },
   "outputs": [],
   "source": [
    "def even_or_odd(x=0):\n",
    "    \"\"\"\n",
    "    \"Find whether a number x is even or odd.\n",
    "     >>> even_or_odd(10)\n",
    "     '10 is Even!'\n",
    "     >>> even_or_odd(5)\n",
    "     '5 is Odd!'\n",
    "\n",
    "     note that whenever a float is provided, then\n",
    "     the closest integer is used 22 >>> even_or_odd(3.2)\n",
    "     >>> even_or_odd(3.2)\n",
    "    '3 is Odd!'\n",
    "     in case of negative numbers, the positive is taken\n",
    "     >>> even_or_odd(-2) 28 '-2 is Even!'\n",
    "     \"\"\"\n",
    "    if x % 2 == 0:\n",
    "     return \"%d is Even!\" % x \n",
    "    return \"%d is Odd!\" % x"
   ]
  },
  {
   "cell_type": "code",
   "execution_count": 36,
   "metadata": {
    "collapsed": true
   },
   "outputs": [],
   "source": [
    "?even_or_odd"
   ]
  },
  {
   "cell_type": "markdown",
   "metadata": {},
   "source": [
    "False comments & docstrings are worse than none at all. So keep them up to date! When you make changes, make sure the comments & docstrings are consistent with the code, and don't contradict it.\n",
    "\n",
    "There's an entire PEP about docstrings, PEP 257, \"Docstring Conventions\":\n",
    "\n",
    "http://www.python.org/dev/peps/pep-0257/"
   ]
  },
  {
   "cell_type": "markdown",
   "metadata": {},
   "source": [
    "### Unit Testing\n",
    "\n",
    "write independent tests for the smallest units of code:\n",
    "* whenever you write a function...\n",
    "* write a small piece of code to test it."
   ]
  },
  {
   "cell_type": "code",
   "execution_count": 38,
   "metadata": {
    "collapsed": true
   },
   "outputs": [],
   "source": [
    "## You have been seeing how tests can help you...so lets write a test\n",
    "\n",
    "def test_myfactorial():\n",
    "    input_val = 6\n",
    "    ## we know 6! = 6 X 5 X 4 X 3 X 2 X 1\n",
    "    expected_result = 6 * 5 * 4 * 3 * 2 * 1\n",
    "    res = myfactorial(6)\n",
    "    assert res == expected_result"
   ]
  },
  {
   "cell_type": "code",
   "execution_count": 39,
   "metadata": {
    "collapsed": false
   },
   "outputs": [
    {
     "ename": "NameError",
     "evalue": "global name 'myfactorial' is not defined",
     "output_type": "error",
     "traceback": [
      "\u001b[0;31m---------------------------------------------------------------------------\u001b[0m",
      "\u001b[0;31mNameError\u001b[0m                                 Traceback (most recent call last)",
      "\u001b[0;32m<ipython-input-39-4fdfeed1a3ee>\u001b[0m in \u001b[0;36m<module>\u001b[0;34m()\u001b[0m\n\u001b[1;32m      1\u001b[0m \u001b[0;31m## since we have not defined myfactorial, this will FAIL, and raise an Exception\u001b[0m\u001b[0;34m\u001b[0m\u001b[0;34m\u001b[0m\u001b[0m\n\u001b[0;32m----> 2\u001b[0;31m \u001b[0mtest_myfactorial\u001b[0m\u001b[0;34m(\u001b[0m\u001b[0;34m)\u001b[0m\u001b[0;34m\u001b[0m\u001b[0m\n\u001b[0m",
      "\u001b[0;32m<ipython-input-38-9e663bf42d73>\u001b[0m in \u001b[0;36mtest_myfactorial\u001b[0;34m()\u001b[0m\n\u001b[1;32m      5\u001b[0m     \u001b[0;31m## we know 6! = 6 X 5 X 4 X 3 X 2 X 1\u001b[0m\u001b[0;34m\u001b[0m\u001b[0;34m\u001b[0m\u001b[0m\n\u001b[1;32m      6\u001b[0m     \u001b[0mexpected_result\u001b[0m \u001b[0;34m=\u001b[0m \u001b[0;36m6\u001b[0m \u001b[0;34m*\u001b[0m \u001b[0;36m5\u001b[0m \u001b[0;34m*\u001b[0m \u001b[0;36m4\u001b[0m \u001b[0;34m*\u001b[0m \u001b[0;36m3\u001b[0m \u001b[0;34m*\u001b[0m \u001b[0;36m2\u001b[0m \u001b[0;34m*\u001b[0m \u001b[0;36m1\u001b[0m\u001b[0;34m\u001b[0m\u001b[0m\n\u001b[0;32m----> 7\u001b[0;31m     \u001b[0mres\u001b[0m \u001b[0;34m=\u001b[0m \u001b[0mmyfactorial\u001b[0m\u001b[0;34m(\u001b[0m\u001b[0;36m6\u001b[0m\u001b[0;34m)\u001b[0m\u001b[0;34m\u001b[0m\u001b[0m\n\u001b[0m\u001b[1;32m      8\u001b[0m     \u001b[0;32massert\u001b[0m \u001b[0mres\u001b[0m \u001b[0;34m==\u001b[0m \u001b[0mexpected_result\u001b[0m\u001b[0;34m\u001b[0m\u001b[0m\n",
      "\u001b[0;31mNameError\u001b[0m: global name 'myfactorial' is not defined"
     ]
    }
   ],
   "source": [
    "## since we have not defined myfactorial, this will FAIL, and raise an Exception\n",
    "test_myfactorial()"
   ]
  },
  {
   "cell_type": "code",
   "execution_count": 40,
   "metadata": {
    "collapsed": true
   },
   "outputs": [],
   "source": [
    "## Now you need to create myfactorial (any input) so our test doesn't raise an exception\n",
    "## NOTE: `pass` below is just a placeholder, you need to delete it and replace with code\n",
    "##       to calculate the factorial of a given integer\n",
    "##  HINT:\n",
    "## range(2)\n",
    "## [0,1]\n",
    "\n",
    "def myfactorial(x):\n",
    "    \"\"\" calculates x! (x factorial) and returns result\"\"\"\n",
    "    pass"
   ]
  },
  {
   "cell_type": "code",
   "execution_count": 41,
   "metadata": {
    "collapsed": false
   },
   "outputs": [
    {
     "ename": "AssertionError",
     "evalue": "",
     "output_type": "error",
     "traceback": [
      "\u001b[0;31m---------------------------------------------------------------------------\u001b[0m",
      "\u001b[0;31mAssertionError\u001b[0m                            Traceback (most recent call last)",
      "\u001b[0;32m<ipython-input-41-698e07c6a269>\u001b[0m in \u001b[0;36m<module>\u001b[0;34m()\u001b[0m\n\u001b[1;32m      1\u001b[0m \u001b[0;31m## now watch your test pass!!!\u001b[0m\u001b[0;34m\u001b[0m\u001b[0;34m\u001b[0m\u001b[0m\n\u001b[0;32m----> 2\u001b[0;31m \u001b[0mtest_myfactorial\u001b[0m\u001b[0;34m(\u001b[0m\u001b[0;34m)\u001b[0m\u001b[0;34m\u001b[0m\u001b[0m\n\u001b[0m",
      "\u001b[0;32m<ipython-input-38-9e663bf42d73>\u001b[0m in \u001b[0;36mtest_myfactorial\u001b[0;34m()\u001b[0m\n\u001b[1;32m      6\u001b[0m     \u001b[0mexpected_result\u001b[0m \u001b[0;34m=\u001b[0m \u001b[0;36m6\u001b[0m \u001b[0;34m*\u001b[0m \u001b[0;36m5\u001b[0m \u001b[0;34m*\u001b[0m \u001b[0;36m4\u001b[0m \u001b[0;34m*\u001b[0m \u001b[0;36m3\u001b[0m \u001b[0;34m*\u001b[0m \u001b[0;36m2\u001b[0m \u001b[0;34m*\u001b[0m \u001b[0;36m1\u001b[0m\u001b[0;34m\u001b[0m\u001b[0m\n\u001b[1;32m      7\u001b[0m     \u001b[0mres\u001b[0m \u001b[0;34m=\u001b[0m \u001b[0mmyfactorial\u001b[0m\u001b[0;34m(\u001b[0m\u001b[0;36m6\u001b[0m\u001b[0;34m)\u001b[0m\u001b[0;34m\u001b[0m\u001b[0m\n\u001b[0;32m----> 8\u001b[0;31m     \u001b[0;32massert\u001b[0m \u001b[0mres\u001b[0m \u001b[0;34m==\u001b[0m \u001b[0mexpected_result\u001b[0m\u001b[0;34m\u001b[0m\u001b[0m\n\u001b[0m",
      "\u001b[0;31mAssertionError\u001b[0m: "
     ]
    }
   ],
   "source": [
    "## now watch your test pass!!!\n",
    "test_myfactorial()"
   ]
  },
  {
   "cell_type": "code",
   "execution_count": 42,
   "metadata": {
    "collapsed": false
   },
   "outputs": [
    {
     "ename": "SyntaxError",
     "evalue": "invalid syntax (<ipython-input-42-7fc42ef95a62>, line 2)",
     "output_type": "error",
     "traceback": [
      "\u001b[0;36m  File \u001b[0;32m\"<ipython-input-42-7fc42ef95a62>\"\u001b[0;36m, line \u001b[0;32m2\u001b[0m\n\u001b[0;31m    You just did **test-driven development**! Good job!\u001b[0m\n\u001b[0m           ^\u001b[0m\n\u001b[0;31mSyntaxError\u001b[0m\u001b[0;31m:\u001b[0m invalid syntax\n"
     ]
    }
   ],
   "source": [
    "#### Woo Hoo!!\n",
    "You just did **test-driven development**! Good job!"
   ]
  },
  {
   "cell_type": "markdown",
   "metadata": {},
   "source": [
    "## Learn more:\n",
    "\n",
    "* [Code like a Pythonist](http://python.net/~goodger/projects/pycon/2007/idiomatic/handout.html)\n",
    "* [Pep Styleguide](https://www.python.org/dev/peps/pep-0008/)"
   ]
  },
  {
   "cell_type": "code",
   "execution_count": null,
   "metadata": {
    "collapsed": true
   },
   "outputs": [],
   "source": []
  }
 ],
 "metadata": {
  "kernelspec": {
   "display_name": "Python 2",
   "language": "python",
   "name": "python2"
  },
  "language_info": {
   "codemirror_mode": {
    "name": "ipython",
    "version": 2
   },
   "file_extension": ".py",
   "mimetype": "text/x-python",
   "name": "python",
   "nbconvert_exporter": "python",
   "pygments_lexer": "ipython2",
   "version": "2.7.9"
  }
 },
 "nbformat": 4,
 "nbformat_minor": 0
}
